{
 "cells": [
  {
   "cell_type": "code",
   "execution_count": 1,
   "metadata": {
    "ExecuteTime": {
     "end_time": "2019-08-25T09:42:21.162679Z",
     "start_time": "2019-08-25T09:42:20.133691Z"
    }
   },
   "outputs": [],
   "source": [
    "import pandas as pd\n",
    "import numpy as np\n",
    "\n",
    "pd.set_option('display.max_columns', None)\n",
    "pd.set_option('display.max_rows', None)\n",
    "from IPython.core.interactiveshell import InteractiveShell\n",
    "InteractiveShell.ast_node_interactivity = 'all'"
   ]
  },
  {
   "cell_type": "code",
   "execution_count": 2,
   "metadata": {
    "ExecuteTime": {
     "end_time": "2019-08-25T09:42:23.431500Z",
     "start_time": "2019-08-25T09:42:21.165126Z"
    }
   },
   "outputs": [
    {
     "data": {
      "text/html": [
       "        <script type=\"text/javascript\">\n",
       "        window.PlotlyConfig = {MathJaxConfig: 'local'};\n",
       "        if (window.MathJax) {MathJax.Hub.Config({SVG: {font: \"STIX-Web\"}});}\n",
       "        if (typeof require !== 'undefined') {\n",
       "        require.undef(\"plotly\");\n",
       "        requirejs.config({\n",
       "            paths: {\n",
       "                'plotly': ['https://cdn.plot.ly/plotly-latest.min']\n",
       "            }\n",
       "        });\n",
       "        require(['plotly'], function(Plotly) {\n",
       "            window._Plotly = Plotly;\n",
       "        });\n",
       "        }\n",
       "        </script>\n",
       "        "
      ]
     },
     "metadata": {},
     "output_type": "display_data"
    }
   ],
   "source": [
    "import matplotlib.pyplot as plt\n",
    "import seaborn as sns\n",
    "import plotly.plotly as py\n",
    "import cufflinks as cf\n",
    "from ipywidgets import interact\n",
    "cf.go_offline()\n",
    "%matplotlib inline"
   ]
  },
  {
   "cell_type": "code",
   "execution_count": 3,
   "metadata": {
    "ExecuteTime": {
     "end_time": "2019-08-25T09:42:23.444657Z",
     "start_time": "2019-08-25T09:42:23.434474Z"
    }
   },
   "outputs": [],
   "source": [
    "path = 'barcelona-data-sets/'\n",
    "\n",
    "def load(csv):\n",
    "    df = pd.read_csv(path + csv)\n",
    "    return df\n",
    "\n",
    "def presenter(df, csv):\n",
    "    print('\\n*********************************************************')\n",
    "    print(\"\\t\\t\",csv)\n",
    "    print('*********************************************************')\n",
    "    print(df.head(2))\n",
    "    print(df.tail(2))\n",
    "    #return df\n"
   ]
  },
  {
   "cell_type": "code",
   "execution_count": 4,
   "metadata": {
    "ExecuteTime": {
     "end_time": "2019-08-25T09:42:23.532974Z",
     "start_time": "2019-08-25T09:42:23.462406Z"
    }
   },
   "outputs": [
    {
     "name": "stdout",
     "output_type": "stream",
     "text": [
      "['most_frequent_names.csv', 'immigrants_emigrants_by_destination2.csv', 'immigrants_by_nationality.csv', 'accidents_2017.csv', 'unemployment.csv', 'air_quality_Nov2017.csv', 'most_frequent_baby_names.csv', 'transports.csv', 'bus_stops.csv', 'air_stations_Nov2017.csv', 'life_expectancy.csv', 'immigrants_emigrants_by_age.csv', 'births.csv', 'population.csv', 'immigrants_emigrants_by_destination.csv', 'deaths.csv', 'immigrants_emigrants_by_sex.csv']\n"
     ]
    }
   ],
   "source": [
    "raw=\"\"\"/kaggle/input/barcelona-data-sets/most_frequent_names.csv\n",
    "/kaggle/input/barcelona-data-sets/immigrants_emigrants_by_destination2.csv\n",
    "/kaggle/input/barcelona-data-sets/immigrants_by_nationality.csv\n",
    "/kaggle/input/barcelona-data-sets/accidents_2017.csv\n",
    "/kaggle/input/barcelona-data-sets/unemployment.csv\n",
    "/kaggle/input/barcelona-data-sets/air_quality_Nov2017.csv\n",
    "/kaggle/input/barcelona-data-sets/most_frequent_baby_names.csv\n",
    "/kaggle/input/barcelona-data-sets/transports.csv\n",
    "/kaggle/input/barcelona-data-sets/bus_stops.csv\n",
    "/kaggle/input/barcelona-data-sets/air_stations_Nov2017.csv\n",
    "/kaggle/input/barcelona-data-sets/life_expectancy.csv\n",
    "/kaggle/input/barcelona-data-sets/immigrants_emigrants_by_age.csv\n",
    "/kaggle/input/barcelona-data-sets/births.csv\n",
    "/kaggle/input/barcelona-data-sets/population.csv\n",
    "/kaggle/input/barcelona-data-sets/immigrants_emigrants_by_destination.csv\n",
    "/kaggle/input/barcelona-data-sets/deaths.csv\n",
    "/kaggle/input/barcelona-data-sets/immigrants_emigrants_by_sex.csv\"\"\"\n",
    "\n",
    "def extract(raw):\n",
    "    ret = []\n",
    "    sp = raw.split('\\n')\n",
    "    for li in sp:\n",
    "        ret.append(li[34:])\n",
    "    print (ret)\n",
    "    return ret\n",
    "\n",
    "files = extract(raw)"
   ]
  },
  {
   "cell_type": "code",
   "execution_count": 5,
   "metadata": {
    "ExecuteTime": {
     "end_time": "2019-08-25T09:42:24.489318Z",
     "start_time": "2019-08-25T09:42:23.544972Z"
    }
   },
   "outputs": [
    {
     "name": "stdout",
     "output_type": "stream",
     "text": [
      "\n",
      "*********************************************************\n",
      "\t\t most_frequent_names.csv\n",
      "*********************************************************\n",
      "   Order    Name  Gender       Decade  Frequency\n",
      "0      1   MARIA  Female  Before 1930       2085\n",
      "1      2  CARMEN  Female  Before 1930       1463\n",
      "      Order     Name Gender Decade  Frequency\n",
      "1098     49  RICARDO   Male  TOTAL       2991\n",
      "1099     50   GERARD   Male  TOTAL       2988\n",
      "\n",
      "*********************************************************\n",
      "\t\t immigrants_emigrants_by_destination2.csv\n",
      "*********************************************************\n",
      "           from         to  weight\n",
      "0  Ciutat Vella  Andalusia     188\n",
      "1  Ciutat Vella     Aragon      64\n",
      "         from                   to  weight\n",
      "398  La Rioja       Sants-Montjuïc      16\n",
      "399  La Rioja  Sarrià-Sant Gervasi       6\n",
      "\n",
      "*********************************************************\n",
      "\t\t immigrants_by_nationality.csv\n",
      "*********************************************************\n",
      "   Year  District Code District Name  Neighborhood Code Neighborhood Name  \\\n",
      "0  2017              1  Ciutat Vella                  1          el Raval   \n",
      "1  2017              1  Ciutat Vella                  2    el Barri Gòtic   \n",
      "\n",
      "  Nationality  Number  \n",
      "0       Spain    1109  \n",
      "1       Spain     482  \n",
      "       Year  District Code District Name  Neighborhood Code  \\\n",
      "35222  2015             10    Sant Martí                 73   \n",
      "35223  2015             99     No consta                 99   \n",
      "\n",
      "         Neighborhood Name     Nationality  Number  \n",
      "35222  la Verneda i la Pau  No information       1  \n",
      "35223            No consta  No information       0  \n",
      "\n",
      "*********************************************************\n",
      "\t\t accidents_2017.csv\n",
      "*********************************************************\n",
      "                Id District Name Neighborhood Name  \\\n",
      "0  2017S008429           Unknown           Unknown   \n",
      "1  2017S007316           Unknown           Unknown   \n",
      "\n",
      "                                              Street Weekday      Month  Day  \\\n",
      "0  Número 27                                     ...  Friday    October   13   \n",
      "1  Número 3 Zona Franca / Número 50 Zona Franca  ...  Friday  September    1   \n",
      "\n",
      "   Hour Part of the day  Mild injuries  Serious injuries  Victims  \\\n",
      "0     8         Morning              2                 0        2   \n",
      "1    13         Morning              2                 0        2   \n",
      "\n",
      "   Vehicles involved  Longitude   Latitude  \n",
      "0                  2   2.125624  41.340045  \n",
      "1                  2   2.120452  41.339426  \n",
      "                    Id District Name Neighborhood Name  \\\n",
      "10337  2017S006145       Sant Andreu     el Bon Pastor   \n",
      "10338  2017S000178       Sant Andreu     el Bon Pastor   \n",
      "\n",
      "                                                  Street Weekday    Month  \\\n",
      "10337  Litoral (Besòs)                               ...  Friday     July   \n",
      "10338  CIUTAT D'ASUNCIÓN                             ...  Sunday  January   \n",
      "\n",
      "       Day  Hour Part of the day  Mild injuries  Serious injuries  Victims  \\\n",
      "10337   14    14       Afternoon              1                 0        1   \n",
      "10338    8    20       Afternoon              0                 0        0   \n",
      "\n",
      "       Vehicles involved  Longitude   Latitude  \n",
      "10337                  2   2.205118  41.444824  \n",
      "10338                  1   2.200956  41.437125  \n",
      "\n",
      "*********************************************************\n",
      "\t\t unemployment.csv\n",
      "*********************************************************\n",
      "   Year    Month  District Code District Name  Neighborhood Code  \\\n",
      "0  2017  January              1  Ciutat Vella                  1   \n",
      "1  2017  January              1  Ciutat Vella                  2   \n",
      "\n",
      "  Neighborhood Name Gender      Demand_occupation  Number  \n",
      "0          el Raval   Male  Registered unemployed    2107  \n",
      "1    el Barri Gòtic   Male  Registered unemployed     538  \n",
      "       Year     Month  District Code District Name  Neighborhood Code  \\\n",
      "14206  2013  December             10    Sant Martí                 73   \n",
      "14207  2013  December             99     No consta                 99   \n",
      "\n",
      "         Neighborhood Name  Gender      Demand_occupation  Number  \n",
      "14206  la Verneda i la Pau  Female  Registered unemployed    1145  \n",
      "14207            No consta  Female  Registered unemployed       0  \n",
      "\n",
      "*********************************************************\n",
      "\t\t air_quality_Nov2017.csv\n",
      "*********************************************************\n",
      "                Station Air Quality  Longitude  Latitude O3 Hour O3 Quality  \\\n",
      "0     Barcelona - Sants        Good     2.1331   41.3788     NaN        NaN   \n",
      "1  Barcelona - Eixample    Moderate     2.1538   41.3853      0h       Good   \n",
      "\n",
      "   O3 Value NO2 Hour NO2 Quality  NO2 Value PM10 Hour PM10 Quality  \\\n",
      "0       NaN       0h        Good       84.0       NaN          NaN   \n",
      "1       1.0       0h    Moderate      113.0        0h         Good   \n",
      "\n",
      "   PM10 Value        Generated   Date Time  \n",
      "0         NaN  01/11/2018 0:00  1541027104  \n",
      "1        36.0  01/11/2018 0:00  1541027104  \n",
      "                       Station Air Quality  Longitude  Latitude O3 Hour  \\\n",
      "5742      Barcelona - Poblenou        Good     2.2045   41.4039     NaN   \n",
      "5743  Barcelona - Observ Fabra        Good     2.1239   41.4183     22h   \n",
      "\n",
      "     O3 Quality  O3 Value NO2 Hour NO2 Quality  NO2 Value PM10 Hour  \\\n",
      "5742        NaN       NaN      22h        Good       70.0       22h   \n",
      "5743       Good      64.0      22h        Good       21.0       22h   \n",
      "\n",
      "     PM10 Quality  PM10 Value         Generated   Date Time  \n",
      "5742         Good        25.0  30/11/2018 23:00  1543615502  \n",
      "5743         Good        12.0  30/11/2018 23:00  1543615502  \n",
      "\n",
      "*********************************************************\n",
      "\t\t most_frequent_baby_names.csv\n",
      "*********************************************************\n",
      "   Order   Name  Gender  Year  Frequency\n",
      "0      1  LAURA  Female  1996        237\n",
      "1      2  MARIA  Female  1996        219\n",
      "      Order     Name Gender  Year  Frequency\n",
      "1048     24  GABRIEL   Male  2016         44\n",
      "1049     25    ROGER   Male  2016         44\n",
      "\n",
      "*********************************************************\n",
      "\t\t transports.csv\n",
      "*********************************************************\n",
      "   Code    Transport  Longitude   Latitude  \\\n",
      "0  K001  Underground   2.119370  41.399203   \n",
      "1  K001  Underground   2.135427  41.397791   \n",
      "\n",
      "                                             Station        District.Name  \\\n",
      "0  FGC (L6) - REINA ELISENDA (Sortida Duquesa d'O...  Sarrià-Sant Gervasi   \n",
      "1                            FGC (L6) - LA BONANOVA-  Sarrià-Sant Gervasi   \n",
      "\n",
      "        Neighborhood.Name  \n",
      "0                  Sarrià  \n",
      "1  Sant Gervasi - Galvany  \n",
      "     Code      Transport  Longitude   Latitude  \\\n",
      "649  K002  Railway (FGC)   2.131188  41.397617   \n",
      "650  K001    Underground   2.158822  41.375220   \n",
      "\n",
      "                                   Station        District.Name  \\\n",
      "649         FGC - LES TRES TORRES<center>-  Sarrià-Sant Gervasi   \n",
      "650  METRO (L3) - POBLE SEC (C. de Manso)-             Eixample   \n",
      "\n",
      "    Neighborhood.Name  \n",
      "649   les Tres Torres  \n",
      "650       Sant Antoni  \n",
      "\n",
      "*********************************************************\n",
      "\t\t bus_stops.csv\n",
      "*********************************************************\n",
      "   Code     Transport  Longitude   Latitude    Bus.Stop   District.Name  \\\n",
      "0  K014  Day bus stop   2.171619  41.413744  BUS -192--  Horta-Guinardó   \n",
      "1  K014  Day bus stop   2.134902  41.420222  BUS -124--          Gràcia   \n",
      "\n",
      "           Neighborhood.Name  \n",
      "0                el Guinardó  \n",
      "1  Vallcarca i els Penitents  \n",
      "      Code       Transport  Longitude   Latitude          Bus.Stop  \\\n",
      "3160  K014    Day bus stop   2.142256  41.371176  BUS -91-115-V5--   \n",
      "3161  K015  Night bus stop   2.134932  41.398495      NITBUS -N7--   \n",
      "\n",
      "            District.Name       Neighborhood.Name  \n",
      "3160       Sants-Montjuïc              la Bordeta  \n",
      "3161  Sarrià-Sant Gervasi  Sant Gervasi - Galvany  \n",
      "\n",
      "*********************************************************\n",
      "\t\t air_stations_Nov2017.csv\n",
      "*********************************************************\n",
      "                  Station  Longitude  Latitude                   Ubication  \\\n",
      "0  Barcelona - Ciutadella     2.1874   41.3864       Parc de la Ciutadella   \n",
      "1    Barcelona - Eixample     2.1538   41.3853  Av. Roma - c/ Comte Urgell   \n",
      "\n",
      "  District Name                      Neighborhood Name  \n",
      "0  Ciutat Vella  Sant Pere, Santa Caterina i la Ribera  \n",
      "1      Eixample         la Nova Esquerra de l'Eixample  \n"
     ]
    },
    {
     "name": "stdout",
     "output_type": "stream",
     "text": [
      "                                             Station  Longitude  Latitude  \\\n",
      "6                            Barcelona - Vall Hebron     2.1480   41.4261   \n",
      "7  Barcelona - Vallvidrera, el Tibidabo i les Planes     2.1211   41.4176   \n",
      "\n",
      "                                           Ubication        District Name  \\\n",
      "6  Parc de la Vall d’Hebron - c/ Martí Codolar - ...       Horta-Guinardo   \n",
      "7                         Ctra Observatori Fabra, 27  Sarrià-Sant Gervasi   \n",
      "\n",
      "                       Neighborhood Name  \n",
      "6                       la Vall d'Hebron  \n",
      "7  Vallvidrera, el Tibidabo i les Planes  \n",
      "\n",
      "*********************************************************\n",
      "\t\t life_expectancy.csv\n",
      "*********************************************************\n",
      "     Neighborhood  2006-2010  2007-2011  2008-2012  2009-2013  2010-2014  \\\n",
      "0        el Raval       87.5       84.9       84.7       84.9       85.3   \n",
      "1  el Barri Gòtic       88.0       84.3       84.4       87.5       84.4   \n",
      "\n",
      "   Gender  \n",
      "0  Female  \n",
      "1  Female  \n",
      "                 Neighborhood  2006-2010  2007-2011  2008-2012  2009-2013  \\\n",
      "144  Sant Martí de Provençals       81.9       79.5       79.7       80.5   \n",
      "145       la Verneda i la Pau       82.0       79.7       79.9       80.5   \n",
      "\n",
      "     2010-2014 Gender  \n",
      "144       80.2   Male  \n",
      "145       80.6   Male  \n",
      "\n",
      "*********************************************************\n",
      "\t\t immigrants_emigrants_by_age.csv\n",
      "*********************************************************\n",
      "   Year  District Code District Name  Neighborhood Code Neighborhood Name  \\\n",
      "0  2017              1  Ciutat Vella                  1          el Raval   \n",
      "1  2017              1  Ciutat Vella                  2    el Barri Gòtic   \n",
      "\n",
      "   Age  Immigrants  Emigrants  \n",
      "0  0-4         154        108  \n",
      "1  0-4          58         33  \n",
      "      Year  District Code District Name  Neighborhood Code  \\\n",
      "4660  2015             10    Sant Martí                 73   \n",
      "4661  2015             99     No consta                 99   \n",
      "\n",
      "        Neighborhood Name    Age  Immigrants  Emigrants  \n",
      "4660  la Verneda i la Pau  >=100           0          0  \n",
      "4661            No consta  >=100           0          0  \n",
      "\n",
      "*********************************************************\n",
      "\t\t births.csv\n",
      "*********************************************************\n",
      "   Year  District Code District Name  Neighborhood Code Neighborhood Name  \\\n",
      "0  2017              1  Ciutat Vella                  1          el Raval   \n",
      "1  2017              1  Ciutat Vella                  2    el Barri Gòtic   \n",
      "\n",
      "  Gender  Number  \n",
      "0   Boys     283  \n",
      "1   Boys      56  \n",
      "     Year  District Code District Name  Neighborhood Code  \\\n",
      "732  2013             10    Sant Martí                 73   \n",
      "733  2013             99     No consta                 99   \n",
      "\n",
      "       Neighborhood Name Gender  Number  \n",
      "732  la Verneda i la Pau  Girls      94  \n",
      "733            No consta  Girls       2  \n",
      "\n",
      "*********************************************************\n",
      "\t\t population.csv\n",
      "*********************************************************\n",
      "   Year  District.Code District.Name  Neighborhood.Code Neighborhood.Name  \\\n",
      "0  2017              1  Ciutat Vella                  1          el Raval   \n",
      "1  2017              1  Ciutat Vella                  2    el Barri Gòtic   \n",
      "\n",
      "  Gender  Age  Number  \n",
      "0   Male  0-4     224  \n",
      "1   Male  0-4      50  \n",
      "       Year  District.Code District.Name  Neighborhood.Code  \\\n",
      "70078  2013             10    Sant Martí                 72   \n",
      "70079  2013             10    Sant Martí                 73   \n",
      "\n",
      "              Neighborhood.Name  Gender   Age  Number  \n",
      "70078  Sant Martí de Provençals  Female  >=95      38  \n",
      "70079       la Verneda i la Pau  Female  >=95      47  \n",
      "\n",
      "*********************************************************\n",
      "\t\t immigrants_emigrants_by_destination.csv\n",
      "*********************************************************\n",
      "        from         to  weight\n",
      "0     Abroad  Barcelona   53085\n",
      "1  Andalusia  Barcelona    2416\n",
      "                   from         to  weight\n",
      "38     Region of Murcia  Barcelona     354\n",
      "39  Valencian Community  Barcelona    2305\n",
      "\n",
      "*********************************************************\n",
      "\t\t deaths.csv\n",
      "*********************************************************\n",
      "   Year  District.Code District.Name  Neighborhood.Code Neighborhood.Name  \\\n",
      "0  2017              1  Ciutat Vella                  1          el Raval   \n",
      "1  2017              1  Ciutat Vella                  2    el Barri Gòtic   \n",
      "\n",
      "   Age  Number  \n",
      "0  0-4       1  \n",
      "1  0-4       1  \n",
      "      Year  District.Code District.Name  Neighborhood.Code  \\\n",
      "4597  2015             10    Sant Martí                 72   \n",
      "4598  2015             10    Sant Martí                 73   \n",
      "\n",
      "             Neighborhood.Name    Age  Number  \n",
      "4597  Sant Martí de Provençals  >=100       1  \n",
      "4598       la Verneda i la Pau  >=100       8  \n",
      "\n",
      "*********************************************************\n",
      "\t\t immigrants_emigrants_by_sex.csv\n",
      "*********************************************************\n",
      "   Year  District Code District Name  Neighborhood Code Neighborhood Name  \\\n",
      "0  2017              1  Ciutat Vella                  1          el Raval   \n",
      "1  2017              1  Ciutat Vella                  2    el Barri Gòtic   \n",
      "\n",
      "  Gender  Immigrants  Emigrants  \n",
      "0   Male        3063       1195  \n",
      "1   Male        1499        427  \n",
      "     Year  District Code District Name  Neighborhood Code  \\\n",
      "728  2013             10    Sant Martí                 72   \n",
      "729  2013             10    Sant Martí                 73   \n",
      "\n",
      "            Neighborhood Name  Gender  Immigrants  Emigrants  \n",
      "728  Sant Martí de Provençals  Female         446        355  \n",
      "729       la Verneda i la Pau  Female         505        426  \n"
     ]
    }
   ],
   "source": [
    "for csv in files:\n",
    "    df = load(csv)\n",
    "    presenter(df, csv)"
   ]
  },
  {
   "cell_type": "code",
   "execution_count": 6,
   "metadata": {
    "ExecuteTime": {
     "end_time": "2019-08-25T09:42:24.526170Z",
     "start_time": "2019-08-25T09:42:24.512394Z"
    }
   },
   "outputs": [],
   "source": [
    "df = load('life_expectancy.csv')"
   ]
  },
  {
   "cell_type": "code",
   "execution_count": 7,
   "metadata": {
    "ExecuteTime": {
     "end_time": "2019-08-25T09:42:24.633236Z",
     "start_time": "2019-08-25T09:42:24.527852Z"
    }
   },
   "outputs": [
    {
     "data": {
      "text/html": [
       "<div>\n",
       "<style scoped>\n",
       "    .dataframe tbody tr th:only-of-type {\n",
       "        vertical-align: middle;\n",
       "    }\n",
       "\n",
       "    .dataframe tbody tr th {\n",
       "        vertical-align: top;\n",
       "    }\n",
       "\n",
       "    .dataframe thead th {\n",
       "        text-align: right;\n",
       "    }\n",
       "</style>\n",
       "<table border=\"1\" class=\"dataframe\">\n",
       "  <thead>\n",
       "    <tr style=\"text-align: right;\">\n",
       "      <th></th>\n",
       "      <th>Neighborhood</th>\n",
       "      <th>2006-2010</th>\n",
       "      <th>2007-2011</th>\n",
       "      <th>2008-2012</th>\n",
       "      <th>2009-2013</th>\n",
       "      <th>2010-2014</th>\n",
       "      <th>Gender</th>\n",
       "    </tr>\n",
       "  </thead>\n",
       "  <tbody>\n",
       "    <tr>\n",
       "      <th>143</th>\n",
       "      <td>Provençals del Poblenou</td>\n",
       "      <td>80.4</td>\n",
       "      <td>78.8</td>\n",
       "      <td>79.4</td>\n",
       "      <td>80.1</td>\n",
       "      <td>81.5</td>\n",
       "      <td>Male</td>\n",
       "    </tr>\n",
       "    <tr>\n",
       "      <th>144</th>\n",
       "      <td>Sant Martí de Provençals</td>\n",
       "      <td>81.9</td>\n",
       "      <td>79.5</td>\n",
       "      <td>79.7</td>\n",
       "      <td>80.5</td>\n",
       "      <td>80.2</td>\n",
       "      <td>Male</td>\n",
       "    </tr>\n",
       "    <tr>\n",
       "      <th>145</th>\n",
       "      <td>la Verneda i la Pau</td>\n",
       "      <td>82.0</td>\n",
       "      <td>79.7</td>\n",
       "      <td>79.9</td>\n",
       "      <td>80.5</td>\n",
       "      <td>80.6</td>\n",
       "      <td>Male</td>\n",
       "    </tr>\n",
       "  </tbody>\n",
       "</table>\n",
       "</div>"
      ],
      "text/plain": [
       "                 Neighborhood  2006-2010  2007-2011  2008-2012  2009-2013  \\\n",
       "143   Provençals del Poblenou       80.4       78.8       79.4       80.1   \n",
       "144  Sant Martí de Provençals       81.9       79.5       79.7       80.5   \n",
       "145       la Verneda i la Pau       82.0       79.7       79.9       80.5   \n",
       "\n",
       "     2010-2014 Gender  \n",
       "143       81.5   Male  \n",
       "144       80.2   Male  \n",
       "145       80.6   Male  "
      ]
     },
     "execution_count": 7,
     "metadata": {},
     "output_type": "execute_result"
    },
    {
     "data": {
      "text/html": [
       "<div>\n",
       "<style scoped>\n",
       "    .dataframe tbody tr th:only-of-type {\n",
       "        vertical-align: middle;\n",
       "    }\n",
       "\n",
       "    .dataframe tbody tr th {\n",
       "        vertical-align: top;\n",
       "    }\n",
       "\n",
       "    .dataframe thead th {\n",
       "        text-align: right;\n",
       "    }\n",
       "</style>\n",
       "<table border=\"1\" class=\"dataframe\">\n",
       "  <thead>\n",
       "    <tr style=\"text-align: right;\">\n",
       "      <th></th>\n",
       "      <th>2006-2010</th>\n",
       "      <th>2007-2011</th>\n",
       "      <th>2008-2012</th>\n",
       "      <th>2009-2013</th>\n",
       "      <th>2010-2014</th>\n",
       "    </tr>\n",
       "  </thead>\n",
       "  <tbody>\n",
       "    <tr>\n",
       "      <th>count</th>\n",
       "      <td>138.000000</td>\n",
       "      <td>140.000000</td>\n",
       "      <td>138.000000</td>\n",
       "      <td>140.000000</td>\n",
       "      <td>142.000000</td>\n",
       "    </tr>\n",
       "    <tr>\n",
       "      <th>mean</th>\n",
       "      <td>84.930435</td>\n",
       "      <td>82.467143</td>\n",
       "      <td>82.782609</td>\n",
       "      <td>83.097857</td>\n",
       "      <td>83.454930</td>\n",
       "    </tr>\n",
       "    <tr>\n",
       "      <th>std</th>\n",
       "      <td>3.870808</td>\n",
       "      <td>3.962930</td>\n",
       "      <td>3.828646</td>\n",
       "      <td>3.847946</td>\n",
       "      <td>3.911985</td>\n",
       "    </tr>\n",
       "    <tr>\n",
       "      <th>min</th>\n",
       "      <td>74.200000</td>\n",
       "      <td>70.700000</td>\n",
       "      <td>69.500000</td>\n",
       "      <td>69.000000</td>\n",
       "      <td>71.300000</td>\n",
       "    </tr>\n",
       "    <tr>\n",
       "      <th>25%</th>\n",
       "      <td>81.700000</td>\n",
       "      <td>79.500000</td>\n",
       "      <td>79.900000</td>\n",
       "      <td>80.100000</td>\n",
       "      <td>80.525000</td>\n",
       "    </tr>\n",
       "    <tr>\n",
       "      <th>50%</th>\n",
       "      <td>83.900000</td>\n",
       "      <td>81.700000</td>\n",
       "      <td>82.000000</td>\n",
       "      <td>82.700000</td>\n",
       "      <td>83.400000</td>\n",
       "    </tr>\n",
       "    <tr>\n",
       "      <th>75%</th>\n",
       "      <td>88.500000</td>\n",
       "      <td>86.125000</td>\n",
       "      <td>86.300000</td>\n",
       "      <td>86.525000</td>\n",
       "      <td>86.975000</td>\n",
       "    </tr>\n",
       "    <tr>\n",
       "      <th>max</th>\n",
       "      <td>90.900000</td>\n",
       "      <td>88.200000</td>\n",
       "      <td>88.200000</td>\n",
       "      <td>88.500000</td>\n",
       "      <td>89.800000</td>\n",
       "    </tr>\n",
       "  </tbody>\n",
       "</table>\n",
       "</div>"
      ],
      "text/plain": [
       "        2006-2010   2007-2011   2008-2012   2009-2013   2010-2014\n",
       "count  138.000000  140.000000  138.000000  140.000000  142.000000\n",
       "mean    84.930435   82.467143   82.782609   83.097857   83.454930\n",
       "std      3.870808    3.962930    3.828646    3.847946    3.911985\n",
       "min     74.200000   70.700000   69.500000   69.000000   71.300000\n",
       "25%     81.700000   79.500000   79.900000   80.100000   80.525000\n",
       "50%     83.900000   81.700000   82.000000   82.700000   83.400000\n",
       "75%     88.500000   86.125000   86.300000   86.525000   86.975000\n",
       "max     90.900000   88.200000   88.200000   88.500000   89.800000"
      ]
     },
     "execution_count": 7,
     "metadata": {},
     "output_type": "execute_result"
    }
   ],
   "source": [
    "df.tail(3)\n",
    "df.describe()"
   ]
  },
  {
   "cell_type": "code",
   "execution_count": 8,
   "metadata": {
    "ExecuteTime": {
     "end_time": "2019-08-25T09:42:25.092145Z",
     "start_time": "2019-08-25T09:42:24.642679Z"
    }
   },
   "outputs": [
    {
     "data": {
      "text/plain": [
       "<matplotlib.axes._subplots.AxesSubplot at 0x122fc0d68>"
      ]
     },
     "execution_count": 8,
     "metadata": {},
     "output_type": "execute_result"
    },
    {
     "data": {
      "image/png": "[encoded data removed]",
      "text/plain": [
       "<Figure size 432x288 with 1 Axes>"
      ]
     },
     "metadata": {
      "needs_background": "light"
     },
     "output_type": "display_data"
    }
   ],
   "source": [
    "\n",
    "df.boxplot()\n"
   ]
  },
  {
   "cell_type": "code",
   "execution_count": 9,
   "metadata": {
    "ExecuteTime": {
     "end_time": "2019-08-25T09:42:26.518607Z",
     "start_time": "2019-08-25T09:42:25.096824Z"
    }
   },
   "outputs": [
    {
     "data": {
      "text/plain": [
       "array([[<matplotlib.axes._subplots.AxesSubplot object at 0x121236be0>,\n",
       "        <matplotlib.axes._subplots.AxesSubplot object at 0x12141c9e8>],\n",
       "       [<matplotlib.axes._subplots.AxesSubplot object at 0x12144df98>,\n",
       "        <matplotlib.axes._subplots.AxesSubplot object at 0x12148b588>],\n",
       "       [<matplotlib.axes._subplots.AxesSubplot object at 0x1214bbb38>,\n",
       "        <matplotlib.axes._subplots.AxesSubplot object at 0x1214fa128>]],\n",
       "      dtype=object)"
      ]
     },
     "execution_count": 9,
     "metadata": {},
     "output_type": "execute_result"
    },
    {
     "data": {
      "image/png": "[encoded data removed]",
      "text/plain": [
       "<Figure size 432x288 with 6 Axes>"
      ]
     },
     "metadata": {
      "needs_background": "light"
     },
     "output_type": "display_data"
    }
   ],
   "source": [
    "\n",
    "df.hist(bins=45)"
   ]
  },
  {
   "cell_type": "code",
   "execution_count": 10,
   "metadata": {
    "ExecuteTime": {
     "end_time": "2019-08-25T09:42:29.506114Z",
     "start_time": "2019-08-25T09:42:26.523924Z"
    }
   },
   "outputs": [
    {
     "data": {
      "application/vnd.plotly.v1+json": {
       "config": {
        "linkText": "Export to plot.ly",
        "plotlyServerURL": "https://plot.ly",
        "showLink": true
       },
       "data": [
        {
         "line": {
          "color": "rgba(255, 153, 51, 1.0)",
          "dash": "solid",
          "shape": "linear",
          "width": 1.3
         },
         "mode": "lines",
         "name": "0",
         "text": "",
         "type": "scatter",
         "uid": "4b8b2373-a146-49b7-97a1-e0b14a801d09",
         "x": [
          "Neighborhood",
          "2006-2010",
          "2007-2011",
          "2008-2012",
          "2009-2013",
          "2010-2014",
          "Gender"
         ],
         "y": [
          "el Raval",
          87.5,
          84.9,
          84.7,
          84.9,
          85.3,
          "Female"
         ]
        },
        {
         "line": {
          "color": "rgba(55, 128, 191, 1.0)",
          "dash": "solid",
          "shape": "linear",
          "width": 1.3
         },
         "mode": "lines",
         "name": "1",
         "text": "",
         "type": "scatter",
         "uid": "679093a0-e3a1-4c10-baab-d6add6ba5f28",
         "x": [
          "Neighborhood",
          "2006-2010",
          "2007-2011",
          "2008-2012",
          "2009-2013",
          "2010-2014",
          "Gender"
         ],
         "y": [
          "el Barri Gòtic",
          88,
          84.3,
          84.4,
          87.5,
          84.4,
          "Female"
         ]
        },
        {
         "line": {
          "color": "rgba(50, 171, 96, 1.0)",
          "dash": "solid",
          "shape": "linear",
          "width": 1.3
         },
         "mode": "lines",
         "name": "2",
         "text": "",
         "type": "scatter",
         "uid": "0b8fe12e-4e8b-4498-86f9-3a2bb55e5d52",
         "x": [
          "Neighborhood",
          "2006-2010",
          "2007-2011",
          "2008-2012",
          "2009-2013",
          "2010-2014",
          "Gender"
         ],
         "y": [
          "la Barceloneta",
          88.2,
          85.3,
          84.4,
          86.3,
          84.7,
          "Female"
         ]
        },
        {
         "line": {
          "color": "rgba(128, 0, 128, 1.0)",
          "dash": "solid",
          "shape": "linear",
          "width": 1.3
         },
         "mode": "lines",
         "name": "3",
         "text": "",
         "type": "scatter",
         "uid": "40624769-db24-44f7-9223-29c27006181d",
         "x": [
          "Neighborhood",
          "2006-2010",
          "2007-2011",
          "2008-2012",
          "2009-2013",
          "2010-2014",
          "Gender"
         ],
         "y": [
          "Sant Pere, Santa Caterina i la Ribera",
          88.9,
          85.9,
          86.1,
          85.5,
          85.3,
          "Female"
         ]
        },
        {
         "line": {
          "color": "rgba(219, 64, 82, 1.0)",
          "dash": "solid",
          "shape": "linear",
          "width": 1.3
         },
         "mode": "lines",
         "name": "4",
         "text": "",
         "type": "scatter",
         "uid": "1cb17bad-68f5-43b9-ba90-111651a55892",
         "x": [
          "Neighborhood",
          "2006-2010",
          "2007-2011",
          "2008-2012",
          "2009-2013",
          "2010-2014",
          "Gender"
         ],
         "y": [
          "el Fort Pienc",
          89.7,
          87.1,
          87.2,
          87.7,
          86.7,
          "Female"
         ]
        },
        {
         "line": {
          "color": "rgba(0, 128, 128, 1.0)",
          "dash": "solid",
          "shape": "linear",
          "width": 1.3
         },
         "mode": "lines",
         "name": "5",
         "text": "",
         "type": "scatter",
         "uid": "7997c2de-3fc1-496e-8362-1b0ded099981",
         "x": [
          "Neighborhood",
          "2006-2010",
          "2007-2011",
          "2008-2012",
          "2009-2013",
          "2010-2014",
          "Gender"
         ],
         "y": [
          "la Sagrada Família",
          88.9,
          86.6,
          86.8,
          85.1,
          87.2,
          "Female"
         ]
        },
        {
         "line": {
          "color": "rgba(255, 255, 51, 1.0)",
          "dash": "solid",
          "shape": "linear",
          "width": 1.3
         },
         "mode": "lines",
         "name": "6",
         "text": "",
         "type": "scatter",
         "uid": "4abe694d-75d7-41ed-8bff-9ce0a5ff7155",
         "x": [
          "Neighborhood",
          "2006-2010",
          "2007-2011",
          "2008-2012",
          "2009-2013",
          "2010-2014",
          "Gender"
         ],
         "y": [
          "la Dreta de l'Eixample",
          87,
          85,
          85.1,
          85.7,
          85.1,
          "Female"
         ]
        },
        {
         "line": {
          "color": "rgba(128, 128, 0, 1.0)",
          "dash": "solid",
          "shape": "linear",
          "width": 1.3
         },
         "mode": "lines",
         "name": "7",
         "text": "",
         "type": "scatter",
         "uid": "6d618759-5997-4131-a509-09e023cd144d",
         "x": [
          "Neighborhood",
          "2006-2010",
          "2007-2011",
          "2008-2012",
          "2009-2013",
          "2010-2014",
          "Gender"
         ],
         "y": [
          "l'Antiga Esquerra de l'Eixample",
          88.9,
          86.4,
          86.3,
          85.8,
          86.9,
          "Female"
         ]
        },
        {
         "line": {
          "color": "rgba(251, 128, 114, 1.0)",
          "dash": "solid",
          "shape": "linear",
          "width": 1.3
         },
         "mode": "lines",
         "name": "8",
         "text": "",
         "type": "scatter",
         "uid": "30ae3355-c875-4853-ab92-89354816c012",
         "x": [
          "Neighborhood",
          "2006-2010",
          "2007-2011",
          "2008-2012",
          "2009-2013",
          "2010-2014",
          "Gender"
         ],
         "y": [
          "la Nova Esquerra de l'Eixample",
          90,
          87.4,
          87.5,
          87,
          88.7,
          "Female"
         ]
        },
        {
         "line": {
          "color": "rgba(128, 177, 211, 1.0)",
          "dash": "solid",
          "shape": "linear",
          "width": 1.3
         },
         "mode": "lines",
         "name": "9",
         "text": "",
         "type": "scatter",
         "uid": "d363ae90-7ebf-4201-b4b5-1da6ca802f8c",
         "x": [
          "Neighborhood",
          "2006-2010",
          "2007-2011",
          "2008-2012",
          "2009-2013",
          "2010-2014",
          "Gender"
         ],
         "y": [
          "Sant Antoni",
          89,
          86.3,
          86.5,
          86,
          87.6,
          "Female"
         ]
        },
        {
         "line": {
          "color": "rgba(128, 177, 211, 0.9452054794520548)",
          "dash": "solid",
          "shape": "linear",
          "width": 1.3
         },
         "mode": "lines",
         "name": "10",
         "text": "",
         "type": "scatter",
         "uid": "1db44ff8-dc4d-4011-b9e9-bb82c8ca68c2",
         "x": [
          "Neighborhood",
          "2006-2010",
          "2007-2011",
          "2008-2012",
          "2009-2013",
          "2010-2014",
          "Gender"
         ],
         "y": [
          "el Poble Sec - Parc Montjuïc",
          88.5,
          85.5,
          85.6,
          88.2,
          86.4,
          "Female"
         ]
        },
        {
         "line": {
          "color": "rgba(255, 153, 51, 0.9452054794520548)",
          "dash": "solid",
          "shape": "linear",
          "width": 1.3
         },
         "mode": "lines",
         "name": "11",
         "text": "",
         "type": "scatter",
         "uid": "a178134f-8a73-46c7-a714-34bfe939fa2e",
         "x": [
          "Neighborhood",
          "2006-2010",
          "2007-2011",
          "2008-2012",
          "2009-2013",
          "2010-2014",
          "Gender"
         ],
         "y": [
          "la Marina del Prat Vermell - Zona Franca",
          "",
          "",
          "",
          "",
          "",
          "Female"
         ]
        },
        {
         "line": {
          "color": "rgba(55, 128, 191, 0.9452054794520548)",
          "dash": "solid",
          "shape": "linear",
          "width": 1.3
         },
         "mode": "lines",
         "name": "12",
         "text": "",
         "type": "scatter",
         "uid": "927d1c0b-c27a-4628-9900-e75c02f199fc",
         "x": [
          "Neighborhood",
          "2006-2010",
          "2007-2011",
          "2008-2012",
          "2009-2013",
          "2010-2014",
          "Gender"
         ],
         "y": [
          "la Marina de Port",
          88.5,
          86.2,
          86.5,
          88.1,
          87.7,
          "Female"
         ]
        },
        {
         "line": {
          "color": "rgba(50, 171, 96, 0.9452054794520548)",
          "dash": "solid",
          "shape": "linear",
          "width": 1.3
         },
         "mode": "lines",
         "name": "13",
         "text": "",
         "type": "scatter",
         "uid": "0e6c4165-affe-4eca-ba10-e795e88485be",
         "x": [
          "Neighborhood",
          "2006-2010",
          "2007-2011",
          "2008-2012",
          "2009-2013",
          "2010-2014",
          "Gender"
         ],
         "y": [
          "la Font de la Guatlla",
          88.7,
          85.7,
          85.1,
          88.4,
          84.3,
          "Female"
         ]
        },
        {
         "line": {
          "color": "rgba(128, 0, 128, 0.9452054794520548)",
          "dash": "solid",
          "shape": "linear",
          "width": 1.3
         },
         "mode": "lines",
         "name": "14",
         "text": "",
         "type": "scatter",
         "uid": "985ef7e2-f3eb-4e7c-83a3-b4b23e87c162",
         "x": [
          "Neighborhood",
          "2006-2010",
          "2007-2011",
          "2008-2012",
          "2009-2013",
          "2010-2014",
          "Gender"
         ],
         "y": [
          "Hostafrancs",
          87.5,
          85.4,
          86.3,
          81.7,
          87.4,
          "Female"
         ]
        },
        {
         "line": {
          "color": "rgba(219, 64, 82, 0.9452054794520548)",
          "dash": "solid",
          "shape": "linear",
          "width": 1.3
         },
         "mode": "lines",
         "name": "15",
         "text": "",
         "type": "scatter",
         "uid": "5f1ce648-1cc0-4021-aae7-56a18ed2608d",
         "x": [
          "Neighborhood",
          "2006-2010",
          "2007-2011",
          "2008-2012",
          "2009-2013",
          "2010-2014",
          "Gender"
         ],
         "y": [
          "la Bordeta",
          88.7,
          86.3,
          85.6,
          86.9,
          86.3,
          "Female"
         ]
        },
        {
         "line": {
          "color": "rgba(0, 128, 128, 0.9452054794520548)",
          "dash": "solid",
          "shape": "linear",
          "width": 1.3
         },
         "mode": "lines",
         "name": "16",
         "text": "",
         "type": "scatter",
         "uid": "687f6a9f-d9f2-40b2-adee-942aad344696",
         "x": [
          "Neighborhood",
          "2006-2010",
          "2007-2011",
          "2008-2012",
          "2009-2013",
          "2010-2014",
          "Gender"
         ],
         "y": [
          "Sants - Badal",
          88.4,
          85.9,
          86.4,
          87.8,
          87.7,
          "Female"
         ]
        },
        {
         "line": {
          "color": "rgba(255, 255, 51, 0.9452054794520548)",
          "dash": "solid",
          "shape": "linear",
          "width": 1.3
         },
         "mode": "lines",
         "name": "17",
         "text": "",
         "type": "scatter",
         "uid": "77f25e86-f0cf-4681-b7c5-20e44d4d15a8",
         "x": [
          "Neighborhood",
          "2006-2010",
          "2007-2011",
          "2008-2012",
          "2009-2013",
          "2010-2014",
          "Gender"
         ],
         "y": [
          "Sants",
          89.4,
          86.5,
          86.2,
          86.5,
          86.1,
          "Female"
         ]
        },
        {
         "line": {
          "color": "rgba(128, 128, 0, 0.9452054794520548)",
          "dash": "solid",
          "shape": "linear",
          "width": 1.3
         },
         "mode": "lines",
         "name": "18",
         "text": "",
         "type": "scatter",
         "uid": "1c6e655f-4077-4fad-80fa-1e22ade1e97a",
         "x": [
          "Neighborhood",
          "2006-2010",
          "2007-2011",
          "2008-2012",
          "2009-2013",
          "2010-2014",
          "Gender"
         ],
         "y": [
          "les Corts",
          89.4,
          87.1,
          87.4,
          86.8,
          88.1,
          "Female"
         ]
        },
        {
         "line": {
          "color": "rgba(251, 128, 114, 0.9452054794520548)",
          "dash": "solid",
          "shape": "linear",
          "width": 1.3
         },
         "mode": "lines",
         "name": "19",
         "text": "",
         "type": "scatter",
         "uid": "3c1d7d65-3da0-46e6-ae7d-b8a2bbb4ceea",
         "x": [
          "Neighborhood",
          "2006-2010",
          "2007-2011",
          "2008-2012",
          "2009-2013",
          "2010-2014",
          "Gender"
         ],
         "y": [
          "la Maternitat i Sant Ramon",
          90,
          87.4,
          87.5,
          87.8,
          89,
          "Female"
         ]
        },
        {
         "line": {
          "color": "rgba(251, 128, 114, 0.8904109589041096)",
          "dash": "solid",
          "shape": "linear",
          "width": 1.3
         },
         "mode": "lines",
         "name": "20",
         "text": "",
         "type": "scatter",
         "uid": "004693d0-8f50-4f3f-a1e7-80dc93784c03",
         "x": [
          "Neighborhood",
          "2006-2010",
          "2007-2011",
          "2008-2012",
          "2009-2013",
          "2010-2014",
          "Gender"
         ],
         "y": [
          "Pedralbes",
          89,
          87.3,
          87.5,
          86,
          88.4,
          "Female"
         ]
        },
        {
         "line": {
          "color": "rgba(128, 177, 211, 0.8904109589041096)",
          "dash": "solid",
          "shape": "linear",
          "width": 1.3
         },
         "mode": "lines",
         "name": "21",
         "text": "",
         "type": "scatter",
         "uid": "404c58ed-ccf5-44e5-b559-4f4fd0e6df78",
         "x": [
          "Neighborhood",
          "2006-2010",
          "2007-2011",
          "2008-2012",
          "2009-2013",
          "2010-2014",
          "Gender"
         ],
         "y": [
          "Vallvidrera, el Tibidabo i les Planes",
          83.4,
          80.5,
          80.4,
          88.5,
          82.2,
          "Female"
         ]
        },
        {
         "line": {
          "color": "rgba(255, 153, 51, 0.8904109589041096)",
          "dash": "solid",
          "shape": "linear",
          "width": 1.3
         },
         "mode": "lines",
         "name": "22",
         "text": "",
         "type": "scatter",
         "uid": "116265c0-f45c-4e3e-8c55-44fcb3d96285",
         "x": [
          "Neighborhood",
          "2006-2010",
          "2007-2011",
          "2008-2012",
          "2009-2013",
          "2010-2014",
          "Gender"
         ],
         "y": [
          "Sarrià",
          90.9,
          87.6,
          87.1,
          84.8,
          86.9,
          "Female"
         ]
        },
        {
         "line": {
          "color": "rgba(55, 128, 191, 0.8904109589041096)",
          "dash": "solid",
          "shape": "linear",
          "width": 1.3
         },
         "mode": "lines",
         "name": "23",
         "text": "",
         "type": "scatter",
         "uid": "3397f9c5-ccbe-4ed2-9eb8-f410e21bf6db",
         "x": [
          "Neighborhood",
          "2006-2010",
          "2007-2011",
          "2008-2012",
          "2009-2013",
          "2010-2014",
          "Gender"
         ],
         "y": [
          "les Tres Torres",
          89.7,
          87.7,
          87.6,
          85.1,
          88.1,
          "Female"
         ]
        },
        {
         "line": {
          "color": "rgba(50, 171, 96, 0.8904109589041096)",
          "dash": "solid",
          "shape": "linear",
          "width": 1.3
         },
         "mode": "lines",
         "name": "24",
         "text": "",
         "type": "scatter",
         "uid": "8febacf3-430f-4b72-9831-026e82f56d70",
         "x": [
          "Neighborhood",
          "2006-2010",
          "2007-2011",
          "2008-2012",
          "2009-2013",
          "2010-2014",
          "Gender"
         ],
         "y": [
          "Sant Gervasi - la Bonanova",
          89.2,
          86.5,
          86.5,
          85.7,
          86.8,
          "Female"
         ]
        },
        {
         "line": {
          "color": "rgba(128, 0, 128, 0.8904109589041096)",
          "dash": "solid",
          "shape": "linear",
          "width": 1.3
         },
         "mode": "lines",
         "name": "25",
         "text": "",
         "type": "scatter",
         "uid": "1c71b70c-f23f-4887-b802-f77ec6c4dc00",
         "x": [
          "Neighborhood",
          "2006-2010",
          "2007-2011",
          "2008-2012",
          "2009-2013",
          "2010-2014",
          "Gender"
         ],
         "y": [
          "Sant Gervasi - Galvany",
          88.8,
          86.5,
          86.4,
          87.7,
          86.9,
          "Female"
         ]
        },
        {
         "line": {
          "color": "rgba(219, 64, 82, 0.8904109589041096)",
          "dash": "solid",
          "shape": "linear",
          "width": 1.3
         },
         "mode": "lines",
         "name": "26",
         "text": "",
         "type": "scatter",
         "uid": "e546567d-6012-4a5a-90ab-863b63f791e2",
         "x": [
          "Neighborhood",
          "2006-2010",
          "2007-2011",
          "2008-2012",
          "2009-2013",
          "2010-2014",
          "Gender"
         ],
         "y": [
          "el Putxet i el Farró",
          89.9,
          87.6,
          87.8,
          86.6,
          87.9,
          "Female"
         ]
        },
        {
         "line": {
          "color": "rgba(0, 128, 128, 0.8904109589041096)",
          "dash": "solid",
          "shape": "linear",
          "width": 1.3
         },
         "mode": "lines",
         "name": "27",
         "text": "",
         "type": "scatter",
         "uid": "d9254939-bc03-4142-82c0-056ca1487a49",
         "x": [
          "Neighborhood",
          "2006-2010",
          "2007-2011",
          "2008-2012",
          "2009-2013",
          "2010-2014",
          "Gender"
         ],
         "y": [
          "Vallcarca i els Penitents",
          88.2,
          86.1,
          86.4,
          86,
          86.3,
          "Female"
         ]
        },
        {
         "line": {
          "color": "rgba(255, 255, 51, 0.8904109589041096)",
          "dash": "solid",
          "shape": "linear",
          "width": 1.3
         },
         "mode": "lines",
         "name": "28",
         "text": "",
         "type": "scatter",
         "uid": "9758fe98-0982-4350-9443-2a6d3951d156",
         "x": [
          "Neighborhood",
          "2006-2010",
          "2007-2011",
          "2008-2012",
          "2009-2013",
          "2010-2014",
          "Gender"
         ],
         "y": [
          "el Coll",
          89.9,
          88.2,
          88.2,
          87.6,
          88.6,
          "Female"
         ]
        },
        {
         "line": {
          "color": "rgba(128, 128, 0, 0.8904109589041096)",
          "dash": "solid",
          "shape": "linear",
          "width": 1.3
         },
         "mode": "lines",
         "name": "29",
         "text": "",
         "type": "scatter",
         "uid": "d9633652-8f99-409f-932f-a80c49dcccba",
         "x": [
          "Neighborhood",
          "2006-2010",
          "2007-2011",
          "2008-2012",
          "2009-2013",
          "2010-2014",
          "Gender"
         ],
         "y": [
          "la Salut",
          85.7,
          84.1,
          84.4,
          85.3,
          85.7,
          "Female"
         ]
        },
        {
         "line": {
          "color": "rgba(128, 128, 0, 0.8356164383561644)",
          "dash": "solid",
          "shape": "linear",
          "width": 1.3
         },
         "mode": "lines",
         "name": "30",
         "text": "",
         "type": "scatter",
         "uid": "6a9af5fc-e1b4-4161-a80a-bd5e80d0a5e2",
         "x": [
          "Neighborhood",
          "2006-2010",
          "2007-2011",
          "2008-2012",
          "2009-2013",
          "2010-2014",
          "Gender"
         ],
         "y": [
          "la Vila de Gràcia",
          87.5,
          85.1,
          85.4,
          87.2,
          86.1,
          "Female"
         ]
        },
        {
         "line": {
          "color": "rgba(251, 128, 114, 0.8356164383561644)",
          "dash": "solid",
          "shape": "linear",
          "width": 1.3
         },
         "mode": "lines",
         "name": "31",
         "text": "",
         "type": "scatter",
         "uid": "c12d8c1d-45a7-42bf-80fa-30fcfb64b843",
         "x": [
          "Neighborhood",
          "2006-2010",
          "2007-2011",
          "2008-2012",
          "2009-2013",
          "2010-2014",
          "Gender"
         ],
         "y": [
          "el Camp d'en Grassot i Gràcia Nova",
          90.1,
          87.6,
          87.6,
          86.2,
          87.4,
          "Female"
         ]
        },
        {
         "line": {
          "color": "rgba(128, 177, 211, 0.8356164383561644)",
          "dash": "solid",
          "shape": "linear",
          "width": 1.3
         },
         "mode": "lines",
         "name": "32",
         "text": "",
         "type": "scatter",
         "uid": "d8b9bcf7-f941-4970-85cd-3545932acf2e",
         "x": [
          "Neighborhood",
          "2006-2010",
          "2007-2011",
          "2008-2012",
          "2009-2013",
          "2010-2014",
          "Gender"
         ],
         "y": [
          "el Baix Guinardó",
          90.1,
          87.2,
          86.8,
          85.1,
          86.8,
          "Female"
         ]
        },
        {
         "line": {
          "color": "rgba(255, 153, 51, 0.8356164383561644)",
          "dash": "solid",
          "shape": "linear",
          "width": 1.3
         },
         "mode": "lines",
         "name": "33",
         "text": "",
         "type": "scatter",
         "uid": "125bfbce-b5a0-4845-990f-c13514f65330",
         "x": [
          "Neighborhood",
          "2006-2010",
          "2007-2011",
          "2008-2012",
          "2009-2013",
          "2010-2014",
          "Gender"
         ],
         "y": [
          "Can Baró",
          88.2,
          86.2,
          86,
          85.5,
          86.6,
          "Female"
         ]
        },
        {
         "line": {
          "color": "rgba(55, 128, 191, 0.8356164383561644)",
          "dash": "solid",
          "shape": "linear",
          "width": 1.3
         },
         "mode": "lines",
         "name": "34",
         "text": "",
         "type": "scatter",
         "uid": "bd42ea56-8a18-4a03-9c85-53490ae5278c",
         "x": [
          "Neighborhood",
          "2006-2010",
          "2007-2011",
          "2008-2012",
          "2009-2013",
          "2010-2014",
          "Gender"
         ],
         "y": [
          "el Guinardó",
          89.3,
          86.4,
          87,
          82.3,
          88.3,
          "Female"
         ]
        },
        {
         "line": {
          "color": "rgba(50, 171, 96, 0.8356164383561644)",
          "dash": "solid",
          "shape": "linear",
          "width": 1.3
         },
         "mode": "lines",
         "name": "35",
         "text": "",
         "type": "scatter",
         "uid": "41861127-3cb1-4304-b8fb-ccd6506ee735",
         "x": [
          "Neighborhood",
          "2006-2010",
          "2007-2011",
          "2008-2012",
          "2009-2013",
          "2010-2014",
          "Gender"
         ],
         "y": [
          "la Font d'en Fargues",
          87.3,
          85.7,
          85.6,
          85.8,
          85.8,
          "Female"
         ]
        },
        {
         "line": {
          "color": "rgba(128, 0, 128, 0.8356164383561644)",
          "dash": "solid",
          "shape": "linear",
          "width": 1.3
         },
         "mode": "lines",
         "name": "36",
         "text": "",
         "type": "scatter",
         "uid": "2932befe-9ab1-4f63-95bb-ccd562d18cc2",
         "x": [
          "Neighborhood",
          "2006-2010",
          "2007-2011",
          "2008-2012",
          "2009-2013",
          "2010-2014",
          "Gender"
         ],
         "y": [
          "el Carmel",
          88.8,
          86.6,
          87.2,
          87.8,
          88.1,
          "Female"
         ]
        },
        {
         "line": {
          "color": "rgba(219, 64, 82, 0.8356164383561644)",
          "dash": "solid",
          "shape": "linear",
          "width": 1.3
         },
         "mode": "lines",
         "name": "37",
         "text": "",
         "type": "scatter",
         "uid": "9372538f-eac2-41d4-9c27-1bbac488cc24",
         "x": [
          "Neighborhood",
          "2006-2010",
          "2007-2011",
          "2008-2012",
          "2009-2013",
          "2010-2014",
          "Gender"
         ],
         "y": [
          "la Teixonera",
          86.7,
          84.8,
          85,
          85.6,
          87.3,
          "Female"
         ]
        },
        {
         "line": {
          "color": "rgba(0, 128, 128, 0.8356164383561644)",
          "dash": "solid",
          "shape": "linear",
          "width": 1.3
         },
         "mode": "lines",
         "name": "38",
         "text": "",
         "type": "scatter",
         "uid": "a7dcf583-ab05-44eb-8ad8-23cbe9191973",
         "x": [
          "Neighborhood",
          "2006-2010",
          "2007-2011",
          "2008-2012",
          "2009-2013",
          "2010-2014",
          "Gender"
         ],
         "y": [
          "Sant Genís dels Agudells",
          87.3,
          85,
          84.6,
          86.9,
          85.5,
          "Female"
         ]
        },
        {
         "line": {
          "color": "rgba(255, 255, 51, 0.8356164383561644)",
          "dash": "solid",
          "shape": "linear",
          "width": 1.3
         },
         "mode": "lines",
         "name": "39",
         "text": "",
         "type": "scatter",
         "uid": "0cd86b3e-1c34-4723-a440-abb8ce61164d",
         "x": [
          "Neighborhood",
          "2006-2010",
          "2007-2011",
          "2008-2012",
          "2009-2013",
          "2010-2014",
          "Gender"
         ],
         "y": [
          "Montbau",
          83.5,
          81.3,
          81.9,
          87.3,
          83.9,
          "Female"
         ]
        },
        {
         "line": {
          "color": "rgba(255, 255, 51, 0.7808219178082192)",
          "dash": "solid",
          "shape": "linear",
          "width": 1.3
         },
         "mode": "lines",
         "name": "40",
         "text": "",
         "type": "scatter",
         "uid": "77ae0e66-a4a6-4727-9c55-f1b3c0f61a2e",
         "x": [
          "Neighborhood",
          "2006-2010",
          "2007-2011",
          "2008-2012",
          "2009-2013",
          "2010-2014",
          "Gender"
         ],
         "y": [
          "la Vall d'Hebron",
          86.6,
          85.3,
          86,
          88.4,
          86.5,
          "Female"
         ]
        },
        {
         "line": {
          "color": "rgba(128, 128, 0, 0.7808219178082192)",
          "dash": "solid",
          "shape": "linear",
          "width": 1.3
         },
         "mode": "lines",
         "name": "41",
         "text": "",
         "type": "scatter",
         "uid": "cf3ac873-5e99-4f20-88bd-cd17a1b5bfb5",
         "x": [
          "Neighborhood",
          "2006-2010",
          "2007-2011",
          "2008-2012",
          "2009-2013",
          "2010-2014",
          "Gender"
         ],
         "y": [
          "la Clota",
          "",
          "",
          "",
          "",
          "",
          "Female"
         ]
        },
        {
         "line": {
          "color": "rgba(251, 128, 114, 0.7808219178082192)",
          "dash": "solid",
          "shape": "linear",
          "width": 1.3
         },
         "mode": "lines",
         "name": "42",
         "text": "",
         "type": "scatter",
         "uid": "df6e7912-a981-4c50-b0d5-093264f7b25b",
         "x": [
          "Neighborhood",
          "2006-2010",
          "2007-2011",
          "2008-2012",
          "2009-2013",
          "2010-2014",
          "Gender"
         ],
         "y": [
          "Horta",
          87.1,
          85.5,
          85.5,
          86.5,
          86,
          "Female"
         ]
        },
        {
         "line": {
          "color": "rgba(128, 177, 211, 0.7808219178082192)",
          "dash": "solid",
          "shape": "linear",
          "width": 1.3
         },
         "mode": "lines",
         "name": "43",
         "text": "",
         "type": "scatter",
         "uid": "b919429c-127d-4093-8e29-8eb129a35d7f",
         "x": [
          "Neighborhood",
          "2006-2010",
          "2007-2011",
          "2008-2012",
          "2009-2013",
          "2010-2014",
          "Gender"
         ],
         "y": [
          "Vilapicina i la Torre Llobeta",
          89.6,
          87.2,
          87.2,
          85.8,
          87,
          "Female"
         ]
        },
        {
         "line": {
          "color": "rgba(255, 153, 51, 0.7808219178082192)",
          "dash": "solid",
          "shape": "linear",
          "width": 1.3
         },
         "mode": "lines",
         "name": "44",
         "text": "",
         "type": "scatter",
         "uid": "3dbdc038-58fc-4ac7-ab98-401d4e422825",
         "x": [
          "Neighborhood",
          "2006-2010",
          "2007-2011",
          "2008-2012",
          "2009-2013",
          "2010-2014",
          "Gender"
         ],
         "y": [
          "Porta",
          88.3,
          86,
          86.5,
          87,
          87.7,
          "Female"
         ]
        },
        {
         "line": {
          "color": "rgba(55, 128, 191, 0.7808219178082192)",
          "dash": "solid",
          "shape": "linear",
          "width": 1.3
         },
         "mode": "lines",
         "name": "45",
         "text": "",
         "type": "scatter",
         "uid": "50a972a0-0541-4302-82e0-342911108973",
         "x": [
          "Neighborhood",
          "2006-2010",
          "2007-2011",
          "2008-2012",
          "2009-2013",
          "2010-2014",
          "Gender"
         ],
         "y": [
          "el Turó de la Peira",
          90.4,
          87.8,
          88,
          86,
          89.8,
          "Female"
         ]
        },
        {
         "line": {
          "color": "rgba(50, 171, 96, 0.7808219178082192)",
          "dash": "solid",
          "shape": "linear",
          "width": 1.3
         },
         "mode": "lines",
         "name": "46",
         "text": "",
         "type": "scatter",
         "uid": "28642c73-1dee-4211-b474-abe3ecb6000f",
         "x": [
          "Neighborhood",
          "2006-2010",
          "2007-2011",
          "2008-2012",
          "2009-2013",
          "2010-2014",
          "Gender"
         ],
         "y": [
          "Can Peguera",
          82.2,
          79.7,
          80.3,
          87.2,
          85.1,
          "Female"
         ]
        },
        {
         "line": {
          "color": "rgba(128, 0, 128, 0.7808219178082192)",
          "dash": "solid",
          "shape": "linear",
          "width": 1.3
         },
         "mode": "lines",
         "name": "47",
         "text": "",
         "type": "scatter",
         "uid": "5984f443-7ddd-4c07-aea5-8e4500976592",
         "x": [
          "Neighborhood",
          "2006-2010",
          "2007-2011",
          "2008-2012",
          "2009-2013",
          "2010-2014",
          "Gender"
         ],
         "y": [
          "la Guineueta",
          88.3,
          85.9,
          86.1,
          87.8,
          87,
          "Female"
         ]
        },
        {
         "line": {
          "color": "rgba(219, 64, 82, 0.7808219178082192)",
          "dash": "solid",
          "shape": "linear",
          "width": 1.3
         },
         "mode": "lines",
         "name": "48",
         "text": "",
         "type": "scatter",
         "uid": "8aa423cd-777a-4da5-b807-2438580eef8e",
         "x": [
          "Neighborhood",
          "2006-2010",
          "2007-2011",
          "2008-2012",
          "2009-2013",
          "2010-2014",
          "Gender"
         ],
         "y": [
          "Canyelles",
          89.6,
          86,
          85.9,
          83.5,
          86.5,
          "Female"
         ]
        },
        {
         "line": {
          "color": "rgba(0, 128, 128, 0.7808219178082192)",
          "dash": "solid",
          "shape": "linear",
          "width": 1.3
         },
         "mode": "lines",
         "name": "49",
         "text": "",
         "type": "scatter",
         "uid": "5ca47c36-b87a-4f70-b92e-9b610e7b41d8",
         "x": [
          "Neighborhood",
          "2006-2010",
          "2007-2011",
          "2008-2012",
          "2009-2013",
          "2010-2014",
          "Gender"
         ],
         "y": [
          "les Roquetes",
          88.5,
          86.1,
          85.9,
          83.6,
          86.5,
          "Female"
         ]
        },
        {
         "line": {
          "color": "rgba(0, 128, 128, 0.726027397260274)",
          "dash": "solid",
          "shape": "linear",
          "width": 1.3
         },
         "mode": "lines",
         "name": "50",
         "text": "",
         "type": "scatter",
         "uid": "4839cdd2-2fec-4f60-bef4-5aa937b3b15e",
         "x": [
          "Neighborhood",
          "2006-2010",
          "2007-2011",
          "2008-2012",
          "2009-2013",
          "2010-2014",
          "Gender"
         ],
         "y": [
          "Verdun",
          88.4,
          86.6,
          86.9,
          86.2,
          89,
          "Female"
         ]
        },
        {
         "line": {
          "color": "rgba(255, 255, 51, 0.726027397260274)",
          "dash": "solid",
          "shape": "linear",
          "width": 1.3
         },
         "mode": "lines",
         "name": "51",
         "text": "",
         "type": "scatter",
         "uid": "8a098fbe-b59a-4d2b-9d2b-bacbef7033d7",
         "x": [
          "Neighborhood",
          "2006-2010",
          "2007-2011",
          "2008-2012",
          "2009-2013",
          "2010-2014",
          "Gender"
         ],
         "y": [
          "la Prosperitat",
          89.6,
          87.1,
          87.4,
          80.5,
          88.4,
          "Female"
         ]
        },
        {
         "line": {
          "color": "rgba(128, 128, 0, 0.726027397260274)",
          "dash": "solid",
          "shape": "linear",
          "width": 1.3
         },
         "mode": "lines",
         "name": "52",
         "text": "",
         "type": "scatter",
         "uid": "6f371906-2eed-44c2-8f44-8a5249d06b18",
         "x": [
          "Neighborhood",
          "2006-2010",
          "2007-2011",
          "2008-2012",
          "2009-2013",
          "2010-2014",
          "Gender"
         ],
         "y": [
          "la Trinitat Nova",
          87.4,
          84.5,
          84.1,
          87.7,
          83.3,
          "Female"
         ]
        },
        {
         "line": {
          "color": "rgba(251, 128, 114, 0.726027397260274)",
          "dash": "solid",
          "shape": "linear",
          "width": 1.3
         },
         "mode": "lines",
         "name": "53",
         "text": "",
         "type": "scatter",
         "uid": "b543e4a7-1ab9-49ac-bd13-c430fcdd7f45",
         "x": [
          "Neighborhood",
          "2006-2010",
          "2007-2011",
          "2008-2012",
          "2009-2013",
          "2010-2014",
          "Gender"
         ],
         "y": [
          "Torre Baró",
          "",
          81.7,
          81.6,
          83.1,
          84.8,
          "Female"
         ]
        },
        {
         "line": {
          "color": "rgba(128, 177, 211, 0.726027397260274)",
          "dash": "solid",
          "shape": "linear",
          "width": 1.3
         },
         "mode": "lines",
         "name": "54",
         "text": "",
         "type": "scatter",
         "uid": "44478096-228e-4b74-8ac9-e3904f9ee2dc",
         "x": [
          "Neighborhood",
          "2006-2010",
          "2007-2011",
          "2008-2012",
          "2009-2013",
          "2010-2014",
          "Gender"
         ],
         "y": [
          "Ciutat Meridiana",
          87.9,
          85.3,
          85.7,
          86.3,
          88.2,
          "Female"
         ]
        },
        {
         "line": {
          "color": "rgba(255, 153, 51, 0.726027397260274)",
          "dash": "solid",
          "shape": "linear",
          "width": 1.3
         },
         "mode": "lines",
         "name": "55",
         "text": "",
         "type": "scatter",
         "uid": "89b6fcd1-bc51-4994-8608-d2931665aa3d",
         "x": [
          "Neighborhood",
          "2006-2010",
          "2007-2011",
          "2008-2012",
          "2009-2013",
          "2010-2014",
          "Gender"
         ],
         "y": [
          "Vallbona",
          "",
          "",
          "",
          "",
          78.4,
          "Female"
         ]
        },
        {
         "line": {
          "color": "rgba(55, 128, 191, 0.726027397260274)",
          "dash": "solid",
          "shape": "linear",
          "width": 1.3
         },
         "mode": "lines",
         "name": "56",
         "text": "",
         "type": "scatter",
         "uid": "0897c4fa-dc16-4bdd-b18e-b4869c26f7b2",
         "x": [
          "Neighborhood",
          "2006-2010",
          "2007-2011",
          "2008-2012",
          "2009-2013",
          "2010-2014",
          "Gender"
         ],
         "y": [
          "la Trinitat Vella",
          87,
          85.8,
          86.3,
          86.9,
          89.5,
          "Female"
         ]
        },
        {
         "line": {
          "color": "rgba(50, 171, 96, 0.726027397260274)",
          "dash": "solid",
          "shape": "linear",
          "width": 1.3
         },
         "mode": "lines",
         "name": "57",
         "text": "",
         "type": "scatter",
         "uid": "43128654-ec47-4180-b9d1-1a98d7bf05bd",
         "x": [
          "Neighborhood",
          "2006-2010",
          "2007-2011",
          "2008-2012",
          "2009-2013",
          "2010-2014",
          "Gender"
         ],
         "y": [
          "Baró de Viver",
          82.4,
          79.9,
          "",
          88,
          85.7,
          "Female"
         ]
        },
        {
         "line": {
          "color": "rgba(128, 0, 128, 0.726027397260274)",
          "dash": "solid",
          "shape": "linear",
          "width": 1.3
         },
         "mode": "lines",
         "name": "58",
         "text": "",
         "type": "scatter",
         "uid": "0d70ea28-0c82-4b5e-b69e-cfd075ff628c",
         "x": [
          "Neighborhood",
          "2006-2010",
          "2007-2011",
          "2008-2012",
          "2009-2013",
          "2010-2014",
          "Gender"
         ],
         "y": [
          "el Bon Pastor",
          86.3,
          84.8,
          85.6,
          88.5,
          86.8,
          "Female"
         ]
        },
        {
         "line": {
          "color": "rgba(219, 64, 82, 0.726027397260274)",
          "dash": "solid",
          "shape": "linear",
          "width": 1.3
         },
         "mode": "lines",
         "name": "59",
         "text": "",
         "type": "scatter",
         "uid": "2f4264af-4690-44a5-a6a4-3e37f7d5cc22",
         "x": [
          "Neighborhood",
          "2006-2010",
          "2007-2011",
          "2008-2012",
          "2009-2013",
          "2010-2014",
          "Gender"
         ],
         "y": [
          "Sant Andreu",
          88.8,
          86.4,
          86.7,
          88.3,
          87.8,
          "Female"
         ]
        },
        {
         "line": {
          "color": "rgba(219, 64, 82, 0.6712328767123288)",
          "dash": "solid",
          "shape": "linear",
          "width": 1.3
         },
         "mode": "lines",
         "name": "60",
         "text": "",
         "type": "scatter",
         "uid": "dabff616-b2e6-422f-b24d-e159605a33aa",
         "x": [
          "Neighborhood",
          "2006-2010",
          "2007-2011",
          "2008-2012",
          "2009-2013",
          "2010-2014",
          "Gender"
         ],
         "y": [
          "la Sagrera",
          89.9,
          87.1,
          87.3,
          87.4,
          88.2,
          "Female"
         ]
        },
        {
         "line": {
          "color": "rgba(0, 128, 128, 0.6712328767123288)",
          "dash": "solid",
          "shape": "linear",
          "width": 1.3
         },
         "mode": "lines",
         "name": "61",
         "text": "",
         "type": "scatter",
         "uid": "157daa7e-b996-4e9b-836a-7381686510bc",
         "x": [
          "Neighborhood",
          "2006-2010",
          "2007-2011",
          "2008-2012",
          "2009-2013",
          "2010-2014",
          "Gender"
         ],
         "y": [
          "el Congrés i els Indians",
          89.9,
          87.5,
          87.8,
          87.7,
          88.9,
          "Female"
         ]
        },
        {
         "line": {
          "color": "rgba(255, 255, 51, 0.6712328767123288)",
          "dash": "solid",
          "shape": "linear",
          "width": 1.3
         },
         "mode": "lines",
         "name": "62",
         "text": "",
         "type": "scatter",
         "uid": "66abec39-6948-4695-9d79-2ff26a29aee6",
         "x": [
          "Neighborhood",
          "2006-2010",
          "2007-2011",
          "2008-2012",
          "2009-2013",
          "2010-2014",
          "Gender"
         ],
         "y": [
          "Navas",
          89.8,
          87.4,
          87.6,
          86,
          89.6,
          "Female"
         ]
        },
        {
         "line": {
          "color": "rgba(128, 128, 0, 0.6712328767123288)",
          "dash": "solid",
          "shape": "linear",
          "width": 1.3
         },
         "mode": "lines",
         "name": "63",
         "text": "",
         "type": "scatter",
         "uid": "e15b81b3-5164-4f70-af98-eb436916ee65",
         "x": [
          "Neighborhood",
          "2006-2010",
          "2007-2011",
          "2008-2012",
          "2009-2013",
          "2010-2014",
          "Gender"
         ],
         "y": [
          "el Camp de l'Arpa del Clot",
          89.1,
          86.6,
          87.2,
          88.3,
          87.5,
          "Female"
         ]
        },
        {
         "line": {
          "color": "rgba(251, 128, 114, 0.6712328767123288)",
          "dash": "solid",
          "shape": "linear",
          "width": 1.3
         },
         "mode": "lines",
         "name": "64",
         "text": "",
         "type": "scatter",
         "uid": "19a0d8f6-05be-45b6-94cc-19aecacf0ad3",
         "x": [
          "Neighborhood",
          "2006-2010",
          "2007-2011",
          "2008-2012",
          "2009-2013",
          "2010-2014",
          "Gender"
         ],
         "y": [
          "el Clot",
          88.7,
          86.7,
          87.2,
          86.9,
          88.6,
          "Female"
         ]
        },
        {
         "line": {
          "color": "rgba(128, 177, 211, 0.6712328767123288)",
          "dash": "solid",
          "shape": "linear",
          "width": 1.3
         },
         "mode": "lines",
         "name": "65",
         "text": "",
         "type": "scatter",
         "uid": "48266f84-2565-4599-9abd-0ede17571c21",
         "x": [
          "Neighborhood",
          "2006-2010",
          "2007-2011",
          "2008-2012",
          "2009-2013",
          "2010-2014",
          "Gender"
         ],
         "y": [
          "el Parc i la Llacuna del Poblenou",
          88.1,
          85.4,
          85.6,
          87.9,
          85.6,
          "Female"
         ]
        },
        {
         "line": {
          "color": "rgba(255, 153, 51, 0.6712328767123288)",
          "dash": "solid",
          "shape": "linear",
          "width": 1.3
         },
         "mode": "lines",
         "name": "66",
         "text": "",
         "type": "scatter",
         "uid": "4ded015f-e449-4943-b9bc-474af56928e3",
         "x": [
          "Neighborhood",
          "2006-2010",
          "2007-2011",
          "2008-2012",
          "2009-2013",
          "2010-2014",
          "Gender"
         ],
         "y": [
          "la Vila Olímpica del Poblenou",
          90.4,
          87,
          88,
          85.1,
          87.5,
          "Female"
         ]
        },
        {
         "line": {
          "color": "rgba(55, 128, 191, 0.6712328767123288)",
          "dash": "solid",
          "shape": "linear",
          "width": 1.3
         },
         "mode": "lines",
         "name": "67",
         "text": "",
         "type": "scatter",
         "uid": "7ef6e5ae-d741-4507-9da2-e148a88603fb",
         "x": [
          "Neighborhood",
          "2006-2010",
          "2007-2011",
          "2008-2012",
          "2009-2013",
          "2010-2014",
          "Gender"
         ],
         "y": [
          "el Poblenou",
          88.1,
          85.7,
          86.1,
          85.8,
          87.1,
          "Female"
         ]
        },
        {
         "line": {
          "color": "rgba(50, 171, 96, 0.6712328767123288)",
          "dash": "solid",
          "shape": "linear",
          "width": 1.3
         },
         "mode": "lines",
         "name": "68",
         "text": "",
         "type": "scatter",
         "uid": "ddc68020-beeb-4214-b14d-91843158c6aa",
         "x": [
          "Neighborhood",
          "2006-2010",
          "2007-2011",
          "2008-2012",
          "2009-2013",
          "2010-2014",
          "Gender"
         ],
         "y": [
          "Diagonal Mar i el Front Marítim del Poblenou",
          88.1,
          87.3,
          87.4,
          87.3,
          88.1,
          "Female"
         ]
        },
        {
         "line": {
          "color": "rgba(128, 0, 128, 0.6712328767123288)",
          "dash": "solid",
          "shape": "linear",
          "width": 1.3
         },
         "mode": "lines",
         "name": "69",
         "text": "",
         "type": "scatter",
         "uid": "4e20cc48-8be8-46df-b0e6-903274f075c1",
         "x": [
          "Neighborhood",
          "2006-2010",
          "2007-2011",
          "2008-2012",
          "2009-2013",
          "2010-2014",
          "Gender"
         ],
         "y": [
          "el Besòs i el Maresme",
          86.8,
          85,
          85.5,
          86.6,
          86.4,
          "Female"
         ]
        },
        {
         "line": {
          "color": "rgba(128, 0, 128, 0.6164383561643836)",
          "dash": "solid",
          "shape": "linear",
          "width": 1.3
         },
         "mode": "lines",
         "name": "70",
         "text": "",
         "type": "scatter",
         "uid": "8b7ae385-ddbe-497c-bc1f-c41dd48cce75",
         "x": [
          "Neighborhood",
          "2006-2010",
          "2007-2011",
          "2008-2012",
          "2009-2013",
          "2010-2014",
          "Gender"
         ],
         "y": [
          "Provençals del Poblenou",
          88.4,
          86.7,
          86.5,
          86.3,
          88.4,
          "Female"
         ]
        },
        {
         "line": {
          "color": "rgba(219, 64, 82, 0.6164383561643836)",
          "dash": "solid",
          "shape": "linear",
          "width": 1.3
         },
         "mode": "lines",
         "name": "71",
         "text": "",
         "type": "scatter",
         "uid": "64f98171-cb52-40bd-8526-d025f10bbece",
         "x": [
          "Neighborhood",
          "2006-2010",
          "2007-2011",
          "2008-2012",
          "2009-2013",
          "2010-2014",
          "Gender"
         ],
         "y": [
          "Sant Martí de Provençals",
          88.8,
          86.1,
          86.2,
          86.4,
          87.2,
          "Female"
         ]
        },
        {
         "line": {
          "color": "rgba(0, 128, 128, 0.6164383561643836)",
          "dash": "solid",
          "shape": "linear",
          "width": 1.3
         },
         "mode": "lines",
         "name": "72",
         "text": "",
         "type": "scatter",
         "uid": "bb87ae2c-d377-4aef-b7ca-12396797efb4",
         "x": [
          "Neighborhood",
          "2006-2010",
          "2007-2011",
          "2008-2012",
          "2009-2013",
          "2010-2014",
          "Gender"
         ],
         "y": [
          " la Verneda i la Pau",
          87.9,
          85.8,
          85.7,
          88.1,
          87,
          "Female"
         ]
        },
        {
         "line": {
          "color": "rgba(255, 255, 51, 0.6164383561643836)",
          "dash": "solid",
          "shape": "linear",
          "width": 1.3
         },
         "mode": "lines",
         "name": "73",
         "text": "",
         "type": "scatter",
         "uid": "7835d018-d311-4080-8164-efaa0b78617e",
         "x": [
          "Neighborhood",
          "2006-2010",
          "2007-2011",
          "2008-2012",
          "2009-2013",
          "2010-2014",
          "Gender"
         ],
         "y": [
          "el Raval",
          77.9,
          75.1,
          75.7,
          76.2,
          76.5,
          "Male"
         ]
        },
        {
         "line": {
          "color": "rgba(128, 128, 0, 0.6164383561643836)",
          "dash": "solid",
          "shape": "linear",
          "width": 1.3
         },
         "mode": "lines",
         "name": "74",
         "text": "",
         "type": "scatter",
         "uid": "8eda9e4f-e027-4f7f-9cd5-cd52b73efead",
         "x": [
          "Neighborhood",
          "2006-2010",
          "2007-2011",
          "2008-2012",
          "2009-2013",
          "2010-2014",
          "Gender"
         ],
         "y": [
          "el Barri Gòtic",
          81.3,
          78.6,
          78.9,
          79.5,
          78.7,
          "Male"
         ]
        },
        {
         "line": {
          "color": "rgba(251, 128, 114, 0.6164383561643836)",
          "dash": "solid",
          "shape": "linear",
          "width": 1.3
         },
         "mode": "lines",
         "name": "75",
         "text": "",
         "type": "scatter",
         "uid": "e6b73ad9-d533-4059-8257-c32d778836fd",
         "x": [
          "Neighborhood",
          "2006-2010",
          "2007-2011",
          "2008-2012",
          "2009-2013",
          "2010-2014",
          "Gender"
         ],
         "y": [
          "la Barceloneta",
          78.3,
          75,
          75.8,
          78.6,
          75.9,
          "Male"
         ]
        },
        {
         "line": {
          "color": "rgba(128, 177, 211, 0.6164383561643836)",
          "dash": "solid",
          "shape": "linear",
          "width": 1.3
         },
         "mode": "lines",
         "name": "76",
         "text": "",
         "type": "scatter",
         "uid": "cab61da8-563a-4a00-9881-c789957c6eb0",
         "x": [
          "Neighborhood",
          "2006-2010",
          "2007-2011",
          "2008-2012",
          "2009-2013",
          "2010-2014",
          "Gender"
         ],
         "y": [
          "Sant Pere, Santa Caterina i la Ribera",
          80.9,
          78,
          77.7,
          78.8,
          78.3,
          "Male"
         ]
        },
        {
         "line": {
          "color": "rgba(255, 153, 51, 0.6164383561643836)",
          "dash": "solid",
          "shape": "linear",
          "width": 1.3
         },
         "mode": "lines",
         "name": "77",
         "text": "",
         "type": "scatter",
         "uid": "32607283-f842-4c0f-b6f9-37711687bfb8",
         "x": [
          "Neighborhood",
          "2006-2010",
          "2007-2011",
          "2008-2012",
          "2009-2013",
          "2010-2014",
          "Gender"
         ],
         "y": [
          "el Fort Pienc",
          83,
          80.7,
          80.9,
          80.2,
          81.4,
          "Male"
         ]
        },
        {
         "line": {
          "color": "rgba(55, 128, 191, 0.6164383561643836)",
          "dash": "solid",
          "shape": "linear",
          "width": 1.3
         },
         "mode": "lines",
         "name": "78",
         "text": "",
         "type": "scatter",
         "uid": "29ff1526-e124-4134-b529-0787ed17c34b",
         "x": [
          "Neighborhood",
          "2006-2010",
          "2007-2011",
          "2008-2012",
          "2009-2013",
          "2010-2014",
          "Gender"
         ],
         "y": [
          "la Sagrada Família",
          83.2,
          80.6,
          81,
          79.2,
          81.3,
          "Male"
         ]
        },
        {
         "line": {
          "color": "rgba(50, 171, 96, 0.6164383561643836)",
          "dash": "solid",
          "shape": "linear",
          "width": 1.3
         },
         "mode": "lines",
         "name": "79",
         "text": "",
         "type": "scatter",
         "uid": "e18d3414-8742-4f36-94bb-940898ef422f",
         "x": [
          "Neighborhood",
          "2006-2010",
          "2007-2011",
          "2008-2012",
          "2009-2013",
          "2010-2014",
          "Gender"
         ],
         "y": [
          "la Dreta de l'Eixample",
          81.2,
          78.9,
          79.3,
          79.1,
          80.1,
          "Male"
         ]
        },
        {
         "line": {
          "color": "rgba(50, 171, 96, 0.5616438356164384)",
          "dash": "solid",
          "shape": "linear",
          "width": 1.3
         },
         "mode": "lines",
         "name": "80",
         "text": "",
         "type": "scatter",
         "uid": "fc60dd60-2258-46d0-91b9-5b29251a18de",
         "x": [
          "Neighborhood",
          "2006-2010",
          "2007-2011",
          "2008-2012",
          "2009-2013",
          "2010-2014",
          "Gender"
         ],
         "y": [
          "l'Antiga Esquerra de l'Eixample",
          82.3,
          79.8,
          80.3,
          80.3,
          80.8,
          "Male"
         ]
        },
        {
         "line": {
          "color": "rgba(128, 0, 128, 0.5616438356164384)",
          "dash": "solid",
          "shape": "linear",
          "width": 1.3
         },
         "mode": "lines",
         "name": "81",
         "text": "",
         "type": "scatter",
         "uid": "1260a4b6-2ef9-4aff-b7a5-3f5f683fb4ba",
         "x": [
          "Neighborhood",
          "2006-2010",
          "2007-2011",
          "2008-2012",
          "2009-2013",
          "2010-2014",
          "Gender"
         ],
         "y": [
          "la Nova Esquerra de l'Eixample",
          82.1,
          79.9,
          80,
          81.4,
          81,
          "Male"
         ]
        },
        {
         "line": {
          "color": "rgba(219, 64, 82, 0.5616438356164384)",
          "dash": "solid",
          "shape": "linear",
          "width": 1.3
         },
         "mode": "lines",
         "name": "82",
         "text": "",
         "type": "scatter",
         "uid": "d496682d-9a45-4f1d-9aa3-a773e8d2f0a4",
         "x": [
          "Neighborhood",
          "2006-2010",
          "2007-2011",
          "2008-2012",
          "2009-2013",
          "2010-2014",
          "Gender"
         ],
         "y": [
          "Sant Antoni",
          81.7,
          79.3,
          79.4,
          80.9,
          79.8,
          "Male"
         ]
        },
        {
         "line": {
          "color": "rgba(0, 128, 128, 0.5616438356164384)",
          "dash": "solid",
          "shape": "linear",
          "width": 1.3
         },
         "mode": "lines",
         "name": "83",
         "text": "",
         "type": "scatter",
         "uid": "d0876872-4ef5-4cbb-9de1-1971edff91db",
         "x": [
          "Neighborhood",
          "2006-2010",
          "2007-2011",
          "2008-2012",
          "2009-2013",
          "2010-2014",
          "Gender"
         ],
         "y": [
          "el Poble Sec - Parc Montjuïc",
          80.6,
          78.2,
          78.7,
          82,
          78.8,
          "Male"
         ]
        },
        {
         "line": {
          "color": "rgba(255, 255, 51, 0.5616438356164384)",
          "dash": "solid",
          "shape": "linear",
          "width": 1.3
         },
         "mode": "lines",
         "name": "84",
         "text": "",
         "type": "scatter",
         "uid": "02ab7049-cd73-434a-9501-7724dce75a22",
         "x": [
          "Neighborhood",
          "2006-2010",
          "2007-2011",
          "2008-2012",
          "2009-2013",
          "2010-2014",
          "Gender"
         ],
         "y": [
          "la Marina del Prat Vermell - Zona Franca",
          "",
          "",
          "",
          "",
          "",
          "Male"
         ]
        },
        {
         "line": {
          "color": "rgba(128, 128, 0, 0.5616438356164384)",
          "dash": "solid",
          "shape": "linear",
          "width": 1.3
         },
         "mode": "lines",
         "name": "85",
         "text": "",
         "type": "scatter",
         "uid": "d5a04e67-ba8a-49a0-8b2e-e6d25c651146",
         "x": [
          "Neighborhood",
          "2006-2010",
          "2007-2011",
          "2008-2012",
          "2009-2013",
          "2010-2014",
          "Gender"
         ],
         "y": [
          "la Marina de Port",
          83.1,
          80.3,
          79.9,
          83,
          80,
          "Male"
         ]
        },
        {
         "line": {
          "color": "rgba(251, 128, 114, 0.5616438356164384)",
          "dash": "solid",
          "shape": "linear",
          "width": 1.3
         },
         "mode": "lines",
         "name": "86",
         "text": "",
         "type": "scatter",
         "uid": "cfdfa32e-279c-45db-9854-3130d350e319",
         "x": [
          "Neighborhood",
          "2006-2010",
          "2007-2011",
          "2008-2012",
          "2009-2013",
          "2010-2014",
          "Gender"
         ],
         "y": [
          "la Font de la Guatlla",
          81.5,
          77.9,
          78.1,
          84.2,
          78.8,
          "Male"
         ]
        },
        {
         "line": {
          "color": "rgba(128, 177, 211, 0.5616438356164384)",
          "dash": "solid",
          "shape": "linear",
          "width": 1.3
         },
         "mode": "lines",
         "name": "87",
         "text": "",
         "type": "scatter",
         "uid": "bb7a7087-18d5-4e17-adf2-e47bf152c8f4",
         "x": [
          "Neighborhood",
          "2006-2010",
          "2007-2011",
          "2008-2012",
          "2009-2013",
          "2010-2014",
          "Gender"
         ],
         "y": [
          "Hostafrancs",
          81.2,
          78.9,
          78.7,
          78.2,
          79.8,
          "Male"
         ]
        },
        {
         "line": {
          "color": "rgba(255, 153, 51, 0.5616438356164384)",
          "dash": "solid",
          "shape": "linear",
          "width": 1.3
         },
         "mode": "lines",
         "name": "88",
         "text": "",
         "type": "scatter",
         "uid": "ac115c44-e560-4778-8899-04df5eaa006c",
         "x": [
          "Neighborhood",
          "2006-2010",
          "2007-2011",
          "2008-2012",
          "2009-2013",
          "2010-2014",
          "Gender"
         ],
         "y": [
          "la Bordeta",
          83.9,
          80.9,
          80.4,
          81.8,
          80.9,
          "Male"
         ]
        },
        {
         "line": {
          "color": "rgba(55, 128, 191, 0.5616438356164384)",
          "dash": "solid",
          "shape": "linear",
          "width": 1.3
         },
         "mode": "lines",
         "name": "89",
         "text": "",
         "type": "scatter",
         "uid": "cba44649-0f2a-44af-a65d-7b83fac81730",
         "x": [
          "Neighborhood",
          "2006-2010",
          "2007-2011",
          "2008-2012",
          "2009-2013",
          "2010-2014",
          "Gender"
         ],
         "y": [
          "Sants - Badal",
          83.5,
          81.2,
          81.2,
          83.5,
          82,
          "Male"
         ]
        },
        {
         "line": {
          "color": "rgba(55, 128, 191, 0.5068493150684932)",
          "dash": "solid",
          "shape": "linear",
          "width": 1.3
         },
         "mode": "lines",
         "name": "90",
         "text": "",
         "type": "scatter",
         "uid": "e98883f0-badd-4e3c-9185-12f0286b4686",
         "x": [
          "Neighborhood",
          "2006-2010",
          "2007-2011",
          "2008-2012",
          "2009-2013",
          "2010-2014",
          "Gender"
         ],
         "y": [
          "Sants",
          81.7,
          79.5,
          80.2,
          82.4,
          81.6,
          "Male"
         ]
        },
        {
         "line": {
          "color": "rgba(50, 171, 96, 0.5068493150684932)",
          "dash": "solid",
          "shape": "linear",
          "width": 1.3
         },
         "mode": "lines",
         "name": "91",
         "text": "",
         "type": "scatter",
         "uid": "889ed31d-6e77-49bb-a87b-bfe57691fe8f",
         "x": [
          "Neighborhood",
          "2006-2010",
          "2007-2011",
          "2008-2012",
          "2009-2013",
          "2010-2014",
          "Gender"
         ],
         "y": [
          "les Corts",
          83,
          81.1,
          81.4,
          81.8,
          82.4,
          "Male"
         ]
        },
        {
         "line": {
          "color": "rgba(128, 0, 128, 0.5068493150684932)",
          "dash": "solid",
          "shape": "linear",
          "width": 1.3
         },
         "mode": "lines",
         "name": "92",
         "text": "",
         "type": "scatter",
         "uid": "668d9189-bd8a-49ec-9e65-5f24f5389a8b",
         "x": [
          "Neighborhood",
          "2006-2010",
          "2007-2011",
          "2008-2012",
          "2009-2013",
          "2010-2014",
          "Gender"
         ],
         "y": [
          "la Maternitat i Sant Ramon",
          83.9,
          82,
          82.1,
          82.1,
          83.5,
          "Male"
         ]
        },
        {
         "line": {
          "color": "rgba(219, 64, 82, 0.5068493150684932)",
          "dash": "solid",
          "shape": "linear",
          "width": 1.3
         },
         "mode": "lines",
         "name": "93",
         "text": "",
         "type": "scatter",
         "uid": "1be2d348-f68f-44f8-a320-89c2cf21c6fd",
         "x": [
          "Neighborhood",
          "2006-2010",
          "2007-2011",
          "2008-2012",
          "2009-2013",
          "2010-2014",
          "Gender"
         ],
         "y": [
          "Pedralbes",
          84.7,
          82.7,
          83.3,
          80.7,
          83.6,
          "Male"
         ]
        },
        {
         "line": {
          "color": "rgba(0, 128, 128, 0.5068493150684932)",
          "dash": "solid",
          "shape": "linear",
          "width": 1.3
         },
         "mode": "lines",
         "name": "94",
         "text": "",
         "type": "scatter",
         "uid": "f8f96cf2-5d83-44a2-bb7e-6984213b6210",
         "x": [
          "Neighborhood",
          "2006-2010",
          "2007-2011",
          "2008-2012",
          "2009-2013",
          "2010-2014",
          "Gender"
         ],
         "y": [
          "Vallvidrera, el Tibidabo i les Planes",
          78.9,
          77.6,
          77.8,
          81,
          79,
          "Male"
         ]
        },
        {
         "line": {
          "color": "rgba(255, 255, 51, 0.5068493150684932)",
          "dash": "solid",
          "shape": "linear",
          "width": 1.3
         },
         "mode": "lines",
         "name": "95",
         "text": "",
         "type": "scatter",
         "uid": "e694d7c7-83b9-49fc-b95d-9c80097bf8c1",
         "x": [
          "Neighborhood",
          "2006-2010",
          "2007-2011",
          "2008-2012",
          "2009-2013",
          "2010-2014",
          "Gender"
         ],
         "y": [
          "Sarrià",
          83.7,
          81.1,
          81.2,
          76,
          81.7,
          "Male"
         ]
        },
        {
         "line": {
          "color": "rgba(128, 128, 0, 0.5068493150684932)",
          "dash": "solid",
          "shape": "linear",
          "width": 1.3
         },
         "mode": "lines",
         "name": "96",
         "text": "",
         "type": "scatter",
         "uid": "99fef5e6-3a38-4a4a-bcfb-280b77848975",
         "x": [
          "Neighborhood",
          "2006-2010",
          "2007-2011",
          "2008-2012",
          "2009-2013",
          "2010-2014",
          "Gender"
         ],
         "y": [
          "les Tres Torres",
          84.7,
          83,
          83.2,
          78,
          83.9,
          "Male"
         ]
        },
        {
         "line": {
          "color": "rgba(251, 128, 114, 0.5068493150684932)",
          "dash": "solid",
          "shape": "linear",
          "width": 1.3
         },
         "mode": "lines",
         "name": "97",
         "text": "",
         "type": "scatter",
         "uid": "1e1d2fe3-9a55-4b71-9074-36d144234d57",
         "x": [
          "Neighborhood",
          "2006-2010",
          "2007-2011",
          "2008-2012",
          "2009-2013",
          "2010-2014",
          "Gender"
         ],
         "y": [
          "Sant Gervasi - la Bonanova",
          83.5,
          81.7,
          81.8,
          79.6,
          82.5,
          "Male"
         ]
        },
        {
         "line": {
          "color": "rgba(128, 177, 211, 0.5068493150684932)",
          "dash": "solid",
          "shape": "linear",
          "width": 1.3
         },
         "mode": "lines",
         "name": "98",
         "text": "",
         "type": "scatter",
         "uid": "ce8e29b6-d0b1-44bc-87af-5b67687e5fc5",
         "x": [
          "Neighborhood",
          "2006-2010",
          "2007-2011",
          "2008-2012",
          "2009-2013",
          "2010-2014",
          "Gender"
         ],
         "y": [
          "Sant Gervasi - Galvany",
          83.6,
          81.2,
          81.3,
          81.3,
          81.9,
          "Male"
         ]
        },
        {
         "line": {
          "color": "rgba(255, 153, 51, 0.5068493150684932)",
          "dash": "solid",
          "shape": "linear",
          "width": 1.3
         },
         "mode": "lines",
         "name": "99",
         "text": "",
         "type": "scatter",
         "uid": "171836b1-8648-4b14-b16c-1743badad988",
         "x": [
          "Neighborhood",
          "2006-2010",
          "2007-2011",
          "2008-2012",
          "2009-2013",
          "2010-2014",
          "Gender"
         ],
         "y": [
          "el Putxet i el Farró",
          83.7,
          81.3,
          81.7,
          81.2,
          82.5,
          "Male"
         ]
        },
        {
         "line": {
          "color": "rgba(255, 153, 51, 0.45205479452054803)",
          "dash": "solid",
          "shape": "linear",
          "width": 1.3
         },
         "mode": "lines",
         "name": "100",
         "text": "",
         "type": "scatter",
         "uid": "2b72f02e-4eca-4766-a5e6-9fdc5b43659e",
         "x": [
          "Neighborhood",
          "2006-2010",
          "2007-2011",
          "2008-2012",
          "2009-2013",
          "2010-2014",
          "Gender"
         ],
         "y": [
          "Vallcarca i els Penitents",
          82.6,
          80.2,
          80.6,
          80.9,
          80.9,
          "Male"
         ]
        },
        {
         "line": {
          "color": "rgba(55, 128, 191, 0.45205479452054803)",
          "dash": "solid",
          "shape": "linear",
          "width": 1.3
         },
         "mode": "lines",
         "name": "101",
         "text": "",
         "type": "scatter",
         "uid": "438b1fcf-cac3-4772-a705-906984d163d3",
         "x": [
          "Neighborhood",
          "2006-2010",
          "2007-2011",
          "2008-2012",
          "2009-2013",
          "2010-2014",
          "Gender"
         ],
         "y": [
          "el Coll",
          81.4,
          79.6,
          80.7,
          80.1,
          81.4,
          "Male"
         ]
        },
        {
         "line": {
          "color": "rgba(50, 171, 96, 0.45205479452054803)",
          "dash": "solid",
          "shape": "linear",
          "width": 1.3
         },
         "mode": "lines",
         "name": "102",
         "text": "",
         "type": "scatter",
         "uid": "dd6499fd-5f52-4acb-87e0-c2dd81c244e1",
         "x": [
          "Neighborhood",
          "2006-2010",
          "2007-2011",
          "2008-2012",
          "2009-2013",
          "2010-2014",
          "Gender"
         ],
         "y": [
          "la Salut",
          79.6,
          77.6,
          78.6,
          80.1,
          78.9,
          "Male"
         ]
        },
        {
         "line": {
          "color": "rgba(128, 0, 128, 0.45205479452054803)",
          "dash": "solid",
          "shape": "linear",
          "width": 1.3
         },
         "mode": "lines",
         "name": "103",
         "text": "",
         "type": "scatter",
         "uid": "9f1d5c2f-116f-40e8-8c70-bc4de4416cdc",
         "x": [
          "Neighborhood",
          "2006-2010",
          "2007-2011",
          "2008-2012",
          "2009-2013",
          "2010-2014",
          "Gender"
         ],
         "y": [
          "la Vila de Gràcia",
          81.8,
          79,
          79.1,
          79.4,
          79.9,
          "Male"
         ]
        },
        {
         "line": {
          "color": "rgba(219, 64, 82, 0.45205479452054803)",
          "dash": "solid",
          "shape": "linear",
          "width": 1.3
         },
         "mode": "lines",
         "name": "104",
         "text": "",
         "type": "scatter",
         "uid": "8f61e634-2326-4a0d-a2e1-518e24c9727c",
         "x": [
          "Neighborhood",
          "2006-2010",
          "2007-2011",
          "2008-2012",
          "2009-2013",
          "2010-2014",
          "Gender"
         ],
         "y": [
          "el Camp d'en Grassot i Gràcia Nova",
          82.7,
          80.6,
          81,
          80,
          81.4,
          "Male"
         ]
        },
        {
         "line": {
          "color": "rgba(0, 128, 128, 0.45205479452054803)",
          "dash": "solid",
          "shape": "linear",
          "width": 1.3
         },
         "mode": "lines",
         "name": "105",
         "text": "",
         "type": "scatter",
         "uid": "fb706afc-9d5d-43ba-88cc-747c04adf240",
         "x": [
          "Neighborhood",
          "2006-2010",
          "2007-2011",
          "2008-2012",
          "2009-2013",
          "2010-2014",
          "Gender"
         ],
         "y": [
          "el Baix Guinardó",
          83.9,
          81.2,
          81.1,
          81,
          81,
          "Male"
         ]
        },
        {
         "line": {
          "color": "rgba(255, 255, 51, 0.45205479452054803)",
          "dash": "solid",
          "shape": "linear",
          "width": 1.3
         },
         "mode": "lines",
         "name": "106",
         "text": "",
         "type": "scatter",
         "uid": "0d3dc52c-9048-4b12-8d4c-298a6c8e05c8",
         "x": [
          "Neighborhood",
          "2006-2010",
          "2007-2011",
          "2008-2012",
          "2009-2013",
          "2010-2014",
          "Gender"
         ],
         "y": [
          "Can Baró",
          81.5,
          78.9,
          80.3,
          78.8,
          81.1,
          "Male"
         ]
        },
        {
         "line": {
          "color": "rgba(128, 128, 0, 0.45205479452054803)",
          "dash": "solid",
          "shape": "linear",
          "width": 1.3
         },
         "mode": "lines",
         "name": "107",
         "text": "",
         "type": "scatter",
         "uid": "6f5d89db-7074-4ae7-a930-1907caf00275",
         "x": [
          "Neighborhood",
          "2006-2010",
          "2007-2011",
          "2008-2012",
          "2009-2013",
          "2010-2014",
          "Gender"
         ],
         "y": [
          "el Guinardó",
          81.7,
          79.7,
          80.1,
          77.4,
          80.2,
          "Male"
         ]
        },
        {
         "line": {
          "color": "rgba(251, 128, 114, 0.45205479452054803)",
          "dash": "solid",
          "shape": "linear",
          "width": 1.3
         },
         "mode": "lines",
         "name": "108",
         "text": "",
         "type": "scatter",
         "uid": "13e6eff1-526f-4620-a2ee-f3f132a8ef60",
         "x": [
          "Neighborhood",
          "2006-2010",
          "2007-2011",
          "2008-2012",
          "2009-2013",
          "2010-2014",
          "Gender"
         ],
         "y": [
          "la Font d'en Fargues",
          81.6,
          79.7,
          79.8,
          80.5,
          80.8,
          "Male"
         ]
        },
        {
         "line": {
          "color": "rgba(128, 177, 211, 0.45205479452054803)",
          "dash": "solid",
          "shape": "linear",
          "width": 1.3
         },
         "mode": "lines",
         "name": "109",
         "text": "",
         "type": "scatter",
         "uid": "30172f42-af32-497f-adda-1b29a5e93b24",
         "x": [
          "Neighborhood",
          "2006-2010",
          "2007-2011",
          "2008-2012",
          "2009-2013",
          "2010-2014",
          "Gender"
         ],
         "y": [
          "el Carmel",
          80.7,
          78.7,
          79,
          77.8,
          79.4,
          "Male"
         ]
        },
        {
         "line": {
          "color": "rgba(128, 177, 211, 0.39726027397260283)",
          "dash": "solid",
          "shape": "linear",
          "width": 1.3
         },
         "mode": "lines",
         "name": "110",
         "text": "",
         "type": "scatter",
         "uid": "d49aa0ae-c523-4ff2-b41d-0281d39dede1",
         "x": [
          "Neighborhood",
          "2006-2010",
          "2007-2011",
          "2008-2012",
          "2009-2013",
          "2010-2014",
          "Gender"
         ],
         "y": [
          "la Teixonera",
          82.3,
          79.6,
          79.8,
          79.6,
          80.4,
          "Male"
         ]
        },
        {
         "line": {
          "color": "rgba(255, 153, 51, 0.39726027397260283)",
          "dash": "solid",
          "shape": "linear",
          "width": 1.3
         },
         "mode": "lines",
         "name": "111",
         "text": "",
         "type": "scatter",
         "uid": "2a8c9f51-5dc2-4241-bf1c-19616521c268",
         "x": [
          "Neighborhood",
          "2006-2010",
          "2007-2011",
          "2008-2012",
          "2009-2013",
          "2010-2014",
          "Gender"
         ],
         "y": [
          "Sant Genís dels Agudells",
          81.8,
          80,
          81.3,
          79.6,
          81.5,
          "Male"
         ]
        },
        {
         "line": {
          "color": "rgba(55, 128, 191, 0.39726027397260283)",
          "dash": "solid",
          "shape": "linear",
          "width": 1.3
         },
         "mode": "lines",
         "name": "112",
         "text": "",
         "type": "scatter",
         "uid": "01423ca7-166a-4f61-91be-b21b9091b28c",
         "x": [
          "Neighborhood",
          "2006-2010",
          "2007-2011",
          "2008-2012",
          "2009-2013",
          "2010-2014",
          "Gender"
         ],
         "y": [
          "Montbau",
          77.1,
          74.9,
          75.9,
          80.4,
          77.5,
          "Male"
         ]
        },
        {
         "line": {
          "color": "rgba(50, 171, 96, 0.39726027397260283)",
          "dash": "solid",
          "shape": "linear",
          "width": 1.3
         },
         "mode": "lines",
         "name": "113",
         "text": "",
         "type": "scatter",
         "uid": "c703687c-c3fd-4bb3-8b8c-508dcb575ff2",
         "x": [
          "Neighborhood",
          "2006-2010",
          "2007-2011",
          "2008-2012",
          "2009-2013",
          "2010-2014",
          "Gender"
         ],
         "y": [
          "la Vall d'Hebron",
          83.6,
          80.7,
          80.4,
          81,
          80,
          "Male"
         ]
        },
        {
         "line": {
          "color": "rgba(128, 0, 128, 0.39726027397260283)",
          "dash": "solid",
          "shape": "linear",
          "width": 1.3
         },
         "mode": "lines",
         "name": "114",
         "text": "",
         "type": "scatter",
         "uid": "ba13bef9-02fc-443e-ba32-cb4a52c74f77",
         "x": [
          "Neighborhood",
          "2006-2010",
          "2007-2011",
          "2008-2012",
          "2009-2013",
          "2010-2014",
          "Gender"
         ],
         "y": [
          "la Clota",
          "",
          "",
          "",
          "",
          "",
          "Male"
         ]
        },
        {
         "line": {
          "color": "rgba(219, 64, 82, 0.39726027397260283)",
          "dash": "solid",
          "shape": "linear",
          "width": 1.3
         },
         "mode": "lines",
         "name": "115",
         "text": "",
         "type": "scatter",
         "uid": "5254577a-72d3-45a3-8949-7410e1d83c7a",
         "x": [
          "Neighborhood",
          "2006-2010",
          "2007-2011",
          "2008-2012",
          "2009-2013",
          "2010-2014",
          "Gender"
         ],
         "y": [
          "Horta",
          81.4,
          78.8,
          79.4,
          79.7,
          80.7,
          "Male"
         ]
        },
        {
         "line": {
          "color": "rgba(0, 128, 128, 0.39726027397260283)",
          "dash": "solid",
          "shape": "linear",
          "width": 1.3
         },
         "mode": "lines",
         "name": "116",
         "text": "",
         "type": "scatter",
         "uid": "a6719f96-a32d-4983-b12e-1d0241df12a8",
         "x": [
          "Neighborhood",
          "2006-2010",
          "2007-2011",
          "2008-2012",
          "2009-2013",
          "2010-2014",
          "Gender"
         ],
         "y": [
          "Vilapicina i la Torre Llobeta",
          81.8,
          79.1,
          79.7,
          79.8,
          79.8,
          "Male"
         ]
        },
        {
         "line": {
          "color": "rgba(255, 255, 51, 0.39726027397260283)",
          "dash": "solid",
          "shape": "linear",
          "width": 1.3
         },
         "mode": "lines",
         "name": "117",
         "text": "",
         "type": "scatter",
         "uid": "da42d693-6e83-426a-9048-f81dbda8621f",
         "x": [
          "Neighborhood",
          "2006-2010",
          "2007-2011",
          "2008-2012",
          "2009-2013",
          "2010-2014",
          "Gender"
         ],
         "y": [
          "Porta",
          81.7,
          79.8,
          79.9,
          81.1,
          81,
          "Male"
         ]
        },
        {
         "line": {
          "color": "rgba(128, 128, 0, 0.39726027397260283)",
          "dash": "solid",
          "shape": "linear",
          "width": 1.3
         },
         "mode": "lines",
         "name": "118",
         "text": "",
         "type": "scatter",
         "uid": "a0adccc6-7e6e-451b-a669-7aa22da6a352",
         "x": [
          "Neighborhood",
          "2006-2010",
          "2007-2011",
          "2008-2012",
          "2009-2013",
          "2010-2014",
          "Gender"
         ],
         "y": [
          "el Turó de la Peira",
          80.9,
          79,
          80,
          77,
          81.3,
          "Male"
         ]
        },
        {
         "line": {
          "color": "rgba(251, 128, 114, 0.39726027397260283)",
          "dash": "solid",
          "shape": "linear",
          "width": 1.3
         },
         "mode": "lines",
         "name": "119",
         "text": "",
         "type": "scatter",
         "uid": "8ed348d3-7ca6-492c-bca4-fbcf3d024e96",
         "x": [
          "Neighborhood",
          "2006-2010",
          "2007-2011",
          "2008-2012",
          "2009-2013",
          "2010-2014",
          "Gender"
         ],
         "y": [
          "Can Peguera",
          74.7,
          72.3,
          71.8,
          77.9,
          75,
          "Male"
         ]
        },
        {
         "line": {
          "color": "rgba(251, 128, 114, 0.3424657534246576)",
          "dash": "solid",
          "shape": "linear",
          "width": 1.3
         },
         "mode": "lines",
         "name": "120",
         "text": "",
         "type": "scatter",
         "uid": "26df9bbd-b94f-4669-af21-07f90d3979ba",
         "x": [
          "Neighborhood",
          "2006-2010",
          "2007-2011",
          "2008-2012",
          "2009-2013",
          "2010-2014",
          "Gender"
         ],
         "y": [
          "la Guineueta",
          80.9,
          78.6,
          78.8,
          80.1,
          81,
          "Male"
         ]
        },
        {
         "line": {
          "color": "rgba(128, 177, 211, 0.3424657534246576)",
          "dash": "solid",
          "shape": "linear",
          "width": 1.3
         },
         "mode": "lines",
         "name": "121",
         "text": "",
         "type": "scatter",
         "uid": "42c8384b-432b-4ae5-8059-8275cdcbc2ab",
         "x": [
          "Neighborhood",
          "2006-2010",
          "2007-2011",
          "2008-2012",
          "2009-2013",
          "2010-2014",
          "Gender"
         ],
         "y": [
          "Canyelles",
          82,
          79.3,
          79.8,
          75.8,
          79.7,
          "Male"
         ]
        },
        {
         "line": {
          "color": "rgba(255, 153, 51, 0.3424657534246576)",
          "dash": "solid",
          "shape": "linear",
          "width": 1.3
         },
         "mode": "lines",
         "name": "122",
         "text": "",
         "type": "scatter",
         "uid": "686e0dc3-0710-41cf-9fba-2e42e1868b29",
         "x": [
          "Neighborhood",
          "2006-2010",
          "2007-2011",
          "2008-2012",
          "2009-2013",
          "2010-2014",
          "Gender"
         ],
         "y": [
          "les Roquetes",
          79.2,
          76.7,
          76.8,
          69,
          77.6,
          "Male"
         ]
        },
        {
         "line": {
          "color": "rgba(55, 128, 191, 0.3424657534246576)",
          "dash": "solid",
          "shape": "linear",
          "width": 1.3
         },
         "mode": "lines",
         "name": "123",
         "text": "",
         "type": "scatter",
         "uid": "80ded7de-ebf9-4157-8279-743d336b191e",
         "x": [
          "Neighborhood",
          "2006-2010",
          "2007-2011",
          "2008-2012",
          "2009-2013",
          "2010-2014",
          "Gender"
         ],
         "y": [
          "Verdun",
          80.2,
          77.8,
          78.1,
          79.6,
          77.7,
          "Male"
         ]
        },
        {
         "line": {
          "color": "rgba(50, 171, 96, 0.3424657534246576)",
          "dash": "solid",
          "shape": "linear",
          "width": 1.3
         },
         "mode": "lines",
         "name": "124",
         "text": "",
         "type": "scatter",
         "uid": "d216cac2-fa39-4ab4-9a04-4b5da7e06d6c",
         "x": [
          "Neighborhood",
          "2006-2010",
          "2007-2011",
          "2008-2012",
          "2009-2013",
          "2010-2014",
          "Gender"
         ],
         "y": [
          "la Prosperitat",
          81.7,
          79.3,
          80.1,
          77.7,
          80.4,
          "Male"
         ]
        },
        {
         "line": {
          "color": "rgba(128, 0, 128, 0.3424657534246576)",
          "dash": "solid",
          "shape": "linear",
          "width": 1.3
         },
         "mode": "lines",
         "name": "125",
         "text": "",
         "type": "scatter",
         "uid": "e07dac2d-a238-4814-95b1-4c55b274578f",
         "x": [
          "Neighborhood",
          "2006-2010",
          "2007-2011",
          "2008-2012",
          "2009-2013",
          "2010-2014",
          "Gender"
         ],
         "y": [
          "la Trinitat Nova",
          78,
          75.9,
          75.4,
          79.8,
          76.6,
          "Male"
         ]
        },
        {
         "line": {
          "color": "rgba(219, 64, 82, 0.3424657534246576)",
          "dash": "solid",
          "shape": "linear",
          "width": 1.3
         },
         "mode": "lines",
         "name": "126",
         "text": "",
         "type": "scatter",
         "uid": "f6079fc6-d036-43d2-a491-89cd1c959468",
         "x": [
          "Neighborhood",
          "2006-2010",
          "2007-2011",
          "2008-2012",
          "2009-2013",
          "2010-2014",
          "Gender"
         ],
         "y": [
          "Torre Baró",
          "",
          70.7,
          69.5,
          73.1,
          71.3,
          "Male"
         ]
        },
        {
         "line": {
          "color": "rgba(0, 128, 128, 0.3424657534246576)",
          "dash": "solid",
          "shape": "linear",
          "width": 1.3
         },
         "mode": "lines",
         "name": "127",
         "text": "",
         "type": "scatter",
         "uid": "1a4457cc-35f4-4704-ad93-6242393d21ca",
         "x": [
          "Neighborhood",
          "2006-2010",
          "2007-2011",
          "2008-2012",
          "2009-2013",
          "2010-2014",
          "Gender"
         ],
         "y": [
          "Ciutat Meridiana",
          80.4,
          78,
          78.2,
          78.3,
          79.3,
          "Male"
         ]
        },
        {
         "line": {
          "color": "rgba(255, 255, 51, 0.3424657534246576)",
          "dash": "solid",
          "shape": "linear",
          "width": 1.3
         },
         "mode": "lines",
         "name": "128",
         "text": "",
         "type": "scatter",
         "uid": "2d5e1c94-8ac5-49e8-9df4-186a6558baf8",
         "x": [
          "Neighborhood",
          "2006-2010",
          "2007-2011",
          "2008-2012",
          "2009-2013",
          "2010-2014",
          "Gender"
         ],
         "y": [
          "Vallbona",
          "",
          "",
          "",
          "",
          76,
          "Male"
         ]
        },
        {
         "line": {
          "color": "rgba(128, 128, 0, 0.3424657534246576)",
          "dash": "solid",
          "shape": "linear",
          "width": 1.3
         },
         "mode": "lines",
         "name": "129",
         "text": "",
         "type": "scatter",
         "uid": "c45a9926-0919-4655-9099-90664cf65ee5",
         "x": [
          "Neighborhood",
          "2006-2010",
          "2007-2011",
          "2008-2012",
          "2009-2013",
          "2010-2014",
          "Gender"
         ],
         "y": [
          "la Trinitat Vella",
          80.4,
          77.7,
          79,
          80.6,
          80.8,
          "Male"
         ]
        },
        {
         "line": {
          "color": "rgba(128, 128, 0, 0.2876712328767124)",
          "dash": "solid",
          "shape": "linear",
          "width": 1.3
         },
         "mode": "lines",
         "name": "130",
         "text": "",
         "type": "scatter",
         "uid": "34b9c98c-3a84-4b24-912b-6a049c3d6199",
         "x": [
          "Neighborhood",
          "2006-2010",
          "2007-2011",
          "2008-2012",
          "2009-2013",
          "2010-2014",
          "Gender"
         ],
         "y": [
          "Baró de Viver",
          74.2,
          71.2,
          "",
          81.3,
          74.6,
          "Male"
         ]
        },
        {
         "line": {
          "color": "rgba(251, 128, 114, 0.2876712328767124)",
          "dash": "solid",
          "shape": "linear",
          "width": 1.3
         },
         "mode": "lines",
         "name": "131",
         "text": "",
         "type": "scatter",
         "uid": "da829507-a4f1-4d7b-a78d-2534e1959055",
         "x": [
          "Neighborhood",
          "2006-2010",
          "2007-2011",
          "2008-2012",
          "2009-2013",
          "2010-2014",
          "Gender"
         ],
         "y": [
          "el Bon Pastor",
          80.4,
          77.8,
          78,
          80.3,
          78.1,
          "Male"
         ]
        },
        {
         "line": {
          "color": "rgba(128, 177, 211, 0.2876712328767124)",
          "dash": "solid",
          "shape": "linear",
          "width": 1.3
         },
         "mode": "lines",
         "name": "132",
         "text": "",
         "type": "scatter",
         "uid": "8d583763-2455-448b-bc98-9f38048db88b",
         "x": [
          "Neighborhood",
          "2006-2010",
          "2007-2011",
          "2008-2012",
          "2009-2013",
          "2010-2014",
          "Gender"
         ],
         "y": [
          "Sant Andreu",
          81.7,
          79.7,
          80.3,
          81.8,
          81.2,
          "Male"
         ]
        },
        {
         "line": {
          "color": "rgba(255, 153, 51, 0.2876712328767124)",
          "dash": "solid",
          "shape": "linear",
          "width": 1.3
         },
         "mode": "lines",
         "name": "133",
         "text": "",
         "type": "scatter",
         "uid": "a2a0bb33-66df-4858-9f30-854863409fca",
         "x": [
          "Neighborhood",
          "2006-2010",
          "2007-2011",
          "2008-2012",
          "2009-2013",
          "2010-2014",
          "Gender"
         ],
         "y": [
          "la Sagrera",
          83.7,
          81.3,
          81.6,
          81.3,
          82.2,
          "Male"
         ]
        },
        {
         "line": {
          "color": "rgba(55, 128, 191, 0.2876712328767124)",
          "dash": "solid",
          "shape": "linear",
          "width": 1.3
         },
         "mode": "lines",
         "name": "134",
         "text": "",
         "type": "scatter",
         "uid": "2cc4aac3-a752-4cd4-8f2d-57b32ecfda60",
         "x": [
          "Neighborhood",
          "2006-2010",
          "2007-2011",
          "2008-2012",
          "2009-2013",
          "2010-2014",
          "Gender"
         ],
         "y": [
          "el Congrés i els Indians",
          81.7,
          79.2,
          79.5,
          80.9,
          80.3,
          "Male"
         ]
        },
        {
         "line": {
          "color": "rgba(50, 171, 96, 0.2876712328767124)",
          "dash": "solid",
          "shape": "linear",
          "width": 1.3
         },
         "mode": "lines",
         "name": "135",
         "text": "",
         "type": "scatter",
         "uid": "35501005-8e5b-49ba-975c-41fb7c9aadca",
         "x": [
          "Neighborhood",
          "2006-2010",
          "2007-2011",
          "2008-2012",
          "2009-2013",
          "2010-2014",
          "Gender"
         ],
         "y": [
          "Navas",
          82.5,
          80.4,
          80.6,
          80.5,
          82.3,
          "Male"
         ]
        },
        {
         "line": {
          "color": "rgba(128, 0, 128, 0.2876712328767124)",
          "dash": "solid",
          "shape": "linear",
          "width": 1.3
         },
         "mode": "lines",
         "name": "136",
         "text": "",
         "type": "scatter",
         "uid": "775b18f4-b92a-4d6a-8bcf-c7131629ea90",
         "x": [
          "Neighborhood",
          "2006-2010",
          "2007-2011",
          "2008-2012",
          "2009-2013",
          "2010-2014",
          "Gender"
         ],
         "y": [
          "el Camp de l'Arpa del Clot",
          82.9,
          80.4,
          81.1,
          82.4,
          81.9,
          "Male"
         ]
        },
        {
         "line": {
          "color": "rgba(219, 64, 82, 0.2876712328767124)",
          "dash": "solid",
          "shape": "linear",
          "width": 1.3
         },
         "mode": "lines",
         "name": "137",
         "text": "",
         "type": "scatter",
         "uid": "76e70d87-33e8-4ae1-a649-9e754c64e6d4",
         "x": [
          "Neighborhood",
          "2006-2010",
          "2007-2011",
          "2008-2012",
          "2009-2013",
          "2010-2014",
          "Gender"
         ],
         "y": [
          "el Clot",
          81.9,
          80.3,
          80.6,
          78.9,
          81.3,
          "Male"
         ]
        },
        {
         "line": {
          "color": "rgba(0, 128, 128, 0.2876712328767124)",
          "dash": "solid",
          "shape": "linear",
          "width": 1.3
         },
         "mode": "lines",
         "name": "138",
         "text": "",
         "type": "scatter",
         "uid": "70a041e1-b360-4abb-900a-4886368215ca",
         "x": [
          "Neighborhood",
          "2006-2010",
          "2007-2011",
          "2008-2012",
          "2009-2013",
          "2010-2014",
          "Gender"
         ],
         "y": [
          "el Parc i la Llacuna del Poblenou",
          82.4,
          79.8,
          80.2,
          81.8,
          80.5,
          "Male"
         ]
        },
        {
         "line": {
          "color": "rgba(255, 255, 51, 0.2876712328767124)",
          "dash": "solid",
          "shape": "linear",
          "width": 1.3
         },
         "mode": "lines",
         "name": "139",
         "text": "",
         "type": "scatter",
         "uid": "7ea35436-87a4-4a7f-b5a6-83b18102dae0",
         "x": [
          "Neighborhood",
          "2006-2010",
          "2007-2011",
          "2008-2012",
          "2009-2013",
          "2010-2014",
          "Gender"
         ],
         "y": [
          "la Vila Olímpica del Poblenou",
          87.2,
          82.6,
          82.1,
          80.2,
          82.7,
          "Male"
         ]
        },
        {
         "line": {
          "color": "rgba(255, 255, 51, 0.23287671232876722)",
          "dash": "solid",
          "shape": "linear",
          "width": 1.3
         },
         "mode": "lines",
         "name": "140",
         "text": "",
         "type": "scatter",
         "uid": "e1a9cc68-72bc-4202-b6a7-1def205a239e",
         "x": [
          "Neighborhood",
          "2006-2010",
          "2007-2011",
          "2008-2012",
          "2009-2013",
          "2010-2014",
          "Gender"
         ],
         "y": [
          "el Poblenou",
          81.4,
          78.7,
          78.4,
          78.8,
          79.5,
          "Male"
         ]
        },
        {
         "line": {
          "color": "rgba(128, 128, 0, 0.23287671232876722)",
          "dash": "solid",
          "shape": "linear",
          "width": 1.3
         },
         "mode": "lines",
         "name": "141",
         "text": "",
         "type": "scatter",
         "uid": "16ec506f-1ade-49ee-8b22-c97bfb50acff",
         "x": [
          "Neighborhood",
          "2006-2010",
          "2007-2011",
          "2008-2012",
          "2009-2013",
          "2010-2014",
          "Gender"
         ],
         "y": [
          "Diagonal Mar i el Front Marítim del Poblenou",
          82.1,
          80.9,
          81.2,
          79.7,
          82.2,
          "Male"
         ]
        },
        {
         "line": {
          "color": "rgba(251, 128, 114, 0.23287671232876722)",
          "dash": "solid",
          "shape": "linear",
          "width": 1.3
         },
         "mode": "lines",
         "name": "142",
         "text": "",
         "type": "scatter",
         "uid": "a4b31103-79b9-4361-964a-f05d5655480e",
         "x": [
          "Neighborhood",
          "2006-2010",
          "2007-2011",
          "2008-2012",
          "2009-2013",
          "2010-2014",
          "Gender"
         ],
         "y": [
          "el Besòs i el Maresme",
          80.2,
          78.1,
          78.4,
          79.8,
          79.6,
          "Male"
         ]
        },
        {
         "line": {
          "color": "rgba(128, 177, 211, 0.23287671232876722)",
          "dash": "solid",
          "shape": "linear",
          "width": 1.3
         },
         "mode": "lines",
         "name": "143",
         "text": "",
         "type": "scatter",
         "uid": "c9d39b39-2fd0-499e-bc82-b9703f690756",
         "x": [
          "Neighborhood",
          "2006-2010",
          "2007-2011",
          "2008-2012",
          "2009-2013",
          "2010-2014",
          "Gender"
         ],
         "y": [
          "Provençals del Poblenou",
          80.4,
          78.8,
          79.4,
          80.1,
          81.5,
          "Male"
         ]
        },
        {
         "line": {
          "color": "rgba(255, 153, 51, 0.23287671232876722)",
          "dash": "solid",
          "shape": "linear",
          "width": 1.3
         },
         "mode": "lines",
         "name": "144",
         "text": "",
         "type": "scatter",
         "uid": "55f184a2-64ec-4f11-b702-b1f65190c524",
         "x": [
          "Neighborhood",
          "2006-2010",
          "2007-2011",
          "2008-2012",
          "2009-2013",
          "2010-2014",
          "Gender"
         ],
         "y": [
          "Sant Martí de Provençals",
          81.9,
          79.5,
          79.7,
          80.5,
          80.2,
          "Male"
         ]
        },
        {
         "line": {
          "color": "rgba(55, 128, 191, 0.23287671232876722)",
          "dash": "solid",
          "shape": "linear",
          "width": 1.3
         },
         "mode": "lines",
         "name": "145",
         "text": "",
         "type": "scatter",
         "uid": "22332717-b877-41ac-ad03-d6a656b4f602",
         "x": [
          "Neighborhood",
          "2006-2010",
          "2007-2011",
          "2008-2012",
          "2009-2013",
          "2010-2014",
          "Gender"
         ],
         "y": [
          " la Verneda i la Pau",
          82,
          79.7,
          79.9,
          80.5,
          80.6,
          "Male"
         ]
        }
       ],
       "layout": {
        "legend": {
         "bgcolor": "#F5F6F9",
         "font": {
          "color": "#4D5663"
         }
        },
        "paper_bgcolor": "#F5F6F9",
        "plot_bgcolor": "#F5F6F9",
        "title": {
         "font": {
          "color": "#4D5663"
         },
         "text": "Expectativa de vida"
        },
        "xaxis": {
         "gridcolor": "#E1E5ED",
         "showgrid": true,
         "tickfont": {
          "color": "#4D5663"
         },
         "title": {
          "font": {
           "color": "#4D5663"
          },
          "text": ""
         },
         "zerolinecolor": "#E1E5ED"
        },
        "yaxis": {
         "gridcolor": "#E1E5ED",
         "showgrid": true,
         "tickfont": {
          "color": "#4D5663"
         },
         "title": {
          "font": {
           "color": "#4D5663"
          },
          "text": ""
         },
         "zerolinecolor": "#E1E5ED"
        }
       }
      },
      "text/html": [
       "<div>\n",
       "        \n",
       "        \n",
       "            <div id=\"d0f61a79-4a53-4df0-8b08-497ddb657c09\" class=\"plotly-graph-div\" style=\"height:525px; width:100%;\"></div>\n",
       "            <script type=\"text/javascript\">\n",
       "                require([\"plotly\"], function(Plotly) {\n",
       "                    window.PLOTLYENV=window.PLOTLYENV || {};\n",
       "                    window.PLOTLYENV.BASE_URL='https://plot.ly';\n",
       "                    \n",
       "                if (document.getElementById(\"d0f61a79-4a53-4df0-8b08-497ddb657c09\")) {\n",
       "                    Plotly.newPlot(\n",
       "                        'd0f61a79-4a53-4df0-8b08-497ddb657c09',\n",
       "                        [{\"line\": {\"color\": \"rgba(255, 153, 51, 1.0)\", \"dash\": \"solid\", \"shape\": \"linear\", \"width\": 1.3}, \"mode\": \"lines\", \"name\": \"0\", \"text\": \"\", \"type\": \"scatter\", \"uid\": \"4b8b2373-a146-49b7-97a1-e0b14a801d09\", \"x\": [\"Neighborhood\", \"2006-2010\", \"2007-2011\", \"2008-2012\", \"2009-2013\", \"2010-2014\", \"Gender\"], \"y\": [\"el Raval\", 87.5, 84.9, 84.7, 84.9, 85.3, \"Female\"]}, {\"line\": {\"color\": \"rgba(55, 128, 191, 1.0)\", \"dash\": \"solid\", \"shape\": \"linear\", \"width\": 1.3}, \"mode\": \"lines\", \"name\": \"1\", \"text\": \"\", \"type\": \"scatter\", \"uid\": \"679093a0-e3a1-4c10-baab-d6add6ba5f28\", \"x\": [\"Neighborhood\", \"2006-2010\", \"2007-2011\", \"2008-2012\", \"2009-2013\", \"2010-2014\", \"Gender\"], \"y\": [\"el Barri G\\u00f2tic\", 88.0, 84.3, 84.4, 87.5, 84.4, \"Female\"]}, {\"line\": {\"color\": \"rgba(50, 171, 96, 1.0)\", \"dash\": \"solid\", \"shape\": \"linear\", \"width\": 1.3}, \"mode\": \"lines\", \"name\": \"2\", \"text\": \"\", \"type\": \"scatter\", \"uid\": \"0b8fe12e-4e8b-4498-86f9-3a2bb55e5d52\", \"x\": [\"Neighborhood\", \"2006-2010\", \"2007-2011\", \"2008-2012\", \"2009-2013\", \"2010-2014\", \"Gender\"], \"y\": [\"la Barceloneta\", 88.2, 85.3, 84.4, 86.3, 84.7, \"Female\"]}, {\"line\": {\"color\": \"rgba(128, 0, 128, 1.0)\", \"dash\": \"solid\", \"shape\": \"linear\", \"width\": 1.3}, \"mode\": \"lines\", \"name\": \"3\", \"text\": \"\", \"type\": \"scatter\", \"uid\": \"40624769-db24-44f7-9223-29c27006181d\", \"x\": [\"Neighborhood\", \"2006-2010\", \"2007-2011\", \"2008-2012\", \"2009-2013\", \"2010-2014\", \"Gender\"], \"y\": [\"Sant Pere, Santa Caterina i la Ribera\", 88.9, 85.9, 86.1, 85.5, 85.3, \"Female\"]}, {\"line\": {\"color\": \"rgba(219, 64, 82, 1.0)\", \"dash\": \"solid\", \"shape\": \"linear\", \"width\": 1.3}, \"mode\": \"lines\", \"name\": \"4\", \"text\": \"\", \"type\": \"scatter\", \"uid\": \"1cb17bad-68f5-43b9-ba90-111651a55892\", \"x\": [\"Neighborhood\", \"2006-2010\", \"2007-2011\", \"2008-2012\", \"2009-2013\", \"2010-2014\", \"Gender\"], \"y\": [\"el Fort Pienc\", 89.7, 87.1, 87.2, 87.7, 86.7, \"Female\"]}, {\"line\": {\"color\": \"rgba(0, 128, 128, 1.0)\", \"dash\": \"solid\", \"shape\": \"linear\", \"width\": 1.3}, \"mode\": \"lines\", \"name\": \"5\", \"text\": \"\", \"type\": \"scatter\", \"uid\": \"7997c2de-3fc1-496e-8362-1b0ded099981\", \"x\": [\"Neighborhood\", \"2006-2010\", \"2007-2011\", \"2008-2012\", \"2009-2013\", \"2010-2014\", \"Gender\"], \"y\": [\"la Sagrada Fam\\u00edlia\", 88.9, 86.6, 86.8, 85.1, 87.2, \"Female\"]}, {\"line\": {\"color\": \"rgba(255, 255, 51, 1.0)\", \"dash\": \"solid\", \"shape\": \"linear\", \"width\": 1.3}, \"mode\": \"lines\", \"name\": \"6\", \"text\": \"\", \"type\": \"scatter\", \"uid\": \"4abe694d-75d7-41ed-8bff-9ce0a5ff7155\", \"x\": [\"Neighborhood\", \"2006-2010\", \"2007-2011\", \"2008-2012\", \"2009-2013\", \"2010-2014\", \"Gender\"], \"y\": [\"la Dreta de l'Eixample\", 87.0, 85.0, 85.1, 85.7, 85.1, \"Female\"]}, {\"line\": {\"color\": \"rgba(128, 128, 0, 1.0)\", \"dash\": \"solid\", \"shape\": \"linear\", \"width\": 1.3}, \"mode\": \"lines\", \"name\": \"7\", \"text\": \"\", \"type\": \"scatter\", \"uid\": \"6d618759-5997-4131-a509-09e023cd144d\", \"x\": [\"Neighborhood\", \"2006-2010\", \"2007-2011\", \"2008-2012\", \"2009-2013\", \"2010-2014\", \"Gender\"], \"y\": [\"l'Antiga Esquerra de l'Eixample\", 88.9, 86.4, 86.3, 85.8, 86.9, \"Female\"]}, {\"line\": {\"color\": \"rgba(251, 128, 114, 1.0)\", \"dash\": \"solid\", \"shape\": \"linear\", \"width\": 1.3}, \"mode\": \"lines\", \"name\": \"8\", \"text\": \"\", \"type\": \"scatter\", \"uid\": \"30ae3355-c875-4853-ab92-89354816c012\", \"x\": [\"Neighborhood\", \"2006-2010\", \"2007-2011\", \"2008-2012\", \"2009-2013\", \"2010-2014\", \"Gender\"], \"y\": [\"la Nova Esquerra de l'Eixample\", 90.0, 87.4, 87.5, 87.0, 88.7, \"Female\"]}, {\"line\": {\"color\": \"rgba(128, 177, 211, 1.0)\", \"dash\": \"solid\", \"shape\": \"linear\", \"width\": 1.3}, \"mode\": \"lines\", \"name\": \"9\", \"text\": \"\", \"type\": \"scatter\", \"uid\": \"d363ae90-7ebf-4201-b4b5-1da6ca802f8c\", \"x\": [\"Neighborhood\", \"2006-2010\", \"2007-2011\", \"2008-2012\", \"2009-2013\", \"2010-2014\", \"Gender\"], \"y\": [\"Sant Antoni\", 89.0, 86.3, 86.5, 86.0, 87.6, \"Female\"]}, {\"line\": {\"color\": \"rgba(128, 177, 211, 0.9452054794520548)\", \"dash\": \"solid\", \"shape\": \"linear\", \"width\": 1.3}, \"mode\": \"lines\", \"name\": \"10\", \"text\": \"\", \"type\": \"scatter\", \"uid\": \"1db44ff8-dc4d-4011-b9e9-bb82c8ca68c2\", \"x\": [\"Neighborhood\", \"2006-2010\", \"2007-2011\", \"2008-2012\", \"2009-2013\", \"2010-2014\", \"Gender\"], \"y\": [\"el Poble Sec - Parc Montju\\u00efc\", 88.5, 85.5, 85.6, 88.2, 86.4, \"Female\"]}, {\"line\": {\"color\": \"rgba(255, 153, 51, 0.9452054794520548)\", \"dash\": \"solid\", \"shape\": \"linear\", \"width\": 1.3}, \"mode\": \"lines\", \"name\": \"11\", \"text\": \"\", \"type\": \"scatter\", \"uid\": \"a178134f-8a73-46c7-a714-34bfe939fa2e\", \"x\": [\"Neighborhood\", \"2006-2010\", \"2007-2011\", \"2008-2012\", \"2009-2013\", \"2010-2014\", \"Gender\"], \"y\": [\"la Marina del Prat Vermell - Zona Franca\", \"\", \"\", \"\", \"\", \"\", \"Female\"]}, {\"line\": {\"color\": \"rgba(55, 128, 191, 0.9452054794520548)\", \"dash\": \"solid\", \"shape\": \"linear\", \"width\": 1.3}, \"mode\": \"lines\", \"name\": \"12\", \"text\": \"\", \"type\": \"scatter\", \"uid\": \"927d1c0b-c27a-4628-9900-e75c02f199fc\", \"x\": [\"Neighborhood\", \"2006-2010\", \"2007-2011\", \"2008-2012\", \"2009-2013\", \"2010-2014\", \"Gender\"], \"y\": [\"la Marina de Port\", 88.5, 86.2, 86.5, 88.1, 87.7, \"Female\"]}, {\"line\": {\"color\": \"rgba(50, 171, 96, 0.9452054794520548)\", \"dash\": \"solid\", \"shape\": \"linear\", \"width\": 1.3}, \"mode\": \"lines\", \"name\": \"13\", \"text\": \"\", \"type\": \"scatter\", \"uid\": \"0e6c4165-affe-4eca-ba10-e795e88485be\", \"x\": [\"Neighborhood\", \"2006-2010\", \"2007-2011\", \"2008-2012\", \"2009-2013\", \"2010-2014\", \"Gender\"], \"y\": [\"la Font de la Guatlla\", 88.7, 85.7, 85.1, 88.4, 84.3, \"Female\"]}, {\"line\": {\"color\": \"rgba(128, 0, 128, 0.9452054794520548)\", \"dash\": \"solid\", \"shape\": \"linear\", \"width\": 1.3}, \"mode\": \"lines\", \"name\": \"14\", \"text\": \"\", \"type\": \"scatter\", \"uid\": \"985ef7e2-f3eb-4e7c-83a3-b4b23e87c162\", \"x\": [\"Neighborhood\", \"2006-2010\", \"2007-2011\", \"2008-2012\", \"2009-2013\", \"2010-2014\", \"Gender\"], \"y\": [\"Hostafrancs\", 87.5, 85.4, 86.3, 81.7, 87.4, \"Female\"]}, {\"line\": {\"color\": \"rgba(219, 64, 82, 0.9452054794520548)\", \"dash\": \"solid\", \"shape\": \"linear\", \"width\": 1.3}, \"mode\": \"lines\", \"name\": \"15\", \"text\": \"\", \"type\": \"scatter\", \"uid\": \"5f1ce648-1cc0-4021-aae7-56a18ed2608d\", \"x\": [\"Neighborhood\", \"2006-2010\", \"2007-2011\", \"2008-2012\", \"2009-2013\", \"2010-2014\", \"Gender\"], \"y\": [\"la Bordeta\", 88.7, 86.3, 85.6, 86.9, 86.3, \"Female\"]}, {\"line\": {\"color\": \"rgba(0, 128, 128, 0.9452054794520548)\", \"dash\": \"solid\", \"shape\": \"linear\", \"width\": 1.3}, \"mode\": \"lines\", \"name\": \"16\", \"text\": \"\", \"type\": \"scatter\", \"uid\": \"687f6a9f-d9f2-40b2-adee-942aad344696\", \"x\": [\"Neighborhood\", \"2006-2010\", \"2007-2011\", \"2008-2012\", \"2009-2013\", \"2010-2014\", \"Gender\"], \"y\": [\"Sants - Badal\", 88.4, 85.9, 86.4, 87.8, 87.7, \"Female\"]}, {\"line\": {\"color\": \"rgba(255, 255, 51, 0.9452054794520548)\", \"dash\": \"solid\", \"shape\": \"linear\", \"width\": 1.3}, \"mode\": \"lines\", \"name\": \"17\", \"text\": \"\", \"type\": \"scatter\", \"uid\": \"77f25e86-f0cf-4681-b7c5-20e44d4d15a8\", \"x\": [\"Neighborhood\", \"2006-2010\", \"2007-2011\", \"2008-2012\", \"2009-2013\", \"2010-2014\", \"Gender\"], \"y\": [\"Sants\", 89.4, 86.5, 86.2, 86.5, 86.1, \"Female\"]}, {\"line\": {\"color\": \"rgba(128, 128, 0, 0.9452054794520548)\", \"dash\": \"solid\", \"shape\": \"linear\", \"width\": 1.3}, \"mode\": \"lines\", \"name\": \"18\", \"text\": \"\", \"type\": \"scatter\", \"uid\": \"1c6e655f-4077-4fad-80fa-1e22ade1e97a\", \"x\": [\"Neighborhood\", \"2006-2010\", \"2007-2011\", \"2008-2012\", \"2009-2013\", \"2010-2014\", \"Gender\"], \"y\": [\"les Corts\", 89.4, 87.1, 87.4, 86.8, 88.1, \"Female\"]}, {\"line\": {\"color\": \"rgba(251, 128, 114, 0.9452054794520548)\", \"dash\": \"solid\", \"shape\": \"linear\", \"width\": 1.3}, \"mode\": \"lines\", \"name\": \"19\", \"text\": \"\", \"type\": \"scatter\", \"uid\": \"3c1d7d65-3da0-46e6-ae7d-b8a2bbb4ceea\", \"x\": [\"Neighborhood\", \"2006-2010\", \"2007-2011\", \"2008-2012\", \"2009-2013\", \"2010-2014\", \"Gender\"], \"y\": [\"la Maternitat i Sant Ramon\", 90.0, 87.4, 87.5, 87.8, 89.0, \"Female\"]}, {\"line\": {\"color\": \"rgba(251, 128, 114, 0.8904109589041096)\", \"dash\": \"solid\", \"shape\": \"linear\", \"width\": 1.3}, \"mode\": \"lines\", \"name\": \"20\", \"text\": \"\", \"type\": \"scatter\", \"uid\": \"004693d0-8f50-4f3f-a1e7-80dc93784c03\", \"x\": [\"Neighborhood\", \"2006-2010\", \"2007-2011\", \"2008-2012\", \"2009-2013\", \"2010-2014\", \"Gender\"], \"y\": [\"Pedralbes\", 89.0, 87.3, 87.5, 86.0, 88.4, \"Female\"]}, {\"line\": {\"color\": \"rgba(128, 177, 211, 0.8904109589041096)\", \"dash\": \"solid\", \"shape\": \"linear\", \"width\": 1.3}, \"mode\": \"lines\", \"name\": \"21\", \"text\": \"\", \"type\": \"scatter\", \"uid\": \"404c58ed-ccf5-44e5-b559-4f4fd0e6df78\", \"x\": [\"Neighborhood\", \"2006-2010\", \"2007-2011\", \"2008-2012\", \"2009-2013\", \"2010-2014\", \"Gender\"], \"y\": [\"Vallvidrera, el Tibidabo i les Planes\", 83.4, 80.5, 80.4, 88.5, 82.2, \"Female\"]}, {\"line\": {\"color\": \"rgba(255, 153, 51, 0.8904109589041096)\", \"dash\": \"solid\", \"shape\": \"linear\", \"width\": 1.3}, \"mode\": \"lines\", \"name\": \"22\", \"text\": \"\", \"type\": \"scatter\", \"uid\": \"116265c0-f45c-4e3e-8c55-44fcb3d96285\", \"x\": [\"Neighborhood\", \"2006-2010\", \"2007-2011\", \"2008-2012\", \"2009-2013\", \"2010-2014\", \"Gender\"], \"y\": [\"Sarri\\u00e0\", 90.9, 87.6, 87.1, 84.8, 86.9, \"Female\"]}, {\"line\": {\"color\": \"rgba(55, 128, 191, 0.8904109589041096)\", \"dash\": \"solid\", \"shape\": \"linear\", \"width\": 1.3}, \"mode\": \"lines\", \"name\": \"23\", \"text\": \"\", \"type\": \"scatter\", \"uid\": \"3397f9c5-ccbe-4ed2-9eb8-f410e21bf6db\", \"x\": [\"Neighborhood\", \"2006-2010\", \"2007-2011\", \"2008-2012\", \"2009-2013\", \"2010-2014\", \"Gender\"], \"y\": [\"les Tres Torres\", 89.7, 87.7, 87.6, 85.1, 88.1, \"Female\"]}, {\"line\": {\"color\": \"rgba(50, 171, 96, 0.8904109589041096)\", \"dash\": \"solid\", \"shape\": \"linear\", \"width\": 1.3}, \"mode\": \"lines\", \"name\": \"24\", \"text\": \"\", \"type\": \"scatter\", \"uid\": \"8febacf3-430f-4b72-9831-026e82f56d70\", \"x\": [\"Neighborhood\", \"2006-2010\", \"2007-2011\", \"2008-2012\", \"2009-2013\", \"2010-2014\", \"Gender\"], \"y\": [\"Sant Gervasi - la Bonanova\", 89.2, 86.5, 86.5, 85.7, 86.8, \"Female\"]}, {\"line\": {\"color\": \"rgba(128, 0, 128, 0.8904109589041096)\", \"dash\": \"solid\", \"shape\": \"linear\", \"width\": 1.3}, \"mode\": \"lines\", \"name\": \"25\", \"text\": \"\", \"type\": \"scatter\", \"uid\": \"1c71b70c-f23f-4887-b802-f77ec6c4dc00\", \"x\": [\"Neighborhood\", \"2006-2010\", \"2007-2011\", \"2008-2012\", \"2009-2013\", \"2010-2014\", \"Gender\"], \"y\": [\"Sant Gervasi - Galvany\", 88.8, 86.5, 86.4, 87.7, 86.9, \"Female\"]}, {\"line\": {\"color\": \"rgba(219, 64, 82, 0.8904109589041096)\", \"dash\": \"solid\", \"shape\": \"linear\", \"width\": 1.3}, \"mode\": \"lines\", \"name\": \"26\", \"text\": \"\", \"type\": \"scatter\", \"uid\": \"e546567d-6012-4a5a-90ab-863b63f791e2\", \"x\": [\"Neighborhood\", \"2006-2010\", \"2007-2011\", \"2008-2012\", \"2009-2013\", \"2010-2014\", \"Gender\"], \"y\": [\"el Putxet i el Farr\\u00f3\", 89.9, 87.6, 87.8, 86.6, 87.9, \"Female\"]}, {\"line\": {\"color\": \"rgba(0, 128, 128, 0.8904109589041096)\", \"dash\": \"solid\", \"shape\": \"linear\", \"width\": 1.3}, \"mode\": \"lines\", \"name\": \"27\", \"text\": \"\", \"type\": \"scatter\", \"uid\": \"d9254939-bc03-4142-82c0-056ca1487a49\", \"x\": [\"Neighborhood\", \"2006-2010\", \"2007-2011\", \"2008-2012\", \"2009-2013\", \"2010-2014\", \"Gender\"], \"y\": [\"Vallcarca i els Penitents\", 88.2, 86.1, 86.4, 86.0, 86.3, \"Female\"]}, {\"line\": {\"color\": \"rgba(255, 255, 51, 0.8904109589041096)\", \"dash\": \"solid\", \"shape\": \"linear\", \"width\": 1.3}, \"mode\": \"lines\", \"name\": \"28\", \"text\": \"\", \"type\": \"scatter\", \"uid\": \"9758fe98-0982-4350-9443-2a6d3951d156\", \"x\": [\"Neighborhood\", \"2006-2010\", \"2007-2011\", \"2008-2012\", \"2009-2013\", \"2010-2014\", \"Gender\"], \"y\": [\"el Coll\", 89.9, 88.2, 88.2, 87.6, 88.6, \"Female\"]}, {\"line\": {\"color\": \"rgba(128, 128, 0, 0.8904109589041096)\", \"dash\": \"solid\", \"shape\": \"linear\", \"width\": 1.3}, \"mode\": \"lines\", \"name\": \"29\", \"text\": \"\", \"type\": \"scatter\", \"uid\": \"d9633652-8f99-409f-932f-a80c49dcccba\", \"x\": [\"Neighborhood\", \"2006-2010\", \"2007-2011\", \"2008-2012\", \"2009-2013\", \"2010-2014\", \"Gender\"], \"y\": [\"la Salut\", 85.7, 84.1, 84.4, 85.3, 85.7, \"Female\"]}, {\"line\": {\"color\": \"rgba(128, 128, 0, 0.8356164383561644)\", \"dash\": \"solid\", \"shape\": \"linear\", \"width\": 1.3}, \"mode\": \"lines\", \"name\": \"30\", \"text\": \"\", \"type\": \"scatter\", \"uid\": \"6a9af5fc-e1b4-4161-a80a-bd5e80d0a5e2\", \"x\": [\"Neighborhood\", \"2006-2010\", \"2007-2011\", \"2008-2012\", \"2009-2013\", \"2010-2014\", \"Gender\"], \"y\": [\"la Vila de Gr\\u00e0cia\", 87.5, 85.1, 85.4, 87.2, 86.1, \"Female\"]}, {\"line\": {\"color\": \"rgba(251, 128, 114, 0.8356164383561644)\", \"dash\": \"solid\", \"shape\": \"linear\", \"width\": 1.3}, \"mode\": \"lines\", \"name\": \"31\", \"text\": \"\", \"type\": \"scatter\", \"uid\": \"c12d8c1d-45a7-42bf-80fa-30fcfb64b843\", \"x\": [\"Neighborhood\", \"2006-2010\", \"2007-2011\", \"2008-2012\", \"2009-2013\", \"2010-2014\", \"Gender\"], \"y\": [\"el Camp d'en Grassot i Gr\\u00e0cia Nova\", 90.1, 87.6, 87.6, 86.2, 87.4, \"Female\"]}, {\"line\": {\"color\": \"rgba(128, 177, 211, 0.8356164383561644)\", \"dash\": \"solid\", \"shape\": \"linear\", \"width\": 1.3}, \"mode\": \"lines\", \"name\": \"32\", \"text\": \"\", \"type\": \"scatter\", \"uid\": \"d8b9bcf7-f941-4970-85cd-3545932acf2e\", \"x\": [\"Neighborhood\", \"2006-2010\", \"2007-2011\", \"2008-2012\", \"2009-2013\", \"2010-2014\", \"Gender\"], \"y\": [\"el Baix Guinard\\u00f3\", 90.1, 87.2, 86.8, 85.1, 86.8, \"Female\"]}, {\"line\": {\"color\": \"rgba(255, 153, 51, 0.8356164383561644)\", \"dash\": \"solid\", \"shape\": \"linear\", \"width\": 1.3}, \"mode\": \"lines\", \"name\": \"33\", \"text\": \"\", \"type\": \"scatter\", \"uid\": \"125bfbce-b5a0-4845-990f-c13514f65330\", \"x\": [\"Neighborhood\", \"2006-2010\", \"2007-2011\", \"2008-2012\", \"2009-2013\", \"2010-2014\", \"Gender\"], \"y\": [\"Can Bar\\u00f3\", 88.2, 86.2, 86.0, 85.5, 86.6, \"Female\"]}, {\"line\": {\"color\": \"rgba(55, 128, 191, 0.8356164383561644)\", \"dash\": \"solid\", \"shape\": \"linear\", \"width\": 1.3}, \"mode\": \"lines\", \"name\": \"34\", \"text\": \"\", \"type\": \"scatter\", \"uid\": \"bd42ea56-8a18-4a03-9c85-53490ae5278c\", \"x\": [\"Neighborhood\", \"2006-2010\", \"2007-2011\", \"2008-2012\", \"2009-2013\", \"2010-2014\", \"Gender\"], \"y\": [\"el Guinard\\u00f3\", 89.3, 86.4, 87.0, 82.3, 88.3, \"Female\"]}, {\"line\": {\"color\": \"rgba(50, 171, 96, 0.8356164383561644)\", \"dash\": \"solid\", \"shape\": \"linear\", \"width\": 1.3}, \"mode\": \"lines\", \"name\": \"35\", \"text\": \"\", \"type\": \"scatter\", \"uid\": \"41861127-3cb1-4304-b8fb-ccd6506ee735\", \"x\": [\"Neighborhood\", \"2006-2010\", \"2007-2011\", \"2008-2012\", \"2009-2013\", \"2010-2014\", \"Gender\"], \"y\": [\"la Font d'en Fargues\", 87.3, 85.7, 85.6, 85.8, 85.8, \"Female\"]}, {\"line\": {\"color\": \"rgba(128, 0, 128, 0.8356164383561644)\", \"dash\": \"solid\", \"shape\": \"linear\", \"width\": 1.3}, \"mode\": \"lines\", \"name\": \"36\", \"text\": \"\", \"type\": \"scatter\", \"uid\": \"2932befe-9ab1-4f63-95bb-ccd562d18cc2\", \"x\": [\"Neighborhood\", \"2006-2010\", \"2007-2011\", \"2008-2012\", \"2009-2013\", \"2010-2014\", \"Gender\"], \"y\": [\"el Carmel\", 88.8, 86.6, 87.2, 87.8, 88.1, \"Female\"]}, {\"line\": {\"color\": \"rgba(219, 64, 82, 0.8356164383561644)\", \"dash\": \"solid\", \"shape\": \"linear\", \"width\": 1.3}, \"mode\": \"lines\", \"name\": \"37\", \"text\": \"\", \"type\": \"scatter\", \"uid\": \"9372538f-eac2-41d4-9c27-1bbac488cc24\", \"x\": [\"Neighborhood\", \"2006-2010\", \"2007-2011\", \"2008-2012\", \"2009-2013\", \"2010-2014\", \"Gender\"], \"y\": [\"la Teixonera\", 86.7, 84.8, 85.0, 85.6, 87.3, \"Female\"]}, {\"line\": {\"color\": \"rgba(0, 128, 128, 0.8356164383561644)\", \"dash\": \"solid\", \"shape\": \"linear\", \"width\": 1.3}, \"mode\": \"lines\", \"name\": \"38\", \"text\": \"\", \"type\": \"scatter\", \"uid\": \"a7dcf583-ab05-44eb-8ad8-23cbe9191973\", \"x\": [\"Neighborhood\", \"2006-2010\", \"2007-2011\", \"2008-2012\", \"2009-2013\", \"2010-2014\", \"Gender\"], \"y\": [\"Sant Gen\\u00eds dels Agudells\", 87.3, 85.0, 84.6, 86.9, 85.5, \"Female\"]}, {\"line\": {\"color\": \"rgba(255, 255, 51, 0.8356164383561644)\", \"dash\": \"solid\", \"shape\": \"linear\", \"width\": 1.3}, \"mode\": \"lines\", \"name\": \"39\", \"text\": \"\", \"type\": \"scatter\", \"uid\": \"0cd86b3e-1c34-4723-a440-abb8ce61164d\", \"x\": [\"Neighborhood\", \"2006-2010\", \"2007-2011\", \"2008-2012\", \"2009-2013\", \"2010-2014\", \"Gender\"], \"y\": [\"Montbau\", 83.5, 81.3, 81.9, 87.3, 83.9, \"Female\"]}, {\"line\": {\"color\": \"rgba(255, 255, 51, 0.7808219178082192)\", \"dash\": \"solid\", \"shape\": \"linear\", \"width\": 1.3}, \"mode\": \"lines\", \"name\": \"40\", \"text\": \"\", \"type\": \"scatter\", \"uid\": \"77ae0e66-a4a6-4727-9c55-f1b3c0f61a2e\", \"x\": [\"Neighborhood\", \"2006-2010\", \"2007-2011\", \"2008-2012\", \"2009-2013\", \"2010-2014\", \"Gender\"], \"y\": [\"la Vall d'Hebron\", 86.6, 85.3, 86.0, 88.4, 86.5, \"Female\"]}, {\"line\": {\"color\": \"rgba(128, 128, 0, 0.7808219178082192)\", \"dash\": \"solid\", \"shape\": \"linear\", \"width\": 1.3}, \"mode\": \"lines\", \"name\": \"41\", \"text\": \"\", \"type\": \"scatter\", \"uid\": \"cf3ac873-5e99-4f20-88bd-cd17a1b5bfb5\", \"x\": [\"Neighborhood\", \"2006-2010\", \"2007-2011\", \"2008-2012\", \"2009-2013\", \"2010-2014\", \"Gender\"], \"y\": [\"la Clota\", \"\", \"\", \"\", \"\", \"\", \"Female\"]}, {\"line\": {\"color\": \"rgba(251, 128, 114, 0.7808219178082192)\", \"dash\": \"solid\", \"shape\": \"linear\", \"width\": 1.3}, \"mode\": \"lines\", \"name\": \"42\", \"text\": \"\", \"type\": \"scatter\", \"uid\": \"df6e7912-a981-4c50-b0d5-093264f7b25b\", \"x\": [\"Neighborhood\", \"2006-2010\", \"2007-2011\", \"2008-2012\", \"2009-2013\", \"2010-2014\", \"Gender\"], \"y\": [\"Horta\", 87.1, 85.5, 85.5, 86.5, 86.0, \"Female\"]}, {\"line\": {\"color\": \"rgba(128, 177, 211, 0.7808219178082192)\", \"dash\": \"solid\", \"shape\": \"linear\", \"width\": 1.3}, \"mode\": \"lines\", \"name\": \"43\", \"text\": \"\", \"type\": \"scatter\", \"uid\": \"b919429c-127d-4093-8e29-8eb129a35d7f\", \"x\": [\"Neighborhood\", \"2006-2010\", \"2007-2011\", \"2008-2012\", \"2009-2013\", \"2010-2014\", \"Gender\"], \"y\": [\"Vilapicina i la Torre Llobeta\", 89.6, 87.2, 87.2, 85.8, 87.0, \"Female\"]}, {\"line\": {\"color\": \"rgba(255, 153, 51, 0.7808219178082192)\", \"dash\": \"solid\", \"shape\": \"linear\", \"width\": 1.3}, \"mode\": \"lines\", \"name\": \"44\", \"text\": \"\", \"type\": \"scatter\", \"uid\": \"3dbdc038-58fc-4ac7-ab98-401d4e422825\", \"x\": [\"Neighborhood\", \"2006-2010\", \"2007-2011\", \"2008-2012\", \"2009-2013\", \"2010-2014\", \"Gender\"], \"y\": [\"Porta\", 88.3, 86.0, 86.5, 87.0, 87.7, \"Female\"]}, {\"line\": {\"color\": \"rgba(55, 128, 191, 0.7808219178082192)\", \"dash\": \"solid\", \"shape\": \"linear\", \"width\": 1.3}, \"mode\": \"lines\", \"name\": \"45\", \"text\": \"\", \"type\": \"scatter\", \"uid\": \"50a972a0-0541-4302-82e0-342911108973\", \"x\": [\"Neighborhood\", \"2006-2010\", \"2007-2011\", \"2008-2012\", \"2009-2013\", \"2010-2014\", \"Gender\"], \"y\": [\"el Tur\\u00f3 de la Peira\", 90.4, 87.8, 88.0, 86.0, 89.8, \"Female\"]}, {\"line\": {\"color\": \"rgba(50, 171, 96, 0.7808219178082192)\", \"dash\": \"solid\", \"shape\": \"linear\", \"width\": 1.3}, \"mode\": \"lines\", \"name\": \"46\", \"text\": \"\", \"type\": \"scatter\", \"uid\": \"28642c73-1dee-4211-b474-abe3ecb6000f\", \"x\": [\"Neighborhood\", \"2006-2010\", \"2007-2011\", \"2008-2012\", \"2009-2013\", \"2010-2014\", \"Gender\"], \"y\": [\"Can Peguera\", 82.2, 79.7, 80.3, 87.2, 85.1, \"Female\"]}, {\"line\": {\"color\": \"rgba(128, 0, 128, 0.7808219178082192)\", \"dash\": \"solid\", \"shape\": \"linear\", \"width\": 1.3}, \"mode\": \"lines\", \"name\": \"47\", \"text\": \"\", \"type\": \"scatter\", \"uid\": \"5984f443-7ddd-4c07-aea5-8e4500976592\", \"x\": [\"Neighborhood\", \"2006-2010\", \"2007-2011\", \"2008-2012\", \"2009-2013\", \"2010-2014\", \"Gender\"], \"y\": [\"la Guineueta\", 88.3, 85.9, 86.1, 87.8, 87.0, \"Female\"]}, {\"line\": {\"color\": \"rgba(219, 64, 82, 0.7808219178082192)\", \"dash\": \"solid\", \"shape\": \"linear\", \"width\": 1.3}, \"mode\": \"lines\", \"name\": \"48\", \"text\": \"\", \"type\": \"scatter\", \"uid\": \"8aa423cd-777a-4da5-b807-2438580eef8e\", \"x\": [\"Neighborhood\", \"2006-2010\", \"2007-2011\", \"2008-2012\", \"2009-2013\", \"2010-2014\", \"Gender\"], \"y\": [\"Canyelles\", 89.6, 86.0, 85.9, 83.5, 86.5, \"Female\"]}, {\"line\": {\"color\": \"rgba(0, 128, 128, 0.7808219178082192)\", \"dash\": \"solid\", \"shape\": \"linear\", \"width\": 1.3}, \"mode\": \"lines\", \"name\": \"49\", \"text\": \"\", \"type\": \"scatter\", \"uid\": \"5ca47c36-b87a-4f70-b92e-9b610e7b41d8\", \"x\": [\"Neighborhood\", \"2006-2010\", \"2007-2011\", \"2008-2012\", \"2009-2013\", \"2010-2014\", \"Gender\"], \"y\": [\"les Roquetes\", 88.5, 86.1, 85.9, 83.6, 86.5, \"Female\"]}, {\"line\": {\"color\": \"rgba(0, 128, 128, 0.726027397260274)\", \"dash\": \"solid\", \"shape\": \"linear\", \"width\": 1.3}, \"mode\": \"lines\", \"name\": \"50\", \"text\": \"\", \"type\": \"scatter\", \"uid\": \"4839cdd2-2fec-4f60-bef4-5aa937b3b15e\", \"x\": [\"Neighborhood\", \"2006-2010\", \"2007-2011\", \"2008-2012\", \"2009-2013\", \"2010-2014\", \"Gender\"], \"y\": [\"Verdun\", 88.4, 86.6, 86.9, 86.2, 89.0, \"Female\"]}, {\"line\": {\"color\": \"rgba(255, 255, 51, 0.726027397260274)\", \"dash\": \"solid\", \"shape\": \"linear\", \"width\": 1.3}, \"mode\": \"lines\", \"name\": \"51\", \"text\": \"\", \"type\": \"scatter\", \"uid\": \"8a098fbe-b59a-4d2b-9d2b-bacbef7033d7\", \"x\": [\"Neighborhood\", \"2006-2010\", \"2007-2011\", \"2008-2012\", \"2009-2013\", \"2010-2014\", \"Gender\"], \"y\": [\"la Prosperitat\", 89.6, 87.1, 87.4, 80.5, 88.4, \"Female\"]}, {\"line\": {\"color\": \"rgba(128, 128, 0, 0.726027397260274)\", \"dash\": \"solid\", \"shape\": \"linear\", \"width\": 1.3}, \"mode\": \"lines\", \"name\": \"52\", \"text\": \"\", \"type\": \"scatter\", \"uid\": \"6f371906-2eed-44c2-8f44-8a5249d06b18\", \"x\": [\"Neighborhood\", \"2006-2010\", \"2007-2011\", \"2008-2012\", \"2009-2013\", \"2010-2014\", \"Gender\"], \"y\": [\"la Trinitat Nova\", 87.4, 84.5, 84.1, 87.7, 83.3, \"Female\"]}, {\"line\": {\"color\": \"rgba(251, 128, 114, 0.726027397260274)\", \"dash\": \"solid\", \"shape\": \"linear\", \"width\": 1.3}, \"mode\": \"lines\", \"name\": \"53\", \"text\": \"\", \"type\": \"scatter\", \"uid\": \"b543e4a7-1ab9-49ac-bd13-c430fcdd7f45\", \"x\": [\"Neighborhood\", \"2006-2010\", \"2007-2011\", \"2008-2012\", \"2009-2013\", \"2010-2014\", \"Gender\"], \"y\": [\"Torre Bar\\u00f3\", \"\", 81.7, 81.6, 83.1, 84.8, \"Female\"]}, {\"line\": {\"color\": \"rgba(128, 177, 211, 0.726027397260274)\", \"dash\": \"solid\", \"shape\": \"linear\", \"width\": 1.3}, \"mode\": \"lines\", \"name\": \"54\", \"text\": \"\", \"type\": \"scatter\", \"uid\": \"44478096-228e-4b74-8ac9-e3904f9ee2dc\", \"x\": [\"Neighborhood\", \"2006-2010\", \"2007-2011\", \"2008-2012\", \"2009-2013\", \"2010-2014\", \"Gender\"], \"y\": [\"Ciutat Meridiana\", 87.9, 85.3, 85.7, 86.3, 88.2, \"Female\"]}, {\"line\": {\"color\": \"rgba(255, 153, 51, 0.726027397260274)\", \"dash\": \"solid\", \"shape\": \"linear\", \"width\": 1.3}, \"mode\": \"lines\", \"name\": \"55\", \"text\": \"\", \"type\": \"scatter\", \"uid\": \"89b6fcd1-bc51-4994-8608-d2931665aa3d\", \"x\": [\"Neighborhood\", \"2006-2010\", \"2007-2011\", \"2008-2012\", \"2009-2013\", \"2010-2014\", \"Gender\"], \"y\": [\"Vallbona\", \"\", \"\", \"\", \"\", 78.4, \"Female\"]}, {\"line\": {\"color\": \"rgba(55, 128, 191, 0.726027397260274)\", \"dash\": \"solid\", \"shape\": \"linear\", \"width\": 1.3}, \"mode\": \"lines\", \"name\": \"56\", \"text\": \"\", \"type\": \"scatter\", \"uid\": \"0897c4fa-dc16-4bdd-b18e-b4869c26f7b2\", \"x\": [\"Neighborhood\", \"2006-2010\", \"2007-2011\", \"2008-2012\", \"2009-2013\", \"2010-2014\", \"Gender\"], \"y\": [\"la Trinitat Vella\", 87.0, 85.8, 86.3, 86.9, 89.5, \"Female\"]}, {\"line\": {\"color\": \"rgba(50, 171, 96, 0.726027397260274)\", \"dash\": \"solid\", \"shape\": \"linear\", \"width\": 1.3}, \"mode\": \"lines\", \"name\": \"57\", \"text\": \"\", \"type\": \"scatter\", \"uid\": \"43128654-ec47-4180-b9d1-1a98d7bf05bd\", \"x\": [\"Neighborhood\", \"2006-2010\", \"2007-2011\", \"2008-2012\", \"2009-2013\", \"2010-2014\", \"Gender\"], \"y\": [\"Bar\\u00f3 de Viver\", 82.4, 79.9, \"\", 88.0, 85.7, \"Female\"]}, {\"line\": {\"color\": \"rgba(128, 0, 128, 0.726027397260274)\", \"dash\": \"solid\", \"shape\": \"linear\", \"width\": 1.3}, \"mode\": \"lines\", \"name\": \"58\", \"text\": \"\", \"type\": \"scatter\", \"uid\": \"0d70ea28-0c82-4b5e-b69e-cfd075ff628c\", \"x\": [\"Neighborhood\", \"2006-2010\", \"2007-2011\", \"2008-2012\", \"2009-2013\", \"2010-2014\", \"Gender\"], \"y\": [\"el Bon Pastor\", 86.3, 84.8, 85.6, 88.5, 86.8, \"Female\"]}, {\"line\": {\"color\": \"rgba(219, 64, 82, 0.726027397260274)\", \"dash\": \"solid\", \"shape\": \"linear\", \"width\": 1.3}, \"mode\": \"lines\", \"name\": \"59\", \"text\": \"\", \"type\": \"scatter\", \"uid\": \"2f4264af-4690-44a5-a6a4-3e37f7d5cc22\", \"x\": [\"Neighborhood\", \"2006-2010\", \"2007-2011\", \"2008-2012\", \"2009-2013\", \"2010-2014\", \"Gender\"], \"y\": [\"Sant Andreu\", 88.8, 86.4, 86.7, 88.3, 87.8, \"Female\"]}, {\"line\": {\"color\": \"rgba(219, 64, 82, 0.6712328767123288)\", \"dash\": \"solid\", \"shape\": \"linear\", \"width\": 1.3}, \"mode\": \"lines\", \"name\": \"60\", \"text\": \"\", \"type\": \"scatter\", \"uid\": \"dabff616-b2e6-422f-b24d-e159605a33aa\", \"x\": [\"Neighborhood\", \"2006-2010\", \"2007-2011\", \"2008-2012\", \"2009-2013\", \"2010-2014\", \"Gender\"], \"y\": [\"la Sagrera\", 89.9, 87.1, 87.3, 87.4, 88.2, \"Female\"]}, {\"line\": {\"color\": \"rgba(0, 128, 128, 0.6712328767123288)\", \"dash\": \"solid\", \"shape\": \"linear\", \"width\": 1.3}, \"mode\": \"lines\", \"name\": \"61\", \"text\": \"\", \"type\": \"scatter\", \"uid\": \"157daa7e-b996-4e9b-836a-7381686510bc\", \"x\": [\"Neighborhood\", \"2006-2010\", \"2007-2011\", \"2008-2012\", \"2009-2013\", \"2010-2014\", \"Gender\"], \"y\": [\"el Congr\\u00e9s i els Indians\", 89.9, 87.5, 87.8, 87.7, 88.9, \"Female\"]}, {\"line\": {\"color\": \"rgba(255, 255, 51, 0.6712328767123288)\", \"dash\": \"solid\", \"shape\": \"linear\", \"width\": 1.3}, \"mode\": \"lines\", \"name\": \"62\", \"text\": \"\", \"type\": \"scatter\", \"uid\": \"66abec39-6948-4695-9d79-2ff26a29aee6\", \"x\": [\"Neighborhood\", \"2006-2010\", \"2007-2011\", \"2008-2012\", \"2009-2013\", \"2010-2014\", \"Gender\"], \"y\": [\"Navas\", 89.8, 87.4, 87.6, 86.0, 89.6, \"Female\"]}, {\"line\": {\"color\": \"rgba(128, 128, 0, 0.6712328767123288)\", \"dash\": \"solid\", \"shape\": \"linear\", \"width\": 1.3}, \"mode\": \"lines\", \"name\": \"63\", \"text\": \"\", \"type\": \"scatter\", \"uid\": \"e15b81b3-5164-4f70-af98-eb436916ee65\", \"x\": [\"Neighborhood\", \"2006-2010\", \"2007-2011\", \"2008-2012\", \"2009-2013\", \"2010-2014\", \"Gender\"], \"y\": [\"el Camp de l'Arpa del Clot\", 89.1, 86.6, 87.2, 88.3, 87.5, \"Female\"]}, {\"line\": {\"color\": \"rgba(251, 128, 114, 0.6712328767123288)\", \"dash\": \"solid\", \"shape\": \"linear\", \"width\": 1.3}, \"mode\": \"lines\", \"name\": \"64\", \"text\": \"\", \"type\": \"scatter\", \"uid\": \"19a0d8f6-05be-45b6-94cc-19aecacf0ad3\", \"x\": [\"Neighborhood\", \"2006-2010\", \"2007-2011\", \"2008-2012\", \"2009-2013\", \"2010-2014\", \"Gender\"], \"y\": [\"el Clot\", 88.7, 86.7, 87.2, 86.9, 88.6, \"Female\"]}, {\"line\": {\"color\": \"rgba(128, 177, 211, 0.6712328767123288)\", \"dash\": \"solid\", \"shape\": \"linear\", \"width\": 1.3}, \"mode\": \"lines\", \"name\": \"65\", \"text\": \"\", \"type\": \"scatter\", \"uid\": \"48266f84-2565-4599-9abd-0ede17571c21\", \"x\": [\"Neighborhood\", \"2006-2010\", \"2007-2011\", \"2008-2012\", \"2009-2013\", \"2010-2014\", \"Gender\"], \"y\": [\"el Parc i la Llacuna del Poblenou\", 88.1, 85.4, 85.6, 87.9, 85.6, \"Female\"]}, {\"line\": {\"color\": \"rgba(255, 153, 51, 0.6712328767123288)\", \"dash\": \"solid\", \"shape\": \"linear\", \"width\": 1.3}, \"mode\": \"lines\", \"name\": \"66\", \"text\": \"\", \"type\": \"scatter\", \"uid\": \"4ded015f-e449-4943-b9bc-474af56928e3\", \"x\": [\"Neighborhood\", \"2006-2010\", \"2007-2011\", \"2008-2012\", \"2009-2013\", \"2010-2014\", \"Gender\"], \"y\": [\"la Vila Ol\\u00edmpica del Poblenou\", 90.4, 87.0, 88.0, 85.1, 87.5, \"Female\"]}, {\"line\": {\"color\": \"rgba(55, 128, 191, 0.6712328767123288)\", \"dash\": \"solid\", \"shape\": \"linear\", \"width\": 1.3}, \"mode\": \"lines\", \"name\": \"67\", \"text\": \"\", \"type\": \"scatter\", \"uid\": \"7ef6e5ae-d741-4507-9da2-e148a88603fb\", \"x\": [\"Neighborhood\", \"2006-2010\", \"2007-2011\", \"2008-2012\", \"2009-2013\", \"2010-2014\", \"Gender\"], \"y\": [\"el Poblenou\", 88.1, 85.7, 86.1, 85.8, 87.1, \"Female\"]}, {\"line\": {\"color\": \"rgba(50, 171, 96, 0.6712328767123288)\", \"dash\": \"solid\", \"shape\": \"linear\", \"width\": 1.3}, \"mode\": \"lines\", \"name\": \"68\", \"text\": \"\", \"type\": \"scatter\", \"uid\": \"ddc68020-beeb-4214-b14d-91843158c6aa\", \"x\": [\"Neighborhood\", \"2006-2010\", \"2007-2011\", \"2008-2012\", \"2009-2013\", \"2010-2014\", \"Gender\"], \"y\": [\"Diagonal Mar i el Front Mar\\u00edtim del Poblenou\", 88.1, 87.3, 87.4, 87.3, 88.1, \"Female\"]}, {\"line\": {\"color\": \"rgba(128, 0, 128, 0.6712328767123288)\", \"dash\": \"solid\", \"shape\": \"linear\", \"width\": 1.3}, \"mode\": \"lines\", \"name\": \"69\", \"text\": \"\", \"type\": \"scatter\", \"uid\": \"4e20cc48-8be8-46df-b0e6-903274f075c1\", \"x\": [\"Neighborhood\", \"2006-2010\", \"2007-2011\", \"2008-2012\", \"2009-2013\", \"2010-2014\", \"Gender\"], \"y\": [\"el Bes\\u00f2s i el Maresme\", 86.8, 85.0, 85.5, 86.6, 86.4, \"Female\"]}, {\"line\": {\"color\": \"rgba(128, 0, 128, 0.6164383561643836)\", \"dash\": \"solid\", \"shape\": \"linear\", \"width\": 1.3}, \"mode\": \"lines\", \"name\": \"70\", \"text\": \"\", \"type\": \"scatter\", \"uid\": \"8b7ae385-ddbe-497c-bc1f-c41dd48cce75\", \"x\": [\"Neighborhood\", \"2006-2010\", \"2007-2011\", \"2008-2012\", \"2009-2013\", \"2010-2014\", \"Gender\"], \"y\": [\"Proven\\u00e7als del Poblenou\", 88.4, 86.7, 86.5, 86.3, 88.4, \"Female\"]}, {\"line\": {\"color\": \"rgba(219, 64, 82, 0.6164383561643836)\", \"dash\": \"solid\", \"shape\": \"linear\", \"width\": 1.3}, \"mode\": \"lines\", \"name\": \"71\", \"text\": \"\", \"type\": \"scatter\", \"uid\": \"64f98171-cb52-40bd-8526-d025f10bbece\", \"x\": [\"Neighborhood\", \"2006-2010\", \"2007-2011\", \"2008-2012\", \"2009-2013\", \"2010-2014\", \"Gender\"], \"y\": [\"Sant Mart\\u00ed de Proven\\u00e7als\", 88.8, 86.1, 86.2, 86.4, 87.2, \"Female\"]}, {\"line\": {\"color\": \"rgba(0, 128, 128, 0.6164383561643836)\", \"dash\": \"solid\", \"shape\": \"linear\", \"width\": 1.3}, \"mode\": \"lines\", \"name\": \"72\", \"text\": \"\", \"type\": \"scatter\", \"uid\": \"bb87ae2c-d377-4aef-b7ca-12396797efb4\", \"x\": [\"Neighborhood\", \"2006-2010\", \"2007-2011\", \"2008-2012\", \"2009-2013\", \"2010-2014\", \"Gender\"], \"y\": [\" la Verneda i la Pau\", 87.9, 85.8, 85.7, 88.1, 87.0, \"Female\"]}, {\"line\": {\"color\": \"rgba(255, 255, 51, 0.6164383561643836)\", \"dash\": \"solid\", \"shape\": \"linear\", \"width\": 1.3}, \"mode\": \"lines\", \"name\": \"73\", \"text\": \"\", \"type\": \"scatter\", \"uid\": \"7835d018-d311-4080-8164-efaa0b78617e\", \"x\": [\"Neighborhood\", \"2006-2010\", \"2007-2011\", \"2008-2012\", \"2009-2013\", \"2010-2014\", \"Gender\"], \"y\": [\"el Raval\", 77.9, 75.1, 75.7, 76.2, 76.5, \"Male\"]}, {\"line\": {\"color\": \"rgba(128, 128, 0, 0.6164383561643836)\", \"dash\": \"solid\", \"shape\": \"linear\", \"width\": 1.3}, \"mode\": \"lines\", \"name\": \"74\", \"text\": \"\", \"type\": \"scatter\", \"uid\": \"8eda9e4f-e027-4f7f-9cd5-cd52b73efead\", \"x\": [\"Neighborhood\", \"2006-2010\", \"2007-2011\", \"2008-2012\", \"2009-2013\", \"2010-2014\", \"Gender\"], \"y\": [\"el Barri G\\u00f2tic\", 81.3, 78.6, 78.9, 79.5, 78.7, \"Male\"]}, {\"line\": {\"color\": \"rgba(251, 128, 114, 0.6164383561643836)\", \"dash\": \"solid\", \"shape\": \"linear\", \"width\": 1.3}, \"mode\": \"lines\", \"name\": \"75\", \"text\": \"\", \"type\": \"scatter\", \"uid\": \"e6b73ad9-d533-4059-8257-c32d778836fd\", \"x\": [\"Neighborhood\", \"2006-2010\", \"2007-2011\", \"2008-2012\", \"2009-2013\", \"2010-2014\", \"Gender\"], \"y\": [\"la Barceloneta\", 78.3, 75.0, 75.8, 78.6, 75.9, \"Male\"]}, {\"line\": {\"color\": \"rgba(128, 177, 211, 0.6164383561643836)\", \"dash\": \"solid\", \"shape\": \"linear\", \"width\": 1.3}, \"mode\": \"lines\", \"name\": \"76\", \"text\": \"\", \"type\": \"scatter\", \"uid\": \"cab61da8-563a-4a00-9881-c789957c6eb0\", \"x\": [\"Neighborhood\", \"2006-2010\", \"2007-2011\", \"2008-2012\", \"2009-2013\", \"2010-2014\", \"Gender\"], \"y\": [\"Sant Pere, Santa Caterina i la Ribera\", 80.9, 78.0, 77.7, 78.8, 78.3, \"Male\"]}, {\"line\": {\"color\": \"rgba(255, 153, 51, 0.6164383561643836)\", \"dash\": \"solid\", \"shape\": \"linear\", \"width\": 1.3}, \"mode\": \"lines\", \"name\": \"77\", \"text\": \"\", \"type\": \"scatter\", \"uid\": \"32607283-f842-4c0f-b6f9-37711687bfb8\", \"x\": [\"Neighborhood\", \"2006-2010\", \"2007-2011\", \"2008-2012\", \"2009-2013\", \"2010-2014\", \"Gender\"], \"y\": [\"el Fort Pienc\", 83.0, 80.7, 80.9, 80.2, 81.4, \"Male\"]}, {\"line\": {\"color\": \"rgba(55, 128, 191, 0.6164383561643836)\", \"dash\": \"solid\", \"shape\": \"linear\", \"width\": 1.3}, \"mode\": \"lines\", \"name\": \"78\", \"text\": \"\", \"type\": \"scatter\", \"uid\": \"29ff1526-e124-4134-b529-0787ed17c34b\", \"x\": [\"Neighborhood\", \"2006-2010\", \"2007-2011\", \"2008-2012\", \"2009-2013\", \"2010-2014\", \"Gender\"], \"y\": [\"la Sagrada Fam\\u00edlia\", 83.2, 80.6, 81.0, 79.2, 81.3, \"Male\"]}, {\"line\": {\"color\": \"rgba(50, 171, 96, 0.6164383561643836)\", \"dash\": \"solid\", \"shape\": \"linear\", \"width\": 1.3}, \"mode\": \"lines\", \"name\": \"79\", \"text\": \"\", \"type\": \"scatter\", \"uid\": \"e18d3414-8742-4f36-94bb-940898ef422f\", \"x\": [\"Neighborhood\", \"2006-2010\", \"2007-2011\", \"2008-2012\", \"2009-2013\", \"2010-2014\", \"Gender\"], \"y\": [\"la Dreta de l'Eixample\", 81.2, 78.9, 79.3, 79.1, 80.1, \"Male\"]}, {\"line\": {\"color\": \"rgba(50, 171, 96, 0.5616438356164384)\", \"dash\": \"solid\", \"shape\": \"linear\", \"width\": 1.3}, \"mode\": \"lines\", \"name\": \"80\", \"text\": \"\", \"type\": \"scatter\", \"uid\": \"fc60dd60-2258-46d0-91b9-5b29251a18de\", \"x\": [\"Neighborhood\", \"2006-2010\", \"2007-2011\", \"2008-2012\", \"2009-2013\", \"2010-2014\", \"Gender\"], \"y\": [\"l'Antiga Esquerra de l'Eixample\", 82.3, 79.8, 80.3, 80.3, 80.8, \"Male\"]}, {\"line\": {\"color\": \"rgba(128, 0, 128, 0.5616438356164384)\", \"dash\": \"solid\", \"shape\": \"linear\", \"width\": 1.3}, \"mode\": \"lines\", \"name\": \"81\", \"text\": \"\", \"type\": \"scatter\", \"uid\": \"1260a4b6-2ef9-4aff-b7a5-3f5f683fb4ba\", \"x\": [\"Neighborhood\", \"2006-2010\", \"2007-2011\", \"2008-2012\", \"2009-2013\", \"2010-2014\", \"Gender\"], \"y\": [\"la Nova Esquerra de l'Eixample\", 82.1, 79.9, 80.0, 81.4, 81.0, \"Male\"]}, {\"line\": {\"color\": \"rgba(219, 64, 82, 0.5616438356164384)\", \"dash\": \"solid\", \"shape\": \"linear\", \"width\": 1.3}, \"mode\": \"lines\", \"name\": \"82\", \"text\": \"\", \"type\": \"scatter\", \"uid\": \"d496682d-9a45-4f1d-9aa3-a773e8d2f0a4\", \"x\": [\"Neighborhood\", \"2006-2010\", \"2007-2011\", \"2008-2012\", \"2009-2013\", \"2010-2014\", \"Gender\"], \"y\": [\"Sant Antoni\", 81.7, 79.3, 79.4, 80.9, 79.8, \"Male\"]}, {\"line\": {\"color\": \"rgba(0, 128, 128, 0.5616438356164384)\", \"dash\": \"solid\", \"shape\": \"linear\", \"width\": 1.3}, \"mode\": \"lines\", \"name\": \"83\", \"text\": \"\", \"type\": \"scatter\", \"uid\": \"d0876872-4ef5-4cbb-9de1-1971edff91db\", \"x\": [\"Neighborhood\", \"2006-2010\", \"2007-2011\", \"2008-2012\", \"2009-2013\", \"2010-2014\", \"Gender\"], \"y\": [\"el Poble Sec - Parc Montju\\u00efc\", 80.6, 78.2, 78.7, 82.0, 78.8, \"Male\"]}, {\"line\": {\"color\": \"rgba(255, 255, 51, 0.5616438356164384)\", \"dash\": \"solid\", \"shape\": \"linear\", \"width\": 1.3}, \"mode\": \"lines\", \"name\": \"84\", \"text\": \"\", \"type\": \"scatter\", \"uid\": \"02ab7049-cd73-434a-9501-7724dce75a22\", \"x\": [\"Neighborhood\", \"2006-2010\", \"2007-2011\", \"2008-2012\", \"2009-2013\", \"2010-2014\", \"Gender\"], \"y\": [\"la Marina del Prat Vermell - Zona Franca\", \"\", \"\", \"\", \"\", \"\", \"Male\"]}, {\"line\": {\"color\": \"rgba(128, 128, 0, 0.5616438356164384)\", \"dash\": \"solid\", \"shape\": \"linear\", \"width\": 1.3}, \"mode\": \"lines\", \"name\": \"85\", \"text\": \"\", \"type\": \"scatter\", \"uid\": \"d5a04e67-ba8a-49a0-8b2e-e6d25c651146\", \"x\": [\"Neighborhood\", \"2006-2010\", \"2007-2011\", \"2008-2012\", \"2009-2013\", \"2010-2014\", \"Gender\"], \"y\": [\"la Marina de Port\", 83.1, 80.3, 79.9, 83.0, 80.0, \"Male\"]}, {\"line\": {\"color\": \"rgba(251, 128, 114, 0.5616438356164384)\", \"dash\": \"solid\", \"shape\": \"linear\", \"width\": 1.3}, \"mode\": \"lines\", \"name\": \"86\", \"text\": \"\", \"type\": \"scatter\", \"uid\": \"cfdfa32e-279c-45db-9854-3130d350e319\", \"x\": [\"Neighborhood\", \"2006-2010\", \"2007-2011\", \"2008-2012\", \"2009-2013\", \"2010-2014\", \"Gender\"], \"y\": [\"la Font de la Guatlla\", 81.5, 77.9, 78.1, 84.2, 78.8, \"Male\"]}, {\"line\": {\"color\": \"rgba(128, 177, 211, 0.5616438356164384)\", \"dash\": \"solid\", \"shape\": \"linear\", \"width\": 1.3}, \"mode\": \"lines\", \"name\": \"87\", \"text\": \"\", \"type\": \"scatter\", \"uid\": \"bb7a7087-18d5-4e17-adf2-e47bf152c8f4\", \"x\": [\"Neighborhood\", \"2006-2010\", \"2007-2011\", \"2008-2012\", \"2009-2013\", \"2010-2014\", \"Gender\"], \"y\": [\"Hostafrancs\", 81.2, 78.9, 78.7, 78.2, 79.8, \"Male\"]}, {\"line\": {\"color\": \"rgba(255, 153, 51, 0.5616438356164384)\", \"dash\": \"solid\", \"shape\": \"linear\", \"width\": 1.3}, \"mode\": \"lines\", \"name\": \"88\", \"text\": \"\", \"type\": \"scatter\", \"uid\": \"ac115c44-e560-4778-8899-04df5eaa006c\", \"x\": [\"Neighborhood\", \"2006-2010\", \"2007-2011\", \"2008-2012\", \"2009-2013\", \"2010-2014\", \"Gender\"], \"y\": [\"la Bordeta\", 83.9, 80.9, 80.4, 81.8, 80.9, \"Male\"]}, {\"line\": {\"color\": \"rgba(55, 128, 191, 0.5616438356164384)\", \"dash\": \"solid\", \"shape\": \"linear\", \"width\": 1.3}, \"mode\": \"lines\", \"name\": \"89\", \"text\": \"\", \"type\": \"scatter\", \"uid\": \"cba44649-0f2a-44af-a65d-7b83fac81730\", \"x\": [\"Neighborhood\", \"2006-2010\", \"2007-2011\", \"2008-2012\", \"2009-2013\", \"2010-2014\", \"Gender\"], \"y\": [\"Sants - Badal\", 83.5, 81.2, 81.2, 83.5, 82.0, \"Male\"]}, {\"line\": {\"color\": \"rgba(55, 128, 191, 0.5068493150684932)\", \"dash\": \"solid\", \"shape\": \"linear\", \"width\": 1.3}, \"mode\": \"lines\", \"name\": \"90\", \"text\": \"\", \"type\": \"scatter\", \"uid\": \"e98883f0-badd-4e3c-9185-12f0286b4686\", \"x\": [\"Neighborhood\", \"2006-2010\", \"2007-2011\", \"2008-2012\", \"2009-2013\", \"2010-2014\", \"Gender\"], \"y\": [\"Sants\", 81.7, 79.5, 80.2, 82.4, 81.6, \"Male\"]}, {\"line\": {\"color\": \"rgba(50, 171, 96, 0.5068493150684932)\", \"dash\": \"solid\", \"shape\": \"linear\", \"width\": 1.3}, \"mode\": \"lines\", \"name\": \"91\", \"text\": \"\", \"type\": \"scatter\", \"uid\": \"889ed31d-6e77-49bb-a87b-bfe57691fe8f\", \"x\": [\"Neighborhood\", \"2006-2010\", \"2007-2011\", \"2008-2012\", \"2009-2013\", \"2010-2014\", \"Gender\"], \"y\": [\"les Corts\", 83.0, 81.1, 81.4, 81.8, 82.4, \"Male\"]}, {\"line\": {\"color\": \"rgba(128, 0, 128, 0.5068493150684932)\", \"dash\": \"solid\", \"shape\": \"linear\", \"width\": 1.3}, \"mode\": \"lines\", \"name\": \"92\", \"text\": \"\", \"type\": \"scatter\", \"uid\": \"668d9189-bd8a-49ec-9e65-5f24f5389a8b\", \"x\": [\"Neighborhood\", \"2006-2010\", \"2007-2011\", \"2008-2012\", \"2009-2013\", \"2010-2014\", \"Gender\"], \"y\": [\"la Maternitat i Sant Ramon\", 83.9, 82.0, 82.1, 82.1, 83.5, \"Male\"]}, {\"line\": {\"color\": \"rgba(219, 64, 82, 0.5068493150684932)\", \"dash\": \"solid\", \"shape\": \"linear\", \"width\": 1.3}, \"mode\": \"lines\", \"name\": \"93\", \"text\": \"\", \"type\": \"scatter\", \"uid\": \"1be2d348-f68f-44f8-a320-89c2cf21c6fd\", \"x\": [\"Neighborhood\", \"2006-2010\", \"2007-2011\", \"2008-2012\", \"2009-2013\", \"2010-2014\", \"Gender\"], \"y\": [\"Pedralbes\", 84.7, 82.7, 83.3, 80.7, 83.6, \"Male\"]}, {\"line\": {\"color\": \"rgba(0, 128, 128, 0.5068493150684932)\", \"dash\": \"solid\", \"shape\": \"linear\", \"width\": 1.3}, \"mode\": \"lines\", \"name\": \"94\", \"text\": \"\", \"type\": \"scatter\", \"uid\": \"f8f96cf2-5d83-44a2-bb7e-6984213b6210\", \"x\": [\"Neighborhood\", \"2006-2010\", \"2007-2011\", \"2008-2012\", \"2009-2013\", \"2010-2014\", \"Gender\"], \"y\": [\"Vallvidrera, el Tibidabo i les Planes\", 78.9, 77.6, 77.8, 81.0, 79.0, \"Male\"]}, {\"line\": {\"color\": \"rgba(255, 255, 51, 0.5068493150684932)\", \"dash\": \"solid\", \"shape\": \"linear\", \"width\": 1.3}, \"mode\": \"lines\", \"name\": \"95\", \"text\": \"\", \"type\": \"scatter\", \"uid\": \"e694d7c7-83b9-49fc-b95d-9c80097bf8c1\", \"x\": [\"Neighborhood\", \"2006-2010\", \"2007-2011\", \"2008-2012\", \"2009-2013\", \"2010-2014\", \"Gender\"], \"y\": [\"Sarri\\u00e0\", 83.7, 81.1, 81.2, 76.0, 81.7, \"Male\"]}, {\"line\": {\"color\": \"rgba(128, 128, 0, 0.5068493150684932)\", \"dash\": \"solid\", \"shape\": \"linear\", \"width\": 1.3}, \"mode\": \"lines\", \"name\": \"96\", \"text\": \"\", \"type\": \"scatter\", \"uid\": \"99fef5e6-3a38-4a4a-bcfb-280b77848975\", \"x\": [\"Neighborhood\", \"2006-2010\", \"2007-2011\", \"2008-2012\", \"2009-2013\", \"2010-2014\", \"Gender\"], \"y\": [\"les Tres Torres\", 84.7, 83.0, 83.2, 78.0, 83.9, \"Male\"]}, {\"line\": {\"color\": \"rgba(251, 128, 114, 0.5068493150684932)\", \"dash\": \"solid\", \"shape\": \"linear\", \"width\": 1.3}, \"mode\": \"lines\", \"name\": \"97\", \"text\": \"\", \"type\": \"scatter\", \"uid\": \"1e1d2fe3-9a55-4b71-9074-36d144234d57\", \"x\": [\"Neighborhood\", \"2006-2010\", \"2007-2011\", \"2008-2012\", \"2009-2013\", \"2010-2014\", \"Gender\"], \"y\": [\"Sant Gervasi - la Bonanova\", 83.5, 81.7, 81.8, 79.6, 82.5, \"Male\"]}, {\"line\": {\"color\": \"rgba(128, 177, 211, 0.5068493150684932)\", \"dash\": \"solid\", \"shape\": \"linear\", \"width\": 1.3}, \"mode\": \"lines\", \"name\": \"98\", \"text\": \"\", \"type\": \"scatter\", \"uid\": \"ce8e29b6-d0b1-44bc-87af-5b67687e5fc5\", \"x\": [\"Neighborhood\", \"2006-2010\", \"2007-2011\", \"2008-2012\", \"2009-2013\", \"2010-2014\", \"Gender\"], \"y\": [\"Sant Gervasi - Galvany\", 83.6, 81.2, 81.3, 81.3, 81.9, \"Male\"]}, {\"line\": {\"color\": \"rgba(255, 153, 51, 0.5068493150684932)\", \"dash\": \"solid\", \"shape\": \"linear\", \"width\": 1.3}, \"mode\": \"lines\", \"name\": \"99\", \"text\": \"\", \"type\": \"scatter\", \"uid\": \"171836b1-8648-4b14-b16c-1743badad988\", \"x\": [\"Neighborhood\", \"2006-2010\", \"2007-2011\", \"2008-2012\", \"2009-2013\", \"2010-2014\", \"Gender\"], \"y\": [\"el Putxet i el Farr\\u00f3\", 83.7, 81.3, 81.7, 81.2, 82.5, \"Male\"]}, {\"line\": {\"color\": \"rgba(255, 153, 51, 0.45205479452054803)\", \"dash\": \"solid\", \"shape\": \"linear\", \"width\": 1.3}, \"mode\": \"lines\", \"name\": \"100\", \"text\": \"\", \"type\": \"scatter\", \"uid\": \"2b72f02e-4eca-4766-a5e6-9fdc5b43659e\", \"x\": [\"Neighborhood\", \"2006-2010\", \"2007-2011\", \"2008-2012\", \"2009-2013\", \"2010-2014\", \"Gender\"], \"y\": [\"Vallcarca i els Penitents\", 82.6, 80.2, 80.6, 80.9, 80.9, \"Male\"]}, {\"line\": {\"color\": \"rgba(55, 128, 191, 0.45205479452054803)\", \"dash\": \"solid\", \"shape\": \"linear\", \"width\": 1.3}, \"mode\": \"lines\", \"name\": \"101\", \"text\": \"\", \"type\": \"scatter\", \"uid\": \"438b1fcf-cac3-4772-a705-906984d163d3\", \"x\": [\"Neighborhood\", \"2006-2010\", \"2007-2011\", \"2008-2012\", \"2009-2013\", \"2010-2014\", \"Gender\"], \"y\": [\"el Coll\", 81.4, 79.6, 80.7, 80.1, 81.4, \"Male\"]}, {\"line\": {\"color\": \"rgba(50, 171, 96, 0.45205479452054803)\", \"dash\": \"solid\", \"shape\": \"linear\", \"width\": 1.3}, \"mode\": \"lines\", \"name\": \"102\", \"text\": \"\", \"type\": \"scatter\", \"uid\": \"dd6499fd-5f52-4acb-87e0-c2dd81c244e1\", \"x\": [\"Neighborhood\", \"2006-2010\", \"2007-2011\", \"2008-2012\", \"2009-2013\", \"2010-2014\", \"Gender\"], \"y\": [\"la Salut\", 79.6, 77.6, 78.6, 80.1, 78.9, \"Male\"]}, {\"line\": {\"color\": \"rgba(128, 0, 128, 0.45205479452054803)\", \"dash\": \"solid\", \"shape\": \"linear\", \"width\": 1.3}, \"mode\": \"lines\", \"name\": \"103\", \"text\": \"\", \"type\": \"scatter\", \"uid\": \"9f1d5c2f-116f-40e8-8c70-bc4de4416cdc\", \"x\": [\"Neighborhood\", \"2006-2010\", \"2007-2011\", \"2008-2012\", \"2009-2013\", \"2010-2014\", \"Gender\"], \"y\": [\"la Vila de Gr\\u00e0cia\", 81.8, 79.0, 79.1, 79.4, 79.9, \"Male\"]}, {\"line\": {\"color\": \"rgba(219, 64, 82, 0.45205479452054803)\", \"dash\": \"solid\", \"shape\": \"linear\", \"width\": 1.3}, \"mode\": \"lines\", \"name\": \"104\", \"text\": \"\", \"type\": \"scatter\", \"uid\": \"8f61e634-2326-4a0d-a2e1-518e24c9727c\", \"x\": [\"Neighborhood\", \"2006-2010\", \"2007-2011\", \"2008-2012\", \"2009-2013\", \"2010-2014\", \"Gender\"], \"y\": [\"el Camp d'en Grassot i Gr\\u00e0cia Nova\", 82.7, 80.6, 81.0, 80.0, 81.4, \"Male\"]}, {\"line\": {\"color\": \"rgba(0, 128, 128, 0.45205479452054803)\", \"dash\": \"solid\", \"shape\": \"linear\", \"width\": 1.3}, \"mode\": \"lines\", \"name\": \"105\", \"text\": \"\", \"type\": \"scatter\", \"uid\": \"fb706afc-9d5d-43ba-88cc-747c04adf240\", \"x\": [\"Neighborhood\", \"2006-2010\", \"2007-2011\", \"2008-2012\", \"2009-2013\", \"2010-2014\", \"Gender\"], \"y\": [\"el Baix Guinard\\u00f3\", 83.9, 81.2, 81.1, 81.0, 81.0, \"Male\"]}, {\"line\": {\"color\": \"rgba(255, 255, 51, 0.45205479452054803)\", \"dash\": \"solid\", \"shape\": \"linear\", \"width\": 1.3}, \"mode\": \"lines\", \"name\": \"106\", \"text\": \"\", \"type\": \"scatter\", \"uid\": \"0d3dc52c-9048-4b12-8d4c-298a6c8e05c8\", \"x\": [\"Neighborhood\", \"2006-2010\", \"2007-2011\", \"2008-2012\", \"2009-2013\", \"2010-2014\", \"Gender\"], \"y\": [\"Can Bar\\u00f3\", 81.5, 78.9, 80.3, 78.8, 81.1, \"Male\"]}, {\"line\": {\"color\": \"rgba(128, 128, 0, 0.45205479452054803)\", \"dash\": \"solid\", \"shape\": \"linear\", \"width\": 1.3}, \"mode\": \"lines\", \"name\": \"107\", \"text\": \"\", \"type\": \"scatter\", \"uid\": \"6f5d89db-7074-4ae7-a930-1907caf00275\", \"x\": [\"Neighborhood\", \"2006-2010\", \"2007-2011\", \"2008-2012\", \"2009-2013\", \"2010-2014\", \"Gender\"], \"y\": [\"el Guinard\\u00f3\", 81.7, 79.7, 80.1, 77.4, 80.2, \"Male\"]}, {\"line\": {\"color\": \"rgba(251, 128, 114, 0.45205479452054803)\", \"dash\": \"solid\", \"shape\": \"linear\", \"width\": 1.3}, \"mode\": \"lines\", \"name\": \"108\", \"text\": \"\", \"type\": \"scatter\", \"uid\": \"13e6eff1-526f-4620-a2ee-f3f132a8ef60\", \"x\": [\"Neighborhood\", \"2006-2010\", \"2007-2011\", \"2008-2012\", \"2009-2013\", \"2010-2014\", \"Gender\"], \"y\": [\"la Font d'en Fargues\", 81.6, 79.7, 79.8, 80.5, 80.8, \"Male\"]}, {\"line\": {\"color\": \"rgba(128, 177, 211, 0.45205479452054803)\", \"dash\": \"solid\", \"shape\": \"linear\", \"width\": 1.3}, \"mode\": \"lines\", \"name\": \"109\", \"text\": \"\", \"type\": \"scatter\", \"uid\": \"30172f42-af32-497f-adda-1b29a5e93b24\", \"x\": [\"Neighborhood\", \"2006-2010\", \"2007-2011\", \"2008-2012\", \"2009-2013\", \"2010-2014\", \"Gender\"], \"y\": [\"el Carmel\", 80.7, 78.7, 79.0, 77.8, 79.4, \"Male\"]}, {\"line\": {\"color\": \"rgba(128, 177, 211, 0.39726027397260283)\", \"dash\": \"solid\", \"shape\": \"linear\", \"width\": 1.3}, \"mode\": \"lines\", \"name\": \"110\", \"text\": \"\", \"type\": \"scatter\", \"uid\": \"d49aa0ae-c523-4ff2-b41d-0281d39dede1\", \"x\": [\"Neighborhood\", \"2006-2010\", \"2007-2011\", \"2008-2012\", \"2009-2013\", \"2010-2014\", \"Gender\"], \"y\": [\"la Teixonera\", 82.3, 79.6, 79.8, 79.6, 80.4, \"Male\"]}, {\"line\": {\"color\": \"rgba(255, 153, 51, 0.39726027397260283)\", \"dash\": \"solid\", \"shape\": \"linear\", \"width\": 1.3}, \"mode\": \"lines\", \"name\": \"111\", \"text\": \"\", \"type\": \"scatter\", \"uid\": \"2a8c9f51-5dc2-4241-bf1c-19616521c268\", \"x\": [\"Neighborhood\", \"2006-2010\", \"2007-2011\", \"2008-2012\", \"2009-2013\", \"2010-2014\", \"Gender\"], \"y\": [\"Sant Gen\\u00eds dels Agudells\", 81.8, 80.0, 81.3, 79.6, 81.5, \"Male\"]}, {\"line\": {\"color\": \"rgba(55, 128, 191, 0.39726027397260283)\", \"dash\": \"solid\", \"shape\": \"linear\", \"width\": 1.3}, \"mode\": \"lines\", \"name\": \"112\", \"text\": \"\", \"type\": \"scatter\", \"uid\": \"01423ca7-166a-4f61-91be-b21b9091b28c\", \"x\": [\"Neighborhood\", \"2006-2010\", \"2007-2011\", \"2008-2012\", \"2009-2013\", \"2010-2014\", \"Gender\"], \"y\": [\"Montbau\", 77.1, 74.9, 75.9, 80.4, 77.5, \"Male\"]}, {\"line\": {\"color\": \"rgba(50, 171, 96, 0.39726027397260283)\", \"dash\": \"solid\", \"shape\": \"linear\", \"width\": 1.3}, \"mode\": \"lines\", \"name\": \"113\", \"text\": \"\", \"type\": \"scatter\", \"uid\": \"c703687c-c3fd-4bb3-8b8c-508dcb575ff2\", \"x\": [\"Neighborhood\", \"2006-2010\", \"2007-2011\", \"2008-2012\", \"2009-2013\", \"2010-2014\", \"Gender\"], \"y\": [\"la Vall d'Hebron\", 83.6, 80.7, 80.4, 81.0, 80.0, \"Male\"]}, {\"line\": {\"color\": \"rgba(128, 0, 128, 0.39726027397260283)\", \"dash\": \"solid\", \"shape\": \"linear\", \"width\": 1.3}, \"mode\": \"lines\", \"name\": \"114\", \"text\": \"\", \"type\": \"scatter\", \"uid\": \"ba13bef9-02fc-443e-ba32-cb4a52c74f77\", \"x\": [\"Neighborhood\", \"2006-2010\", \"2007-2011\", \"2008-2012\", \"2009-2013\", \"2010-2014\", \"Gender\"], \"y\": [\"la Clota\", \"\", \"\", \"\", \"\", \"\", \"Male\"]}, {\"line\": {\"color\": \"rgba(219, 64, 82, 0.39726027397260283)\", \"dash\": \"solid\", \"shape\": \"linear\", \"width\": 1.3}, \"mode\": \"lines\", \"name\": \"115\", \"text\": \"\", \"type\": \"scatter\", \"uid\": \"5254577a-72d3-45a3-8949-7410e1d83c7a\", \"x\": [\"Neighborhood\", \"2006-2010\", \"2007-2011\", \"2008-2012\", \"2009-2013\", \"2010-2014\", \"Gender\"], \"y\": [\"Horta\", 81.4, 78.8, 79.4, 79.7, 80.7, \"Male\"]}, {\"line\": {\"color\": \"rgba(0, 128, 128, 0.39726027397260283)\", \"dash\": \"solid\", \"shape\": \"linear\", \"width\": 1.3}, \"mode\": \"lines\", \"name\": \"116\", \"text\": \"\", \"type\": \"scatter\", \"uid\": \"a6719f96-a32d-4983-b12e-1d0241df12a8\", \"x\": [\"Neighborhood\", \"2006-2010\", \"2007-2011\", \"2008-2012\", \"2009-2013\", \"2010-2014\", \"Gender\"], \"y\": [\"Vilapicina i la Torre Llobeta\", 81.8, 79.1, 79.7, 79.8, 79.8, \"Male\"]}, {\"line\": {\"color\": \"rgba(255, 255, 51, 0.39726027397260283)\", \"dash\": \"solid\", \"shape\": \"linear\", \"width\": 1.3}, \"mode\": \"lines\", \"name\": \"117\", \"text\": \"\", \"type\": \"scatter\", \"uid\": \"da42d693-6e83-426a-9048-f81dbda8621f\", \"x\": [\"Neighborhood\", \"2006-2010\", \"2007-2011\", \"2008-2012\", \"2009-2013\", \"2010-2014\", \"Gender\"], \"y\": [\"Porta\", 81.7, 79.8, 79.9, 81.1, 81.0, \"Male\"]}, {\"line\": {\"color\": \"rgba(128, 128, 0, 0.39726027397260283)\", \"dash\": \"solid\", \"shape\": \"linear\", \"width\": 1.3}, \"mode\": \"lines\", \"name\": \"118\", \"text\": \"\", \"type\": \"scatter\", \"uid\": \"a0adccc6-7e6e-451b-a669-7aa22da6a352\", \"x\": [\"Neighborhood\", \"2006-2010\", \"2007-2011\", \"2008-2012\", \"2009-2013\", \"2010-2014\", \"Gender\"], \"y\": [\"el Tur\\u00f3 de la Peira\", 80.9, 79.0, 80.0, 77.0, 81.3, \"Male\"]}, {\"line\": {\"color\": \"rgba(251, 128, 114, 0.39726027397260283)\", \"dash\": \"solid\", \"shape\": \"linear\", \"width\": 1.3}, \"mode\": \"lines\", \"name\": \"119\", \"text\": \"\", \"type\": \"scatter\", \"uid\": \"8ed348d3-7ca6-492c-bca4-fbcf3d024e96\", \"x\": [\"Neighborhood\", \"2006-2010\", \"2007-2011\", \"2008-2012\", \"2009-2013\", \"2010-2014\", \"Gender\"], \"y\": [\"Can Peguera\", 74.7, 72.3, 71.8, 77.9, 75.0, \"Male\"]}, {\"line\": {\"color\": \"rgba(251, 128, 114, 0.3424657534246576)\", \"dash\": \"solid\", \"shape\": \"linear\", \"width\": 1.3}, \"mode\": \"lines\", \"name\": \"120\", \"text\": \"\", \"type\": \"scatter\", \"uid\": \"26df9bbd-b94f-4669-af21-07f90d3979ba\", \"x\": [\"Neighborhood\", \"2006-2010\", \"2007-2011\", \"2008-2012\", \"2009-2013\", \"2010-2014\", \"Gender\"], \"y\": [\"la Guineueta\", 80.9, 78.6, 78.8, 80.1, 81.0, \"Male\"]}, {\"line\": {\"color\": \"rgba(128, 177, 211, 0.3424657534246576)\", \"dash\": \"solid\", \"shape\": \"linear\", \"width\": 1.3}, \"mode\": \"lines\", \"name\": \"121\", \"text\": \"\", \"type\": \"scatter\", \"uid\": \"42c8384b-432b-4ae5-8059-8275cdcbc2ab\", \"x\": [\"Neighborhood\", \"2006-2010\", \"2007-2011\", \"2008-2012\", \"2009-2013\", \"2010-2014\", \"Gender\"], \"y\": [\"Canyelles\", 82.0, 79.3, 79.8, 75.8, 79.7, \"Male\"]}, {\"line\": {\"color\": \"rgba(255, 153, 51, 0.3424657534246576)\", \"dash\": \"solid\", \"shape\": \"linear\", \"width\": 1.3}, \"mode\": \"lines\", \"name\": \"122\", \"text\": \"\", \"type\": \"scatter\", \"uid\": \"686e0dc3-0710-41cf-9fba-2e42e1868b29\", \"x\": [\"Neighborhood\", \"2006-2010\", \"2007-2011\", \"2008-2012\", \"2009-2013\", \"2010-2014\", \"Gender\"], \"y\": [\"les Roquetes\", 79.2, 76.7, 76.8, 69.0, 77.6, \"Male\"]}, {\"line\": {\"color\": \"rgba(55, 128, 191, 0.3424657534246576)\", \"dash\": \"solid\", \"shape\": \"linear\", \"width\": 1.3}, \"mode\": \"lines\", \"name\": \"123\", \"text\": \"\", \"type\": \"scatter\", \"uid\": \"80ded7de-ebf9-4157-8279-743d336b191e\", \"x\": [\"Neighborhood\", \"2006-2010\", \"2007-2011\", \"2008-2012\", \"2009-2013\", \"2010-2014\", \"Gender\"], \"y\": [\"Verdun\", 80.2, 77.8, 78.1, 79.6, 77.7, \"Male\"]}, {\"line\": {\"color\": \"rgba(50, 171, 96, 0.3424657534246576)\", \"dash\": \"solid\", \"shape\": \"linear\", \"width\": 1.3}, \"mode\": \"lines\", \"name\": \"124\", \"text\": \"\", \"type\": \"scatter\", \"uid\": \"d216cac2-fa39-4ab4-9a04-4b5da7e06d6c\", \"x\": [\"Neighborhood\", \"2006-2010\", \"2007-2011\", \"2008-2012\", \"2009-2013\", \"2010-2014\", \"Gender\"], \"y\": [\"la Prosperitat\", 81.7, 79.3, 80.1, 77.7, 80.4, \"Male\"]}, {\"line\": {\"color\": \"rgba(128, 0, 128, 0.3424657534246576)\", \"dash\": \"solid\", \"shape\": \"linear\", \"width\": 1.3}, \"mode\": \"lines\", \"name\": \"125\", \"text\": \"\", \"type\": \"scatter\", \"uid\": \"e07dac2d-a238-4814-95b1-4c55b274578f\", \"x\": [\"Neighborhood\", \"2006-2010\", \"2007-2011\", \"2008-2012\", \"2009-2013\", \"2010-2014\", \"Gender\"], \"y\": [\"la Trinitat Nova\", 78.0, 75.9, 75.4, 79.8, 76.6, \"Male\"]}, {\"line\": {\"color\": \"rgba(219, 64, 82, 0.3424657534246576)\", \"dash\": \"solid\", \"shape\": \"linear\", \"width\": 1.3}, \"mode\": \"lines\", \"name\": \"126\", \"text\": \"\", \"type\": \"scatter\", \"uid\": \"f6079fc6-d036-43d2-a491-89cd1c959468\", \"x\": [\"Neighborhood\", \"2006-2010\", \"2007-2011\", \"2008-2012\", \"2009-2013\", \"2010-2014\", \"Gender\"], \"y\": [\"Torre Bar\\u00f3\", \"\", 70.7, 69.5, 73.1, 71.3, \"Male\"]}, {\"line\": {\"color\": \"rgba(0, 128, 128, 0.3424657534246576)\", \"dash\": \"solid\", \"shape\": \"linear\", \"width\": 1.3}, \"mode\": \"lines\", \"name\": \"127\", \"text\": \"\", \"type\": \"scatter\", \"uid\": \"1a4457cc-35f4-4704-ad93-6242393d21ca\", \"x\": [\"Neighborhood\", \"2006-2010\", \"2007-2011\", \"2008-2012\", \"2009-2013\", \"2010-2014\", \"Gender\"], \"y\": [\"Ciutat Meridiana\", 80.4, 78.0, 78.2, 78.3, 79.3, \"Male\"]}, {\"line\": {\"color\": \"rgba(255, 255, 51, 0.3424657534246576)\", \"dash\": \"solid\", \"shape\": \"linear\", \"width\": 1.3}, \"mode\": \"lines\", \"name\": \"128\", \"text\": \"\", \"type\": \"scatter\", \"uid\": \"2d5e1c94-8ac5-49e8-9df4-186a6558baf8\", \"x\": [\"Neighborhood\", \"2006-2010\", \"2007-2011\", \"2008-2012\", \"2009-2013\", \"2010-2014\", \"Gender\"], \"y\": [\"Vallbona\", \"\", \"\", \"\", \"\", 76.0, \"Male\"]}, {\"line\": {\"color\": \"rgba(128, 128, 0, 0.3424657534246576)\", \"dash\": \"solid\", \"shape\": \"linear\", \"width\": 1.3}, \"mode\": \"lines\", \"name\": \"129\", \"text\": \"\", \"type\": \"scatter\", \"uid\": \"c45a9926-0919-4655-9099-90664cf65ee5\", \"x\": [\"Neighborhood\", \"2006-2010\", \"2007-2011\", \"2008-2012\", \"2009-2013\", \"2010-2014\", \"Gender\"], \"y\": [\"la Trinitat Vella\", 80.4, 77.7, 79.0, 80.6, 80.8, \"Male\"]}, {\"line\": {\"color\": \"rgba(128, 128, 0, 0.2876712328767124)\", \"dash\": \"solid\", \"shape\": \"linear\", \"width\": 1.3}, \"mode\": \"lines\", \"name\": \"130\", \"text\": \"\", \"type\": \"scatter\", \"uid\": \"34b9c98c-3a84-4b24-912b-6a049c3d6199\", \"x\": [\"Neighborhood\", \"2006-2010\", \"2007-2011\", \"2008-2012\", \"2009-2013\", \"2010-2014\", \"Gender\"], \"y\": [\"Bar\\u00f3 de Viver\", 74.2, 71.2, \"\", 81.3, 74.6, \"Male\"]}, {\"line\": {\"color\": \"rgba(251, 128, 114, 0.2876712328767124)\", \"dash\": \"solid\", \"shape\": \"linear\", \"width\": 1.3}, \"mode\": \"lines\", \"name\": \"131\", \"text\": \"\", \"type\": \"scatter\", \"uid\": \"da829507-a4f1-4d7b-a78d-2534e1959055\", \"x\": [\"Neighborhood\", \"2006-2010\", \"2007-2011\", \"2008-2012\", \"2009-2013\", \"2010-2014\", \"Gender\"], \"y\": [\"el Bon Pastor\", 80.4, 77.8, 78.0, 80.3, 78.1, \"Male\"]}, {\"line\": {\"color\": \"rgba(128, 177, 211, 0.2876712328767124)\", \"dash\": \"solid\", \"shape\": \"linear\", \"width\": 1.3}, \"mode\": \"lines\", \"name\": \"132\", \"text\": \"\", \"type\": \"scatter\", \"uid\": \"8d583763-2455-448b-bc98-9f38048db88b\", \"x\": [\"Neighborhood\", \"2006-2010\", \"2007-2011\", \"2008-2012\", \"2009-2013\", \"2010-2014\", \"Gender\"], \"y\": [\"Sant Andreu\", 81.7, 79.7, 80.3, 81.8, 81.2, \"Male\"]}, {\"line\": {\"color\": \"rgba(255, 153, 51, 0.2876712328767124)\", \"dash\": \"solid\", \"shape\": \"linear\", \"width\": 1.3}, \"mode\": \"lines\", \"name\": \"133\", \"text\": \"\", \"type\": \"scatter\", \"uid\": \"a2a0bb33-66df-4858-9f30-854863409fca\", \"x\": [\"Neighborhood\", \"2006-2010\", \"2007-2011\", \"2008-2012\", \"2009-2013\", \"2010-2014\", \"Gender\"], \"y\": [\"la Sagrera\", 83.7, 81.3, 81.6, 81.3, 82.2, \"Male\"]}, {\"line\": {\"color\": \"rgba(55, 128, 191, 0.2876712328767124)\", \"dash\": \"solid\", \"shape\": \"linear\", \"width\": 1.3}, \"mode\": \"lines\", \"name\": \"134\", \"text\": \"\", \"type\": \"scatter\", \"uid\": \"2cc4aac3-a752-4cd4-8f2d-57b32ecfda60\", \"x\": [\"Neighborhood\", \"2006-2010\", \"2007-2011\", \"2008-2012\", \"2009-2013\", \"2010-2014\", \"Gender\"], \"y\": [\"el Congr\\u00e9s i els Indians\", 81.7, 79.2, 79.5, 80.9, 80.3, \"Male\"]}, {\"line\": {\"color\": \"rgba(50, 171, 96, 0.2876712328767124)\", \"dash\": \"solid\", \"shape\": \"linear\", \"width\": 1.3}, \"mode\": \"lines\", \"name\": \"135\", \"text\": \"\", \"type\": \"scatter\", \"uid\": \"35501005-8e5b-49ba-975c-41fb7c9aadca\", \"x\": [\"Neighborhood\", \"2006-2010\", \"2007-2011\", \"2008-2012\", \"2009-2013\", \"2010-2014\", \"Gender\"], \"y\": [\"Navas\", 82.5, 80.4, 80.6, 80.5, 82.3, \"Male\"]}, {\"line\": {\"color\": \"rgba(128, 0, 128, 0.2876712328767124)\", \"dash\": \"solid\", \"shape\": \"linear\", \"width\": 1.3}, \"mode\": \"lines\", \"name\": \"136\", \"text\": \"\", \"type\": \"scatter\", \"uid\": \"775b18f4-b92a-4d6a-8bcf-c7131629ea90\", \"x\": [\"Neighborhood\", \"2006-2010\", \"2007-2011\", \"2008-2012\", \"2009-2013\", \"2010-2014\", \"Gender\"], \"y\": [\"el Camp de l'Arpa del Clot\", 82.9, 80.4, 81.1, 82.4, 81.9, \"Male\"]}, {\"line\": {\"color\": \"rgba(219, 64, 82, 0.2876712328767124)\", \"dash\": \"solid\", \"shape\": \"linear\", \"width\": 1.3}, \"mode\": \"lines\", \"name\": \"137\", \"text\": \"\", \"type\": \"scatter\", \"uid\": \"76e70d87-33e8-4ae1-a649-9e754c64e6d4\", \"x\": [\"Neighborhood\", \"2006-2010\", \"2007-2011\", \"2008-2012\", \"2009-2013\", \"2010-2014\", \"Gender\"], \"y\": [\"el Clot\", 81.9, 80.3, 80.6, 78.9, 81.3, \"Male\"]}, {\"line\": {\"color\": \"rgba(0, 128, 128, 0.2876712328767124)\", \"dash\": \"solid\", \"shape\": \"linear\", \"width\": 1.3}, \"mode\": \"lines\", \"name\": \"138\", \"text\": \"\", \"type\": \"scatter\", \"uid\": \"70a041e1-b360-4abb-900a-4886368215ca\", \"x\": [\"Neighborhood\", \"2006-2010\", \"2007-2011\", \"2008-2012\", \"2009-2013\", \"2010-2014\", \"Gender\"], \"y\": [\"el Parc i la Llacuna del Poblenou\", 82.4, 79.8, 80.2, 81.8, 80.5, \"Male\"]}, {\"line\": {\"color\": \"rgba(255, 255, 51, 0.2876712328767124)\", \"dash\": \"solid\", \"shape\": \"linear\", \"width\": 1.3}, \"mode\": \"lines\", \"name\": \"139\", \"text\": \"\", \"type\": \"scatter\", \"uid\": \"7ea35436-87a4-4a7f-b5a6-83b18102dae0\", \"x\": [\"Neighborhood\", \"2006-2010\", \"2007-2011\", \"2008-2012\", \"2009-2013\", \"2010-2014\", \"Gender\"], \"y\": [\"la Vila Ol\\u00edmpica del Poblenou\", 87.2, 82.6, 82.1, 80.2, 82.7, \"Male\"]}, {\"line\": {\"color\": \"rgba(255, 255, 51, 0.23287671232876722)\", \"dash\": \"solid\", \"shape\": \"linear\", \"width\": 1.3}, \"mode\": \"lines\", \"name\": \"140\", \"text\": \"\", \"type\": \"scatter\", \"uid\": \"e1a9cc68-72bc-4202-b6a7-1def205a239e\", \"x\": [\"Neighborhood\", \"2006-2010\", \"2007-2011\", \"2008-2012\", \"2009-2013\", \"2010-2014\", \"Gender\"], \"y\": [\"el Poblenou\", 81.4, 78.7, 78.4, 78.8, 79.5, \"Male\"]}, {\"line\": {\"color\": \"rgba(128, 128, 0, 0.23287671232876722)\", \"dash\": \"solid\", \"shape\": \"linear\", \"width\": 1.3}, \"mode\": \"lines\", \"name\": \"141\", \"text\": \"\", \"type\": \"scatter\", \"uid\": \"16ec506f-1ade-49ee-8b22-c97bfb50acff\", \"x\": [\"Neighborhood\", \"2006-2010\", \"2007-2011\", \"2008-2012\", \"2009-2013\", \"2010-2014\", \"Gender\"], \"y\": [\"Diagonal Mar i el Front Mar\\u00edtim del Poblenou\", 82.1, 80.9, 81.2, 79.7, 82.2, \"Male\"]}, {\"line\": {\"color\": \"rgba(251, 128, 114, 0.23287671232876722)\", \"dash\": \"solid\", \"shape\": \"linear\", \"width\": 1.3}, \"mode\": \"lines\", \"name\": \"142\", \"text\": \"\", \"type\": \"scatter\", \"uid\": \"a4b31103-79b9-4361-964a-f05d5655480e\", \"x\": [\"Neighborhood\", \"2006-2010\", \"2007-2011\", \"2008-2012\", \"2009-2013\", \"2010-2014\", \"Gender\"], \"y\": [\"el Bes\\u00f2s i el Maresme\", 80.2, 78.1, 78.4, 79.8, 79.6, \"Male\"]}, {\"line\": {\"color\": \"rgba(128, 177, 211, 0.23287671232876722)\", \"dash\": \"solid\", \"shape\": \"linear\", \"width\": 1.3}, \"mode\": \"lines\", \"name\": \"143\", \"text\": \"\", \"type\": \"scatter\", \"uid\": \"c9d39b39-2fd0-499e-bc82-b9703f690756\", \"x\": [\"Neighborhood\", \"2006-2010\", \"2007-2011\", \"2008-2012\", \"2009-2013\", \"2010-2014\", \"Gender\"], \"y\": [\"Proven\\u00e7als del Poblenou\", 80.4, 78.8, 79.4, 80.1, 81.5, \"Male\"]}, {\"line\": {\"color\": \"rgba(255, 153, 51, 0.23287671232876722)\", \"dash\": \"solid\", \"shape\": \"linear\", \"width\": 1.3}, \"mode\": \"lines\", \"name\": \"144\", \"text\": \"\", \"type\": \"scatter\", \"uid\": \"55f184a2-64ec-4f11-b702-b1f65190c524\", \"x\": [\"Neighborhood\", \"2006-2010\", \"2007-2011\", \"2008-2012\", \"2009-2013\", \"2010-2014\", \"Gender\"], \"y\": [\"Sant Mart\\u00ed de Proven\\u00e7als\", 81.9, 79.5, 79.7, 80.5, 80.2, \"Male\"]}, {\"line\": {\"color\": \"rgba(55, 128, 191, 0.23287671232876722)\", \"dash\": \"solid\", \"shape\": \"linear\", \"width\": 1.3}, \"mode\": \"lines\", \"name\": \"145\", \"text\": \"\", \"type\": \"scatter\", \"uid\": \"22332717-b877-41ac-ad03-d6a656b4f602\", \"x\": [\"Neighborhood\", \"2006-2010\", \"2007-2011\", \"2008-2012\", \"2009-2013\", \"2010-2014\", \"Gender\"], \"y\": [\" la Verneda i la Pau\", 82.0, 79.7, 79.9, 80.5, 80.6, \"Male\"]}],\n",
       "                        {\"legend\": {\"bgcolor\": \"#F5F6F9\", \"font\": {\"color\": \"#4D5663\"}}, \"paper_bgcolor\": \"#F5F6F9\", \"plot_bgcolor\": \"#F5F6F9\", \"title\": {\"font\": {\"color\": \"#4D5663\"}, \"text\": \"Expectativa de vida\"}, \"xaxis\": {\"gridcolor\": \"#E1E5ED\", \"showgrid\": true, \"tickfont\": {\"color\": \"#4D5663\"}, \"title\": {\"font\": {\"color\": \"#4D5663\"}, \"text\": \"\"}, \"zerolinecolor\": \"#E1E5ED\"}, \"yaxis\": {\"gridcolor\": \"#E1E5ED\", \"showgrid\": true, \"tickfont\": {\"color\": \"#4D5663\"}, \"title\": {\"font\": {\"color\": \"#4D5663\"}, \"text\": \"\"}, \"zerolinecolor\": \"#E1E5ED\"}},\n",
       "                        {\"showLink\": true, \"linkText\": \"Export to plot.ly\", \"plotlyServerURL\": \"https://plot.ly\", \"responsive\": true}\n",
       "                    ).then(function(){\n",
       "                            \n",
       "var gd = document.getElementById('d0f61a79-4a53-4df0-8b08-497ddb657c09');\n",
       "var x = new MutationObserver(function (mutations, observer) {{\n",
       "        var display = window.getComputedStyle(gd).display;\n",
       "        if (!display || display === 'none') {{\n",
       "            console.log([gd, 'removed!']);\n",
       "            Plotly.purge(gd);\n",
       "            observer.disconnect();\n",
       "        }}\n",
       "}});\n",
       "\n",
       "// Listen for the removal of the full notebook cells\n",
       "var notebookContainer = gd.closest('#notebook-container');\n",
       "if (notebookContainer) {{\n",
       "    x.observe(notebookContainer, {childList: true});\n",
       "}}\n",
       "\n",
       "// Listen for the clearing of the current output cell\n",
       "var outputEl = gd.closest('.output');\n",
       "if (outputEl) {{\n",
       "    x.observe(outputEl, {childList: true});\n",
       "}}\n",
       "\n",
       "                        })\n",
       "                };\n",
       "                });\n",
       "            </script>\n",
       "        </div>"
      ]
     },
     "metadata": {},
     "output_type": "display_data"
    }
   ],
   "source": [
    "dft = df.T\n",
    "#dft.columns = dft.iloc[0]\n",
    "#dft.iloc[pd.RangeIndex(len(dft)).drop(0)]\n",
    "dft.iplot(kind='lines',  xTitle='', #text='Neighborhood',\n",
    "yTitle='', title='Expectativa de vida')"
   ]
  },
  {
   "cell_type": "code",
   "execution_count": 11,
   "metadata": {
    "ExecuteTime": {
     "end_time": "2019-08-25T09:42:30.291237Z",
     "start_time": "2019-08-25T09:42:29.512181Z"
    }
   },
   "outputs": [
    {
     "data": {
      "application/vnd.plotly.v1+json": {
       "config": {
        "linkText": "Export to plot.ly",
        "plotlyServerURL": "https://plot.ly",
        "showLink": true
       },
       "data": [
        {
         "marker": {
          "color": "rgba(255, 153, 51, 0.6)",
          "line": {
           "color": "rgba(255, 153, 51, 1.0)",
           "width": 1
          }
         },
         "name": "2006-2010",
         "orientation": "v",
         "text": "",
         "type": "bar",
         "uid": "a4815a02-52e9-42f1-8ba6-7fdda3e46763",
         "x": [
          "Female",
          "Male"
         ],
         "xaxis": "x",
         "y": [
          88.2768115942029,
          81.58405797101443
         ],
         "yaxis": "y"
        },
        {
         "marker": {
          "color": "rgba(55, 128, 191, 0.6)",
          "line": {
           "color": "rgba(55, 128, 191, 1.0)",
           "width": 1
          }
         },
         "name": "2007-2011",
         "orientation": "v",
         "text": "",
         "type": "bar",
         "uid": "c999ec1e-939e-4491-8da0-98fd1bba8e18",
         "x": [
          "Female",
          "Male"
         ],
         "xaxis": "x2",
         "y": [
          85.84428571428572,
          79.08999999999999
         ],
         "yaxis": "y2"
        },
        {
         "marker": {
          "color": "rgba(50, 171, 96, 0.6)",
          "line": {
           "color": "rgba(50, 171, 96, 1.0)",
           "width": 1
          }
         },
         "name": "2008-2012",
         "orientation": "v",
         "text": "",
         "type": "bar",
         "uid": "9ef9ec0a-02c9-4de4-995c-dbd9f82dc0e8",
         "x": [
          "Female",
          "Male"
         ],
         "xaxis": "x3",
         "y": [
          86.0695652173913,
          79.49565217391306
         ],
         "yaxis": "y3"
        },
        {
         "marker": {
          "color": "rgba(128, 0, 128, 0.6)",
          "line": {
           "color": "rgba(128, 0, 128, 1.0)",
           "width": 1
          }
         },
         "name": "2009-2013",
         "orientation": "v",
         "text": "",
         "type": "bar",
         "uid": "970656f4-6e15-4582-a57e-94e15b08b031",
         "x": [
          "Female",
          "Male"
         ],
         "xaxis": "x4",
         "y": [
          86.39714285714285,
          79.79857142857144
         ],
         "yaxis": "y4"
        },
        {
         "marker": {
          "color": "rgba(219, 64, 82, 0.6)",
          "line": {
           "color": "rgba(219, 64, 82, 1.0)",
           "width": 1
          }
         },
         "name": "2010-2014",
         "orientation": "v",
         "text": "",
         "type": "bar",
         "uid": "927868b6-bbfd-44b3-b13c-c0d2e9c8e664",
         "x": [
          "Female",
          "Male"
         ],
         "xaxis": "x5",
         "y": [
          86.79718309859156,
          80.11267605633805
         ],
         "yaxis": "y5"
        }
       ],
       "layout": {
        "legend": {
         "bgcolor": "#F5F6F9",
         "font": {
          "color": "#4D5663"
         }
        },
        "paper_bgcolor": "#F5F6F9",
        "plot_bgcolor": "#F5F6F9",
        "title": {
         "font": {
          "color": "#4D5663"
         },
         "text": "Expectativa de vida"
        },
        "xaxis": {
         "anchor": "y",
         "domain": [
          0,
          0.45
         ],
         "gridcolor": "#E1E5ED",
         "showgrid": true,
         "tickfont": {
          "color": "#4D5663"
         },
         "title": {
          "font": {
           "color": "#4D5663"
          },
          "text": ""
         },
         "zerolinecolor": "#E1E5ED"
        },
        "xaxis2": {
         "anchor": "y2",
         "domain": [
          0.55,
          1
         ],
         "gridcolor": "#E1E5ED",
         "showgrid": true,
         "tickfont": {
          "color": "#4D5663"
         },
         "title": {
          "font": {
           "color": "#4D5663"
          },
          "text": ""
         },
         "zerolinecolor": "#E1E5ED"
        },
        "xaxis3": {
         "anchor": "y3",
         "domain": [
          0,
          0.45
         ],
         "gridcolor": "#E1E5ED",
         "showgrid": true,
         "tickfont": {
          "color": "#4D5663"
         },
         "title": {
          "font": {
           "color": "#4D5663"
          },
          "text": ""
         },
         "zerolinecolor": "#E1E5ED"
        },
        "xaxis4": {
         "anchor": "y4",
         "domain": [
          0.55,
          1
         ],
         "gridcolor": "#E1E5ED",
         "showgrid": true,
         "tickfont": {
          "color": "#4D5663"
         },
         "title": {
          "font": {
           "color": "#4D5663"
          },
          "text": ""
         },
         "zerolinecolor": "#E1E5ED"
        },
        "xaxis5": {
         "anchor": "y5",
         "domain": [
          0,
          0.45
         ],
         "gridcolor": "#E1E5ED",
         "showgrid": true,
         "tickfont": {
          "color": "#4D5663"
         },
         "title": {
          "font": {
           "color": "#4D5663"
          },
          "text": ""
         },
         "zerolinecolor": "#E1E5ED"
        },
        "yaxis": {
         "anchor": "x",
         "domain": [
          0.7333333333333333,
          1
         ],
         "gridcolor": "#E1E5ED",
         "showgrid": true,
         "tickfont": {
          "color": "#4D5663"
         },
         "title": {
          "font": {
           "color": "#4D5663"
          },
          "text": ""
         },
         "zerolinecolor": "#E1E5ED"
        },
        "yaxis2": {
         "anchor": "x2",
         "domain": [
          0.7333333333333333,
          1
         ],
         "gridcolor": "#E1E5ED",
         "showgrid": true,
         "tickfont": {
          "color": "#4D5663"
         },
         "title": {
          "font": {
           "color": "#4D5663"
          },
          "text": ""
         },
         "zerolinecolor": "#E1E5ED"
        },
        "yaxis3": {
         "anchor": "x3",
         "domain": [
          0.36666666666666664,
          0.6333333333333333
         ],
         "gridcolor": "#E1E5ED",
         "showgrid": true,
         "tickfont": {
          "color": "#4D5663"
         },
         "title": {
          "font": {
           "color": "#4D5663"
          },
          "text": ""
         },
         "zerolinecolor": "#E1E5ED"
        },
        "yaxis4": {
         "anchor": "x4",
         "domain": [
          0.36666666666666664,
          0.6333333333333333
         ],
         "gridcolor": "#E1E5ED",
         "showgrid": true,
         "tickfont": {
          "color": "#4D5663"
         },
         "title": {
          "font": {
           "color": "#4D5663"
          },
          "text": ""
         },
         "zerolinecolor": "#E1E5ED"
        },
        "yaxis5": {
         "anchor": "x5",
         "domain": [
          0,
          0.26666666666666666
         ],
         "gridcolor": "#E1E5ED",
         "showgrid": true,
         "tickfont": {
          "color": "#4D5663"
         },
         "title": {
          "font": {
           "color": "#4D5663"
          },
          "text": ""
         },
         "zerolinecolor": "#E1E5ED"
        }
       }
      },
      "text/html": [
       "<div>\n",
       "        \n",
       "        \n",
       "            <div id=\"bee30437-7192-41fd-b7dd-58ca2ebc2e76\" class=\"plotly-graph-div\" style=\"height:525px; width:100%;\"></div>\n",
       "            <script type=\"text/javascript\">\n",
       "                require([\"plotly\"], function(Plotly) {\n",
       "                    window.PLOTLYENV=window.PLOTLYENV || {};\n",
       "                    window.PLOTLYENV.BASE_URL='https://plot.ly';\n",
       "                    \n",
       "                if (document.getElementById(\"bee30437-7192-41fd-b7dd-58ca2ebc2e76\")) {\n",
       "                    Plotly.newPlot(\n",
       "                        'bee30437-7192-41fd-b7dd-58ca2ebc2e76',\n",
       "                        [{\"marker\": {\"color\": \"rgba(255, 153, 51, 0.6)\", \"line\": {\"color\": \"rgba(255, 153, 51, 1.0)\", \"width\": 1}}, \"name\": \"2006-2010\", \"orientation\": \"v\", \"text\": \"\", \"type\": \"bar\", \"uid\": \"a4815a02-52e9-42f1-8ba6-7fdda3e46763\", \"x\": [\"Female\", \"Male\"], \"xaxis\": \"x\", \"y\": [88.2768115942029, 81.58405797101443], \"yaxis\": \"y\"}, {\"marker\": {\"color\": \"rgba(55, 128, 191, 0.6)\", \"line\": {\"color\": \"rgba(55, 128, 191, 1.0)\", \"width\": 1}}, \"name\": \"2007-2011\", \"orientation\": \"v\", \"text\": \"\", \"type\": \"bar\", \"uid\": \"c999ec1e-939e-4491-8da0-98fd1bba8e18\", \"x\": [\"Female\", \"Male\"], \"xaxis\": \"x2\", \"y\": [85.84428571428572, 79.08999999999999], \"yaxis\": \"y2\"}, {\"marker\": {\"color\": \"rgba(50, 171, 96, 0.6)\", \"line\": {\"color\": \"rgba(50, 171, 96, 1.0)\", \"width\": 1}}, \"name\": \"2008-2012\", \"orientation\": \"v\", \"text\": \"\", \"type\": \"bar\", \"uid\": \"9ef9ec0a-02c9-4de4-995c-dbd9f82dc0e8\", \"x\": [\"Female\", \"Male\"], \"xaxis\": \"x3\", \"y\": [86.0695652173913, 79.49565217391306], \"yaxis\": \"y3\"}, {\"marker\": {\"color\": \"rgba(128, 0, 128, 0.6)\", \"line\": {\"color\": \"rgba(128, 0, 128, 1.0)\", \"width\": 1}}, \"name\": \"2009-2013\", \"orientation\": \"v\", \"text\": \"\", \"type\": \"bar\", \"uid\": \"970656f4-6e15-4582-a57e-94e15b08b031\", \"x\": [\"Female\", \"Male\"], \"xaxis\": \"x4\", \"y\": [86.39714285714285, 79.79857142857144], \"yaxis\": \"y4\"}, {\"marker\": {\"color\": \"rgba(219, 64, 82, 0.6)\", \"line\": {\"color\": \"rgba(219, 64, 82, 1.0)\", \"width\": 1}}, \"name\": \"2010-2014\", \"orientation\": \"v\", \"text\": \"\", \"type\": \"bar\", \"uid\": \"927868b6-bbfd-44b3-b13c-c0d2e9c8e664\", \"x\": [\"Female\", \"Male\"], \"xaxis\": \"x5\", \"y\": [86.79718309859156, 80.11267605633805], \"yaxis\": \"y5\"}],\n",
       "                        {\"legend\": {\"bgcolor\": \"#F5F6F9\", \"font\": {\"color\": \"#4D5663\"}}, \"paper_bgcolor\": \"#F5F6F9\", \"plot_bgcolor\": \"#F5F6F9\", \"title\": {\"font\": {\"color\": \"#4D5663\"}, \"text\": \"Expectativa de vida\"}, \"xaxis\": {\"anchor\": \"y\", \"domain\": [0.0, 0.45], \"gridcolor\": \"#E1E5ED\", \"showgrid\": true, \"tickfont\": {\"color\": \"#4D5663\"}, \"title\": {\"font\": {\"color\": \"#4D5663\"}, \"text\": \"\"}, \"zerolinecolor\": \"#E1E5ED\"}, \"xaxis2\": {\"anchor\": \"y2\", \"domain\": [0.55, 1.0], \"gridcolor\": \"#E1E5ED\", \"showgrid\": true, \"tickfont\": {\"color\": \"#4D5663\"}, \"title\": {\"font\": {\"color\": \"#4D5663\"}, \"text\": \"\"}, \"zerolinecolor\": \"#E1E5ED\"}, \"xaxis3\": {\"anchor\": \"y3\", \"domain\": [0.0, 0.45], \"gridcolor\": \"#E1E5ED\", \"showgrid\": true, \"tickfont\": {\"color\": \"#4D5663\"}, \"title\": {\"font\": {\"color\": \"#4D5663\"}, \"text\": \"\"}, \"zerolinecolor\": \"#E1E5ED\"}, \"xaxis4\": {\"anchor\": \"y4\", \"domain\": [0.55, 1.0], \"gridcolor\": \"#E1E5ED\", \"showgrid\": true, \"tickfont\": {\"color\": \"#4D5663\"}, \"title\": {\"font\": {\"color\": \"#4D5663\"}, \"text\": \"\"}, \"zerolinecolor\": \"#E1E5ED\"}, \"xaxis5\": {\"anchor\": \"y5\", \"domain\": [0.0, 0.45], \"gridcolor\": \"#E1E5ED\", \"showgrid\": true, \"tickfont\": {\"color\": \"#4D5663\"}, \"title\": {\"font\": {\"color\": \"#4D5663\"}, \"text\": \"\"}, \"zerolinecolor\": \"#E1E5ED\"}, \"yaxis\": {\"anchor\": \"x\", \"domain\": [0.7333333333333333, 1.0], \"gridcolor\": \"#E1E5ED\", \"showgrid\": true, \"tickfont\": {\"color\": \"#4D5663\"}, \"title\": {\"font\": {\"color\": \"#4D5663\"}, \"text\": \"\"}, \"zerolinecolor\": \"#E1E5ED\"}, \"yaxis2\": {\"anchor\": \"x2\", \"domain\": [0.7333333333333333, 1.0], \"gridcolor\": \"#E1E5ED\", \"showgrid\": true, \"tickfont\": {\"color\": \"#4D5663\"}, \"title\": {\"font\": {\"color\": \"#4D5663\"}, \"text\": \"\"}, \"zerolinecolor\": \"#E1E5ED\"}, \"yaxis3\": {\"anchor\": \"x3\", \"domain\": [0.36666666666666664, 0.6333333333333333], \"gridcolor\": \"#E1E5ED\", \"showgrid\": true, \"tickfont\": {\"color\": \"#4D5663\"}, \"title\": {\"font\": {\"color\": \"#4D5663\"}, \"text\": \"\"}, \"zerolinecolor\": \"#E1E5ED\"}, \"yaxis4\": {\"anchor\": \"x4\", \"domain\": [0.36666666666666664, 0.6333333333333333], \"gridcolor\": \"#E1E5ED\", \"showgrid\": true, \"tickfont\": {\"color\": \"#4D5663\"}, \"title\": {\"font\": {\"color\": \"#4D5663\"}, \"text\": \"\"}, \"zerolinecolor\": \"#E1E5ED\"}, \"yaxis5\": {\"anchor\": \"x5\", \"domain\": [0.0, 0.26666666666666666], \"gridcolor\": \"#E1E5ED\", \"showgrid\": true, \"tickfont\": {\"color\": \"#4D5663\"}, \"title\": {\"font\": {\"color\": \"#4D5663\"}, \"text\": \"\"}, \"zerolinecolor\": \"#E1E5ED\"}},\n",
       "                        {\"showLink\": true, \"linkText\": \"Export to plot.ly\", \"plotlyServerURL\": \"https://plot.ly\", \"responsive\": true}\n",
       "                    ).then(function(){\n",
       "                            \n",
       "var gd = document.getElementById('bee30437-7192-41fd-b7dd-58ca2ebc2e76');\n",
       "var x = new MutationObserver(function (mutations, observer) {{\n",
       "        var display = window.getComputedStyle(gd).display;\n",
       "        if (!display || display === 'none') {{\n",
       "            console.log([gd, 'removed!']);\n",
       "            Plotly.purge(gd);\n",
       "            observer.disconnect();\n",
       "        }}\n",
       "}});\n",
       "\n",
       "// Listen for the removal of the full notebook cells\n",
       "var notebookContainer = gd.closest('#notebook-container');\n",
       "if (notebookContainer) {{\n",
       "    x.observe(notebookContainer, {childList: true});\n",
       "}}\n",
       "\n",
       "// Listen for the clearing of the current output cell\n",
       "var outputEl = gd.closest('.output');\n",
       "if (outputEl) {{\n",
       "    x.observe(outputEl, {childList: true});\n",
       "}}\n",
       "\n",
       "                        })\n",
       "                };\n",
       "                });\n",
       "            </script>\n",
       "        </div>"
      ]
     },
     "metadata": {},
     "output_type": "display_data"
    }
   ],
   "source": [
    "table = df.pivot_table(index=['Gender'])\n",
    "table.iplot(kind='bar', histnorm='', xTitle='', subplots=True,\n",
    "yTitle='', title='Expectativa de vida')"
   ]
  },
  {
   "cell_type": "code",
   "execution_count": 12,
   "metadata": {
    "ExecuteTime": {
     "end_time": "2019-08-25T09:42:31.765710Z",
     "start_time": "2019-08-25T09:42:30.296538Z"
    }
   },
   "outputs": [
    {
     "data": {
      "application/vnd.plotly.v1+json": {
       "config": {
        "linkText": "Export to plot.ly",
        "plotlyServerURL": "https://plot.ly",
        "showLink": true
       },
       "data": [
        {
         "histfunc": "count",
         "histnorm": "",
         "marker": {
          "color": "rgba(255, 153, 51, 1.0)",
          "line": {
           "color": "#4D5663",
           "width": 1.3
          }
         },
         "name": "Neighborhood",
         "opacity": 0.8,
         "orientation": "v",
         "type": "histogram",
         "uid": "8be4c1d1-d151-4d56-ace8-38d4ec0fe344",
         "x": [
          "el Raval",
          "el Barri Gòtic",
          "la Barceloneta",
          "Sant Pere, Santa Caterina i la Ribera",
          "el Fort Pienc",
          "la Sagrada Família",
          "la Dreta de l'Eixample",
          "l'Antiga Esquerra de l'Eixample",
          "la Nova Esquerra de l'Eixample",
          "Sant Antoni",
          "el Poble Sec - Parc Montjuïc",
          "la Marina del Prat Vermell - Zona Franca",
          "la Marina de Port",
          "la Font de la Guatlla",
          "Hostafrancs",
          "la Bordeta",
          "Sants - Badal",
          "Sants",
          "les Corts",
          "la Maternitat i Sant Ramon",
          "Pedralbes",
          "Vallvidrera, el Tibidabo i les Planes",
          "Sarrià",
          "les Tres Torres",
          "Sant Gervasi - la Bonanova",
          "Sant Gervasi - Galvany",
          "el Putxet i el Farró",
          "Vallcarca i els Penitents",
          "el Coll",
          "la Salut",
          "la Vila de Gràcia",
          "el Camp d'en Grassot i Gràcia Nova",
          "el Baix Guinardó",
          "Can Baró",
          "el Guinardó",
          "la Font d'en Fargues",
          "el Carmel",
          "la Teixonera",
          "Sant Genís dels Agudells",
          "Montbau",
          "la Vall d'Hebron",
          "la Clota",
          "Horta",
          "Vilapicina i la Torre Llobeta",
          "Porta",
          "el Turó de la Peira",
          "Can Peguera",
          "la Guineueta",
          "Canyelles",
          "les Roquetes",
          "Verdun",
          "la Prosperitat",
          "la Trinitat Nova",
          "Torre Baró",
          "Ciutat Meridiana",
          "Vallbona",
          "la Trinitat Vella",
          "Baró de Viver",
          "el Bon Pastor",
          "Sant Andreu",
          "la Sagrera",
          "el Congrés i els Indians",
          "Navas",
          "el Camp de l'Arpa del Clot",
          "el Clot",
          "el Parc i la Llacuna del Poblenou",
          "la Vila Olímpica del Poblenou",
          "el Poblenou",
          "Diagonal Mar i el Front Marítim del Poblenou",
          "el Besòs i el Maresme",
          "Provençals del Poblenou",
          "Sant Martí de Provençals",
          " la Verneda i la Pau",
          "el Raval",
          "el Barri Gòtic",
          "la Barceloneta",
          "Sant Pere, Santa Caterina i la Ribera",
          "el Fort Pienc",
          "la Sagrada Família",
          "la Dreta de l'Eixample",
          "l'Antiga Esquerra de l'Eixample",
          "la Nova Esquerra de l'Eixample",
          "Sant Antoni",
          "el Poble Sec - Parc Montjuïc",
          "la Marina del Prat Vermell - Zona Franca",
          "la Marina de Port",
          "la Font de la Guatlla",
          "Hostafrancs",
          "la Bordeta",
          "Sants - Badal",
          "Sants",
          "les Corts",
          "la Maternitat i Sant Ramon",
          "Pedralbes",
          "Vallvidrera, el Tibidabo i les Planes",
          "Sarrià",
          "les Tres Torres",
          "Sant Gervasi - la Bonanova",
          "Sant Gervasi - Galvany",
          "el Putxet i el Farró",
          "Vallcarca i els Penitents",
          "el Coll",
          "la Salut",
          "la Vila de Gràcia",
          "el Camp d'en Grassot i Gràcia Nova",
          "el Baix Guinardó",
          "Can Baró",
          "el Guinardó",
          "la Font d'en Fargues",
          "el Carmel",
          "la Teixonera",
          "Sant Genís dels Agudells",
          "Montbau",
          "la Vall d'Hebron",
          "la Clota",
          "Horta",
          "Vilapicina i la Torre Llobeta",
          "Porta",
          "el Turó de la Peira",
          "Can Peguera",
          "la Guineueta",
          "Canyelles",
          "les Roquetes",
          "Verdun",
          "la Prosperitat",
          "la Trinitat Nova",
          "Torre Baró",
          "Ciutat Meridiana",
          "Vallbona",
          "la Trinitat Vella",
          "Baró de Viver",
          "el Bon Pastor",
          "Sant Andreu",
          "la Sagrera",
          "el Congrés i els Indians",
          "Navas",
          "el Camp de l'Arpa del Clot",
          "el Clot",
          "el Parc i la Llacuna del Poblenou",
          "la Vila Olímpica del Poblenou",
          "el Poblenou",
          "Diagonal Mar i el Front Marítim del Poblenou",
          "el Besòs i el Maresme",
          "Provençals del Poblenou",
          "Sant Martí de Provençals",
          " la Verneda i la Pau"
         ],
         "xaxis": "x",
         "yaxis": "y"
        },
        {
         "histfunc": "count",
         "histnorm": "",
         "marker": {
          "color": "rgba(55, 128, 191, 1.0)",
          "line": {
           "color": "#4D5663",
           "width": 1.3
          }
         },
         "name": "2006-2010",
         "opacity": 0.8,
         "orientation": "v",
         "type": "histogram",
         "uid": "08ff6a26-ce25-4b12-99dd-b8a753c4d2b9",
         "x": [
          87.5,
          88,
          88.2,
          88.9,
          89.7,
          88.9,
          87,
          88.9,
          90,
          89,
          88.5,
          null,
          88.5,
          88.7,
          87.5,
          88.7,
          88.4,
          89.4,
          89.4,
          90,
          89,
          83.4,
          90.9,
          89.7,
          89.2,
          88.8,
          89.9,
          88.2,
          89.9,
          85.7,
          87.5,
          90.1,
          90.1,
          88.2,
          89.3,
          87.3,
          88.8,
          86.7,
          87.3,
          83.5,
          86.6,
          null,
          87.1,
          89.6,
          88.3,
          90.4,
          82.2,
          88.3,
          89.6,
          88.5,
          88.4,
          89.6,
          87.4,
          null,
          87.9,
          null,
          87,
          82.4,
          86.3,
          88.8,
          89.9,
          89.9,
          89.8,
          89.1,
          88.7,
          88.1,
          90.4,
          88.1,
          88.1,
          86.8,
          88.4,
          88.8,
          87.9,
          77.9,
          81.3,
          78.3,
          80.9,
          83,
          83.2,
          81.2,
          82.3,
          82.1,
          81.7,
          80.6,
          null,
          83.1,
          81.5,
          81.2,
          83.9,
          83.5,
          81.7,
          83,
          83.9,
          84.7,
          78.9,
          83.7,
          84.7,
          83.5,
          83.6,
          83.7,
          82.6,
          81.4,
          79.6,
          81.8,
          82.7,
          83.9,
          81.5,
          81.7,
          81.6,
          80.7,
          82.3,
          81.8,
          77.1,
          83.6,
          null,
          81.4,
          81.8,
          81.7,
          80.9,
          74.7,
          80.9,
          82,
          79.2,
          80.2,
          81.7,
          78,
          null,
          80.4,
          null,
          80.4,
          74.2,
          80.4,
          81.7,
          83.7,
          81.7,
          82.5,
          82.9,
          81.9,
          82.4,
          87.2,
          81.4,
          82.1,
          80.2,
          80.4,
          81.9,
          82
         ],
         "xaxis": "x2",
         "yaxis": "y2"
        },
        {
         "histfunc": "count",
         "histnorm": "",
         "marker": {
          "color": "rgba(50, 171, 96, 1.0)",
          "line": {
           "color": "#4D5663",
           "width": 1.3
          }
         },
         "name": "2007-2011",
         "opacity": 0.8,
         "orientation": "v",
         "type": "histogram",
         "uid": "7c856787-88c1-43fc-ae75-37caedbf6952",
         "x": [
          84.9,
          84.3,
          85.3,
          85.9,
          87.1,
          86.6,
          85,
          86.4,
          87.4,
          86.3,
          85.5,
          null,
          86.2,
          85.7,
          85.4,
          86.3,
          85.9,
          86.5,
          87.1,
          87.4,
          87.3,
          80.5,
          87.6,
          87.7,
          86.5,
          86.5,
          87.6,
          86.1,
          88.2,
          84.1,
          85.1,
          87.6,
          87.2,
          86.2,
          86.4,
          85.7,
          86.6,
          84.8,
          85,
          81.3,
          85.3,
          null,
          85.5,
          87.2,
          86,
          87.8,
          79.7,
          85.9,
          86,
          86.1,
          86.6,
          87.1,
          84.5,
          81.7,
          85.3,
          null,
          85.8,
          79.9,
          84.8,
          86.4,
          87.1,
          87.5,
          87.4,
          86.6,
          86.7,
          85.4,
          87,
          85.7,
          87.3,
          85,
          86.7,
          86.1,
          85.8,
          75.1,
          78.6,
          75,
          78,
          80.7,
          80.6,
          78.9,
          79.8,
          79.9,
          79.3,
          78.2,
          null,
          80.3,
          77.9,
          78.9,
          80.9,
          81.2,
          79.5,
          81.1,
          82,
          82.7,
          77.6,
          81.1,
          83,
          81.7,
          81.2,
          81.3,
          80.2,
          79.6,
          77.6,
          79,
          80.6,
          81.2,
          78.9,
          79.7,
          79.7,
          78.7,
          79.6,
          80,
          74.9,
          80.7,
          null,
          78.8,
          79.1,
          79.8,
          79,
          72.3,
          78.6,
          79.3,
          76.7,
          77.8,
          79.3,
          75.9,
          70.7,
          78,
          null,
          77.7,
          71.2,
          77.8,
          79.7,
          81.3,
          79.2,
          80.4,
          80.4,
          80.3,
          79.8,
          82.6,
          78.7,
          80.9,
          78.1,
          78.8,
          79.5,
          79.7
         ],
         "xaxis": "x3",
         "yaxis": "y3"
        },
        {
         "histfunc": "count",
         "histnorm": "",
         "marker": {
          "color": "rgba(128, 0, 128, 1.0)",
          "line": {
           "color": "#4D5663",
           "width": 1.3
          }
         },
         "name": "2008-2012",
         "opacity": 0.8,
         "orientation": "v",
         "type": "histogram",
         "uid": "54ccbe3c-4272-490a-8614-45e6f9f3fd75",
         "x": [
          84.7,
          84.4,
          84.4,
          86.1,
          87.2,
          86.8,
          85.1,
          86.3,
          87.5,
          86.5,
          85.6,
          null,
          86.5,
          85.1,
          86.3,
          85.6,
          86.4,
          86.2,
          87.4,
          87.5,
          87.5,
          80.4,
          87.1,
          87.6,
          86.5,
          86.4,
          87.8,
          86.4,
          88.2,
          84.4,
          85.4,
          87.6,
          86.8,
          86,
          87,
          85.6,
          87.2,
          85,
          84.6,
          81.9,
          86,
          null,
          85.5,
          87.2,
          86.5,
          88,
          80.3,
          86.1,
          85.9,
          85.9,
          86.9,
          87.4,
          84.1,
          81.6,
          85.7,
          null,
          86.3,
          null,
          85.6,
          86.7,
          87.3,
          87.8,
          87.6,
          87.2,
          87.2,
          85.6,
          88,
          86.1,
          87.4,
          85.5,
          86.5,
          86.2,
          85.7,
          75.7,
          78.9,
          75.8,
          77.7,
          80.9,
          81,
          79.3,
          80.3,
          80,
          79.4,
          78.7,
          null,
          79.9,
          78.1,
          78.7,
          80.4,
          81.2,
          80.2,
          81.4,
          82.1,
          83.3,
          77.8,
          81.2,
          83.2,
          81.8,
          81.3,
          81.7,
          80.6,
          80.7,
          78.6,
          79.1,
          81,
          81.1,
          80.3,
          80.1,
          79.8,
          79,
          79.8,
          81.3,
          75.9,
          80.4,
          null,
          79.4,
          79.7,
          79.9,
          80,
          71.8,
          78.8,
          79.8,
          76.8,
          78.1,
          80.1,
          75.4,
          69.5,
          78.2,
          null,
          79,
          null,
          78,
          80.3,
          81.6,
          79.5,
          80.6,
          81.1,
          80.6,
          80.2,
          82.1,
          78.4,
          81.2,
          78.4,
          79.4,
          79.7,
          79.9
         ],
         "xaxis": "x4",
         "yaxis": "y4"
        },
        {
         "histfunc": "count",
         "histnorm": "",
         "marker": {
          "color": "rgba(219, 64, 82, 1.0)",
          "line": {
           "color": "#4D5663",
           "width": 1.3
          }
         },
         "name": "2009-2013",
         "opacity": 0.8,
         "orientation": "v",
         "type": "histogram",
         "uid": "3a89dd2a-2ed1-4b24-beeb-a9a1c306edc1",
         "x": [
          84.9,
          87.5,
          86.3,
          85.5,
          87.7,
          85.1,
          85.7,
          85.8,
          87,
          86,
          88.2,
          null,
          88.1,
          88.4,
          81.7,
          86.9,
          87.8,
          86.5,
          86.8,
          87.8,
          86,
          88.5,
          84.8,
          85.1,
          85.7,
          87.7,
          86.6,
          86,
          87.6,
          85.3,
          87.2,
          86.2,
          85.1,
          85.5,
          82.3,
          85.8,
          87.8,
          85.6,
          86.9,
          87.3,
          88.4,
          null,
          86.5,
          85.8,
          87,
          86,
          87.2,
          87.8,
          83.5,
          83.6,
          86.2,
          80.5,
          87.7,
          83.1,
          86.3,
          null,
          86.9,
          88,
          88.5,
          88.3,
          87.4,
          87.7,
          86,
          88.3,
          86.9,
          87.9,
          85.1,
          85.8,
          87.3,
          86.6,
          86.3,
          86.4,
          88.1,
          76.2,
          79.5,
          78.6,
          78.8,
          80.2,
          79.2,
          79.1,
          80.3,
          81.4,
          80.9,
          82,
          null,
          83,
          84.2,
          78.2,
          81.8,
          83.5,
          82.4,
          81.8,
          82.1,
          80.7,
          81,
          76,
          78,
          79.6,
          81.3,
          81.2,
          80.9,
          80.1,
          80.1,
          79.4,
          80,
          81,
          78.8,
          77.4,
          80.5,
          77.8,
          79.6,
          79.6,
          80.4,
          81,
          null,
          79.7,
          79.8,
          81.1,
          77,
          77.9,
          80.1,
          75.8,
          69,
          79.6,
          77.7,
          79.8,
          73.1,
          78.3,
          null,
          80.6,
          81.3,
          80.3,
          81.8,
          81.3,
          80.9,
          80.5,
          82.4,
          78.9,
          81.8,
          80.2,
          78.8,
          79.7,
          79.8,
          80.1,
          80.5,
          80.5
         ],
         "xaxis": "x5",
         "yaxis": "y5"
        },
        {
         "histfunc": "count",
         "histnorm": "",
         "marker": {
          "color": "rgba(0, 128, 128, 1.0)",
          "line": {
           "color": "#4D5663",
           "width": 1.3
          }
         },
         "name": "2010-2014",
         "opacity": 0.8,
         "orientation": "v",
         "type": "histogram",
         "uid": "7297fad2-99f2-487e-8ad0-253f960b09c1",
         "x": [
          85.3,
          84.4,
          84.7,
          85.3,
          86.7,
          87.2,
          85.1,
          86.9,
          88.7,
          87.6,
          86.4,
          null,
          87.7,
          84.3,
          87.4,
          86.3,
          87.7,
          86.1,
          88.1,
          89,
          88.4,
          82.2,
          86.9,
          88.1,
          86.8,
          86.9,
          87.9,
          86.3,
          88.6,
          85.7,
          86.1,
          87.4,
          86.8,
          86.6,
          88.3,
          85.8,
          88.1,
          87.3,
          85.5,
          83.9,
          86.5,
          null,
          86,
          87,
          87.7,
          89.8,
          85.1,
          87,
          86.5,
          86.5,
          89,
          88.4,
          83.3,
          84.8,
          88.2,
          78.4,
          89.5,
          85.7,
          86.8,
          87.8,
          88.2,
          88.9,
          89.6,
          87.5,
          88.6,
          85.6,
          87.5,
          87.1,
          88.1,
          86.4,
          88.4,
          87.2,
          87,
          76.5,
          78.7,
          75.9,
          78.3,
          81.4,
          81.3,
          80.1,
          80.8,
          81,
          79.8,
          78.8,
          null,
          80,
          78.8,
          79.8,
          80.9,
          82,
          81.6,
          82.4,
          83.5,
          83.6,
          79,
          81.7,
          83.9,
          82.5,
          81.9,
          82.5,
          80.9,
          81.4,
          78.9,
          79.9,
          81.4,
          81,
          81.1,
          80.2,
          80.8,
          79.4,
          80.4,
          81.5,
          77.5,
          80,
          null,
          80.7,
          79.8,
          81,
          81.3,
          75,
          81,
          79.7,
          77.6,
          77.7,
          80.4,
          76.6,
          71.3,
          79.3,
          76,
          80.8,
          74.6,
          78.1,
          81.2,
          82.2,
          80.3,
          82.3,
          81.9,
          81.3,
          80.5,
          82.7,
          79.5,
          82.2,
          79.6,
          81.5,
          80.2,
          80.6
         ],
         "xaxis": "x6",
         "yaxis": "y6"
        },
        {
         "histfunc": "count",
         "histnorm": "",
         "marker": {
          "color": "rgba(255, 255, 51, 1.0)",
          "line": {
           "color": "#4D5663",
           "width": 1.3
          }
         },
         "name": "Gender",
         "opacity": 0.8,
         "orientation": "v",
         "type": "histogram",
         "uid": "0cb2c98d-033d-4564-a8fd-ca8f52a745e1",
         "x": [
          "Female",
          "Female",
          "Female",
          "Female",
          "Female",
          "Female",
          "Female",
          "Female",
          "Female",
          "Female",
          "Female",
          "Female",
          "Female",
          "Female",
          "Female",
          "Female",
          "Female",
          "Female",
          "Female",
          "Female",
          "Female",
          "Female",
          "Female",
          "Female",
          "Female",
          "Female",
          "Female",
          "Female",
          "Female",
          "Female",
          "Female",
          "Female",
          "Female",
          "Female",
          "Female",
          "Female",
          "Female",
          "Female",
          "Female",
          "Female",
          "Female",
          "Female",
          "Female",
          "Female",
          "Female",
          "Female",
          "Female",
          "Female",
          "Female",
          "Female",
          "Female",
          "Female",
          "Female",
          "Female",
          "Female",
          "Female",
          "Female",
          "Female",
          "Female",
          "Female",
          "Female",
          "Female",
          "Female",
          "Female",
          "Female",
          "Female",
          "Female",
          "Female",
          "Female",
          "Female",
          "Female",
          "Female",
          "Female",
          "Male",
          "Male",
          "Male",
          "Male",
          "Male",
          "Male",
          "Male",
          "Male",
          "Male",
          "Male",
          "Male",
          "Male",
          "Male",
          "Male",
          "Male",
          "Male",
          "Male",
          "Male",
          "Male",
          "Male",
          "Male",
          "Male",
          "Male",
          "Male",
          "Male",
          "Male",
          "Male",
          "Male",
          "Male",
          "Male",
          "Male",
          "Male",
          "Male",
          "Male",
          "Male",
          "Male",
          "Male",
          "Male",
          "Male",
          "Male",
          "Male",
          "Male",
          "Male",
          "Male",
          "Male",
          "Male",
          "Male",
          "Male",
          "Male",
          "Male",
          "Male",
          "Male",
          "Male",
          "Male",
          "Male",
          "Male",
          "Male",
          "Male",
          "Male",
          "Male",
          "Male",
          "Male",
          "Male",
          "Male",
          "Male",
          "Male",
          "Male",
          "Male",
          "Male",
          "Male",
          "Male",
          "Male",
          "Male"
         ],
         "xaxis": "x7",
         "yaxis": "y7"
        }
       ],
       "layout": {
        "barmode": "overlay",
        "legend": {
         "bgcolor": "#F5F6F9",
         "font": {
          "color": "#4D5663"
         }
        },
        "paper_bgcolor": "#F5F6F9",
        "plot_bgcolor": "#F5F6F9",
        "title": {
         "font": {
          "color": "#4D5663"
         },
         "text": "Expectativa de vida"
        },
        "xaxis": {
         "anchor": "y",
         "domain": [
          0,
          0.45
         ],
         "gridcolor": "#E1E5ED",
         "showgrid": true,
         "tickfont": {
          "color": "#4D5663"
         },
         "title": {
          "font": {
           "color": "#4D5663"
          },
          "text": ""
         },
         "zerolinecolor": "#E1E5ED"
        },
        "xaxis2": {
         "anchor": "y2",
         "domain": [
          0.55,
          1
         ],
         "gridcolor": "#E1E5ED",
         "showgrid": true,
         "tickfont": {
          "color": "#4D5663"
         },
         "title": {
          "font": {
           "color": "#4D5663"
          },
          "text": ""
         },
         "zerolinecolor": "#E1E5ED"
        },
        "xaxis3": {
         "anchor": "y3",
         "domain": [
          0,
          0.45
         ],
         "gridcolor": "#E1E5ED",
         "showgrid": true,
         "tickfont": {
          "color": "#4D5663"
         },
         "title": {
          "font": {
           "color": "#4D5663"
          },
          "text": ""
         },
         "zerolinecolor": "#E1E5ED"
        },
        "xaxis4": {
         "anchor": "y4",
         "domain": [
          0.55,
          1
         ],
         "gridcolor": "#E1E5ED",
         "showgrid": true,
         "tickfont": {
          "color": "#4D5663"
         },
         "title": {
          "font": {
           "color": "#4D5663"
          },
          "text": ""
         },
         "zerolinecolor": "#E1E5ED"
        },
        "xaxis5": {
         "anchor": "y5",
         "domain": [
          0,
          0.45
         ],
         "gridcolor": "#E1E5ED",
         "showgrid": true,
         "tickfont": {
          "color": "#4D5663"
         },
         "title": {
          "font": {
           "color": "#4D5663"
          },
          "text": ""
         },
         "zerolinecolor": "#E1E5ED"
        },
        "xaxis6": {
         "anchor": "y6",
         "domain": [
          0.55,
          1
         ],
         "gridcolor": "#E1E5ED",
         "showgrid": true,
         "tickfont": {
          "color": "#4D5663"
         },
         "title": {
          "font": {
           "color": "#4D5663"
          },
          "text": ""
         },
         "zerolinecolor": "#E1E5ED"
        },
        "xaxis7": {
         "anchor": "y7",
         "domain": [
          0,
          0.45
         ],
         "gridcolor": "#E1E5ED",
         "showgrid": true,
         "tickfont": {
          "color": "#4D5663"
         },
         "title": {
          "font": {
           "color": "#4D5663"
          },
          "text": ""
         },
         "zerolinecolor": "#E1E5ED"
        },
        "yaxis": {
         "anchor": "x",
         "domain": [
          0.80625,
          1
         ],
         "gridcolor": "#E1E5ED",
         "showgrid": true,
         "tickfont": {
          "color": "#4D5663"
         },
         "title": {
          "font": {
           "color": "#4D5663"
          },
          "text": ""
         },
         "zerolinecolor": "#E1E5ED"
        },
        "yaxis2": {
         "anchor": "x2",
         "domain": [
          0.80625,
          1
         ],
         "gridcolor": "#E1E5ED",
         "showgrid": true,
         "tickfont": {
          "color": "#4D5663"
         },
         "title": {
          "font": {
           "color": "#4D5663"
          },
          "text": ""
         },
         "zerolinecolor": "#E1E5ED"
        },
        "yaxis3": {
         "anchor": "x3",
         "domain": [
          0.5375,
          0.73125
         ],
         "gridcolor": "#E1E5ED",
         "showgrid": true,
         "tickfont": {
          "color": "#4D5663"
         },
         "title": {
          "font": {
           "color": "#4D5663"
          },
          "text": ""
         },
         "zerolinecolor": "#E1E5ED"
        },
        "yaxis4": {
         "anchor": "x4",
         "domain": [
          0.5375,
          0.73125
         ],
         "gridcolor": "#E1E5ED",
         "showgrid": true,
         "tickfont": {
          "color": "#4D5663"
         },
         "title": {
          "font": {
           "color": "#4D5663"
          },
          "text": ""
         },
         "zerolinecolor": "#E1E5ED"
        },
        "yaxis5": {
         "anchor": "x5",
         "domain": [
          0.26875,
          0.4625
         ],
         "gridcolor": "#E1E5ED",
         "showgrid": true,
         "tickfont": {
          "color": "#4D5663"
         },
         "title": {
          "font": {
           "color": "#4D5663"
          },
          "text": ""
         },
         "zerolinecolor": "#E1E5ED"
        },
        "yaxis6": {
         "anchor": "x6",
         "domain": [
          0.26875,
          0.4625
         ],
         "gridcolor": "#E1E5ED",
         "showgrid": true,
         "tickfont": {
          "color": "#4D5663"
         },
         "title": {
          "font": {
           "color": "#4D5663"
          },
          "text": ""
         },
         "zerolinecolor": "#E1E5ED"
        },
        "yaxis7": {
         "anchor": "x7",
         "domain": [
          0,
          0.19375
         ],
         "gridcolor": "#E1E5ED",
         "showgrid": true,
         "tickfont": {
          "color": "#4D5663"
         },
         "title": {
          "font": {
           "color": "#4D5663"
          },
          "text": ""
         },
         "zerolinecolor": "#E1E5ED"
        }
       }
      },
      "text/html": [
       "<div>\n",
       "        \n",
       "        \n",
       "            <div id=\"64245ac2-12c0-4f6d-acd2-ecc7ce165e77\" class=\"plotly-graph-div\" style=\"height:525px; width:100%;\"></div>\n",
       "            <script type=\"text/javascript\">\n",
       "                require([\"plotly\"], function(Plotly) {\n",
       "                    window.PLOTLYENV=window.PLOTLYENV || {};\n",
       "                    window.PLOTLYENV.BASE_URL='https://plot.ly';\n",
       "                    \n",
       "                if (document.getElementById(\"64245ac2-12c0-4f6d-acd2-ecc7ce165e77\")) {\n",
       "                    Plotly.newPlot(\n",
       "                        '64245ac2-12c0-4f6d-acd2-ecc7ce165e77',\n",
       "                        [{\"histfunc\": \"count\", \"histnorm\": \"\", \"marker\": {\"color\": \"rgba(255, 153, 51, 1.0)\", \"line\": {\"color\": \"#4D5663\", \"width\": 1.3}}, \"name\": \"Neighborhood\", \"opacity\": 0.8, \"orientation\": \"v\", \"type\": \"histogram\", \"uid\": \"8be4c1d1-d151-4d56-ace8-38d4ec0fe344\", \"x\": [\"el Raval\", \"el Barri G\\u00f2tic\", \"la Barceloneta\", \"Sant Pere, Santa Caterina i la Ribera\", \"el Fort Pienc\", \"la Sagrada Fam\\u00edlia\", \"la Dreta de l'Eixample\", \"l'Antiga Esquerra de l'Eixample\", \"la Nova Esquerra de l'Eixample\", \"Sant Antoni\", \"el Poble Sec - Parc Montju\\u00efc\", \"la Marina del Prat Vermell - Zona Franca\", \"la Marina de Port\", \"la Font de la Guatlla\", \"Hostafrancs\", \"la Bordeta\", \"Sants - Badal\", \"Sants\", \"les Corts\", \"la Maternitat i Sant Ramon\", \"Pedralbes\", \"Vallvidrera, el Tibidabo i les Planes\", \"Sarri\\u00e0\", \"les Tres Torres\", \"Sant Gervasi - la Bonanova\", \"Sant Gervasi - Galvany\", \"el Putxet i el Farr\\u00f3\", \"Vallcarca i els Penitents\", \"el Coll\", \"la Salut\", \"la Vila de Gr\\u00e0cia\", \"el Camp d'en Grassot i Gr\\u00e0cia Nova\", \"el Baix Guinard\\u00f3\", \"Can Bar\\u00f3\", \"el Guinard\\u00f3\", \"la Font d'en Fargues\", \"el Carmel\", \"la Teixonera\", \"Sant Gen\\u00eds dels Agudells\", \"Montbau\", \"la Vall d'Hebron\", \"la Clota\", \"Horta\", \"Vilapicina i la Torre Llobeta\", \"Porta\", \"el Tur\\u00f3 de la Peira\", \"Can Peguera\", \"la Guineueta\", \"Canyelles\", \"les Roquetes\", \"Verdun\", \"la Prosperitat\", \"la Trinitat Nova\", \"Torre Bar\\u00f3\", \"Ciutat Meridiana\", \"Vallbona\", \"la Trinitat Vella\", \"Bar\\u00f3 de Viver\", \"el Bon Pastor\", \"Sant Andreu\", \"la Sagrera\", \"el Congr\\u00e9s i els Indians\", \"Navas\", \"el Camp de l'Arpa del Clot\", \"el Clot\", \"el Parc i la Llacuna del Poblenou\", \"la Vila Ol\\u00edmpica del Poblenou\", \"el Poblenou\", \"Diagonal Mar i el Front Mar\\u00edtim del Poblenou\", \"el Bes\\u00f2s i el Maresme\", \"Proven\\u00e7als del Poblenou\", \"Sant Mart\\u00ed de Proven\\u00e7als\", \" la Verneda i la Pau\", \"el Raval\", \"el Barri G\\u00f2tic\", \"la Barceloneta\", \"Sant Pere, Santa Caterina i la Ribera\", \"el Fort Pienc\", \"la Sagrada Fam\\u00edlia\", \"la Dreta de l'Eixample\", \"l'Antiga Esquerra de l'Eixample\", \"la Nova Esquerra de l'Eixample\", \"Sant Antoni\", \"el Poble Sec - Parc Montju\\u00efc\", \"la Marina del Prat Vermell - Zona Franca\", \"la Marina de Port\", \"la Font de la Guatlla\", \"Hostafrancs\", \"la Bordeta\", \"Sants - Badal\", \"Sants\", \"les Corts\", \"la Maternitat i Sant Ramon\", \"Pedralbes\", \"Vallvidrera, el Tibidabo i les Planes\", \"Sarri\\u00e0\", \"les Tres Torres\", \"Sant Gervasi - la Bonanova\", \"Sant Gervasi - Galvany\", \"el Putxet i el Farr\\u00f3\", \"Vallcarca i els Penitents\", \"el Coll\", \"la Salut\", \"la Vila de Gr\\u00e0cia\", \"el Camp d'en Grassot i Gr\\u00e0cia Nova\", \"el Baix Guinard\\u00f3\", \"Can Bar\\u00f3\", \"el Guinard\\u00f3\", \"la Font d'en Fargues\", \"el Carmel\", \"la Teixonera\", \"Sant Gen\\u00eds dels Agudells\", \"Montbau\", \"la Vall d'Hebron\", \"la Clota\", \"Horta\", \"Vilapicina i la Torre Llobeta\", \"Porta\", \"el Tur\\u00f3 de la Peira\", \"Can Peguera\", \"la Guineueta\", \"Canyelles\", \"les Roquetes\", \"Verdun\", \"la Prosperitat\", \"la Trinitat Nova\", \"Torre Bar\\u00f3\", \"Ciutat Meridiana\", \"Vallbona\", \"la Trinitat Vella\", \"Bar\\u00f3 de Viver\", \"el Bon Pastor\", \"Sant Andreu\", \"la Sagrera\", \"el Congr\\u00e9s i els Indians\", \"Navas\", \"el Camp de l'Arpa del Clot\", \"el Clot\", \"el Parc i la Llacuna del Poblenou\", \"la Vila Ol\\u00edmpica del Poblenou\", \"el Poblenou\", \"Diagonal Mar i el Front Mar\\u00edtim del Poblenou\", \"el Bes\\u00f2s i el Maresme\", \"Proven\\u00e7als del Poblenou\", \"Sant Mart\\u00ed de Proven\\u00e7als\", \" la Verneda i la Pau\"], \"xaxis\": \"x\", \"yaxis\": \"y\"}, {\"histfunc\": \"count\", \"histnorm\": \"\", \"marker\": {\"color\": \"rgba(55, 128, 191, 1.0)\", \"line\": {\"color\": \"#4D5663\", \"width\": 1.3}}, \"name\": \"2006-2010\", \"opacity\": 0.8, \"orientation\": \"v\", \"type\": \"histogram\", \"uid\": \"08ff6a26-ce25-4b12-99dd-b8a753c4d2b9\", \"x\": [87.5, 88.0, 88.2, 88.9, 89.7, 88.9, 87.0, 88.9, 90.0, 89.0, 88.5, null, 88.5, 88.7, 87.5, 88.7, 88.4, 89.4, 89.4, 90.0, 89.0, 83.4, 90.9, 89.7, 89.2, 88.8, 89.9, 88.2, 89.9, 85.7, 87.5, 90.1, 90.1, 88.2, 89.3, 87.3, 88.8, 86.7, 87.3, 83.5, 86.6, null, 87.1, 89.6, 88.3, 90.4, 82.2, 88.3, 89.6, 88.5, 88.4, 89.6, 87.4, null, 87.9, null, 87.0, 82.4, 86.3, 88.8, 89.9, 89.9, 89.8, 89.1, 88.7, 88.1, 90.4, 88.1, 88.1, 86.8, 88.4, 88.8, 87.9, 77.9, 81.3, 78.3, 80.9, 83.0, 83.2, 81.2, 82.3, 82.1, 81.7, 80.6, null, 83.1, 81.5, 81.2, 83.9, 83.5, 81.7, 83.0, 83.9, 84.7, 78.9, 83.7, 84.7, 83.5, 83.6, 83.7, 82.6, 81.4, 79.6, 81.8, 82.7, 83.9, 81.5, 81.7, 81.6, 80.7, 82.3, 81.8, 77.1, 83.6, null, 81.4, 81.8, 81.7, 80.9, 74.7, 80.9, 82.0, 79.2, 80.2, 81.7, 78.0, null, 80.4, null, 80.4, 74.2, 80.4, 81.7, 83.7, 81.7, 82.5, 82.9, 81.9, 82.4, 87.2, 81.4, 82.1, 80.2, 80.4, 81.9, 82.0], \"xaxis\": \"x2\", \"yaxis\": \"y2\"}, {\"histfunc\": \"count\", \"histnorm\": \"\", \"marker\": {\"color\": \"rgba(50, 171, 96, 1.0)\", \"line\": {\"color\": \"#4D5663\", \"width\": 1.3}}, \"name\": \"2007-2011\", \"opacity\": 0.8, \"orientation\": \"v\", \"type\": \"histogram\", \"uid\": \"7c856787-88c1-43fc-ae75-37caedbf6952\", \"x\": [84.9, 84.3, 85.3, 85.9, 87.1, 86.6, 85.0, 86.4, 87.4, 86.3, 85.5, null, 86.2, 85.7, 85.4, 86.3, 85.9, 86.5, 87.1, 87.4, 87.3, 80.5, 87.6, 87.7, 86.5, 86.5, 87.6, 86.1, 88.2, 84.1, 85.1, 87.6, 87.2, 86.2, 86.4, 85.7, 86.6, 84.8, 85.0, 81.3, 85.3, null, 85.5, 87.2, 86.0, 87.8, 79.7, 85.9, 86.0, 86.1, 86.6, 87.1, 84.5, 81.7, 85.3, null, 85.8, 79.9, 84.8, 86.4, 87.1, 87.5, 87.4, 86.6, 86.7, 85.4, 87.0, 85.7, 87.3, 85.0, 86.7, 86.1, 85.8, 75.1, 78.6, 75.0, 78.0, 80.7, 80.6, 78.9, 79.8, 79.9, 79.3, 78.2, null, 80.3, 77.9, 78.9, 80.9, 81.2, 79.5, 81.1, 82.0, 82.7, 77.6, 81.1, 83.0, 81.7, 81.2, 81.3, 80.2, 79.6, 77.6, 79.0, 80.6, 81.2, 78.9, 79.7, 79.7, 78.7, 79.6, 80.0, 74.9, 80.7, null, 78.8, 79.1, 79.8, 79.0, 72.3, 78.6, 79.3, 76.7, 77.8, 79.3, 75.9, 70.7, 78.0, null, 77.7, 71.2, 77.8, 79.7, 81.3, 79.2, 80.4, 80.4, 80.3, 79.8, 82.6, 78.7, 80.9, 78.1, 78.8, 79.5, 79.7], \"xaxis\": \"x3\", \"yaxis\": \"y3\"}, {\"histfunc\": \"count\", \"histnorm\": \"\", \"marker\": {\"color\": \"rgba(128, 0, 128, 1.0)\", \"line\": {\"color\": \"#4D5663\", \"width\": 1.3}}, \"name\": \"2008-2012\", \"opacity\": 0.8, \"orientation\": \"v\", \"type\": \"histogram\", \"uid\": \"54ccbe3c-4272-490a-8614-45e6f9f3fd75\", \"x\": [84.7, 84.4, 84.4, 86.1, 87.2, 86.8, 85.1, 86.3, 87.5, 86.5, 85.6, null, 86.5, 85.1, 86.3, 85.6, 86.4, 86.2, 87.4, 87.5, 87.5, 80.4, 87.1, 87.6, 86.5, 86.4, 87.8, 86.4, 88.2, 84.4, 85.4, 87.6, 86.8, 86.0, 87.0, 85.6, 87.2, 85.0, 84.6, 81.9, 86.0, null, 85.5, 87.2, 86.5, 88.0, 80.3, 86.1, 85.9, 85.9, 86.9, 87.4, 84.1, 81.6, 85.7, null, 86.3, null, 85.6, 86.7, 87.3, 87.8, 87.6, 87.2, 87.2, 85.6, 88.0, 86.1, 87.4, 85.5, 86.5, 86.2, 85.7, 75.7, 78.9, 75.8, 77.7, 80.9, 81.0, 79.3, 80.3, 80.0, 79.4, 78.7, null, 79.9, 78.1, 78.7, 80.4, 81.2, 80.2, 81.4, 82.1, 83.3, 77.8, 81.2, 83.2, 81.8, 81.3, 81.7, 80.6, 80.7, 78.6, 79.1, 81.0, 81.1, 80.3, 80.1, 79.8, 79.0, 79.8, 81.3, 75.9, 80.4, null, 79.4, 79.7, 79.9, 80.0, 71.8, 78.8, 79.8, 76.8, 78.1, 80.1, 75.4, 69.5, 78.2, null, 79.0, null, 78.0, 80.3, 81.6, 79.5, 80.6, 81.1, 80.6, 80.2, 82.1, 78.4, 81.2, 78.4, 79.4, 79.7, 79.9], \"xaxis\": \"x4\", \"yaxis\": \"y4\"}, {\"histfunc\": \"count\", \"histnorm\": \"\", \"marker\": {\"color\": \"rgba(219, 64, 82, 1.0)\", \"line\": {\"color\": \"#4D5663\", \"width\": 1.3}}, \"name\": \"2009-2013\", \"opacity\": 0.8, \"orientation\": \"v\", \"type\": \"histogram\", \"uid\": \"3a89dd2a-2ed1-4b24-beeb-a9a1c306edc1\", \"x\": [84.9, 87.5, 86.3, 85.5, 87.7, 85.1, 85.7, 85.8, 87.0, 86.0, 88.2, null, 88.1, 88.4, 81.7, 86.9, 87.8, 86.5, 86.8, 87.8, 86.0, 88.5, 84.8, 85.1, 85.7, 87.7, 86.6, 86.0, 87.6, 85.3, 87.2, 86.2, 85.1, 85.5, 82.3, 85.8, 87.8, 85.6, 86.9, 87.3, 88.4, null, 86.5, 85.8, 87.0, 86.0, 87.2, 87.8, 83.5, 83.6, 86.2, 80.5, 87.7, 83.1, 86.3, null, 86.9, 88.0, 88.5, 88.3, 87.4, 87.7, 86.0, 88.3, 86.9, 87.9, 85.1, 85.8, 87.3, 86.6, 86.3, 86.4, 88.1, 76.2, 79.5, 78.6, 78.8, 80.2, 79.2, 79.1, 80.3, 81.4, 80.9, 82.0, null, 83.0, 84.2, 78.2, 81.8, 83.5, 82.4, 81.8, 82.1, 80.7, 81.0, 76.0, 78.0, 79.6, 81.3, 81.2, 80.9, 80.1, 80.1, 79.4, 80.0, 81.0, 78.8, 77.4, 80.5, 77.8, 79.6, 79.6, 80.4, 81.0, null, 79.7, 79.8, 81.1, 77.0, 77.9, 80.1, 75.8, 69.0, 79.6, 77.7, 79.8, 73.1, 78.3, null, 80.6, 81.3, 80.3, 81.8, 81.3, 80.9, 80.5, 82.4, 78.9, 81.8, 80.2, 78.8, 79.7, 79.8, 80.1, 80.5, 80.5], \"xaxis\": \"x5\", \"yaxis\": \"y5\"}, {\"histfunc\": \"count\", \"histnorm\": \"\", \"marker\": {\"color\": \"rgba(0, 128, 128, 1.0)\", \"line\": {\"color\": \"#4D5663\", \"width\": 1.3}}, \"name\": \"2010-2014\", \"opacity\": 0.8, \"orientation\": \"v\", \"type\": \"histogram\", \"uid\": \"7297fad2-99f2-487e-8ad0-253f960b09c1\", \"x\": [85.3, 84.4, 84.7, 85.3, 86.7, 87.2, 85.1, 86.9, 88.7, 87.6, 86.4, null, 87.7, 84.3, 87.4, 86.3, 87.7, 86.1, 88.1, 89.0, 88.4, 82.2, 86.9, 88.1, 86.8, 86.9, 87.9, 86.3, 88.6, 85.7, 86.1, 87.4, 86.8, 86.6, 88.3, 85.8, 88.1, 87.3, 85.5, 83.9, 86.5, null, 86.0, 87.0, 87.7, 89.8, 85.1, 87.0, 86.5, 86.5, 89.0, 88.4, 83.3, 84.8, 88.2, 78.4, 89.5, 85.7, 86.8, 87.8, 88.2, 88.9, 89.6, 87.5, 88.6, 85.6, 87.5, 87.1, 88.1, 86.4, 88.4, 87.2, 87.0, 76.5, 78.7, 75.9, 78.3, 81.4, 81.3, 80.1, 80.8, 81.0, 79.8, 78.8, null, 80.0, 78.8, 79.8, 80.9, 82.0, 81.6, 82.4, 83.5, 83.6, 79.0, 81.7, 83.9, 82.5, 81.9, 82.5, 80.9, 81.4, 78.9, 79.9, 81.4, 81.0, 81.1, 80.2, 80.8, 79.4, 80.4, 81.5, 77.5, 80.0, null, 80.7, 79.8, 81.0, 81.3, 75.0, 81.0, 79.7, 77.6, 77.7, 80.4, 76.6, 71.3, 79.3, 76.0, 80.8, 74.6, 78.1, 81.2, 82.2, 80.3, 82.3, 81.9, 81.3, 80.5, 82.7, 79.5, 82.2, 79.6, 81.5, 80.2, 80.6], \"xaxis\": \"x6\", \"yaxis\": \"y6\"}, {\"histfunc\": \"count\", \"histnorm\": \"\", \"marker\": {\"color\": \"rgba(255, 255, 51, 1.0)\", \"line\": {\"color\": \"#4D5663\", \"width\": 1.3}}, \"name\": \"Gender\", \"opacity\": 0.8, \"orientation\": \"v\", \"type\": \"histogram\", \"uid\": \"0cb2c98d-033d-4564-a8fd-ca8f52a745e1\", \"x\": [\"Female\", \"Female\", \"Female\", \"Female\", \"Female\", \"Female\", \"Female\", \"Female\", \"Female\", \"Female\", \"Female\", \"Female\", \"Female\", \"Female\", \"Female\", \"Female\", \"Female\", \"Female\", \"Female\", \"Female\", \"Female\", \"Female\", \"Female\", \"Female\", \"Female\", \"Female\", \"Female\", \"Female\", \"Female\", \"Female\", \"Female\", \"Female\", \"Female\", \"Female\", \"Female\", \"Female\", \"Female\", \"Female\", \"Female\", \"Female\", \"Female\", \"Female\", \"Female\", \"Female\", \"Female\", \"Female\", \"Female\", \"Female\", \"Female\", \"Female\", \"Female\", \"Female\", \"Female\", \"Female\", \"Female\", \"Female\", \"Female\", \"Female\", \"Female\", \"Female\", \"Female\", \"Female\", \"Female\", \"Female\", \"Female\", \"Female\", \"Female\", \"Female\", \"Female\", \"Female\", \"Female\", \"Female\", \"Female\", \"Male\", \"Male\", \"Male\", \"Male\", \"Male\", \"Male\", \"Male\", \"Male\", \"Male\", \"Male\", \"Male\", \"Male\", \"Male\", \"Male\", \"Male\", \"Male\", \"Male\", \"Male\", \"Male\", \"Male\", \"Male\", \"Male\", \"Male\", \"Male\", \"Male\", \"Male\", \"Male\", \"Male\", \"Male\", \"Male\", \"Male\", \"Male\", \"Male\", \"Male\", \"Male\", \"Male\", \"Male\", \"Male\", \"Male\", \"Male\", \"Male\", \"Male\", \"Male\", \"Male\", \"Male\", \"Male\", \"Male\", \"Male\", \"Male\", \"Male\", \"Male\", \"Male\", \"Male\", \"Male\", \"Male\", \"Male\", \"Male\", \"Male\", \"Male\", \"Male\", \"Male\", \"Male\", \"Male\", \"Male\", \"Male\", \"Male\", \"Male\", \"Male\", \"Male\", \"Male\", \"Male\", \"Male\", \"Male\"], \"xaxis\": \"x7\", \"yaxis\": \"y7\"}],\n",
       "                        {\"barmode\": \"overlay\", \"legend\": {\"bgcolor\": \"#F5F6F9\", \"font\": {\"color\": \"#4D5663\"}}, \"paper_bgcolor\": \"#F5F6F9\", \"plot_bgcolor\": \"#F5F6F9\", \"title\": {\"font\": {\"color\": \"#4D5663\"}, \"text\": \"Expectativa de vida\"}, \"xaxis\": {\"anchor\": \"y\", \"domain\": [0.0, 0.45], \"gridcolor\": \"#E1E5ED\", \"showgrid\": true, \"tickfont\": {\"color\": \"#4D5663\"}, \"title\": {\"font\": {\"color\": \"#4D5663\"}, \"text\": \"\"}, \"zerolinecolor\": \"#E1E5ED\"}, \"xaxis2\": {\"anchor\": \"y2\", \"domain\": [0.55, 1.0], \"gridcolor\": \"#E1E5ED\", \"showgrid\": true, \"tickfont\": {\"color\": \"#4D5663\"}, \"title\": {\"font\": {\"color\": \"#4D5663\"}, \"text\": \"\"}, \"zerolinecolor\": \"#E1E5ED\"}, \"xaxis3\": {\"anchor\": \"y3\", \"domain\": [0.0, 0.45], \"gridcolor\": \"#E1E5ED\", \"showgrid\": true, \"tickfont\": {\"color\": \"#4D5663\"}, \"title\": {\"font\": {\"color\": \"#4D5663\"}, \"text\": \"\"}, \"zerolinecolor\": \"#E1E5ED\"}, \"xaxis4\": {\"anchor\": \"y4\", \"domain\": [0.55, 1.0], \"gridcolor\": \"#E1E5ED\", \"showgrid\": true, \"tickfont\": {\"color\": \"#4D5663\"}, \"title\": {\"font\": {\"color\": \"#4D5663\"}, \"text\": \"\"}, \"zerolinecolor\": \"#E1E5ED\"}, \"xaxis5\": {\"anchor\": \"y5\", \"domain\": [0.0, 0.45], \"gridcolor\": \"#E1E5ED\", \"showgrid\": true, \"tickfont\": {\"color\": \"#4D5663\"}, \"title\": {\"font\": {\"color\": \"#4D5663\"}, \"text\": \"\"}, \"zerolinecolor\": \"#E1E5ED\"}, \"xaxis6\": {\"anchor\": \"y6\", \"domain\": [0.55, 1.0], \"gridcolor\": \"#E1E5ED\", \"showgrid\": true, \"tickfont\": {\"color\": \"#4D5663\"}, \"title\": {\"font\": {\"color\": \"#4D5663\"}, \"text\": \"\"}, \"zerolinecolor\": \"#E1E5ED\"}, \"xaxis7\": {\"anchor\": \"y7\", \"domain\": [0.0, 0.45], \"gridcolor\": \"#E1E5ED\", \"showgrid\": true, \"tickfont\": {\"color\": \"#4D5663\"}, \"title\": {\"font\": {\"color\": \"#4D5663\"}, \"text\": \"\"}, \"zerolinecolor\": \"#E1E5ED\"}, \"yaxis\": {\"anchor\": \"x\", \"domain\": [0.80625, 1.0], \"gridcolor\": \"#E1E5ED\", \"showgrid\": true, \"tickfont\": {\"color\": \"#4D5663\"}, \"title\": {\"font\": {\"color\": \"#4D5663\"}, \"text\": \"\"}, \"zerolinecolor\": \"#E1E5ED\"}, \"yaxis2\": {\"anchor\": \"x2\", \"domain\": [0.80625, 1.0], \"gridcolor\": \"#E1E5ED\", \"showgrid\": true, \"tickfont\": {\"color\": \"#4D5663\"}, \"title\": {\"font\": {\"color\": \"#4D5663\"}, \"text\": \"\"}, \"zerolinecolor\": \"#E1E5ED\"}, \"yaxis3\": {\"anchor\": \"x3\", \"domain\": [0.5375, 0.73125], \"gridcolor\": \"#E1E5ED\", \"showgrid\": true, \"tickfont\": {\"color\": \"#4D5663\"}, \"title\": {\"font\": {\"color\": \"#4D5663\"}, \"text\": \"\"}, \"zerolinecolor\": \"#E1E5ED\"}, \"yaxis4\": {\"anchor\": \"x4\", \"domain\": [0.5375, 0.73125], \"gridcolor\": \"#E1E5ED\", \"showgrid\": true, \"tickfont\": {\"color\": \"#4D5663\"}, \"title\": {\"font\": {\"color\": \"#4D5663\"}, \"text\": \"\"}, \"zerolinecolor\": \"#E1E5ED\"}, \"yaxis5\": {\"anchor\": \"x5\", \"domain\": [0.26875, 0.4625], \"gridcolor\": \"#E1E5ED\", \"showgrid\": true, \"tickfont\": {\"color\": \"#4D5663\"}, \"title\": {\"font\": {\"color\": \"#4D5663\"}, \"text\": \"\"}, \"zerolinecolor\": \"#E1E5ED\"}, \"yaxis6\": {\"anchor\": \"x6\", \"domain\": [0.26875, 0.4625], \"gridcolor\": \"#E1E5ED\", \"showgrid\": true, \"tickfont\": {\"color\": \"#4D5663\"}, \"title\": {\"font\": {\"color\": \"#4D5663\"}, \"text\": \"\"}, \"zerolinecolor\": \"#E1E5ED\"}, \"yaxis7\": {\"anchor\": \"x7\", \"domain\": [0.0, 0.19375], \"gridcolor\": \"#E1E5ED\", \"showgrid\": true, \"tickfont\": {\"color\": \"#4D5663\"}, \"title\": {\"font\": {\"color\": \"#4D5663\"}, \"text\": \"\"}, \"zerolinecolor\": \"#E1E5ED\"}},\n",
       "                        {\"showLink\": true, \"linkText\": \"Export to plot.ly\", \"plotlyServerURL\": \"https://plot.ly\", \"responsive\": true}\n",
       "                    ).then(function(){\n",
       "                            \n",
       "var gd = document.getElementById('64245ac2-12c0-4f6d-acd2-ecc7ce165e77');\n",
       "var x = new MutationObserver(function (mutations, observer) {{\n",
       "        var display = window.getComputedStyle(gd).display;\n",
       "        if (!display || display === 'none') {{\n",
       "            console.log([gd, 'removed!']);\n",
       "            Plotly.purge(gd);\n",
       "            observer.disconnect();\n",
       "        }}\n",
       "}});\n",
       "\n",
       "// Listen for the removal of the full notebook cells\n",
       "var notebookContainer = gd.closest('#notebook-container');\n",
       "if (notebookContainer) {{\n",
       "    x.observe(notebookContainer, {childList: true});\n",
       "}}\n",
       "\n",
       "// Listen for the clearing of the current output cell\n",
       "var outputEl = gd.closest('.output');\n",
       "if (outputEl) {{\n",
       "    x.observe(outputEl, {childList: true});\n",
       "}}\n",
       "\n",
       "                        })\n",
       "                };\n",
       "                });\n",
       "            </script>\n",
       "        </div>"
      ]
     },
     "metadata": {},
     "output_type": "display_data"
    }
   ],
   "source": [
    "df.iplot(kind='hist', histnorm='', xTitle='', subplots=True,\n",
    "yTitle='', title='Expectativa de vida')"
   ]
  },
  {
   "cell_type": "code",
   "execution_count": 13,
   "metadata": {
    "ExecuteTime": {
     "end_time": "2019-08-25T09:42:32.830450Z",
     "start_time": "2019-08-25T09:42:31.773067Z"
    }
   },
   "outputs": [
    {
     "data": {
      "application/vnd.plotly.v1+json": {
       "config": {
        "linkText": "Export to plot.ly",
        "plotlyServerURL": "https://plot.ly",
        "showLink": true
       },
       "data": [
        {
         "line": {
          "color": "rgba(255, 153, 51, 1.0)",
          "dash": "solid",
          "shape": "linear",
          "width": 1.3
         },
         "mode": "lines",
         "name": "2006-2010",
         "text": "",
         "type": "scatter",
         "uid": "b19bead4-010c-4ab3-9674-0ba09e3b174d",
         "x": [
          "Female",
          "Male"
         ],
         "xaxis": "x",
         "y": [
          88.2768115942029,
          81.58405797101443
         ],
         "yaxis": "y"
        },
        {
         "line": {
          "color": "rgba(55, 128, 191, 1.0)",
          "dash": "solid",
          "shape": "linear",
          "width": 1.3
         },
         "mode": "lines",
         "name": "2007-2011",
         "text": "",
         "type": "scatter",
         "uid": "68860f27-a77c-4cda-bd52-367122e26c28",
         "x": [
          "Female",
          "Male"
         ],
         "xaxis": "x2",
         "y": [
          85.84428571428572,
          79.08999999999999
         ],
         "yaxis": "y2"
        },
        {
         "line": {
          "color": "rgba(50, 171, 96, 1.0)",
          "dash": "solid",
          "shape": "linear",
          "width": 1.3
         },
         "mode": "lines",
         "name": "2008-2012",
         "text": "",
         "type": "scatter",
         "uid": "f1cfa3e7-03b1-415c-9ed2-0c815216716b",
         "x": [
          "Female",
          "Male"
         ],
         "xaxis": "x3",
         "y": [
          86.0695652173913,
          79.49565217391306
         ],
         "yaxis": "y3"
        },
        {
         "line": {
          "color": "rgba(128, 0, 128, 1.0)",
          "dash": "solid",
          "shape": "linear",
          "width": 1.3
         },
         "mode": "lines",
         "name": "2009-2013",
         "text": "",
         "type": "scatter",
         "uid": "587024b0-ce52-4e5b-8335-eeede7ed90b8",
         "x": [
          "Female",
          "Male"
         ],
         "xaxis": "x4",
         "y": [
          86.39714285714285,
          79.79857142857144
         ],
         "yaxis": "y4"
        },
        {
         "line": {
          "color": "rgba(219, 64, 82, 1.0)",
          "dash": "solid",
          "shape": "linear",
          "width": 1.3
         },
         "mode": "lines",
         "name": "2010-2014",
         "text": "",
         "type": "scatter",
         "uid": "a15234c8-a071-4402-9b54-8b70eb8aae1a",
         "x": [
          "Female",
          "Male"
         ],
         "xaxis": "x5",
         "y": [
          86.79718309859156,
          80.11267605633805
         ],
         "yaxis": "y5"
        }
       ],
       "layout": {
        "legend": {
         "bgcolor": "#F5F6F9",
         "font": {
          "color": "#4D5663"
         }
        },
        "paper_bgcolor": "#F5F6F9",
        "plot_bgcolor": "#F5F6F9",
        "title": {
         "font": {
          "color": "#4D5663"
         },
         "text": "Expectativa de vida"
        },
        "xaxis": {
         "anchor": "y",
         "domain": [
          0,
          0.45
         ],
         "gridcolor": "#E1E5ED",
         "showgrid": true,
         "tickfont": {
          "color": "#4D5663"
         },
         "title": {
          "font": {
           "color": "#4D5663"
          },
          "text": ""
         },
         "zerolinecolor": "#E1E5ED"
        },
        "xaxis2": {
         "anchor": "y2",
         "domain": [
          0.55,
          1
         ],
         "gridcolor": "#E1E5ED",
         "showgrid": true,
         "tickfont": {
          "color": "#4D5663"
         },
         "title": {
          "font": {
           "color": "#4D5663"
          },
          "text": ""
         },
         "zerolinecolor": "#E1E5ED"
        },
        "xaxis3": {
         "anchor": "y3",
         "domain": [
          0,
          0.45
         ],
         "gridcolor": "#E1E5ED",
         "showgrid": true,
         "tickfont": {
          "color": "#4D5663"
         },
         "title": {
          "font": {
           "color": "#4D5663"
          },
          "text": ""
         },
         "zerolinecolor": "#E1E5ED"
        },
        "xaxis4": {
         "anchor": "y4",
         "domain": [
          0.55,
          1
         ],
         "gridcolor": "#E1E5ED",
         "showgrid": true,
         "tickfont": {
          "color": "#4D5663"
         },
         "title": {
          "font": {
           "color": "#4D5663"
          },
          "text": ""
         },
         "zerolinecolor": "#E1E5ED"
        },
        "xaxis5": {
         "anchor": "y5",
         "domain": [
          0,
          0.45
         ],
         "gridcolor": "#E1E5ED",
         "showgrid": true,
         "tickfont": {
          "color": "#4D5663"
         },
         "title": {
          "font": {
           "color": "#4D5663"
          },
          "text": ""
         },
         "zerolinecolor": "#E1E5ED"
        },
        "yaxis": {
         "anchor": "x",
         "domain": [
          0.7333333333333333,
          1
         ],
         "gridcolor": "#E1E5ED",
         "showgrid": true,
         "tickfont": {
          "color": "#4D5663"
         },
         "title": {
          "font": {
           "color": "#4D5663"
          },
          "text": ""
         },
         "zerolinecolor": "#E1E5ED"
        },
        "yaxis2": {
         "anchor": "x2",
         "domain": [
          0.7333333333333333,
          1
         ],
         "gridcolor": "#E1E5ED",
         "showgrid": true,
         "tickfont": {
          "color": "#4D5663"
         },
         "title": {
          "font": {
           "color": "#4D5663"
          },
          "text": ""
         },
         "zerolinecolor": "#E1E5ED"
        },
        "yaxis3": {
         "anchor": "x3",
         "domain": [
          0.36666666666666664,
          0.6333333333333333
         ],
         "gridcolor": "#E1E5ED",
         "showgrid": true,
         "tickfont": {
          "color": "#4D5663"
         },
         "title": {
          "font": {
           "color": "#4D5663"
          },
          "text": ""
         },
         "zerolinecolor": "#E1E5ED"
        },
        "yaxis4": {
         "anchor": "x4",
         "domain": [
          0.36666666666666664,
          0.6333333333333333
         ],
         "gridcolor": "#E1E5ED",
         "showgrid": true,
         "tickfont": {
          "color": "#4D5663"
         },
         "title": {
          "font": {
           "color": "#4D5663"
          },
          "text": ""
         },
         "zerolinecolor": "#E1E5ED"
        },
        "yaxis5": {
         "anchor": "x5",
         "domain": [
          0,
          0.26666666666666666
         ],
         "gridcolor": "#E1E5ED",
         "showgrid": true,
         "tickfont": {
          "color": "#4D5663"
         },
         "title": {
          "font": {
           "color": "#4D5663"
          },
          "text": ""
         },
         "zerolinecolor": "#E1E5ED"
        }
       }
      },
      "text/html": [
       "<div>\n",
       "        \n",
       "        \n",
       "            <div id=\"bcf76c2f-9ece-4125-ba1f-cee79dec7232\" class=\"plotly-graph-div\" style=\"height:525px; width:100%;\"></div>\n",
       "            <script type=\"text/javascript\">\n",
       "                require([\"plotly\"], function(Plotly) {\n",
       "                    window.PLOTLYENV=window.PLOTLYENV || {};\n",
       "                    window.PLOTLYENV.BASE_URL='https://plot.ly';\n",
       "                    \n",
       "                if (document.getElementById(\"bcf76c2f-9ece-4125-ba1f-cee79dec7232\")) {\n",
       "                    Plotly.newPlot(\n",
       "                        'bcf76c2f-9ece-4125-ba1f-cee79dec7232',\n",
       "                        [{\"line\": {\"color\": \"rgba(255, 153, 51, 1.0)\", \"dash\": \"solid\", \"shape\": \"linear\", \"width\": 1.3}, \"mode\": \"lines\", \"name\": \"2006-2010\", \"text\": \"\", \"type\": \"scatter\", \"uid\": \"b19bead4-010c-4ab3-9674-0ba09e3b174d\", \"x\": [\"Female\", \"Male\"], \"xaxis\": \"x\", \"y\": [88.2768115942029, 81.58405797101443], \"yaxis\": \"y\"}, {\"line\": {\"color\": \"rgba(55, 128, 191, 1.0)\", \"dash\": \"solid\", \"shape\": \"linear\", \"width\": 1.3}, \"mode\": \"lines\", \"name\": \"2007-2011\", \"text\": \"\", \"type\": \"scatter\", \"uid\": \"68860f27-a77c-4cda-bd52-367122e26c28\", \"x\": [\"Female\", \"Male\"], \"xaxis\": \"x2\", \"y\": [85.84428571428572, 79.08999999999999], \"yaxis\": \"y2\"}, {\"line\": {\"color\": \"rgba(50, 171, 96, 1.0)\", \"dash\": \"solid\", \"shape\": \"linear\", \"width\": 1.3}, \"mode\": \"lines\", \"name\": \"2008-2012\", \"text\": \"\", \"type\": \"scatter\", \"uid\": \"f1cfa3e7-03b1-415c-9ed2-0c815216716b\", \"x\": [\"Female\", \"Male\"], \"xaxis\": \"x3\", \"y\": [86.0695652173913, 79.49565217391306], \"yaxis\": \"y3\"}, {\"line\": {\"color\": \"rgba(128, 0, 128, 1.0)\", \"dash\": \"solid\", \"shape\": \"linear\", \"width\": 1.3}, \"mode\": \"lines\", \"name\": \"2009-2013\", \"text\": \"\", \"type\": \"scatter\", \"uid\": \"587024b0-ce52-4e5b-8335-eeede7ed90b8\", \"x\": [\"Female\", \"Male\"], \"xaxis\": \"x4\", \"y\": [86.39714285714285, 79.79857142857144], \"yaxis\": \"y4\"}, {\"line\": {\"color\": \"rgba(219, 64, 82, 1.0)\", \"dash\": \"solid\", \"shape\": \"linear\", \"width\": 1.3}, \"mode\": \"lines\", \"name\": \"2010-2014\", \"text\": \"\", \"type\": \"scatter\", \"uid\": \"a15234c8-a071-4402-9b54-8b70eb8aae1a\", \"x\": [\"Female\", \"Male\"], \"xaxis\": \"x5\", \"y\": [86.79718309859156, 80.11267605633805], \"yaxis\": \"y5\"}],\n",
       "                        {\"legend\": {\"bgcolor\": \"#F5F6F9\", \"font\": {\"color\": \"#4D5663\"}}, \"paper_bgcolor\": \"#F5F6F9\", \"plot_bgcolor\": \"#F5F6F9\", \"title\": {\"font\": {\"color\": \"#4D5663\"}, \"text\": \"Expectativa de vida\"}, \"xaxis\": {\"anchor\": \"y\", \"domain\": [0.0, 0.45], \"gridcolor\": \"#E1E5ED\", \"showgrid\": true, \"tickfont\": {\"color\": \"#4D5663\"}, \"title\": {\"font\": {\"color\": \"#4D5663\"}, \"text\": \"\"}, \"zerolinecolor\": \"#E1E5ED\"}, \"xaxis2\": {\"anchor\": \"y2\", \"domain\": [0.55, 1.0], \"gridcolor\": \"#E1E5ED\", \"showgrid\": true, \"tickfont\": {\"color\": \"#4D5663\"}, \"title\": {\"font\": {\"color\": \"#4D5663\"}, \"text\": \"\"}, \"zerolinecolor\": \"#E1E5ED\"}, \"xaxis3\": {\"anchor\": \"y3\", \"domain\": [0.0, 0.45], \"gridcolor\": \"#E1E5ED\", \"showgrid\": true, \"tickfont\": {\"color\": \"#4D5663\"}, \"title\": {\"font\": {\"color\": \"#4D5663\"}, \"text\": \"\"}, \"zerolinecolor\": \"#E1E5ED\"}, \"xaxis4\": {\"anchor\": \"y4\", \"domain\": [0.55, 1.0], \"gridcolor\": \"#E1E5ED\", \"showgrid\": true, \"tickfont\": {\"color\": \"#4D5663\"}, \"title\": {\"font\": {\"color\": \"#4D5663\"}, \"text\": \"\"}, \"zerolinecolor\": \"#E1E5ED\"}, \"xaxis5\": {\"anchor\": \"y5\", \"domain\": [0.0, 0.45], \"gridcolor\": \"#E1E5ED\", \"showgrid\": true, \"tickfont\": {\"color\": \"#4D5663\"}, \"title\": {\"font\": {\"color\": \"#4D5663\"}, \"text\": \"\"}, \"zerolinecolor\": \"#E1E5ED\"}, \"yaxis\": {\"anchor\": \"x\", \"domain\": [0.7333333333333333, 1.0], \"gridcolor\": \"#E1E5ED\", \"showgrid\": true, \"tickfont\": {\"color\": \"#4D5663\"}, \"title\": {\"font\": {\"color\": \"#4D5663\"}, \"text\": \"\"}, \"zerolinecolor\": \"#E1E5ED\"}, \"yaxis2\": {\"anchor\": \"x2\", \"domain\": [0.7333333333333333, 1.0], \"gridcolor\": \"#E1E5ED\", \"showgrid\": true, \"tickfont\": {\"color\": \"#4D5663\"}, \"title\": {\"font\": {\"color\": \"#4D5663\"}, \"text\": \"\"}, \"zerolinecolor\": \"#E1E5ED\"}, \"yaxis3\": {\"anchor\": \"x3\", \"domain\": [0.36666666666666664, 0.6333333333333333], \"gridcolor\": \"#E1E5ED\", \"showgrid\": true, \"tickfont\": {\"color\": \"#4D5663\"}, \"title\": {\"font\": {\"color\": \"#4D5663\"}, \"text\": \"\"}, \"zerolinecolor\": \"#E1E5ED\"}, \"yaxis4\": {\"anchor\": \"x4\", \"domain\": [0.36666666666666664, 0.6333333333333333], \"gridcolor\": \"#E1E5ED\", \"showgrid\": true, \"tickfont\": {\"color\": \"#4D5663\"}, \"title\": {\"font\": {\"color\": \"#4D5663\"}, \"text\": \"\"}, \"zerolinecolor\": \"#E1E5ED\"}, \"yaxis5\": {\"anchor\": \"x5\", \"domain\": [0.0, 0.26666666666666666], \"gridcolor\": \"#E1E5ED\", \"showgrid\": true, \"tickfont\": {\"color\": \"#4D5663\"}, \"title\": {\"font\": {\"color\": \"#4D5663\"}, \"text\": \"\"}, \"zerolinecolor\": \"#E1E5ED\"}},\n",
       "                        {\"showLink\": true, \"linkText\": \"Export to plot.ly\", \"plotlyServerURL\": \"https://plot.ly\", \"responsive\": true}\n",
       "                    ).then(function(){\n",
       "                            \n",
       "var gd = document.getElementById('bcf76c2f-9ece-4125-ba1f-cee79dec7232');\n",
       "var x = new MutationObserver(function (mutations, observer) {{\n",
       "        var display = window.getComputedStyle(gd).display;\n",
       "        if (!display || display === 'none') {{\n",
       "            console.log([gd, 'removed!']);\n",
       "            Plotly.purge(gd);\n",
       "            observer.disconnect();\n",
       "        }}\n",
       "}});\n",
       "\n",
       "// Listen for the removal of the full notebook cells\n",
       "var notebookContainer = gd.closest('#notebook-container');\n",
       "if (notebookContainer) {{\n",
       "    x.observe(notebookContainer, {childList: true});\n",
       "}}\n",
       "\n",
       "// Listen for the clearing of the current output cell\n",
       "var outputEl = gd.closest('.output');\n",
       "if (outputEl) {{\n",
       "    x.observe(outputEl, {childList: true});\n",
       "}}\n",
       "\n",
       "                        })\n",
       "                };\n",
       "                });\n",
       "            </script>\n",
       "        </div>"
      ]
     },
     "metadata": {},
     "output_type": "display_data"
    }
   ],
   "source": [
    "table.iplot(kind='lines',  xTitle='', subplots=True,\n",
    "yTitle='', title='Expectativa de vida')"
   ]
  },
  {
   "cell_type": "code",
   "execution_count": 19,
   "metadata": {
    "ExecuteTime": {
     "end_time": "2019-08-25T09:46:07.034214Z",
     "start_time": "2019-08-25T09:46:06.854135Z"
    }
   },
   "outputs": [
    {
     "data": {
      "application/vnd.plotly.v1+json": {
       "config": {
        "linkText": "Export to plot.ly",
        "plotlyServerURL": "https://plot.ly",
        "showLink": true
       },
       "data": [
        {
         "marker": {
          "color": "rgba(255, 153, 51, 1.0)",
          "line": {
           "width": 1.3
          },
          "opacity": 0.8,
          "size": 12,
          "symbol": "circle"
         },
         "mode": "markers",
         "name": "Female",
         "text": [
          "el Raval",
          "el Barri Gòtic",
          "la Barceloneta",
          "Sant Pere, Santa Caterina i la Ribera",
          "el Fort Pienc",
          "la Sagrada Família",
          "la Dreta de l'Eixample",
          "l'Antiga Esquerra de l'Eixample",
          "la Nova Esquerra de l'Eixample",
          "Sant Antoni",
          "el Poble Sec - Parc Montjuïc",
          "la Marina del Prat Vermell - Zona Franca",
          "la Marina de Port",
          "la Font de la Guatlla",
          "Hostafrancs",
          "la Bordeta",
          "Sants - Badal",
          "Sants",
          "les Corts",
          "la Maternitat i Sant Ramon",
          "Pedralbes",
          "Vallvidrera, el Tibidabo i les Planes",
          "Sarrià",
          "les Tres Torres",
          "Sant Gervasi - la Bonanova",
          "Sant Gervasi - Galvany",
          "el Putxet i el Farró",
          "Vallcarca i els Penitents",
          "el Coll",
          "la Salut",
          "la Vila de Gràcia",
          "el Camp d'en Grassot i Gràcia Nova",
          "el Baix Guinardó",
          "Can Baró",
          "el Guinardó",
          "la Font d'en Fargues",
          "el Carmel",
          "la Teixonera",
          "Sant Genís dels Agudells",
          "Montbau",
          "la Vall d'Hebron",
          "la Clota",
          "Horta",
          "Vilapicina i la Torre Llobeta",
          "Porta",
          "el Turó de la Peira",
          "Can Peguera",
          "la Guineueta",
          "Canyelles",
          "les Roquetes",
          "Verdun",
          "la Prosperitat",
          "la Trinitat Nova",
          "Torre Baró",
          "Ciutat Meridiana",
          "Vallbona",
          "la Trinitat Vella",
          "Baró de Viver",
          "el Bon Pastor",
          "Sant Andreu",
          "la Sagrera",
          "el Congrés i els Indians",
          "Navas",
          "el Camp de l'Arpa del Clot",
          "el Clot",
          "el Parc i la Llacuna del Poblenou",
          "la Vila Olímpica del Poblenou",
          "el Poblenou",
          "Diagonal Mar i el Front Marítim del Poblenou",
          "el Besòs i el Maresme",
          "Provençals del Poblenou",
          "Sant Martí de Provençals",
          " la Verneda i la Pau"
         ],
         "textfont": {
          "color": "#4D5663"
         },
         "type": "scatter",
         "uid": "385a9882-6f7b-458f-9813-a5687fc4c0f6",
         "x": [
          "el Raval",
          "el Barri Gòtic",
          "la Barceloneta",
          "Sant Pere, Santa Caterina i la Ribera",
          "el Fort Pienc",
          "la Sagrada Família",
          "la Dreta de l'Eixample",
          "l'Antiga Esquerra de l'Eixample",
          "la Nova Esquerra de l'Eixample",
          "Sant Antoni",
          "el Poble Sec - Parc Montjuïc",
          "la Marina del Prat Vermell - Zona Franca",
          "la Marina de Port",
          "la Font de la Guatlla",
          "Hostafrancs",
          "la Bordeta",
          "Sants - Badal",
          "Sants",
          "les Corts",
          "la Maternitat i Sant Ramon",
          "Pedralbes",
          "Vallvidrera, el Tibidabo i les Planes",
          "Sarrià",
          "les Tres Torres",
          "Sant Gervasi - la Bonanova",
          "Sant Gervasi - Galvany",
          "el Putxet i el Farró",
          "Vallcarca i els Penitents",
          "el Coll",
          "la Salut",
          "la Vila de Gràcia",
          "el Camp d'en Grassot i Gràcia Nova",
          "el Baix Guinardó",
          "Can Baró",
          "el Guinardó",
          "la Font d'en Fargues",
          "el Carmel",
          "la Teixonera",
          "Sant Genís dels Agudells",
          "Montbau",
          "la Vall d'Hebron",
          "la Clota",
          "Horta",
          "Vilapicina i la Torre Llobeta",
          "Porta",
          "el Turó de la Peira",
          "Can Peguera",
          "la Guineueta",
          "Canyelles",
          "les Roquetes",
          "Verdun",
          "la Prosperitat",
          "la Trinitat Nova",
          "Torre Baró",
          "Ciutat Meridiana",
          "Vallbona",
          "la Trinitat Vella",
          "Baró de Viver",
          "el Bon Pastor",
          "Sant Andreu",
          "la Sagrera",
          "el Congrés i els Indians",
          "Navas",
          "el Camp de l'Arpa del Clot",
          "el Clot",
          "el Parc i la Llacuna del Poblenou",
          "la Vila Olímpica del Poblenou",
          "el Poblenou",
          "Diagonal Mar i el Front Marítim del Poblenou",
          "el Besòs i el Maresme",
          "Provençals del Poblenou",
          "Sant Martí de Provençals",
          " la Verneda i la Pau"
         ],
         "y": [
          87.5,
          88,
          88.2,
          88.9,
          89.7,
          88.9,
          87,
          88.9,
          90,
          89,
          88.5,
          null,
          88.5,
          88.7,
          87.5,
          88.7,
          88.4,
          89.4,
          89.4,
          90,
          89,
          83.4,
          90.9,
          89.7,
          89.2,
          88.8,
          89.9,
          88.2,
          89.9,
          85.7,
          87.5,
          90.1,
          90.1,
          88.2,
          89.3,
          87.3,
          88.8,
          86.7,
          87.3,
          83.5,
          86.6,
          null,
          87.1,
          89.6,
          88.3,
          90.4,
          82.2,
          88.3,
          89.6,
          88.5,
          88.4,
          89.6,
          87.4,
          null,
          87.9,
          null,
          87,
          82.4,
          86.3,
          88.8,
          89.9,
          89.9,
          89.8,
          89.1,
          88.7,
          88.1,
          90.4,
          88.1,
          88.1,
          86.8,
          88.4,
          88.8,
          87.9
         ]
        },
        {
         "marker": {
          "color": "rgba(55, 128, 191, 1.0)",
          "line": {
           "width": 1.3
          },
          "opacity": 0.8,
          "size": 12,
          "symbol": "circle"
         },
         "mode": "markers",
         "name": "Male",
         "text": [
          "el Raval",
          "el Barri Gòtic",
          "la Barceloneta",
          "Sant Pere, Santa Caterina i la Ribera",
          "el Fort Pienc",
          "la Sagrada Família",
          "la Dreta de l'Eixample",
          "l'Antiga Esquerra de l'Eixample",
          "la Nova Esquerra de l'Eixample",
          "Sant Antoni",
          "el Poble Sec - Parc Montjuïc",
          "la Marina del Prat Vermell - Zona Franca",
          "la Marina de Port",
          "la Font de la Guatlla",
          "Hostafrancs",
          "la Bordeta",
          "Sants - Badal",
          "Sants",
          "les Corts",
          "la Maternitat i Sant Ramon",
          "Pedralbes",
          "Vallvidrera, el Tibidabo i les Planes",
          "Sarrià",
          "les Tres Torres",
          "Sant Gervasi - la Bonanova",
          "Sant Gervasi - Galvany",
          "el Putxet i el Farró",
          "Vallcarca i els Penitents",
          "el Coll",
          "la Salut",
          "la Vila de Gràcia",
          "el Camp d'en Grassot i Gràcia Nova",
          "el Baix Guinardó",
          "Can Baró",
          "el Guinardó",
          "la Font d'en Fargues",
          "el Carmel",
          "la Teixonera",
          "Sant Genís dels Agudells",
          "Montbau",
          "la Vall d'Hebron",
          "la Clota",
          "Horta",
          "Vilapicina i la Torre Llobeta",
          "Porta",
          "el Turó de la Peira",
          "Can Peguera",
          "la Guineueta",
          "Canyelles",
          "les Roquetes",
          "Verdun",
          "la Prosperitat",
          "la Trinitat Nova",
          "Torre Baró",
          "Ciutat Meridiana",
          "Vallbona",
          "la Trinitat Vella",
          "Baró de Viver",
          "el Bon Pastor",
          "Sant Andreu",
          "la Sagrera",
          "el Congrés i els Indians",
          "Navas",
          "el Camp de l'Arpa del Clot",
          "el Clot",
          "el Parc i la Llacuna del Poblenou",
          "la Vila Olímpica del Poblenou",
          "el Poblenou",
          "Diagonal Mar i el Front Marítim del Poblenou",
          "el Besòs i el Maresme",
          "Provençals del Poblenou",
          "Sant Martí de Provençals",
          " la Verneda i la Pau"
         ],
         "textfont": {
          "color": "#4D5663"
         },
         "type": "scatter",
         "uid": "2b3f4788-f0f6-4699-9fda-f9f8b9095a72",
         "x": [
          "el Raval",
          "el Barri Gòtic",
          "la Barceloneta",
          "Sant Pere, Santa Caterina i la Ribera",
          "el Fort Pienc",
          "la Sagrada Família",
          "la Dreta de l'Eixample",
          "l'Antiga Esquerra de l'Eixample",
          "la Nova Esquerra de l'Eixample",
          "Sant Antoni",
          "el Poble Sec - Parc Montjuïc",
          "la Marina del Prat Vermell - Zona Franca",
          "la Marina de Port",
          "la Font de la Guatlla",
          "Hostafrancs",
          "la Bordeta",
          "Sants - Badal",
          "Sants",
          "les Corts",
          "la Maternitat i Sant Ramon",
          "Pedralbes",
          "Vallvidrera, el Tibidabo i les Planes",
          "Sarrià",
          "les Tres Torres",
          "Sant Gervasi - la Bonanova",
          "Sant Gervasi - Galvany",
          "el Putxet i el Farró",
          "Vallcarca i els Penitents",
          "el Coll",
          "la Salut",
          "la Vila de Gràcia",
          "el Camp d'en Grassot i Gràcia Nova",
          "el Baix Guinardó",
          "Can Baró",
          "el Guinardó",
          "la Font d'en Fargues",
          "el Carmel",
          "la Teixonera",
          "Sant Genís dels Agudells",
          "Montbau",
          "la Vall d'Hebron",
          "la Clota",
          "Horta",
          "Vilapicina i la Torre Llobeta",
          "Porta",
          "el Turó de la Peira",
          "Can Peguera",
          "la Guineueta",
          "Canyelles",
          "les Roquetes",
          "Verdun",
          "la Prosperitat",
          "la Trinitat Nova",
          "Torre Baró",
          "Ciutat Meridiana",
          "Vallbona",
          "la Trinitat Vella",
          "Baró de Viver",
          "el Bon Pastor",
          "Sant Andreu",
          "la Sagrera",
          "el Congrés i els Indians",
          "Navas",
          "el Camp de l'Arpa del Clot",
          "el Clot",
          "el Parc i la Llacuna del Poblenou",
          "la Vila Olímpica del Poblenou",
          "el Poblenou",
          "Diagonal Mar i el Front Marítim del Poblenou",
          "el Besòs i el Maresme",
          "Provençals del Poblenou",
          "Sant Martí de Provençals",
          " la Verneda i la Pau"
         ],
         "y": [
          77.9,
          81.3,
          78.3,
          80.9,
          83,
          83.2,
          81.2,
          82.3,
          82.1,
          81.7,
          80.6,
          null,
          83.1,
          81.5,
          81.2,
          83.9,
          83.5,
          81.7,
          83,
          83.9,
          84.7,
          78.9,
          83.7,
          84.7,
          83.5,
          83.6,
          83.7,
          82.6,
          81.4,
          79.6,
          81.8,
          82.7,
          83.9,
          81.5,
          81.7,
          81.6,
          80.7,
          82.3,
          81.8,
          77.1,
          83.6,
          null,
          81.4,
          81.8,
          81.7,
          80.9,
          74.7,
          80.9,
          82,
          79.2,
          80.2,
          81.7,
          78,
          null,
          80.4,
          null,
          80.4,
          74.2,
          80.4,
          81.7,
          83.7,
          81.7,
          82.5,
          82.9,
          81.9,
          82.4,
          87.2,
          81.4,
          82.1,
          80.2,
          80.4,
          81.9,
          82
         ]
        }
       ],
       "layout": {
        "legend": {
         "bgcolor": "#F5F6F9",
         "font": {
          "color": "#4D5663"
         }
        },
        "paper_bgcolor": "#F5F6F9",
        "plot_bgcolor": "#F5F6F9",
        "title": {
         "font": {
          "color": "#4D5663"
         },
         "text": "Expectativa de vida 2006-2010"
        },
        "xaxis": {
         "gridcolor": "#E1E5ED",
         "showgrid": true,
         "tickfont": {
          "color": "#4D5663"
         },
         "title": {
          "font": {
           "color": "#4D5663"
          },
          "text": ""
         },
         "zerolinecolor": "#E1E5ED"
        },
        "yaxis": {
         "gridcolor": "#E1E5ED",
         "showgrid": true,
         "tickfont": {
          "color": "#4D5663"
         },
         "title": {
          "font": {
           "color": "#4D5663"
          },
          "text": ""
         },
         "zerolinecolor": "#E1E5ED"
        }
       }
      },
      "text/html": [
       "<div>\n",
       "        \n",
       "        \n",
       "            <div id=\"dbc6c4a0-f4a7-4a94-a059-a5013c130a04\" class=\"plotly-graph-div\" style=\"height:525px; width:100%;\"></div>\n",
       "            <script type=\"text/javascript\">\n",
       "                require([\"plotly\"], function(Plotly) {\n",
       "                    window.PLOTLYENV=window.PLOTLYENV || {};\n",
       "                    window.PLOTLYENV.BASE_URL='https://plot.ly';\n",
       "                    \n",
       "                if (document.getElementById(\"dbc6c4a0-f4a7-4a94-a059-a5013c130a04\")) {\n",
       "                    Plotly.newPlot(\n",
       "                        'dbc6c4a0-f4a7-4a94-a059-a5013c130a04',\n",
       "                        [{\"marker\": {\"color\": \"rgba(255, 153, 51, 1.0)\", \"line\": {\"width\": 1.3}, \"opacity\": 0.8, \"size\": 12, \"symbol\": \"circle\"}, \"mode\": \"markers\", \"name\": \"Female\", \"text\": [\"el Raval\", \"el Barri G\\u00f2tic\", \"la Barceloneta\", \"Sant Pere, Santa Caterina i la Ribera\", \"el Fort Pienc\", \"la Sagrada Fam\\u00edlia\", \"la Dreta de l'Eixample\", \"l'Antiga Esquerra de l'Eixample\", \"la Nova Esquerra de l'Eixample\", \"Sant Antoni\", \"el Poble Sec - Parc Montju\\u00efc\", \"la Marina del Prat Vermell - Zona Franca\", \"la Marina de Port\", \"la Font de la Guatlla\", \"Hostafrancs\", \"la Bordeta\", \"Sants - Badal\", \"Sants\", \"les Corts\", \"la Maternitat i Sant Ramon\", \"Pedralbes\", \"Vallvidrera, el Tibidabo i les Planes\", \"Sarri\\u00e0\", \"les Tres Torres\", \"Sant Gervasi - la Bonanova\", \"Sant Gervasi - Galvany\", \"el Putxet i el Farr\\u00f3\", \"Vallcarca i els Penitents\", \"el Coll\", \"la Salut\", \"la Vila de Gr\\u00e0cia\", \"el Camp d'en Grassot i Gr\\u00e0cia Nova\", \"el Baix Guinard\\u00f3\", \"Can Bar\\u00f3\", \"el Guinard\\u00f3\", \"la Font d'en Fargues\", \"el Carmel\", \"la Teixonera\", \"Sant Gen\\u00eds dels Agudells\", \"Montbau\", \"la Vall d'Hebron\", \"la Clota\", \"Horta\", \"Vilapicina i la Torre Llobeta\", \"Porta\", \"el Tur\\u00f3 de la Peira\", \"Can Peguera\", \"la Guineueta\", \"Canyelles\", \"les Roquetes\", \"Verdun\", \"la Prosperitat\", \"la Trinitat Nova\", \"Torre Bar\\u00f3\", \"Ciutat Meridiana\", \"Vallbona\", \"la Trinitat Vella\", \"Bar\\u00f3 de Viver\", \"el Bon Pastor\", \"Sant Andreu\", \"la Sagrera\", \"el Congr\\u00e9s i els Indians\", \"Navas\", \"el Camp de l'Arpa del Clot\", \"el Clot\", \"el Parc i la Llacuna del Poblenou\", \"la Vila Ol\\u00edmpica del Poblenou\", \"el Poblenou\", \"Diagonal Mar i el Front Mar\\u00edtim del Poblenou\", \"el Bes\\u00f2s i el Maresme\", \"Proven\\u00e7als del Poblenou\", \"Sant Mart\\u00ed de Proven\\u00e7als\", \" la Verneda i la Pau\"], \"textfont\": {\"color\": \"#4D5663\"}, \"type\": \"scatter\", \"uid\": \"385a9882-6f7b-458f-9813-a5687fc4c0f6\", \"x\": [\"el Raval\", \"el Barri G\\u00f2tic\", \"la Barceloneta\", \"Sant Pere, Santa Caterina i la Ribera\", \"el Fort Pienc\", \"la Sagrada Fam\\u00edlia\", \"la Dreta de l'Eixample\", \"l'Antiga Esquerra de l'Eixample\", \"la Nova Esquerra de l'Eixample\", \"Sant Antoni\", \"el Poble Sec - Parc Montju\\u00efc\", \"la Marina del Prat Vermell - Zona Franca\", \"la Marina de Port\", \"la Font de la Guatlla\", \"Hostafrancs\", \"la Bordeta\", \"Sants - Badal\", \"Sants\", \"les Corts\", \"la Maternitat i Sant Ramon\", \"Pedralbes\", \"Vallvidrera, el Tibidabo i les Planes\", \"Sarri\\u00e0\", \"les Tres Torres\", \"Sant Gervasi - la Bonanova\", \"Sant Gervasi - Galvany\", \"el Putxet i el Farr\\u00f3\", \"Vallcarca i els Penitents\", \"el Coll\", \"la Salut\", \"la Vila de Gr\\u00e0cia\", \"el Camp d'en Grassot i Gr\\u00e0cia Nova\", \"el Baix Guinard\\u00f3\", \"Can Bar\\u00f3\", \"el Guinard\\u00f3\", \"la Font d'en Fargues\", \"el Carmel\", \"la Teixonera\", \"Sant Gen\\u00eds dels Agudells\", \"Montbau\", \"la Vall d'Hebron\", \"la Clota\", \"Horta\", \"Vilapicina i la Torre Llobeta\", \"Porta\", \"el Tur\\u00f3 de la Peira\", \"Can Peguera\", \"la Guineueta\", \"Canyelles\", \"les Roquetes\", \"Verdun\", \"la Prosperitat\", \"la Trinitat Nova\", \"Torre Bar\\u00f3\", \"Ciutat Meridiana\", \"Vallbona\", \"la Trinitat Vella\", \"Bar\\u00f3 de Viver\", \"el Bon Pastor\", \"Sant Andreu\", \"la Sagrera\", \"el Congr\\u00e9s i els Indians\", \"Navas\", \"el Camp de l'Arpa del Clot\", \"el Clot\", \"el Parc i la Llacuna del Poblenou\", \"la Vila Ol\\u00edmpica del Poblenou\", \"el Poblenou\", \"Diagonal Mar i el Front Mar\\u00edtim del Poblenou\", \"el Bes\\u00f2s i el Maresme\", \"Proven\\u00e7als del Poblenou\", \"Sant Mart\\u00ed de Proven\\u00e7als\", \" la Verneda i la Pau\"], \"y\": [87.5, 88.0, 88.2, 88.9, 89.7, 88.9, 87.0, 88.9, 90.0, 89.0, 88.5, null, 88.5, 88.7, 87.5, 88.7, 88.4, 89.4, 89.4, 90.0, 89.0, 83.4, 90.9, 89.7, 89.2, 88.8, 89.9, 88.2, 89.9, 85.7, 87.5, 90.1, 90.1, 88.2, 89.3, 87.3, 88.8, 86.7, 87.3, 83.5, 86.6, null, 87.1, 89.6, 88.3, 90.4, 82.2, 88.3, 89.6, 88.5, 88.4, 89.6, 87.4, null, 87.9, null, 87.0, 82.4, 86.3, 88.8, 89.9, 89.9, 89.8, 89.1, 88.7, 88.1, 90.4, 88.1, 88.1, 86.8, 88.4, 88.8, 87.9]}, {\"marker\": {\"color\": \"rgba(55, 128, 191, 1.0)\", \"line\": {\"width\": 1.3}, \"opacity\": 0.8, \"size\": 12, \"symbol\": \"circle\"}, \"mode\": \"markers\", \"name\": \"Male\", \"text\": [\"el Raval\", \"el Barri G\\u00f2tic\", \"la Barceloneta\", \"Sant Pere, Santa Caterina i la Ribera\", \"el Fort Pienc\", \"la Sagrada Fam\\u00edlia\", \"la Dreta de l'Eixample\", \"l'Antiga Esquerra de l'Eixample\", \"la Nova Esquerra de l'Eixample\", \"Sant Antoni\", \"el Poble Sec - Parc Montju\\u00efc\", \"la Marina del Prat Vermell - Zona Franca\", \"la Marina de Port\", \"la Font de la Guatlla\", \"Hostafrancs\", \"la Bordeta\", \"Sants - Badal\", \"Sants\", \"les Corts\", \"la Maternitat i Sant Ramon\", \"Pedralbes\", \"Vallvidrera, el Tibidabo i les Planes\", \"Sarri\\u00e0\", \"les Tres Torres\", \"Sant Gervasi - la Bonanova\", \"Sant Gervasi - Galvany\", \"el Putxet i el Farr\\u00f3\", \"Vallcarca i els Penitents\", \"el Coll\", \"la Salut\", \"la Vila de Gr\\u00e0cia\", \"el Camp d'en Grassot i Gr\\u00e0cia Nova\", \"el Baix Guinard\\u00f3\", \"Can Bar\\u00f3\", \"el Guinard\\u00f3\", \"la Font d'en Fargues\", \"el Carmel\", \"la Teixonera\", \"Sant Gen\\u00eds dels Agudells\", \"Montbau\", \"la Vall d'Hebron\", \"la Clota\", \"Horta\", \"Vilapicina i la Torre Llobeta\", \"Porta\", \"el Tur\\u00f3 de la Peira\", \"Can Peguera\", \"la Guineueta\", \"Canyelles\", \"les Roquetes\", \"Verdun\", \"la Prosperitat\", \"la Trinitat Nova\", \"Torre Bar\\u00f3\", \"Ciutat Meridiana\", \"Vallbona\", \"la Trinitat Vella\", \"Bar\\u00f3 de Viver\", \"el Bon Pastor\", \"Sant Andreu\", \"la Sagrera\", \"el Congr\\u00e9s i els Indians\", \"Navas\", \"el Camp de l'Arpa del Clot\", \"el Clot\", \"el Parc i la Llacuna del Poblenou\", \"la Vila Ol\\u00edmpica del Poblenou\", \"el Poblenou\", \"Diagonal Mar i el Front Mar\\u00edtim del Poblenou\", \"el Bes\\u00f2s i el Maresme\", \"Proven\\u00e7als del Poblenou\", \"Sant Mart\\u00ed de Proven\\u00e7als\", \" la Verneda i la Pau\"], \"textfont\": {\"color\": \"#4D5663\"}, \"type\": \"scatter\", \"uid\": \"2b3f4788-f0f6-4699-9fda-f9f8b9095a72\", \"x\": [\"el Raval\", \"el Barri G\\u00f2tic\", \"la Barceloneta\", \"Sant Pere, Santa Caterina i la Ribera\", \"el Fort Pienc\", \"la Sagrada Fam\\u00edlia\", \"la Dreta de l'Eixample\", \"l'Antiga Esquerra de l'Eixample\", \"la Nova Esquerra de l'Eixample\", \"Sant Antoni\", \"el Poble Sec - Parc Montju\\u00efc\", \"la Marina del Prat Vermell - Zona Franca\", \"la Marina de Port\", \"la Font de la Guatlla\", \"Hostafrancs\", \"la Bordeta\", \"Sants - Badal\", \"Sants\", \"les Corts\", \"la Maternitat i Sant Ramon\", \"Pedralbes\", \"Vallvidrera, el Tibidabo i les Planes\", \"Sarri\\u00e0\", \"les Tres Torres\", \"Sant Gervasi - la Bonanova\", \"Sant Gervasi - Galvany\", \"el Putxet i el Farr\\u00f3\", \"Vallcarca i els Penitents\", \"el Coll\", \"la Salut\", \"la Vila de Gr\\u00e0cia\", \"el Camp d'en Grassot i Gr\\u00e0cia Nova\", \"el Baix Guinard\\u00f3\", \"Can Bar\\u00f3\", \"el Guinard\\u00f3\", \"la Font d'en Fargues\", \"el Carmel\", \"la Teixonera\", \"Sant Gen\\u00eds dels Agudells\", \"Montbau\", \"la Vall d'Hebron\", \"la Clota\", \"Horta\", \"Vilapicina i la Torre Llobeta\", \"Porta\", \"el Tur\\u00f3 de la Peira\", \"Can Peguera\", \"la Guineueta\", \"Canyelles\", \"les Roquetes\", \"Verdun\", \"la Prosperitat\", \"la Trinitat Nova\", \"Torre Bar\\u00f3\", \"Ciutat Meridiana\", \"Vallbona\", \"la Trinitat Vella\", \"Bar\\u00f3 de Viver\", \"el Bon Pastor\", \"Sant Andreu\", \"la Sagrera\", \"el Congr\\u00e9s i els Indians\", \"Navas\", \"el Camp de l'Arpa del Clot\", \"el Clot\", \"el Parc i la Llacuna del Poblenou\", \"la Vila Ol\\u00edmpica del Poblenou\", \"el Poblenou\", \"Diagonal Mar i el Front Mar\\u00edtim del Poblenou\", \"el Bes\\u00f2s i el Maresme\", \"Proven\\u00e7als del Poblenou\", \"Sant Mart\\u00ed de Proven\\u00e7als\", \" la Verneda i la Pau\"], \"y\": [77.9, 81.3, 78.3, 80.9, 83.0, 83.2, 81.2, 82.3, 82.1, 81.7, 80.6, null, 83.1, 81.5, 81.2, 83.9, 83.5, 81.7, 83.0, 83.9, 84.7, 78.9, 83.7, 84.7, 83.5, 83.6, 83.7, 82.6, 81.4, 79.6, 81.8, 82.7, 83.9, 81.5, 81.7, 81.6, 80.7, 82.3, 81.8, 77.1, 83.6, null, 81.4, 81.8, 81.7, 80.9, 74.7, 80.9, 82.0, 79.2, 80.2, 81.7, 78.0, null, 80.4, null, 80.4, 74.2, 80.4, 81.7, 83.7, 81.7, 82.5, 82.9, 81.9, 82.4, 87.2, 81.4, 82.1, 80.2, 80.4, 81.9, 82.0]}],\n",
       "                        {\"legend\": {\"bgcolor\": \"#F5F6F9\", \"font\": {\"color\": \"#4D5663\"}}, \"paper_bgcolor\": \"#F5F6F9\", \"plot_bgcolor\": \"#F5F6F9\", \"title\": {\"font\": {\"color\": \"#4D5663\"}, \"text\": \"Expectativa de vida 2006-2010\"}, \"xaxis\": {\"gridcolor\": \"#E1E5ED\", \"showgrid\": true, \"tickfont\": {\"color\": \"#4D5663\"}, \"title\": {\"font\": {\"color\": \"#4D5663\"}, \"text\": \"\"}, \"zerolinecolor\": \"#E1E5ED\"}, \"yaxis\": {\"gridcolor\": \"#E1E5ED\", \"showgrid\": true, \"tickfont\": {\"color\": \"#4D5663\"}, \"title\": {\"font\": {\"color\": \"#4D5663\"}, \"text\": \"\"}, \"zerolinecolor\": \"#E1E5ED\"}},\n",
       "                        {\"showLink\": true, \"linkText\": \"Export to plot.ly\", \"plotlyServerURL\": \"https://plot.ly\", \"responsive\": true}\n",
       "                    ).then(function(){\n",
       "                            \n",
       "var gd = document.getElementById('dbc6c4a0-f4a7-4a94-a059-a5013c130a04');\n",
       "var x = new MutationObserver(function (mutations, observer) {{\n",
       "        var display = window.getComputedStyle(gd).display;\n",
       "        if (!display || display === 'none') {{\n",
       "            console.log([gd, 'removed!']);\n",
       "            Plotly.purge(gd);\n",
       "            observer.disconnect();\n",
       "        }}\n",
       "}});\n",
       "\n",
       "// Listen for the removal of the full notebook cells\n",
       "var notebookContainer = gd.closest('#notebook-container');\n",
       "if (notebookContainer) {{\n",
       "    x.observe(notebookContainer, {childList: true});\n",
       "}}\n",
       "\n",
       "// Listen for the clearing of the current output cell\n",
       "var outputEl = gd.closest('.output');\n",
       "if (outputEl) {{\n",
       "    x.observe(outputEl, {childList: true});\n",
       "}}\n",
       "\n",
       "                        })\n",
       "                };\n",
       "                });\n",
       "            </script>\n",
       "        </div>"
      ]
     },
     "metadata": {},
     "output_type": "display_data"
    }
   ],
   "source": [
    "df.iplot(x='Neighborhood', y='2006-2010', categories='Gender', text='Neighborhood',\n",
    "yTitle='', title='Expectativa de vida 2006-2010')"
   ]
  },
  {
   "cell_type": "code",
   "execution_count": 32,
   "metadata": {
    "ExecuteTime": {
     "end_time": "2019-08-25T10:03:38.635743Z",
     "start_time": "2019-08-25T10:03:38.576693Z"
    }
   },
   "outputs": [
    {
     "data": {
      "text/html": [
       "<div>\n",
       "<style scoped>\n",
       "    .dataframe tbody tr th:only-of-type {\n",
       "        vertical-align: middle;\n",
       "    }\n",
       "\n",
       "    .dataframe tbody tr th {\n",
       "        vertical-align: top;\n",
       "    }\n",
       "\n",
       "    .dataframe thead th {\n",
       "        text-align: right;\n",
       "    }\n",
       "</style>\n",
       "<table border=\"1\" class=\"dataframe\">\n",
       "  <thead>\n",
       "    <tr style=\"text-align: right;\">\n",
       "      <th></th>\n",
       "      <th>2006-2010</th>\n",
       "      <th>2007-2011</th>\n",
       "      <th>2008-2012</th>\n",
       "      <th>2009-2013</th>\n",
       "      <th>2010-2014</th>\n",
       "      <th>Gender</th>\n",
       "    </tr>\n",
       "    <tr>\n",
       "      <th>Neighborhood</th>\n",
       "      <th></th>\n",
       "      <th></th>\n",
       "      <th></th>\n",
       "      <th></th>\n",
       "      <th></th>\n",
       "      <th></th>\n",
       "    </tr>\n",
       "  </thead>\n",
       "  <tbody>\n",
       "    <tr>\n",
       "      <th>el Raval</th>\n",
       "      <td>87.5</td>\n",
       "      <td>84.9</td>\n",
       "      <td>84.7</td>\n",
       "      <td>84.9</td>\n",
       "      <td>85.3</td>\n",
       "      <td>Female</td>\n",
       "    </tr>\n",
       "    <tr>\n",
       "      <th>el Barri Gòtic</th>\n",
       "      <td>88.0</td>\n",
       "      <td>84.3</td>\n",
       "      <td>84.4</td>\n",
       "      <td>87.5</td>\n",
       "      <td>84.4</td>\n",
       "      <td>Female</td>\n",
       "    </tr>\n",
       "    <tr>\n",
       "      <th>la Barceloneta</th>\n",
       "      <td>88.2</td>\n",
       "      <td>85.3</td>\n",
       "      <td>84.4</td>\n",
       "      <td>86.3</td>\n",
       "      <td>84.7</td>\n",
       "      <td>Female</td>\n",
       "    </tr>\n",
       "    <tr>\n",
       "      <th>Sant Pere, Santa Caterina i la Ribera</th>\n",
       "      <td>88.9</td>\n",
       "      <td>85.9</td>\n",
       "      <td>86.1</td>\n",
       "      <td>85.5</td>\n",
       "      <td>85.3</td>\n",
       "      <td>Female</td>\n",
       "    </tr>\n",
       "    <tr>\n",
       "      <th>el Fort Pienc</th>\n",
       "      <td>89.7</td>\n",
       "      <td>87.1</td>\n",
       "      <td>87.2</td>\n",
       "      <td>87.7</td>\n",
       "      <td>86.7</td>\n",
       "      <td>Female</td>\n",
       "    </tr>\n",
       "  </tbody>\n",
       "</table>\n",
       "</div>"
      ],
      "text/plain": [
       "                                       2006-2010  2007-2011  2008-2012  \\\n",
       "Neighborhood                                                             \n",
       "el Raval                                    87.5       84.9       84.7   \n",
       "el Barri Gòtic                              88.0       84.3       84.4   \n",
       "la Barceloneta                              88.2       85.3       84.4   \n",
       "Sant Pere, Santa Caterina i la Ribera       88.9       85.9       86.1   \n",
       "el Fort Pienc                               89.7       87.1       87.2   \n",
       "\n",
       "                                       2009-2013  2010-2014  Gender  \n",
       "Neighborhood                                                         \n",
       "el Raval                                    84.9       85.3  Female  \n",
       "el Barri Gòtic                              87.5       84.4  Female  \n",
       "la Barceloneta                              86.3       84.7  Female  \n",
       "Sant Pere, Santa Caterina i la Ribera       85.5       85.3  Female  \n",
       "el Fort Pienc                               87.7       86.7  Female  "
      ]
     },
     "execution_count": 32,
     "metadata": {},
     "output_type": "execute_result"
    }
   ],
   "source": [
    "df2 = df\n",
    "df2.index = df2['Neighborhood']\n",
    "df2 = df2.drop('Neighborhood',axis=1)\n",
    "df2.head()"
   ]
  },
  {
   "cell_type": "code",
   "execution_count": 35,
   "metadata": {
    "ExecuteTime": {
     "end_time": "2019-08-25T10:04:06.112457Z",
     "start_time": "2019-08-25T10:04:05.767805Z"
    }
   },
   "outputs": [
    {
     "data": {
      "application/vnd.plotly.v1+json": {
       "config": {
        "linkText": "Export to plot.ly",
        "plotlyServerURL": "https://plot.ly",
        "showLink": true
       },
       "data": [
        {
         "line": {
          "color": "rgba(255, 153, 51, 1.0)",
          "dash": "solid",
          "shape": "linear",
          "width": 1.3
         },
         "mode": "lines",
         "name": "2006-2010",
         "text": "",
         "type": "scatter",
         "uid": "5222425c-643c-4b50-a129-7e64309c6c1a",
         "x": [
          "el Raval",
          "el Barri Gòtic",
          "la Barceloneta",
          "Sant Pere, Santa Caterina i la Ribera",
          "el Fort Pienc",
          "la Sagrada Família",
          "la Dreta de l'Eixample",
          "l'Antiga Esquerra de l'Eixample",
          "la Nova Esquerra de l'Eixample",
          "Sant Antoni",
          "el Poble Sec - Parc Montjuïc",
          "la Marina del Prat Vermell - Zona Franca",
          "la Marina de Port",
          "la Font de la Guatlla",
          "Hostafrancs",
          "la Bordeta",
          "Sants - Badal",
          "Sants",
          "les Corts",
          "la Maternitat i Sant Ramon",
          "Pedralbes",
          "Vallvidrera, el Tibidabo i les Planes",
          "Sarrià",
          "les Tres Torres",
          "Sant Gervasi - la Bonanova",
          "Sant Gervasi - Galvany",
          "el Putxet i el Farró",
          "Vallcarca i els Penitents",
          "el Coll",
          "la Salut",
          "la Vila de Gràcia",
          "el Camp d'en Grassot i Gràcia Nova",
          "el Baix Guinardó",
          "Can Baró",
          "el Guinardó",
          "la Font d'en Fargues",
          "el Carmel",
          "la Teixonera",
          "Sant Genís dels Agudells",
          "Montbau",
          "la Vall d'Hebron",
          "la Clota",
          "Horta",
          "Vilapicina i la Torre Llobeta",
          "Porta",
          "el Turó de la Peira",
          "Can Peguera",
          "la Guineueta",
          "Canyelles",
          "les Roquetes",
          "Verdun",
          "la Prosperitat",
          "la Trinitat Nova",
          "Torre Baró",
          "Ciutat Meridiana",
          "Vallbona",
          "la Trinitat Vella",
          "Baró de Viver",
          "el Bon Pastor",
          "Sant Andreu",
          "la Sagrera",
          "el Congrés i els Indians",
          "Navas",
          "el Camp de l'Arpa del Clot",
          "el Clot",
          "el Parc i la Llacuna del Poblenou",
          "la Vila Olímpica del Poblenou",
          "el Poblenou",
          "Diagonal Mar i el Front Marítim del Poblenou",
          "el Besòs i el Maresme",
          "Provençals del Poblenou",
          "Sant Martí de Provençals",
          " la Verneda i la Pau",
          "el Raval",
          "el Barri Gòtic",
          "la Barceloneta",
          "Sant Pere, Santa Caterina i la Ribera",
          "el Fort Pienc",
          "la Sagrada Família",
          "la Dreta de l'Eixample",
          "l'Antiga Esquerra de l'Eixample",
          "la Nova Esquerra de l'Eixample",
          "Sant Antoni",
          "el Poble Sec - Parc Montjuïc",
          "la Marina del Prat Vermell - Zona Franca",
          "la Marina de Port",
          "la Font de la Guatlla",
          "Hostafrancs",
          "la Bordeta",
          "Sants - Badal",
          "Sants",
          "les Corts",
          "la Maternitat i Sant Ramon",
          "Pedralbes",
          "Vallvidrera, el Tibidabo i les Planes",
          "Sarrià",
          "les Tres Torres",
          "Sant Gervasi - la Bonanova",
          "Sant Gervasi - Galvany",
          "el Putxet i el Farró",
          "Vallcarca i els Penitents",
          "el Coll",
          "la Salut",
          "la Vila de Gràcia",
          "el Camp d'en Grassot i Gràcia Nova",
          "el Baix Guinardó",
          "Can Baró",
          "el Guinardó",
          "la Font d'en Fargues",
          "el Carmel",
          "la Teixonera",
          "Sant Genís dels Agudells",
          "Montbau",
          "la Vall d'Hebron",
          "la Clota",
          "Horta",
          "Vilapicina i la Torre Llobeta",
          "Porta",
          "el Turó de la Peira",
          "Can Peguera",
          "la Guineueta",
          "Canyelles",
          "les Roquetes",
          "Verdun",
          "la Prosperitat",
          "la Trinitat Nova",
          "Torre Baró",
          "Ciutat Meridiana",
          "Vallbona",
          "la Trinitat Vella",
          "Baró de Viver",
          "el Bon Pastor",
          "Sant Andreu",
          "la Sagrera",
          "el Congrés i els Indians",
          "Navas",
          "el Camp de l'Arpa del Clot",
          "el Clot",
          "el Parc i la Llacuna del Poblenou",
          "la Vila Olímpica del Poblenou",
          "el Poblenou",
          "Diagonal Mar i el Front Marítim del Poblenou",
          "el Besòs i el Maresme",
          "Provençals del Poblenou",
          "Sant Martí de Provençals",
          " la Verneda i la Pau"
         ],
         "y": [
          87.5,
          88,
          88.2,
          88.9,
          89.7,
          88.9,
          87,
          88.9,
          90,
          89,
          88.5,
          "",
          88.5,
          88.7,
          87.5,
          88.7,
          88.4,
          89.4,
          89.4,
          90,
          89,
          83.4,
          90.9,
          89.7,
          89.2,
          88.8,
          89.9,
          88.2,
          89.9,
          85.7,
          87.5,
          90.1,
          90.1,
          88.2,
          89.3,
          87.3,
          88.8,
          86.7,
          87.3,
          83.5,
          86.6,
          "",
          87.1,
          89.6,
          88.3,
          90.4,
          82.2,
          88.3,
          89.6,
          88.5,
          88.4,
          89.6,
          87.4,
          "",
          87.9,
          "",
          87,
          82.4,
          86.3,
          88.8,
          89.9,
          89.9,
          89.8,
          89.1,
          88.7,
          88.1,
          90.4,
          88.1,
          88.1,
          86.8,
          88.4,
          88.8,
          87.9,
          77.9,
          81.3,
          78.3,
          80.9,
          83,
          83.2,
          81.2,
          82.3,
          82.1,
          81.7,
          80.6,
          "",
          83.1,
          81.5,
          81.2,
          83.9,
          83.5,
          81.7,
          83,
          83.9,
          84.7,
          78.9,
          83.7,
          84.7,
          83.5,
          83.6,
          83.7,
          82.6,
          81.4,
          79.6,
          81.8,
          82.7,
          83.9,
          81.5,
          81.7,
          81.6,
          80.7,
          82.3,
          81.8,
          77.1,
          83.6,
          "",
          81.4,
          81.8,
          81.7,
          80.9,
          74.7,
          80.9,
          82,
          79.2,
          80.2,
          81.7,
          78,
          "",
          80.4,
          "",
          80.4,
          74.2,
          80.4,
          81.7,
          83.7,
          81.7,
          82.5,
          82.9,
          81.9,
          82.4,
          87.2,
          81.4,
          82.1,
          80.2,
          80.4,
          81.9,
          82
         ]
        },
        {
         "line": {
          "color": "rgba(55, 128, 191, 1.0)",
          "dash": "solid",
          "shape": "linear",
          "width": 1.3
         },
         "mode": "lines",
         "name": "2007-2011",
         "text": "",
         "type": "scatter",
         "uid": "b937ba30-795f-4a07-b53b-53f3bd42cf5d",
         "x": [
          "el Raval",
          "el Barri Gòtic",
          "la Barceloneta",
          "Sant Pere, Santa Caterina i la Ribera",
          "el Fort Pienc",
          "la Sagrada Família",
          "la Dreta de l'Eixample",
          "l'Antiga Esquerra de l'Eixample",
          "la Nova Esquerra de l'Eixample",
          "Sant Antoni",
          "el Poble Sec - Parc Montjuïc",
          "la Marina del Prat Vermell - Zona Franca",
          "la Marina de Port",
          "la Font de la Guatlla",
          "Hostafrancs",
          "la Bordeta",
          "Sants - Badal",
          "Sants",
          "les Corts",
          "la Maternitat i Sant Ramon",
          "Pedralbes",
          "Vallvidrera, el Tibidabo i les Planes",
          "Sarrià",
          "les Tres Torres",
          "Sant Gervasi - la Bonanova",
          "Sant Gervasi - Galvany",
          "el Putxet i el Farró",
          "Vallcarca i els Penitents",
          "el Coll",
          "la Salut",
          "la Vila de Gràcia",
          "el Camp d'en Grassot i Gràcia Nova",
          "el Baix Guinardó",
          "Can Baró",
          "el Guinardó",
          "la Font d'en Fargues",
          "el Carmel",
          "la Teixonera",
          "Sant Genís dels Agudells",
          "Montbau",
          "la Vall d'Hebron",
          "la Clota",
          "Horta",
          "Vilapicina i la Torre Llobeta",
          "Porta",
          "el Turó de la Peira",
          "Can Peguera",
          "la Guineueta",
          "Canyelles",
          "les Roquetes",
          "Verdun",
          "la Prosperitat",
          "la Trinitat Nova",
          "Torre Baró",
          "Ciutat Meridiana",
          "Vallbona",
          "la Trinitat Vella",
          "Baró de Viver",
          "el Bon Pastor",
          "Sant Andreu",
          "la Sagrera",
          "el Congrés i els Indians",
          "Navas",
          "el Camp de l'Arpa del Clot",
          "el Clot",
          "el Parc i la Llacuna del Poblenou",
          "la Vila Olímpica del Poblenou",
          "el Poblenou",
          "Diagonal Mar i el Front Marítim del Poblenou",
          "el Besòs i el Maresme",
          "Provençals del Poblenou",
          "Sant Martí de Provençals",
          " la Verneda i la Pau",
          "el Raval",
          "el Barri Gòtic",
          "la Barceloneta",
          "Sant Pere, Santa Caterina i la Ribera",
          "el Fort Pienc",
          "la Sagrada Família",
          "la Dreta de l'Eixample",
          "l'Antiga Esquerra de l'Eixample",
          "la Nova Esquerra de l'Eixample",
          "Sant Antoni",
          "el Poble Sec - Parc Montjuïc",
          "la Marina del Prat Vermell - Zona Franca",
          "la Marina de Port",
          "la Font de la Guatlla",
          "Hostafrancs",
          "la Bordeta",
          "Sants - Badal",
          "Sants",
          "les Corts",
          "la Maternitat i Sant Ramon",
          "Pedralbes",
          "Vallvidrera, el Tibidabo i les Planes",
          "Sarrià",
          "les Tres Torres",
          "Sant Gervasi - la Bonanova",
          "Sant Gervasi - Galvany",
          "el Putxet i el Farró",
          "Vallcarca i els Penitents",
          "el Coll",
          "la Salut",
          "la Vila de Gràcia",
          "el Camp d'en Grassot i Gràcia Nova",
          "el Baix Guinardó",
          "Can Baró",
          "el Guinardó",
          "la Font d'en Fargues",
          "el Carmel",
          "la Teixonera",
          "Sant Genís dels Agudells",
          "Montbau",
          "la Vall d'Hebron",
          "la Clota",
          "Horta",
          "Vilapicina i la Torre Llobeta",
          "Porta",
          "el Turó de la Peira",
          "Can Peguera",
          "la Guineueta",
          "Canyelles",
          "les Roquetes",
          "Verdun",
          "la Prosperitat",
          "la Trinitat Nova",
          "Torre Baró",
          "Ciutat Meridiana",
          "Vallbona",
          "la Trinitat Vella",
          "Baró de Viver",
          "el Bon Pastor",
          "Sant Andreu",
          "la Sagrera",
          "el Congrés i els Indians",
          "Navas",
          "el Camp de l'Arpa del Clot",
          "el Clot",
          "el Parc i la Llacuna del Poblenou",
          "la Vila Olímpica del Poblenou",
          "el Poblenou",
          "Diagonal Mar i el Front Marítim del Poblenou",
          "el Besòs i el Maresme",
          "Provençals del Poblenou",
          "Sant Martí de Provençals",
          " la Verneda i la Pau"
         ],
         "y": [
          84.9,
          84.3,
          85.3,
          85.9,
          87.1,
          86.6,
          85,
          86.4,
          87.4,
          86.3,
          85.5,
          "",
          86.2,
          85.7,
          85.4,
          86.3,
          85.9,
          86.5,
          87.1,
          87.4,
          87.3,
          80.5,
          87.6,
          87.7,
          86.5,
          86.5,
          87.6,
          86.1,
          88.2,
          84.1,
          85.1,
          87.6,
          87.2,
          86.2,
          86.4,
          85.7,
          86.6,
          84.8,
          85,
          81.3,
          85.3,
          "",
          85.5,
          87.2,
          86,
          87.8,
          79.7,
          85.9,
          86,
          86.1,
          86.6,
          87.1,
          84.5,
          81.7,
          85.3,
          "",
          85.8,
          79.9,
          84.8,
          86.4,
          87.1,
          87.5,
          87.4,
          86.6,
          86.7,
          85.4,
          87,
          85.7,
          87.3,
          85,
          86.7,
          86.1,
          85.8,
          75.1,
          78.6,
          75,
          78,
          80.7,
          80.6,
          78.9,
          79.8,
          79.9,
          79.3,
          78.2,
          "",
          80.3,
          77.9,
          78.9,
          80.9,
          81.2,
          79.5,
          81.1,
          82,
          82.7,
          77.6,
          81.1,
          83,
          81.7,
          81.2,
          81.3,
          80.2,
          79.6,
          77.6,
          79,
          80.6,
          81.2,
          78.9,
          79.7,
          79.7,
          78.7,
          79.6,
          80,
          74.9,
          80.7,
          "",
          78.8,
          79.1,
          79.8,
          79,
          72.3,
          78.6,
          79.3,
          76.7,
          77.8,
          79.3,
          75.9,
          70.7,
          78,
          "",
          77.7,
          71.2,
          77.8,
          79.7,
          81.3,
          79.2,
          80.4,
          80.4,
          80.3,
          79.8,
          82.6,
          78.7,
          80.9,
          78.1,
          78.8,
          79.5,
          79.7
         ]
        },
        {
         "line": {
          "color": "rgba(50, 171, 96, 1.0)",
          "dash": "solid",
          "shape": "linear",
          "width": 1.3
         },
         "mode": "lines",
         "name": "2008-2012",
         "text": "",
         "type": "scatter",
         "uid": "b4f8b133-4cdf-40e5-b6a5-ea4fbf22999c",
         "x": [
          "el Raval",
          "el Barri Gòtic",
          "la Barceloneta",
          "Sant Pere, Santa Caterina i la Ribera",
          "el Fort Pienc",
          "la Sagrada Família",
          "la Dreta de l'Eixample",
          "l'Antiga Esquerra de l'Eixample",
          "la Nova Esquerra de l'Eixample",
          "Sant Antoni",
          "el Poble Sec - Parc Montjuïc",
          "la Marina del Prat Vermell - Zona Franca",
          "la Marina de Port",
          "la Font de la Guatlla",
          "Hostafrancs",
          "la Bordeta",
          "Sants - Badal",
          "Sants",
          "les Corts",
          "la Maternitat i Sant Ramon",
          "Pedralbes",
          "Vallvidrera, el Tibidabo i les Planes",
          "Sarrià",
          "les Tres Torres",
          "Sant Gervasi - la Bonanova",
          "Sant Gervasi - Galvany",
          "el Putxet i el Farró",
          "Vallcarca i els Penitents",
          "el Coll",
          "la Salut",
          "la Vila de Gràcia",
          "el Camp d'en Grassot i Gràcia Nova",
          "el Baix Guinardó",
          "Can Baró",
          "el Guinardó",
          "la Font d'en Fargues",
          "el Carmel",
          "la Teixonera",
          "Sant Genís dels Agudells",
          "Montbau",
          "la Vall d'Hebron",
          "la Clota",
          "Horta",
          "Vilapicina i la Torre Llobeta",
          "Porta",
          "el Turó de la Peira",
          "Can Peguera",
          "la Guineueta",
          "Canyelles",
          "les Roquetes",
          "Verdun",
          "la Prosperitat",
          "la Trinitat Nova",
          "Torre Baró",
          "Ciutat Meridiana",
          "Vallbona",
          "la Trinitat Vella",
          "Baró de Viver",
          "el Bon Pastor",
          "Sant Andreu",
          "la Sagrera",
          "el Congrés i els Indians",
          "Navas",
          "el Camp de l'Arpa del Clot",
          "el Clot",
          "el Parc i la Llacuna del Poblenou",
          "la Vila Olímpica del Poblenou",
          "el Poblenou",
          "Diagonal Mar i el Front Marítim del Poblenou",
          "el Besòs i el Maresme",
          "Provençals del Poblenou",
          "Sant Martí de Provençals",
          " la Verneda i la Pau",
          "el Raval",
          "el Barri Gòtic",
          "la Barceloneta",
          "Sant Pere, Santa Caterina i la Ribera",
          "el Fort Pienc",
          "la Sagrada Família",
          "la Dreta de l'Eixample",
          "l'Antiga Esquerra de l'Eixample",
          "la Nova Esquerra de l'Eixample",
          "Sant Antoni",
          "el Poble Sec - Parc Montjuïc",
          "la Marina del Prat Vermell - Zona Franca",
          "la Marina de Port",
          "la Font de la Guatlla",
          "Hostafrancs",
          "la Bordeta",
          "Sants - Badal",
          "Sants",
          "les Corts",
          "la Maternitat i Sant Ramon",
          "Pedralbes",
          "Vallvidrera, el Tibidabo i les Planes",
          "Sarrià",
          "les Tres Torres",
          "Sant Gervasi - la Bonanova",
          "Sant Gervasi - Galvany",
          "el Putxet i el Farró",
          "Vallcarca i els Penitents",
          "el Coll",
          "la Salut",
          "la Vila de Gràcia",
          "el Camp d'en Grassot i Gràcia Nova",
          "el Baix Guinardó",
          "Can Baró",
          "el Guinardó",
          "la Font d'en Fargues",
          "el Carmel",
          "la Teixonera",
          "Sant Genís dels Agudells",
          "Montbau",
          "la Vall d'Hebron",
          "la Clota",
          "Horta",
          "Vilapicina i la Torre Llobeta",
          "Porta",
          "el Turó de la Peira",
          "Can Peguera",
          "la Guineueta",
          "Canyelles",
          "les Roquetes",
          "Verdun",
          "la Prosperitat",
          "la Trinitat Nova",
          "Torre Baró",
          "Ciutat Meridiana",
          "Vallbona",
          "la Trinitat Vella",
          "Baró de Viver",
          "el Bon Pastor",
          "Sant Andreu",
          "la Sagrera",
          "el Congrés i els Indians",
          "Navas",
          "el Camp de l'Arpa del Clot",
          "el Clot",
          "el Parc i la Llacuna del Poblenou",
          "la Vila Olímpica del Poblenou",
          "el Poblenou",
          "Diagonal Mar i el Front Marítim del Poblenou",
          "el Besòs i el Maresme",
          "Provençals del Poblenou",
          "Sant Martí de Provençals",
          " la Verneda i la Pau"
         ],
         "y": [
          84.7,
          84.4,
          84.4,
          86.1,
          87.2,
          86.8,
          85.1,
          86.3,
          87.5,
          86.5,
          85.6,
          "",
          86.5,
          85.1,
          86.3,
          85.6,
          86.4,
          86.2,
          87.4,
          87.5,
          87.5,
          80.4,
          87.1,
          87.6,
          86.5,
          86.4,
          87.8,
          86.4,
          88.2,
          84.4,
          85.4,
          87.6,
          86.8,
          86,
          87,
          85.6,
          87.2,
          85,
          84.6,
          81.9,
          86,
          "",
          85.5,
          87.2,
          86.5,
          88,
          80.3,
          86.1,
          85.9,
          85.9,
          86.9,
          87.4,
          84.1,
          81.6,
          85.7,
          "",
          86.3,
          "",
          85.6,
          86.7,
          87.3,
          87.8,
          87.6,
          87.2,
          87.2,
          85.6,
          88,
          86.1,
          87.4,
          85.5,
          86.5,
          86.2,
          85.7,
          75.7,
          78.9,
          75.8,
          77.7,
          80.9,
          81,
          79.3,
          80.3,
          80,
          79.4,
          78.7,
          "",
          79.9,
          78.1,
          78.7,
          80.4,
          81.2,
          80.2,
          81.4,
          82.1,
          83.3,
          77.8,
          81.2,
          83.2,
          81.8,
          81.3,
          81.7,
          80.6,
          80.7,
          78.6,
          79.1,
          81,
          81.1,
          80.3,
          80.1,
          79.8,
          79,
          79.8,
          81.3,
          75.9,
          80.4,
          "",
          79.4,
          79.7,
          79.9,
          80,
          71.8,
          78.8,
          79.8,
          76.8,
          78.1,
          80.1,
          75.4,
          69.5,
          78.2,
          "",
          79,
          "",
          78,
          80.3,
          81.6,
          79.5,
          80.6,
          81.1,
          80.6,
          80.2,
          82.1,
          78.4,
          81.2,
          78.4,
          79.4,
          79.7,
          79.9
         ]
        },
        {
         "line": {
          "color": "rgba(128, 0, 128, 1.0)",
          "dash": "solid",
          "shape": "linear",
          "width": 1.3
         },
         "mode": "lines",
         "name": "2009-2013",
         "text": "",
         "type": "scatter",
         "uid": "2c73d416-dc2b-4b13-a5aa-96f77d2e2806",
         "x": [
          "el Raval",
          "el Barri Gòtic",
          "la Barceloneta",
          "Sant Pere, Santa Caterina i la Ribera",
          "el Fort Pienc",
          "la Sagrada Família",
          "la Dreta de l'Eixample",
          "l'Antiga Esquerra de l'Eixample",
          "la Nova Esquerra de l'Eixample",
          "Sant Antoni",
          "el Poble Sec - Parc Montjuïc",
          "la Marina del Prat Vermell - Zona Franca",
          "la Marina de Port",
          "la Font de la Guatlla",
          "Hostafrancs",
          "la Bordeta",
          "Sants - Badal",
          "Sants",
          "les Corts",
          "la Maternitat i Sant Ramon",
          "Pedralbes",
          "Vallvidrera, el Tibidabo i les Planes",
          "Sarrià",
          "les Tres Torres",
          "Sant Gervasi - la Bonanova",
          "Sant Gervasi - Galvany",
          "el Putxet i el Farró",
          "Vallcarca i els Penitents",
          "el Coll",
          "la Salut",
          "la Vila de Gràcia",
          "el Camp d'en Grassot i Gràcia Nova",
          "el Baix Guinardó",
          "Can Baró",
          "el Guinardó",
          "la Font d'en Fargues",
          "el Carmel",
          "la Teixonera",
          "Sant Genís dels Agudells",
          "Montbau",
          "la Vall d'Hebron",
          "la Clota",
          "Horta",
          "Vilapicina i la Torre Llobeta",
          "Porta",
          "el Turó de la Peira",
          "Can Peguera",
          "la Guineueta",
          "Canyelles",
          "les Roquetes",
          "Verdun",
          "la Prosperitat",
          "la Trinitat Nova",
          "Torre Baró",
          "Ciutat Meridiana",
          "Vallbona",
          "la Trinitat Vella",
          "Baró de Viver",
          "el Bon Pastor",
          "Sant Andreu",
          "la Sagrera",
          "el Congrés i els Indians",
          "Navas",
          "el Camp de l'Arpa del Clot",
          "el Clot",
          "el Parc i la Llacuna del Poblenou",
          "la Vila Olímpica del Poblenou",
          "el Poblenou",
          "Diagonal Mar i el Front Marítim del Poblenou",
          "el Besòs i el Maresme",
          "Provençals del Poblenou",
          "Sant Martí de Provençals",
          " la Verneda i la Pau",
          "el Raval",
          "el Barri Gòtic",
          "la Barceloneta",
          "Sant Pere, Santa Caterina i la Ribera",
          "el Fort Pienc",
          "la Sagrada Família",
          "la Dreta de l'Eixample",
          "l'Antiga Esquerra de l'Eixample",
          "la Nova Esquerra de l'Eixample",
          "Sant Antoni",
          "el Poble Sec - Parc Montjuïc",
          "la Marina del Prat Vermell - Zona Franca",
          "la Marina de Port",
          "la Font de la Guatlla",
          "Hostafrancs",
          "la Bordeta",
          "Sants - Badal",
          "Sants",
          "les Corts",
          "la Maternitat i Sant Ramon",
          "Pedralbes",
          "Vallvidrera, el Tibidabo i les Planes",
          "Sarrià",
          "les Tres Torres",
          "Sant Gervasi - la Bonanova",
          "Sant Gervasi - Galvany",
          "el Putxet i el Farró",
          "Vallcarca i els Penitents",
          "el Coll",
          "la Salut",
          "la Vila de Gràcia",
          "el Camp d'en Grassot i Gràcia Nova",
          "el Baix Guinardó",
          "Can Baró",
          "el Guinardó",
          "la Font d'en Fargues",
          "el Carmel",
          "la Teixonera",
          "Sant Genís dels Agudells",
          "Montbau",
          "la Vall d'Hebron",
          "la Clota",
          "Horta",
          "Vilapicina i la Torre Llobeta",
          "Porta",
          "el Turó de la Peira",
          "Can Peguera",
          "la Guineueta",
          "Canyelles",
          "les Roquetes",
          "Verdun",
          "la Prosperitat",
          "la Trinitat Nova",
          "Torre Baró",
          "Ciutat Meridiana",
          "Vallbona",
          "la Trinitat Vella",
          "Baró de Viver",
          "el Bon Pastor",
          "Sant Andreu",
          "la Sagrera",
          "el Congrés i els Indians",
          "Navas",
          "el Camp de l'Arpa del Clot",
          "el Clot",
          "el Parc i la Llacuna del Poblenou",
          "la Vila Olímpica del Poblenou",
          "el Poblenou",
          "Diagonal Mar i el Front Marítim del Poblenou",
          "el Besòs i el Maresme",
          "Provençals del Poblenou",
          "Sant Martí de Provençals",
          " la Verneda i la Pau"
         ],
         "y": [
          84.9,
          87.5,
          86.3,
          85.5,
          87.7,
          85.1,
          85.7,
          85.8,
          87,
          86,
          88.2,
          "",
          88.1,
          88.4,
          81.7,
          86.9,
          87.8,
          86.5,
          86.8,
          87.8,
          86,
          88.5,
          84.8,
          85.1,
          85.7,
          87.7,
          86.6,
          86,
          87.6,
          85.3,
          87.2,
          86.2,
          85.1,
          85.5,
          82.3,
          85.8,
          87.8,
          85.6,
          86.9,
          87.3,
          88.4,
          "",
          86.5,
          85.8,
          87,
          86,
          87.2,
          87.8,
          83.5,
          83.6,
          86.2,
          80.5,
          87.7,
          83.1,
          86.3,
          "",
          86.9,
          88,
          88.5,
          88.3,
          87.4,
          87.7,
          86,
          88.3,
          86.9,
          87.9,
          85.1,
          85.8,
          87.3,
          86.6,
          86.3,
          86.4,
          88.1,
          76.2,
          79.5,
          78.6,
          78.8,
          80.2,
          79.2,
          79.1,
          80.3,
          81.4,
          80.9,
          82,
          "",
          83,
          84.2,
          78.2,
          81.8,
          83.5,
          82.4,
          81.8,
          82.1,
          80.7,
          81,
          76,
          78,
          79.6,
          81.3,
          81.2,
          80.9,
          80.1,
          80.1,
          79.4,
          80,
          81,
          78.8,
          77.4,
          80.5,
          77.8,
          79.6,
          79.6,
          80.4,
          81,
          "",
          79.7,
          79.8,
          81.1,
          77,
          77.9,
          80.1,
          75.8,
          69,
          79.6,
          77.7,
          79.8,
          73.1,
          78.3,
          "",
          80.6,
          81.3,
          80.3,
          81.8,
          81.3,
          80.9,
          80.5,
          82.4,
          78.9,
          81.8,
          80.2,
          78.8,
          79.7,
          79.8,
          80.1,
          80.5,
          80.5
         ]
        },
        {
         "line": {
          "color": "rgba(219, 64, 82, 1.0)",
          "dash": "solid",
          "shape": "linear",
          "width": 1.3
         },
         "mode": "lines",
         "name": "2010-2014",
         "text": "",
         "type": "scatter",
         "uid": "871207d4-69a8-47f1-8b11-67d8150658e7",
         "x": [
          "el Raval",
          "el Barri Gòtic",
          "la Barceloneta",
          "Sant Pere, Santa Caterina i la Ribera",
          "el Fort Pienc",
          "la Sagrada Família",
          "la Dreta de l'Eixample",
          "l'Antiga Esquerra de l'Eixample",
          "la Nova Esquerra de l'Eixample",
          "Sant Antoni",
          "el Poble Sec - Parc Montjuïc",
          "la Marina del Prat Vermell - Zona Franca",
          "la Marina de Port",
          "la Font de la Guatlla",
          "Hostafrancs",
          "la Bordeta",
          "Sants - Badal",
          "Sants",
          "les Corts",
          "la Maternitat i Sant Ramon",
          "Pedralbes",
          "Vallvidrera, el Tibidabo i les Planes",
          "Sarrià",
          "les Tres Torres",
          "Sant Gervasi - la Bonanova",
          "Sant Gervasi - Galvany",
          "el Putxet i el Farró",
          "Vallcarca i els Penitents",
          "el Coll",
          "la Salut",
          "la Vila de Gràcia",
          "el Camp d'en Grassot i Gràcia Nova",
          "el Baix Guinardó",
          "Can Baró",
          "el Guinardó",
          "la Font d'en Fargues",
          "el Carmel",
          "la Teixonera",
          "Sant Genís dels Agudells",
          "Montbau",
          "la Vall d'Hebron",
          "la Clota",
          "Horta",
          "Vilapicina i la Torre Llobeta",
          "Porta",
          "el Turó de la Peira",
          "Can Peguera",
          "la Guineueta",
          "Canyelles",
          "les Roquetes",
          "Verdun",
          "la Prosperitat",
          "la Trinitat Nova",
          "Torre Baró",
          "Ciutat Meridiana",
          "Vallbona",
          "la Trinitat Vella",
          "Baró de Viver",
          "el Bon Pastor",
          "Sant Andreu",
          "la Sagrera",
          "el Congrés i els Indians",
          "Navas",
          "el Camp de l'Arpa del Clot",
          "el Clot",
          "el Parc i la Llacuna del Poblenou",
          "la Vila Olímpica del Poblenou",
          "el Poblenou",
          "Diagonal Mar i el Front Marítim del Poblenou",
          "el Besòs i el Maresme",
          "Provençals del Poblenou",
          "Sant Martí de Provençals",
          " la Verneda i la Pau",
          "el Raval",
          "el Barri Gòtic",
          "la Barceloneta",
          "Sant Pere, Santa Caterina i la Ribera",
          "el Fort Pienc",
          "la Sagrada Família",
          "la Dreta de l'Eixample",
          "l'Antiga Esquerra de l'Eixample",
          "la Nova Esquerra de l'Eixample",
          "Sant Antoni",
          "el Poble Sec - Parc Montjuïc",
          "la Marina del Prat Vermell - Zona Franca",
          "la Marina de Port",
          "la Font de la Guatlla",
          "Hostafrancs",
          "la Bordeta",
          "Sants - Badal",
          "Sants",
          "les Corts",
          "la Maternitat i Sant Ramon",
          "Pedralbes",
          "Vallvidrera, el Tibidabo i les Planes",
          "Sarrià",
          "les Tres Torres",
          "Sant Gervasi - la Bonanova",
          "Sant Gervasi - Galvany",
          "el Putxet i el Farró",
          "Vallcarca i els Penitents",
          "el Coll",
          "la Salut",
          "la Vila de Gràcia",
          "el Camp d'en Grassot i Gràcia Nova",
          "el Baix Guinardó",
          "Can Baró",
          "el Guinardó",
          "la Font d'en Fargues",
          "el Carmel",
          "la Teixonera",
          "Sant Genís dels Agudells",
          "Montbau",
          "la Vall d'Hebron",
          "la Clota",
          "Horta",
          "Vilapicina i la Torre Llobeta",
          "Porta",
          "el Turó de la Peira",
          "Can Peguera",
          "la Guineueta",
          "Canyelles",
          "les Roquetes",
          "Verdun",
          "la Prosperitat",
          "la Trinitat Nova",
          "Torre Baró",
          "Ciutat Meridiana",
          "Vallbona",
          "la Trinitat Vella",
          "Baró de Viver",
          "el Bon Pastor",
          "Sant Andreu",
          "la Sagrera",
          "el Congrés i els Indians",
          "Navas",
          "el Camp de l'Arpa del Clot",
          "el Clot",
          "el Parc i la Llacuna del Poblenou",
          "la Vila Olímpica del Poblenou",
          "el Poblenou",
          "Diagonal Mar i el Front Marítim del Poblenou",
          "el Besòs i el Maresme",
          "Provençals del Poblenou",
          "Sant Martí de Provençals",
          " la Verneda i la Pau"
         ],
         "y": [
          85.3,
          84.4,
          84.7,
          85.3,
          86.7,
          87.2,
          85.1,
          86.9,
          88.7,
          87.6,
          86.4,
          "",
          87.7,
          84.3,
          87.4,
          86.3,
          87.7,
          86.1,
          88.1,
          89,
          88.4,
          82.2,
          86.9,
          88.1,
          86.8,
          86.9,
          87.9,
          86.3,
          88.6,
          85.7,
          86.1,
          87.4,
          86.8,
          86.6,
          88.3,
          85.8,
          88.1,
          87.3,
          85.5,
          83.9,
          86.5,
          "",
          86,
          87,
          87.7,
          89.8,
          85.1,
          87,
          86.5,
          86.5,
          89,
          88.4,
          83.3,
          84.8,
          88.2,
          78.4,
          89.5,
          85.7,
          86.8,
          87.8,
          88.2,
          88.9,
          89.6,
          87.5,
          88.6,
          85.6,
          87.5,
          87.1,
          88.1,
          86.4,
          88.4,
          87.2,
          87,
          76.5,
          78.7,
          75.9,
          78.3,
          81.4,
          81.3,
          80.1,
          80.8,
          81,
          79.8,
          78.8,
          "",
          80,
          78.8,
          79.8,
          80.9,
          82,
          81.6,
          82.4,
          83.5,
          83.6,
          79,
          81.7,
          83.9,
          82.5,
          81.9,
          82.5,
          80.9,
          81.4,
          78.9,
          79.9,
          81.4,
          81,
          81.1,
          80.2,
          80.8,
          79.4,
          80.4,
          81.5,
          77.5,
          80,
          "",
          80.7,
          79.8,
          81,
          81.3,
          75,
          81,
          79.7,
          77.6,
          77.7,
          80.4,
          76.6,
          71.3,
          79.3,
          76,
          80.8,
          74.6,
          78.1,
          81.2,
          82.2,
          80.3,
          82.3,
          81.9,
          81.3,
          80.5,
          82.7,
          79.5,
          82.2,
          79.6,
          81.5,
          80.2,
          80.6
         ]
        },
        {
         "line": {
          "color": "rgba(0, 128, 128, 1.0)",
          "dash": "solid",
          "shape": "linear",
          "width": 1.3
         },
         "mode": "lines",
         "name": "Gender",
         "text": "",
         "type": "scatter",
         "uid": "7d272198-1016-4c6b-b25a-3c5bf3a1e9b1",
         "x": [
          "el Raval",
          "el Barri Gòtic",
          "la Barceloneta",
          "Sant Pere, Santa Caterina i la Ribera",
          "el Fort Pienc",
          "la Sagrada Família",
          "la Dreta de l'Eixample",
          "l'Antiga Esquerra de l'Eixample",
          "la Nova Esquerra de l'Eixample",
          "Sant Antoni",
          "el Poble Sec - Parc Montjuïc",
          "la Marina del Prat Vermell - Zona Franca",
          "la Marina de Port",
          "la Font de la Guatlla",
          "Hostafrancs",
          "la Bordeta",
          "Sants - Badal",
          "Sants",
          "les Corts",
          "la Maternitat i Sant Ramon",
          "Pedralbes",
          "Vallvidrera, el Tibidabo i les Planes",
          "Sarrià",
          "les Tres Torres",
          "Sant Gervasi - la Bonanova",
          "Sant Gervasi - Galvany",
          "el Putxet i el Farró",
          "Vallcarca i els Penitents",
          "el Coll",
          "la Salut",
          "la Vila de Gràcia",
          "el Camp d'en Grassot i Gràcia Nova",
          "el Baix Guinardó",
          "Can Baró",
          "el Guinardó",
          "la Font d'en Fargues",
          "el Carmel",
          "la Teixonera",
          "Sant Genís dels Agudells",
          "Montbau",
          "la Vall d'Hebron",
          "la Clota",
          "Horta",
          "Vilapicina i la Torre Llobeta",
          "Porta",
          "el Turó de la Peira",
          "Can Peguera",
          "la Guineueta",
          "Canyelles",
          "les Roquetes",
          "Verdun",
          "la Prosperitat",
          "la Trinitat Nova",
          "Torre Baró",
          "Ciutat Meridiana",
          "Vallbona",
          "la Trinitat Vella",
          "Baró de Viver",
          "el Bon Pastor",
          "Sant Andreu",
          "la Sagrera",
          "el Congrés i els Indians",
          "Navas",
          "el Camp de l'Arpa del Clot",
          "el Clot",
          "el Parc i la Llacuna del Poblenou",
          "la Vila Olímpica del Poblenou",
          "el Poblenou",
          "Diagonal Mar i el Front Marítim del Poblenou",
          "el Besòs i el Maresme",
          "Provençals del Poblenou",
          "Sant Martí de Provençals",
          " la Verneda i la Pau",
          "el Raval",
          "el Barri Gòtic",
          "la Barceloneta",
          "Sant Pere, Santa Caterina i la Ribera",
          "el Fort Pienc",
          "la Sagrada Família",
          "la Dreta de l'Eixample",
          "l'Antiga Esquerra de l'Eixample",
          "la Nova Esquerra de l'Eixample",
          "Sant Antoni",
          "el Poble Sec - Parc Montjuïc",
          "la Marina del Prat Vermell - Zona Franca",
          "la Marina de Port",
          "la Font de la Guatlla",
          "Hostafrancs",
          "la Bordeta",
          "Sants - Badal",
          "Sants",
          "les Corts",
          "la Maternitat i Sant Ramon",
          "Pedralbes",
          "Vallvidrera, el Tibidabo i les Planes",
          "Sarrià",
          "les Tres Torres",
          "Sant Gervasi - la Bonanova",
          "Sant Gervasi - Galvany",
          "el Putxet i el Farró",
          "Vallcarca i els Penitents",
          "el Coll",
          "la Salut",
          "la Vila de Gràcia",
          "el Camp d'en Grassot i Gràcia Nova",
          "el Baix Guinardó",
          "Can Baró",
          "el Guinardó",
          "la Font d'en Fargues",
          "el Carmel",
          "la Teixonera",
          "Sant Genís dels Agudells",
          "Montbau",
          "la Vall d'Hebron",
          "la Clota",
          "Horta",
          "Vilapicina i la Torre Llobeta",
          "Porta",
          "el Turó de la Peira",
          "Can Peguera",
          "la Guineueta",
          "Canyelles",
          "les Roquetes",
          "Verdun",
          "la Prosperitat",
          "la Trinitat Nova",
          "Torre Baró",
          "Ciutat Meridiana",
          "Vallbona",
          "la Trinitat Vella",
          "Baró de Viver",
          "el Bon Pastor",
          "Sant Andreu",
          "la Sagrera",
          "el Congrés i els Indians",
          "Navas",
          "el Camp de l'Arpa del Clot",
          "el Clot",
          "el Parc i la Llacuna del Poblenou",
          "la Vila Olímpica del Poblenou",
          "el Poblenou",
          "Diagonal Mar i el Front Marítim del Poblenou",
          "el Besòs i el Maresme",
          "Provençals del Poblenou",
          "Sant Martí de Provençals",
          " la Verneda i la Pau"
         ],
         "y": [
          "Female",
          "Female",
          "Female",
          "Female",
          "Female",
          "Female",
          "Female",
          "Female",
          "Female",
          "Female",
          "Female",
          "Female",
          "Female",
          "Female",
          "Female",
          "Female",
          "Female",
          "Female",
          "Female",
          "Female",
          "Female",
          "Female",
          "Female",
          "Female",
          "Female",
          "Female",
          "Female",
          "Female",
          "Female",
          "Female",
          "Female",
          "Female",
          "Female",
          "Female",
          "Female",
          "Female",
          "Female",
          "Female",
          "Female",
          "Female",
          "Female",
          "Female",
          "Female",
          "Female",
          "Female",
          "Female",
          "Female",
          "Female",
          "Female",
          "Female",
          "Female",
          "Female",
          "Female",
          "Female",
          "Female",
          "Female",
          "Female",
          "Female",
          "Female",
          "Female",
          "Female",
          "Female",
          "Female",
          "Female",
          "Female",
          "Female",
          "Female",
          "Female",
          "Female",
          "Female",
          "Female",
          "Female",
          "Female",
          "Male",
          "Male",
          "Male",
          "Male",
          "Male",
          "Male",
          "Male",
          "Male",
          "Male",
          "Male",
          "Male",
          "Male",
          "Male",
          "Male",
          "Male",
          "Male",
          "Male",
          "Male",
          "Male",
          "Male",
          "Male",
          "Male",
          "Male",
          "Male",
          "Male",
          "Male",
          "Male",
          "Male",
          "Male",
          "Male",
          "Male",
          "Male",
          "Male",
          "Male",
          "Male",
          "Male",
          "Male",
          "Male",
          "Male",
          "Male",
          "Male",
          "Male",
          "Male",
          "Male",
          "Male",
          "Male",
          "Male",
          "Male",
          "Male",
          "Male",
          "Male",
          "Male",
          "Male",
          "Male",
          "Male",
          "Male",
          "Male",
          "Male",
          "Male",
          "Male",
          "Male",
          "Male",
          "Male",
          "Male",
          "Male",
          "Male",
          "Male",
          "Male",
          "Male",
          "Male",
          "Male",
          "Male",
          "Male"
         ]
        }
       ],
       "layout": {
        "legend": {
         "bgcolor": "#F5F6F9",
         "font": {
          "color": "#4D5663"
         }
        },
        "paper_bgcolor": "#F5F6F9",
        "plot_bgcolor": "#F5F6F9",
        "title": {
         "font": {
          "color": "#4D5663"
         },
         "text": "Expectativa de vida"
        },
        "xaxis": {
         "gridcolor": "#E1E5ED",
         "showgrid": true,
         "tickfont": {
          "color": "#4D5663"
         },
         "title": {
          "font": {
           "color": "#4D5663"
          },
          "text": ""
         },
         "zerolinecolor": "#E1E5ED"
        },
        "yaxis": {
         "gridcolor": "#E1E5ED",
         "showgrid": true,
         "tickfont": {
          "color": "#4D5663"
         },
         "title": {
          "font": {
           "color": "#4D5663"
          },
          "text": ""
         },
         "zerolinecolor": "#E1E5ED"
        }
       }
      },
      "text/html": [
       "<div>\n",
       "        \n",
       "        \n",
       "            <div id=\"667410af-6f2e-4099-b2ea-0d5328073cbe\" class=\"plotly-graph-div\" style=\"height:525px; width:100%;\"></div>\n",
       "            <script type=\"text/javascript\">\n",
       "                require([\"plotly\"], function(Plotly) {\n",
       "                    window.PLOTLYENV=window.PLOTLYENV || {};\n",
       "                    window.PLOTLYENV.BASE_URL='https://plot.ly';\n",
       "                    \n",
       "                if (document.getElementById(\"667410af-6f2e-4099-b2ea-0d5328073cbe\")) {\n",
       "                    Plotly.newPlot(\n",
       "                        '667410af-6f2e-4099-b2ea-0d5328073cbe',\n",
       "                        [{\"line\": {\"color\": \"rgba(255, 153, 51, 1.0)\", \"dash\": \"solid\", \"shape\": \"linear\", \"width\": 1.3}, \"mode\": \"lines\", \"name\": \"2006-2010\", \"text\": \"\", \"type\": \"scatter\", \"uid\": \"5222425c-643c-4b50-a129-7e64309c6c1a\", \"x\": [\"el Raval\", \"el Barri G\\u00f2tic\", \"la Barceloneta\", \"Sant Pere, Santa Caterina i la Ribera\", \"el Fort Pienc\", \"la Sagrada Fam\\u00edlia\", \"la Dreta de l'Eixample\", \"l'Antiga Esquerra de l'Eixample\", \"la Nova Esquerra de l'Eixample\", \"Sant Antoni\", \"el Poble Sec - Parc Montju\\u00efc\", \"la Marina del Prat Vermell - Zona Franca\", \"la Marina de Port\", \"la Font de la Guatlla\", \"Hostafrancs\", \"la Bordeta\", \"Sants - Badal\", \"Sants\", \"les Corts\", \"la Maternitat i Sant Ramon\", \"Pedralbes\", \"Vallvidrera, el Tibidabo i les Planes\", \"Sarri\\u00e0\", \"les Tres Torres\", \"Sant Gervasi - la Bonanova\", \"Sant Gervasi - Galvany\", \"el Putxet i el Farr\\u00f3\", \"Vallcarca i els Penitents\", \"el Coll\", \"la Salut\", \"la Vila de Gr\\u00e0cia\", \"el Camp d'en Grassot i Gr\\u00e0cia Nova\", \"el Baix Guinard\\u00f3\", \"Can Bar\\u00f3\", \"el Guinard\\u00f3\", \"la Font d'en Fargues\", \"el Carmel\", \"la Teixonera\", \"Sant Gen\\u00eds dels Agudells\", \"Montbau\", \"la Vall d'Hebron\", \"la Clota\", \"Horta\", \"Vilapicina i la Torre Llobeta\", \"Porta\", \"el Tur\\u00f3 de la Peira\", \"Can Peguera\", \"la Guineueta\", \"Canyelles\", \"les Roquetes\", \"Verdun\", \"la Prosperitat\", \"la Trinitat Nova\", \"Torre Bar\\u00f3\", \"Ciutat Meridiana\", \"Vallbona\", \"la Trinitat Vella\", \"Bar\\u00f3 de Viver\", \"el Bon Pastor\", \"Sant Andreu\", \"la Sagrera\", \"el Congr\\u00e9s i els Indians\", \"Navas\", \"el Camp de l'Arpa del Clot\", \"el Clot\", \"el Parc i la Llacuna del Poblenou\", \"la Vila Ol\\u00edmpica del Poblenou\", \"el Poblenou\", \"Diagonal Mar i el Front Mar\\u00edtim del Poblenou\", \"el Bes\\u00f2s i el Maresme\", \"Proven\\u00e7als del Poblenou\", \"Sant Mart\\u00ed de Proven\\u00e7als\", \" la Verneda i la Pau\", \"el Raval\", \"el Barri G\\u00f2tic\", \"la Barceloneta\", \"Sant Pere, Santa Caterina i la Ribera\", \"el Fort Pienc\", \"la Sagrada Fam\\u00edlia\", \"la Dreta de l'Eixample\", \"l'Antiga Esquerra de l'Eixample\", \"la Nova Esquerra de l'Eixample\", \"Sant Antoni\", \"el Poble Sec - Parc Montju\\u00efc\", \"la Marina del Prat Vermell - Zona Franca\", \"la Marina de Port\", \"la Font de la Guatlla\", \"Hostafrancs\", \"la Bordeta\", \"Sants - Badal\", \"Sants\", \"les Corts\", \"la Maternitat i Sant Ramon\", \"Pedralbes\", \"Vallvidrera, el Tibidabo i les Planes\", \"Sarri\\u00e0\", \"les Tres Torres\", \"Sant Gervasi - la Bonanova\", \"Sant Gervasi - Galvany\", \"el Putxet i el Farr\\u00f3\", \"Vallcarca i els Penitents\", \"el Coll\", \"la Salut\", \"la Vila de Gr\\u00e0cia\", \"el Camp d'en Grassot i Gr\\u00e0cia Nova\", \"el Baix Guinard\\u00f3\", \"Can Bar\\u00f3\", \"el Guinard\\u00f3\", \"la Font d'en Fargues\", \"el Carmel\", \"la Teixonera\", \"Sant Gen\\u00eds dels Agudells\", \"Montbau\", \"la Vall d'Hebron\", \"la Clota\", \"Horta\", \"Vilapicina i la Torre Llobeta\", \"Porta\", \"el Tur\\u00f3 de la Peira\", \"Can Peguera\", \"la Guineueta\", \"Canyelles\", \"les Roquetes\", \"Verdun\", \"la Prosperitat\", \"la Trinitat Nova\", \"Torre Bar\\u00f3\", \"Ciutat Meridiana\", \"Vallbona\", \"la Trinitat Vella\", \"Bar\\u00f3 de Viver\", \"el Bon Pastor\", \"Sant Andreu\", \"la Sagrera\", \"el Congr\\u00e9s i els Indians\", \"Navas\", \"el Camp de l'Arpa del Clot\", \"el Clot\", \"el Parc i la Llacuna del Poblenou\", \"la Vila Ol\\u00edmpica del Poblenou\", \"el Poblenou\", \"Diagonal Mar i el Front Mar\\u00edtim del Poblenou\", \"el Bes\\u00f2s i el Maresme\", \"Proven\\u00e7als del Poblenou\", \"Sant Mart\\u00ed de Proven\\u00e7als\", \" la Verneda i la Pau\"], \"y\": [87.5, 88.0, 88.2, 88.9, 89.7, 88.9, 87.0, 88.9, 90.0, 89.0, 88.5, \"\", 88.5, 88.7, 87.5, 88.7, 88.4, 89.4, 89.4, 90.0, 89.0, 83.4, 90.9, 89.7, 89.2, 88.8, 89.9, 88.2, 89.9, 85.7, 87.5, 90.1, 90.1, 88.2, 89.3, 87.3, 88.8, 86.7, 87.3, 83.5, 86.6, \"\", 87.1, 89.6, 88.3, 90.4, 82.2, 88.3, 89.6, 88.5, 88.4, 89.6, 87.4, \"\", 87.9, \"\", 87.0, 82.4, 86.3, 88.8, 89.9, 89.9, 89.8, 89.1, 88.7, 88.1, 90.4, 88.1, 88.1, 86.8, 88.4, 88.8, 87.9, 77.9, 81.3, 78.3, 80.9, 83.0, 83.2, 81.2, 82.3, 82.1, 81.7, 80.6, \"\", 83.1, 81.5, 81.2, 83.9, 83.5, 81.7, 83.0, 83.9, 84.7, 78.9, 83.7, 84.7, 83.5, 83.6, 83.7, 82.6, 81.4, 79.6, 81.8, 82.7, 83.9, 81.5, 81.7, 81.6, 80.7, 82.3, 81.8, 77.1, 83.6, \"\", 81.4, 81.8, 81.7, 80.9, 74.7, 80.9, 82.0, 79.2, 80.2, 81.7, 78.0, \"\", 80.4, \"\", 80.4, 74.2, 80.4, 81.7, 83.7, 81.7, 82.5, 82.9, 81.9, 82.4, 87.2, 81.4, 82.1, 80.2, 80.4, 81.9, 82.0]}, {\"line\": {\"color\": \"rgba(55, 128, 191, 1.0)\", \"dash\": \"solid\", \"shape\": \"linear\", \"width\": 1.3}, \"mode\": \"lines\", \"name\": \"2007-2011\", \"text\": \"\", \"type\": \"scatter\", \"uid\": \"b937ba30-795f-4a07-b53b-53f3bd42cf5d\", \"x\": [\"el Raval\", \"el Barri G\\u00f2tic\", \"la Barceloneta\", \"Sant Pere, Santa Caterina i la Ribera\", \"el Fort Pienc\", \"la Sagrada Fam\\u00edlia\", \"la Dreta de l'Eixample\", \"l'Antiga Esquerra de l'Eixample\", \"la Nova Esquerra de l'Eixample\", \"Sant Antoni\", \"el Poble Sec - Parc Montju\\u00efc\", \"la Marina del Prat Vermell - Zona Franca\", \"la Marina de Port\", \"la Font de la Guatlla\", \"Hostafrancs\", \"la Bordeta\", \"Sants - Badal\", \"Sants\", \"les Corts\", \"la Maternitat i Sant Ramon\", \"Pedralbes\", \"Vallvidrera, el Tibidabo i les Planes\", \"Sarri\\u00e0\", \"les Tres Torres\", \"Sant Gervasi - la Bonanova\", \"Sant Gervasi - Galvany\", \"el Putxet i el Farr\\u00f3\", \"Vallcarca i els Penitents\", \"el Coll\", \"la Salut\", \"la Vila de Gr\\u00e0cia\", \"el Camp d'en Grassot i Gr\\u00e0cia Nova\", \"el Baix Guinard\\u00f3\", \"Can Bar\\u00f3\", \"el Guinard\\u00f3\", \"la Font d'en Fargues\", \"el Carmel\", \"la Teixonera\", \"Sant Gen\\u00eds dels Agudells\", \"Montbau\", \"la Vall d'Hebron\", \"la Clota\", \"Horta\", \"Vilapicina i la Torre Llobeta\", \"Porta\", \"el Tur\\u00f3 de la Peira\", \"Can Peguera\", \"la Guineueta\", \"Canyelles\", \"les Roquetes\", \"Verdun\", \"la Prosperitat\", \"la Trinitat Nova\", \"Torre Bar\\u00f3\", \"Ciutat Meridiana\", \"Vallbona\", \"la Trinitat Vella\", \"Bar\\u00f3 de Viver\", \"el Bon Pastor\", \"Sant Andreu\", \"la Sagrera\", \"el Congr\\u00e9s i els Indians\", \"Navas\", \"el Camp de l'Arpa del Clot\", \"el Clot\", \"el Parc i la Llacuna del Poblenou\", \"la Vila Ol\\u00edmpica del Poblenou\", \"el Poblenou\", \"Diagonal Mar i el Front Mar\\u00edtim del Poblenou\", \"el Bes\\u00f2s i el Maresme\", \"Proven\\u00e7als del Poblenou\", \"Sant Mart\\u00ed de Proven\\u00e7als\", \" la Verneda i la Pau\", \"el Raval\", \"el Barri G\\u00f2tic\", \"la Barceloneta\", \"Sant Pere, Santa Caterina i la Ribera\", \"el Fort Pienc\", \"la Sagrada Fam\\u00edlia\", \"la Dreta de l'Eixample\", \"l'Antiga Esquerra de l'Eixample\", \"la Nova Esquerra de l'Eixample\", \"Sant Antoni\", \"el Poble Sec - Parc Montju\\u00efc\", \"la Marina del Prat Vermell - Zona Franca\", \"la Marina de Port\", \"la Font de la Guatlla\", \"Hostafrancs\", \"la Bordeta\", \"Sants - Badal\", \"Sants\", \"les Corts\", \"la Maternitat i Sant Ramon\", \"Pedralbes\", \"Vallvidrera, el Tibidabo i les Planes\", \"Sarri\\u00e0\", \"les Tres Torres\", \"Sant Gervasi - la Bonanova\", \"Sant Gervasi - Galvany\", \"el Putxet i el Farr\\u00f3\", \"Vallcarca i els Penitents\", \"el Coll\", \"la Salut\", \"la Vila de Gr\\u00e0cia\", \"el Camp d'en Grassot i Gr\\u00e0cia Nova\", \"el Baix Guinard\\u00f3\", \"Can Bar\\u00f3\", \"el Guinard\\u00f3\", \"la Font d'en Fargues\", \"el Carmel\", \"la Teixonera\", \"Sant Gen\\u00eds dels Agudells\", \"Montbau\", \"la Vall d'Hebron\", \"la Clota\", \"Horta\", \"Vilapicina i la Torre Llobeta\", \"Porta\", \"el Tur\\u00f3 de la Peira\", \"Can Peguera\", \"la Guineueta\", \"Canyelles\", \"les Roquetes\", \"Verdun\", \"la Prosperitat\", \"la Trinitat Nova\", \"Torre Bar\\u00f3\", \"Ciutat Meridiana\", \"Vallbona\", \"la Trinitat Vella\", \"Bar\\u00f3 de Viver\", \"el Bon Pastor\", \"Sant Andreu\", \"la Sagrera\", \"el Congr\\u00e9s i els Indians\", \"Navas\", \"el Camp de l'Arpa del Clot\", \"el Clot\", \"el Parc i la Llacuna del Poblenou\", \"la Vila Ol\\u00edmpica del Poblenou\", \"el Poblenou\", \"Diagonal Mar i el Front Mar\\u00edtim del Poblenou\", \"el Bes\\u00f2s i el Maresme\", \"Proven\\u00e7als del Poblenou\", \"Sant Mart\\u00ed de Proven\\u00e7als\", \" la Verneda i la Pau\"], \"y\": [84.9, 84.3, 85.3, 85.9, 87.1, 86.6, 85.0, 86.4, 87.4, 86.3, 85.5, \"\", 86.2, 85.7, 85.4, 86.3, 85.9, 86.5, 87.1, 87.4, 87.3, 80.5, 87.6, 87.7, 86.5, 86.5, 87.6, 86.1, 88.2, 84.1, 85.1, 87.6, 87.2, 86.2, 86.4, 85.7, 86.6, 84.8, 85.0, 81.3, 85.3, \"\", 85.5, 87.2, 86.0, 87.8, 79.7, 85.9, 86.0, 86.1, 86.6, 87.1, 84.5, 81.7, 85.3, \"\", 85.8, 79.9, 84.8, 86.4, 87.1, 87.5, 87.4, 86.6, 86.7, 85.4, 87.0, 85.7, 87.3, 85.0, 86.7, 86.1, 85.8, 75.1, 78.6, 75.0, 78.0, 80.7, 80.6, 78.9, 79.8, 79.9, 79.3, 78.2, \"\", 80.3, 77.9, 78.9, 80.9, 81.2, 79.5, 81.1, 82.0, 82.7, 77.6, 81.1, 83.0, 81.7, 81.2, 81.3, 80.2, 79.6, 77.6, 79.0, 80.6, 81.2, 78.9, 79.7, 79.7, 78.7, 79.6, 80.0, 74.9, 80.7, \"\", 78.8, 79.1, 79.8, 79.0, 72.3, 78.6, 79.3, 76.7, 77.8, 79.3, 75.9, 70.7, 78.0, \"\", 77.7, 71.2, 77.8, 79.7, 81.3, 79.2, 80.4, 80.4, 80.3, 79.8, 82.6, 78.7, 80.9, 78.1, 78.8, 79.5, 79.7]}, {\"line\": {\"color\": \"rgba(50, 171, 96, 1.0)\", \"dash\": \"solid\", \"shape\": \"linear\", \"width\": 1.3}, \"mode\": \"lines\", \"name\": \"2008-2012\", \"text\": \"\", \"type\": \"scatter\", \"uid\": \"b4f8b133-4cdf-40e5-b6a5-ea4fbf22999c\", \"x\": [\"el Raval\", \"el Barri G\\u00f2tic\", \"la Barceloneta\", \"Sant Pere, Santa Caterina i la Ribera\", \"el Fort Pienc\", \"la Sagrada Fam\\u00edlia\", \"la Dreta de l'Eixample\", \"l'Antiga Esquerra de l'Eixample\", \"la Nova Esquerra de l'Eixample\", \"Sant Antoni\", \"el Poble Sec - Parc Montju\\u00efc\", \"la Marina del Prat Vermell - Zona Franca\", \"la Marina de Port\", \"la Font de la Guatlla\", \"Hostafrancs\", \"la Bordeta\", \"Sants - Badal\", \"Sants\", \"les Corts\", \"la Maternitat i Sant Ramon\", \"Pedralbes\", \"Vallvidrera, el Tibidabo i les Planes\", \"Sarri\\u00e0\", \"les Tres Torres\", \"Sant Gervasi - la Bonanova\", \"Sant Gervasi - Galvany\", \"el Putxet i el Farr\\u00f3\", \"Vallcarca i els Penitents\", \"el Coll\", \"la Salut\", \"la Vila de Gr\\u00e0cia\", \"el Camp d'en Grassot i Gr\\u00e0cia Nova\", \"el Baix Guinard\\u00f3\", \"Can Bar\\u00f3\", \"el Guinard\\u00f3\", \"la Font d'en Fargues\", \"el Carmel\", \"la Teixonera\", \"Sant Gen\\u00eds dels Agudells\", \"Montbau\", \"la Vall d'Hebron\", \"la Clota\", \"Horta\", \"Vilapicina i la Torre Llobeta\", \"Porta\", \"el Tur\\u00f3 de la Peira\", \"Can Peguera\", \"la Guineueta\", \"Canyelles\", \"les Roquetes\", \"Verdun\", \"la Prosperitat\", \"la Trinitat Nova\", \"Torre Bar\\u00f3\", \"Ciutat Meridiana\", \"Vallbona\", \"la Trinitat Vella\", \"Bar\\u00f3 de Viver\", \"el Bon Pastor\", \"Sant Andreu\", \"la Sagrera\", \"el Congr\\u00e9s i els Indians\", \"Navas\", \"el Camp de l'Arpa del Clot\", \"el Clot\", \"el Parc i la Llacuna del Poblenou\", \"la Vila Ol\\u00edmpica del Poblenou\", \"el Poblenou\", \"Diagonal Mar i el Front Mar\\u00edtim del Poblenou\", \"el Bes\\u00f2s i el Maresme\", \"Proven\\u00e7als del Poblenou\", \"Sant Mart\\u00ed de Proven\\u00e7als\", \" la Verneda i la Pau\", \"el Raval\", \"el Barri G\\u00f2tic\", \"la Barceloneta\", \"Sant Pere, Santa Caterina i la Ribera\", \"el Fort Pienc\", \"la Sagrada Fam\\u00edlia\", \"la Dreta de l'Eixample\", \"l'Antiga Esquerra de l'Eixample\", \"la Nova Esquerra de l'Eixample\", \"Sant Antoni\", \"el Poble Sec - Parc Montju\\u00efc\", \"la Marina del Prat Vermell - Zona Franca\", \"la Marina de Port\", \"la Font de la Guatlla\", \"Hostafrancs\", \"la Bordeta\", \"Sants - Badal\", \"Sants\", \"les Corts\", \"la Maternitat i Sant Ramon\", \"Pedralbes\", \"Vallvidrera, el Tibidabo i les Planes\", \"Sarri\\u00e0\", \"les Tres Torres\", \"Sant Gervasi - la Bonanova\", \"Sant Gervasi - Galvany\", \"el Putxet i el Farr\\u00f3\", \"Vallcarca i els Penitents\", \"el Coll\", \"la Salut\", \"la Vila de Gr\\u00e0cia\", \"el Camp d'en Grassot i Gr\\u00e0cia Nova\", \"el Baix Guinard\\u00f3\", \"Can Bar\\u00f3\", \"el Guinard\\u00f3\", \"la Font d'en Fargues\", \"el Carmel\", \"la Teixonera\", \"Sant Gen\\u00eds dels Agudells\", \"Montbau\", \"la Vall d'Hebron\", \"la Clota\", \"Horta\", \"Vilapicina i la Torre Llobeta\", \"Porta\", \"el Tur\\u00f3 de la Peira\", \"Can Peguera\", \"la Guineueta\", \"Canyelles\", \"les Roquetes\", \"Verdun\", \"la Prosperitat\", \"la Trinitat Nova\", \"Torre Bar\\u00f3\", \"Ciutat Meridiana\", \"Vallbona\", \"la Trinitat Vella\", \"Bar\\u00f3 de Viver\", \"el Bon Pastor\", \"Sant Andreu\", \"la Sagrera\", \"el Congr\\u00e9s i els Indians\", \"Navas\", \"el Camp de l'Arpa del Clot\", \"el Clot\", \"el Parc i la Llacuna del Poblenou\", \"la Vila Ol\\u00edmpica del Poblenou\", \"el Poblenou\", \"Diagonal Mar i el Front Mar\\u00edtim del Poblenou\", \"el Bes\\u00f2s i el Maresme\", \"Proven\\u00e7als del Poblenou\", \"Sant Mart\\u00ed de Proven\\u00e7als\", \" la Verneda i la Pau\"], \"y\": [84.7, 84.4, 84.4, 86.1, 87.2, 86.8, 85.1, 86.3, 87.5, 86.5, 85.6, \"\", 86.5, 85.1, 86.3, 85.6, 86.4, 86.2, 87.4, 87.5, 87.5, 80.4, 87.1, 87.6, 86.5, 86.4, 87.8, 86.4, 88.2, 84.4, 85.4, 87.6, 86.8, 86.0, 87.0, 85.6, 87.2, 85.0, 84.6, 81.9, 86.0, \"\", 85.5, 87.2, 86.5, 88.0, 80.3, 86.1, 85.9, 85.9, 86.9, 87.4, 84.1, 81.6, 85.7, \"\", 86.3, \"\", 85.6, 86.7, 87.3, 87.8, 87.6, 87.2, 87.2, 85.6, 88.0, 86.1, 87.4, 85.5, 86.5, 86.2, 85.7, 75.7, 78.9, 75.8, 77.7, 80.9, 81.0, 79.3, 80.3, 80.0, 79.4, 78.7, \"\", 79.9, 78.1, 78.7, 80.4, 81.2, 80.2, 81.4, 82.1, 83.3, 77.8, 81.2, 83.2, 81.8, 81.3, 81.7, 80.6, 80.7, 78.6, 79.1, 81.0, 81.1, 80.3, 80.1, 79.8, 79.0, 79.8, 81.3, 75.9, 80.4, \"\", 79.4, 79.7, 79.9, 80.0, 71.8, 78.8, 79.8, 76.8, 78.1, 80.1, 75.4, 69.5, 78.2, \"\", 79.0, \"\", 78.0, 80.3, 81.6, 79.5, 80.6, 81.1, 80.6, 80.2, 82.1, 78.4, 81.2, 78.4, 79.4, 79.7, 79.9]}, {\"line\": {\"color\": \"rgba(128, 0, 128, 1.0)\", \"dash\": \"solid\", \"shape\": \"linear\", \"width\": 1.3}, \"mode\": \"lines\", \"name\": \"2009-2013\", \"text\": \"\", \"type\": \"scatter\", \"uid\": \"2c73d416-dc2b-4b13-a5aa-96f77d2e2806\", \"x\": [\"el Raval\", \"el Barri G\\u00f2tic\", \"la Barceloneta\", \"Sant Pere, Santa Caterina i la Ribera\", \"el Fort Pienc\", \"la Sagrada Fam\\u00edlia\", \"la Dreta de l'Eixample\", \"l'Antiga Esquerra de l'Eixample\", \"la Nova Esquerra de l'Eixample\", \"Sant Antoni\", \"el Poble Sec - Parc Montju\\u00efc\", \"la Marina del Prat Vermell - Zona Franca\", \"la Marina de Port\", \"la Font de la Guatlla\", \"Hostafrancs\", \"la Bordeta\", \"Sants - Badal\", \"Sants\", \"les Corts\", \"la Maternitat i Sant Ramon\", \"Pedralbes\", \"Vallvidrera, el Tibidabo i les Planes\", \"Sarri\\u00e0\", \"les Tres Torres\", \"Sant Gervasi - la Bonanova\", \"Sant Gervasi - Galvany\", \"el Putxet i el Farr\\u00f3\", \"Vallcarca i els Penitents\", \"el Coll\", \"la Salut\", \"la Vila de Gr\\u00e0cia\", \"el Camp d'en Grassot i Gr\\u00e0cia Nova\", \"el Baix Guinard\\u00f3\", \"Can Bar\\u00f3\", \"el Guinard\\u00f3\", \"la Font d'en Fargues\", \"el Carmel\", \"la Teixonera\", \"Sant Gen\\u00eds dels Agudells\", \"Montbau\", \"la Vall d'Hebron\", \"la Clota\", \"Horta\", \"Vilapicina i la Torre Llobeta\", \"Porta\", \"el Tur\\u00f3 de la Peira\", \"Can Peguera\", \"la Guineueta\", \"Canyelles\", \"les Roquetes\", \"Verdun\", \"la Prosperitat\", \"la Trinitat Nova\", \"Torre Bar\\u00f3\", \"Ciutat Meridiana\", \"Vallbona\", \"la Trinitat Vella\", \"Bar\\u00f3 de Viver\", \"el Bon Pastor\", \"Sant Andreu\", \"la Sagrera\", \"el Congr\\u00e9s i els Indians\", \"Navas\", \"el Camp de l'Arpa del Clot\", \"el Clot\", \"el Parc i la Llacuna del Poblenou\", \"la Vila Ol\\u00edmpica del Poblenou\", \"el Poblenou\", \"Diagonal Mar i el Front Mar\\u00edtim del Poblenou\", \"el Bes\\u00f2s i el Maresme\", \"Proven\\u00e7als del Poblenou\", \"Sant Mart\\u00ed de Proven\\u00e7als\", \" la Verneda i la Pau\", \"el Raval\", \"el Barri G\\u00f2tic\", \"la Barceloneta\", \"Sant Pere, Santa Caterina i la Ribera\", \"el Fort Pienc\", \"la Sagrada Fam\\u00edlia\", \"la Dreta de l'Eixample\", \"l'Antiga Esquerra de l'Eixample\", \"la Nova Esquerra de l'Eixample\", \"Sant Antoni\", \"el Poble Sec - Parc Montju\\u00efc\", \"la Marina del Prat Vermell - Zona Franca\", \"la Marina de Port\", \"la Font de la Guatlla\", \"Hostafrancs\", \"la Bordeta\", \"Sants - Badal\", \"Sants\", \"les Corts\", \"la Maternitat i Sant Ramon\", \"Pedralbes\", \"Vallvidrera, el Tibidabo i les Planes\", \"Sarri\\u00e0\", \"les Tres Torres\", \"Sant Gervasi - la Bonanova\", \"Sant Gervasi - Galvany\", \"el Putxet i el Farr\\u00f3\", \"Vallcarca i els Penitents\", \"el Coll\", \"la Salut\", \"la Vila de Gr\\u00e0cia\", \"el Camp d'en Grassot i Gr\\u00e0cia Nova\", \"el Baix Guinard\\u00f3\", \"Can Bar\\u00f3\", \"el Guinard\\u00f3\", \"la Font d'en Fargues\", \"el Carmel\", \"la Teixonera\", \"Sant Gen\\u00eds dels Agudells\", \"Montbau\", \"la Vall d'Hebron\", \"la Clota\", \"Horta\", \"Vilapicina i la Torre Llobeta\", \"Porta\", \"el Tur\\u00f3 de la Peira\", \"Can Peguera\", \"la Guineueta\", \"Canyelles\", \"les Roquetes\", \"Verdun\", \"la Prosperitat\", \"la Trinitat Nova\", \"Torre Bar\\u00f3\", \"Ciutat Meridiana\", \"Vallbona\", \"la Trinitat Vella\", \"Bar\\u00f3 de Viver\", \"el Bon Pastor\", \"Sant Andreu\", \"la Sagrera\", \"el Congr\\u00e9s i els Indians\", \"Navas\", \"el Camp de l'Arpa del Clot\", \"el Clot\", \"el Parc i la Llacuna del Poblenou\", \"la Vila Ol\\u00edmpica del Poblenou\", \"el Poblenou\", \"Diagonal Mar i el Front Mar\\u00edtim del Poblenou\", \"el Bes\\u00f2s i el Maresme\", \"Proven\\u00e7als del Poblenou\", \"Sant Mart\\u00ed de Proven\\u00e7als\", \" la Verneda i la Pau\"], \"y\": [84.9, 87.5, 86.3, 85.5, 87.7, 85.1, 85.7, 85.8, 87.0, 86.0, 88.2, \"\", 88.1, 88.4, 81.7, 86.9, 87.8, 86.5, 86.8, 87.8, 86.0, 88.5, 84.8, 85.1, 85.7, 87.7, 86.6, 86.0, 87.6, 85.3, 87.2, 86.2, 85.1, 85.5, 82.3, 85.8, 87.8, 85.6, 86.9, 87.3, 88.4, \"\", 86.5, 85.8, 87.0, 86.0, 87.2, 87.8, 83.5, 83.6, 86.2, 80.5, 87.7, 83.1, 86.3, \"\", 86.9, 88.0, 88.5, 88.3, 87.4, 87.7, 86.0, 88.3, 86.9, 87.9, 85.1, 85.8, 87.3, 86.6, 86.3, 86.4, 88.1, 76.2, 79.5, 78.6, 78.8, 80.2, 79.2, 79.1, 80.3, 81.4, 80.9, 82.0, \"\", 83.0, 84.2, 78.2, 81.8, 83.5, 82.4, 81.8, 82.1, 80.7, 81.0, 76.0, 78.0, 79.6, 81.3, 81.2, 80.9, 80.1, 80.1, 79.4, 80.0, 81.0, 78.8, 77.4, 80.5, 77.8, 79.6, 79.6, 80.4, 81.0, \"\", 79.7, 79.8, 81.1, 77.0, 77.9, 80.1, 75.8, 69.0, 79.6, 77.7, 79.8, 73.1, 78.3, \"\", 80.6, 81.3, 80.3, 81.8, 81.3, 80.9, 80.5, 82.4, 78.9, 81.8, 80.2, 78.8, 79.7, 79.8, 80.1, 80.5, 80.5]}, {\"line\": {\"color\": \"rgba(219, 64, 82, 1.0)\", \"dash\": \"solid\", \"shape\": \"linear\", \"width\": 1.3}, \"mode\": \"lines\", \"name\": \"2010-2014\", \"text\": \"\", \"type\": \"scatter\", \"uid\": \"871207d4-69a8-47f1-8b11-67d8150658e7\", \"x\": [\"el Raval\", \"el Barri G\\u00f2tic\", \"la Barceloneta\", \"Sant Pere, Santa Caterina i la Ribera\", \"el Fort Pienc\", \"la Sagrada Fam\\u00edlia\", \"la Dreta de l'Eixample\", \"l'Antiga Esquerra de l'Eixample\", \"la Nova Esquerra de l'Eixample\", \"Sant Antoni\", \"el Poble Sec - Parc Montju\\u00efc\", \"la Marina del Prat Vermell - Zona Franca\", \"la Marina de Port\", \"la Font de la Guatlla\", \"Hostafrancs\", \"la Bordeta\", \"Sants - Badal\", \"Sants\", \"les Corts\", \"la Maternitat i Sant Ramon\", \"Pedralbes\", \"Vallvidrera, el Tibidabo i les Planes\", \"Sarri\\u00e0\", \"les Tres Torres\", \"Sant Gervasi - la Bonanova\", \"Sant Gervasi - Galvany\", \"el Putxet i el Farr\\u00f3\", \"Vallcarca i els Penitents\", \"el Coll\", \"la Salut\", \"la Vila de Gr\\u00e0cia\", \"el Camp d'en Grassot i Gr\\u00e0cia Nova\", \"el Baix Guinard\\u00f3\", \"Can Bar\\u00f3\", \"el Guinard\\u00f3\", \"la Font d'en Fargues\", \"el Carmel\", \"la Teixonera\", \"Sant Gen\\u00eds dels Agudells\", \"Montbau\", \"la Vall d'Hebron\", \"la Clota\", \"Horta\", \"Vilapicina i la Torre Llobeta\", \"Porta\", \"el Tur\\u00f3 de la Peira\", \"Can Peguera\", \"la Guineueta\", \"Canyelles\", \"les Roquetes\", \"Verdun\", \"la Prosperitat\", \"la Trinitat Nova\", \"Torre Bar\\u00f3\", \"Ciutat Meridiana\", \"Vallbona\", \"la Trinitat Vella\", \"Bar\\u00f3 de Viver\", \"el Bon Pastor\", \"Sant Andreu\", \"la Sagrera\", \"el Congr\\u00e9s i els Indians\", \"Navas\", \"el Camp de l'Arpa del Clot\", \"el Clot\", \"el Parc i la Llacuna del Poblenou\", \"la Vila Ol\\u00edmpica del Poblenou\", \"el Poblenou\", \"Diagonal Mar i el Front Mar\\u00edtim del Poblenou\", \"el Bes\\u00f2s i el Maresme\", \"Proven\\u00e7als del Poblenou\", \"Sant Mart\\u00ed de Proven\\u00e7als\", \" la Verneda i la Pau\", \"el Raval\", \"el Barri G\\u00f2tic\", \"la Barceloneta\", \"Sant Pere, Santa Caterina i la Ribera\", \"el Fort Pienc\", \"la Sagrada Fam\\u00edlia\", \"la Dreta de l'Eixample\", \"l'Antiga Esquerra de l'Eixample\", \"la Nova Esquerra de l'Eixample\", \"Sant Antoni\", \"el Poble Sec - Parc Montju\\u00efc\", \"la Marina del Prat Vermell - Zona Franca\", \"la Marina de Port\", \"la Font de la Guatlla\", \"Hostafrancs\", \"la Bordeta\", \"Sants - Badal\", \"Sants\", \"les Corts\", \"la Maternitat i Sant Ramon\", \"Pedralbes\", \"Vallvidrera, el Tibidabo i les Planes\", \"Sarri\\u00e0\", \"les Tres Torres\", \"Sant Gervasi - la Bonanova\", \"Sant Gervasi - Galvany\", \"el Putxet i el Farr\\u00f3\", \"Vallcarca i els Penitents\", \"el Coll\", \"la Salut\", \"la Vila de Gr\\u00e0cia\", \"el Camp d'en Grassot i Gr\\u00e0cia Nova\", \"el Baix Guinard\\u00f3\", \"Can Bar\\u00f3\", \"el Guinard\\u00f3\", \"la Font d'en Fargues\", \"el Carmel\", \"la Teixonera\", \"Sant Gen\\u00eds dels Agudells\", \"Montbau\", \"la Vall d'Hebron\", \"la Clota\", \"Horta\", \"Vilapicina i la Torre Llobeta\", \"Porta\", \"el Tur\\u00f3 de la Peira\", \"Can Peguera\", \"la Guineueta\", \"Canyelles\", \"les Roquetes\", \"Verdun\", \"la Prosperitat\", \"la Trinitat Nova\", \"Torre Bar\\u00f3\", \"Ciutat Meridiana\", \"Vallbona\", \"la Trinitat Vella\", \"Bar\\u00f3 de Viver\", \"el Bon Pastor\", \"Sant Andreu\", \"la Sagrera\", \"el Congr\\u00e9s i els Indians\", \"Navas\", \"el Camp de l'Arpa del Clot\", \"el Clot\", \"el Parc i la Llacuna del Poblenou\", \"la Vila Ol\\u00edmpica del Poblenou\", \"el Poblenou\", \"Diagonal Mar i el Front Mar\\u00edtim del Poblenou\", \"el Bes\\u00f2s i el Maresme\", \"Proven\\u00e7als del Poblenou\", \"Sant Mart\\u00ed de Proven\\u00e7als\", \" la Verneda i la Pau\"], \"y\": [85.3, 84.4, 84.7, 85.3, 86.7, 87.2, 85.1, 86.9, 88.7, 87.6, 86.4, \"\", 87.7, 84.3, 87.4, 86.3, 87.7, 86.1, 88.1, 89.0, 88.4, 82.2, 86.9, 88.1, 86.8, 86.9, 87.9, 86.3, 88.6, 85.7, 86.1, 87.4, 86.8, 86.6, 88.3, 85.8, 88.1, 87.3, 85.5, 83.9, 86.5, \"\", 86.0, 87.0, 87.7, 89.8, 85.1, 87.0, 86.5, 86.5, 89.0, 88.4, 83.3, 84.8, 88.2, 78.4, 89.5, 85.7, 86.8, 87.8, 88.2, 88.9, 89.6, 87.5, 88.6, 85.6, 87.5, 87.1, 88.1, 86.4, 88.4, 87.2, 87.0, 76.5, 78.7, 75.9, 78.3, 81.4, 81.3, 80.1, 80.8, 81.0, 79.8, 78.8, \"\", 80.0, 78.8, 79.8, 80.9, 82.0, 81.6, 82.4, 83.5, 83.6, 79.0, 81.7, 83.9, 82.5, 81.9, 82.5, 80.9, 81.4, 78.9, 79.9, 81.4, 81.0, 81.1, 80.2, 80.8, 79.4, 80.4, 81.5, 77.5, 80.0, \"\", 80.7, 79.8, 81.0, 81.3, 75.0, 81.0, 79.7, 77.6, 77.7, 80.4, 76.6, 71.3, 79.3, 76.0, 80.8, 74.6, 78.1, 81.2, 82.2, 80.3, 82.3, 81.9, 81.3, 80.5, 82.7, 79.5, 82.2, 79.6, 81.5, 80.2, 80.6]}, {\"line\": {\"color\": \"rgba(0, 128, 128, 1.0)\", \"dash\": \"solid\", \"shape\": \"linear\", \"width\": 1.3}, \"mode\": \"lines\", \"name\": \"Gender\", \"text\": \"\", \"type\": \"scatter\", \"uid\": \"7d272198-1016-4c6b-b25a-3c5bf3a1e9b1\", \"x\": [\"el Raval\", \"el Barri G\\u00f2tic\", \"la Barceloneta\", \"Sant Pere, Santa Caterina i la Ribera\", \"el Fort Pienc\", \"la Sagrada Fam\\u00edlia\", \"la Dreta de l'Eixample\", \"l'Antiga Esquerra de l'Eixample\", \"la Nova Esquerra de l'Eixample\", \"Sant Antoni\", \"el Poble Sec - Parc Montju\\u00efc\", \"la Marina del Prat Vermell - Zona Franca\", \"la Marina de Port\", \"la Font de la Guatlla\", \"Hostafrancs\", \"la Bordeta\", \"Sants - Badal\", \"Sants\", \"les Corts\", \"la Maternitat i Sant Ramon\", \"Pedralbes\", \"Vallvidrera, el Tibidabo i les Planes\", \"Sarri\\u00e0\", \"les Tres Torres\", \"Sant Gervasi - la Bonanova\", \"Sant Gervasi - Galvany\", \"el Putxet i el Farr\\u00f3\", \"Vallcarca i els Penitents\", \"el Coll\", \"la Salut\", \"la Vila de Gr\\u00e0cia\", \"el Camp d'en Grassot i Gr\\u00e0cia Nova\", \"el Baix Guinard\\u00f3\", \"Can Bar\\u00f3\", \"el Guinard\\u00f3\", \"la Font d'en Fargues\", \"el Carmel\", \"la Teixonera\", \"Sant Gen\\u00eds dels Agudells\", \"Montbau\", \"la Vall d'Hebron\", \"la Clota\", \"Horta\", \"Vilapicina i la Torre Llobeta\", \"Porta\", \"el Tur\\u00f3 de la Peira\", \"Can Peguera\", \"la Guineueta\", \"Canyelles\", \"les Roquetes\", \"Verdun\", \"la Prosperitat\", \"la Trinitat Nova\", \"Torre Bar\\u00f3\", \"Ciutat Meridiana\", \"Vallbona\", \"la Trinitat Vella\", \"Bar\\u00f3 de Viver\", \"el Bon Pastor\", \"Sant Andreu\", \"la Sagrera\", \"el Congr\\u00e9s i els Indians\", \"Navas\", \"el Camp de l'Arpa del Clot\", \"el Clot\", \"el Parc i la Llacuna del Poblenou\", \"la Vila Ol\\u00edmpica del Poblenou\", \"el Poblenou\", \"Diagonal Mar i el Front Mar\\u00edtim del Poblenou\", \"el Bes\\u00f2s i el Maresme\", \"Proven\\u00e7als del Poblenou\", \"Sant Mart\\u00ed de Proven\\u00e7als\", \" la Verneda i la Pau\", \"el Raval\", \"el Barri G\\u00f2tic\", \"la Barceloneta\", \"Sant Pere, Santa Caterina i la Ribera\", \"el Fort Pienc\", \"la Sagrada Fam\\u00edlia\", \"la Dreta de l'Eixample\", \"l'Antiga Esquerra de l'Eixample\", \"la Nova Esquerra de l'Eixample\", \"Sant Antoni\", \"el Poble Sec - Parc Montju\\u00efc\", \"la Marina del Prat Vermell - Zona Franca\", \"la Marina de Port\", \"la Font de la Guatlla\", \"Hostafrancs\", \"la Bordeta\", \"Sants - Badal\", \"Sants\", \"les Corts\", \"la Maternitat i Sant Ramon\", \"Pedralbes\", \"Vallvidrera, el Tibidabo i les Planes\", \"Sarri\\u00e0\", \"les Tres Torres\", \"Sant Gervasi - la Bonanova\", \"Sant Gervasi - Galvany\", \"el Putxet i el Farr\\u00f3\", \"Vallcarca i els Penitents\", \"el Coll\", \"la Salut\", \"la Vila de Gr\\u00e0cia\", \"el Camp d'en Grassot i Gr\\u00e0cia Nova\", \"el Baix Guinard\\u00f3\", \"Can Bar\\u00f3\", \"el Guinard\\u00f3\", \"la Font d'en Fargues\", \"el Carmel\", \"la Teixonera\", \"Sant Gen\\u00eds dels Agudells\", \"Montbau\", \"la Vall d'Hebron\", \"la Clota\", \"Horta\", \"Vilapicina i la Torre Llobeta\", \"Porta\", \"el Tur\\u00f3 de la Peira\", \"Can Peguera\", \"la Guineueta\", \"Canyelles\", \"les Roquetes\", \"Verdun\", \"la Prosperitat\", \"la Trinitat Nova\", \"Torre Bar\\u00f3\", \"Ciutat Meridiana\", \"Vallbona\", \"la Trinitat Vella\", \"Bar\\u00f3 de Viver\", \"el Bon Pastor\", \"Sant Andreu\", \"la Sagrera\", \"el Congr\\u00e9s i els Indians\", \"Navas\", \"el Camp de l'Arpa del Clot\", \"el Clot\", \"el Parc i la Llacuna del Poblenou\", \"la Vila Ol\\u00edmpica del Poblenou\", \"el Poblenou\", \"Diagonal Mar i el Front Mar\\u00edtim del Poblenou\", \"el Bes\\u00f2s i el Maresme\", \"Proven\\u00e7als del Poblenou\", \"Sant Mart\\u00ed de Proven\\u00e7als\", \" la Verneda i la Pau\"], \"y\": [\"Female\", \"Female\", \"Female\", \"Female\", \"Female\", \"Female\", \"Female\", \"Female\", \"Female\", \"Female\", \"Female\", \"Female\", \"Female\", \"Female\", \"Female\", \"Female\", \"Female\", \"Female\", \"Female\", \"Female\", \"Female\", \"Female\", \"Female\", \"Female\", \"Female\", \"Female\", \"Female\", \"Female\", \"Female\", \"Female\", \"Female\", \"Female\", \"Female\", \"Female\", \"Female\", \"Female\", \"Female\", \"Female\", \"Female\", \"Female\", \"Female\", \"Female\", \"Female\", \"Female\", \"Female\", \"Female\", \"Female\", \"Female\", \"Female\", \"Female\", \"Female\", \"Female\", \"Female\", \"Female\", \"Female\", \"Female\", \"Female\", \"Female\", \"Female\", \"Female\", \"Female\", \"Female\", \"Female\", \"Female\", \"Female\", \"Female\", \"Female\", \"Female\", \"Female\", \"Female\", \"Female\", \"Female\", \"Female\", \"Male\", \"Male\", \"Male\", \"Male\", \"Male\", \"Male\", \"Male\", \"Male\", \"Male\", \"Male\", \"Male\", \"Male\", \"Male\", \"Male\", \"Male\", \"Male\", \"Male\", \"Male\", \"Male\", \"Male\", \"Male\", \"Male\", \"Male\", \"Male\", \"Male\", \"Male\", \"Male\", \"Male\", \"Male\", \"Male\", \"Male\", \"Male\", \"Male\", \"Male\", \"Male\", \"Male\", \"Male\", \"Male\", \"Male\", \"Male\", \"Male\", \"Male\", \"Male\", \"Male\", \"Male\", \"Male\", \"Male\", \"Male\", \"Male\", \"Male\", \"Male\", \"Male\", \"Male\", \"Male\", \"Male\", \"Male\", \"Male\", \"Male\", \"Male\", \"Male\", \"Male\", \"Male\", \"Male\", \"Male\", \"Male\", \"Male\", \"Male\", \"Male\", \"Male\", \"Male\", \"Male\", \"Male\", \"Male\"]}],\n",
       "                        {\"legend\": {\"bgcolor\": \"#F5F6F9\", \"font\": {\"color\": \"#4D5663\"}}, \"paper_bgcolor\": \"#F5F6F9\", \"plot_bgcolor\": \"#F5F6F9\", \"title\": {\"font\": {\"color\": \"#4D5663\"}, \"text\": \"Expectativa de vida\"}, \"xaxis\": {\"gridcolor\": \"#E1E5ED\", \"showgrid\": true, \"tickfont\": {\"color\": \"#4D5663\"}, \"title\": {\"font\": {\"color\": \"#4D5663\"}, \"text\": \"\"}, \"zerolinecolor\": \"#E1E5ED\"}, \"yaxis\": {\"gridcolor\": \"#E1E5ED\", \"showgrid\": true, \"tickfont\": {\"color\": \"#4D5663\"}, \"title\": {\"font\": {\"color\": \"#4D5663\"}, \"text\": \"\"}, \"zerolinecolor\": \"#E1E5ED\"}},\n",
       "                        {\"showLink\": true, \"linkText\": \"Export to plot.ly\", \"plotlyServerURL\": \"https://plot.ly\", \"responsive\": true}\n",
       "                    ).then(function(){\n",
       "                            \n",
       "var gd = document.getElementById('667410af-6f2e-4099-b2ea-0d5328073cbe');\n",
       "var x = new MutationObserver(function (mutations, observer) {{\n",
       "        var display = window.getComputedStyle(gd).display;\n",
       "        if (!display || display === 'none') {{\n",
       "            console.log([gd, 'removed!']);\n",
       "            Plotly.purge(gd);\n",
       "            observer.disconnect();\n",
       "        }}\n",
       "}});\n",
       "\n",
       "// Listen for the removal of the full notebook cells\n",
       "var notebookContainer = gd.closest('#notebook-container');\n",
       "if (notebookContainer) {{\n",
       "    x.observe(notebookContainer, {childList: true});\n",
       "}}\n",
       "\n",
       "// Listen for the clearing of the current output cell\n",
       "var outputEl = gd.closest('.output');\n",
       "if (outputEl) {{\n",
       "    x.observe(outputEl, {childList: true});\n",
       "}}\n",
       "\n",
       "                        })\n",
       "                };\n",
       "                });\n",
       "            </script>\n",
       "        </div>"
      ]
     },
     "metadata": {},
     "output_type": "display_data"
    }
   ],
   "source": [
    "df2.iplot(title='Expectativa de vida')"
   ]
  },
  {
   "cell_type": "code",
   "execution_count": 21,
   "metadata": {
    "ExecuteTime": {
     "end_time": "2019-08-25T09:50:31.301044Z",
     "start_time": "2019-08-25T09:50:30.894351Z"
    }
   },
   "outputs": [
    {
     "data": {
      "image/png": "[encoded data removed]",
      "text/plain": [
       "<Figure size 432x288 with 2 Axes>"
      ]
     },
     "metadata": {
      "needs_background": "light"
     },
     "output_type": "display_data"
    }
   ],
   "source": [
    "p1 = sns.heatmap(df.corr())"
   ]
  },
  {
   "cell_type": "code",
   "execution_count": null,
   "metadata": {},
   "outputs": [],
   "source": []
  }
 ],
 "metadata": {
  "kernelspec": {
   "display_name": "Python 3",
   "language": "python",
   "name": "python3"
  },
  "language_info": {
   "codemirror_mode": {
    "name": "ipython",
    "version": 3
   },
   "file_extension": ".py",
   "mimetype": "text/x-python",
   "name": "python",
   "nbconvert_exporter": "python",
   "pygments_lexer": "ipython3",
   "version": "3.6.8"
  },
  "toc": {
   "base_numbering": 1,
   "nav_menu": {},
   "number_sections": false,
   "sideBar": true,
   "skip_h1_title": false,
   "title_cell": "Table of Contents",
   "title_sidebar": "Contents",
   "toc_cell": false,
   "toc_position": {},
   "toc_section_display": true,
   "toc_window_display": false
  },
  "varInspector": {
   "cols": {
    "lenName": 16,
    "lenType": 16,
    "lenVar": 40
   },
   "kernels_config": {
    "python": {
     "delete_cmd_postfix": "",
     "delete_cmd_prefix": "del ",
     "library": "var_list.py",
     "varRefreshCmd": "print(var_dic_list())"
    },
    "r": {
     "delete_cmd_postfix": ") ",
     "delete_cmd_prefix": "rm(",
     "library": "var_list.r",
     "varRefreshCmd": "cat(var_dic_list()) "
    }
   },
   "types_to_exclude": [
    "module",
    "function",
    "builtin_function_or_method",
    "instance",
    "_Feature"
   ],
   "window_display": false
  }
 },
 "nbformat": 4,
 "nbformat_minor": 2
}
